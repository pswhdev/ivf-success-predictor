{
 "cells": [
  {
   "cell_type": "markdown",
   "metadata": {},
   "source": [
    "# **IVF Case Study Notebook**"
   ]
  },
  {
   "cell_type": "markdown",
   "metadata": {},
   "source": [
    "## Objectives\n",
    "\n",
    "*   Answer business requirement 1: \n",
    "    - The client is interested in understanding the factors that impact IVF treatment success and identifying the most relevant variables correlated with a successful outcome.\n",
    "## Inputs\n",
    "\n",
    "* outputs/datasets/cleaned/FertilityTreatmentDataCleaned.csv\n",
    "\n",
    "## Outputs\n",
    "\n",
    "* generate code that answers business requirement 1 and can be used to build the Streamlit App"
   ]
  },
  {
   "cell_type": "markdown",
   "metadata": {},
   "source": [
    "---"
   ]
  },
  {
   "cell_type": "markdown",
   "metadata": {},
   "source": [
    "# Change working directory"
   ]
  },
  {
   "cell_type": "markdown",
   "metadata": {},
   "source": [
    "Change the working directory from its current folder to its parent folder\n",
    "* Access the current directory with os.getcwd()"
   ]
  },
  {
   "cell_type": "code",
   "execution_count": null,
   "metadata": {},
   "outputs": [],
   "source": [
    "import os\n",
    "current_dir = os.getcwd()\n",
    "current_dir"
   ]
  },
  {
   "cell_type": "markdown",
   "metadata": {},
   "source": [
    "To make the parent of the current directory the new current directory:\n",
    "* os.path.dirname() gets the parent directory\n",
    "* os.chir() defines the new current directory"
   ]
  },
  {
   "cell_type": "code",
   "execution_count": null,
   "metadata": {},
   "outputs": [],
   "source": [
    "os.chdir(os.path.dirname(current_dir))\n",
    "print(\"A new current directory has been set\")"
   ]
  },
  {
   "cell_type": "markdown",
   "metadata": {},
   "source": [
    "Confirm the new current directory"
   ]
  },
  {
   "cell_type": "code",
   "execution_count": null,
   "metadata": {},
   "outputs": [],
   "source": [
    "current_dir = os.getcwd()\n",
    "current_dir"
   ]
  },
  {
   "cell_type": "markdown",
   "metadata": {},
   "source": [
    "---"
   ]
  },
  {
   "cell_type": "markdown",
   "metadata": {},
   "source": [
    "# Load data"
   ]
  },
  {
   "cell_type": "code",
   "execution_count": null,
   "metadata": {},
   "outputs": [],
   "source": [
    "import pandas as pd\n",
    "# Read the DataFrame from the compressed CSV file\n",
    "df = pd.read_csv('outputs/datasets/cleaned/FertilityTreatmentDataCleaned.csv')\n",
    "df.head(3)"
   ]
  },
  {
   "cell_type": "markdown",
   "metadata": {},
   "source": [
    "Investigate data"
   ]
  },
  {
   "cell_type": "code",
   "execution_count": null,
   "metadata": {},
   "outputs": [],
   "source": [
    "from ydata_profiling import ProfileReport\n",
    "\n",
    "profile = ProfileReport(df=df, minimal=True)\n",
    "profile.to_notebook_iframe()"
   ]
  },
  {
   "cell_type": "markdown",
   "metadata": {},
   "source": [
    "## Correlation Study"
   ]
  },
  {
   "cell_type": "code",
   "execution_count": null,
   "metadata": {},
   "outputs": [],
   "source": [
    "df.info()"
   ]
  },
  {
   "cell_type": "code",
   "execution_count": null,
   "metadata": {},
   "outputs": [],
   "source": [
    "print (f\"Number of empty entries followed by the unique values and data type at each column:\\n\")\n",
    "\n",
    "for column in df.columns:\n",
    "    # Check how many empty fields there are in each column\n",
    "    empty_fields_count = df[column].isnull().sum()\n",
    "    # Check unique values there are in each column\n",
    "    unique_values = df[column].unique()\n",
    "    # Check data type of each column\n",
    "    data_type = df[column].dtype\n",
    "    \n",
    "    print (f\"- {column}: {empty_fields_count}, {unique_values}, {data_type}\\n\")\n"
   ]
  },
  {
   "cell_type": "code",
   "execution_count": null,
   "metadata": {},
   "outputs": [],
   "source": [
    "from feature_engine.encoding import OneHotEncoder\n",
    "encoder = OneHotEncoder(variables=df.columns[df.dtypes=='object'].to_list(), drop_last=False)\n",
    "df_ohe = encoder.fit_transform(df)\n",
    "print(df_ohe.shape)\n",
    "df_ohe.head(3)"
   ]
  },
  {
   "cell_type": "markdown",
   "metadata": {},
   "source": [
    "`.corr()` for `spearman` and `pearson` methods was used, and the top 20 correlations were investigated.\n",
    "\n",
    "* As this command returns a pandas series and the first item is the correlation between 'Live birth occurrence' and 'Live birth occurrence', which happens to be 1, it was excluded by applying `[1:]`\n",
    "  \n",
    "* Values were sorted considering the absolute value, by setting `key=abs`"
   ]
  },
  {
   "cell_type": "code",
   "execution_count": null,
   "metadata": {},
   "outputs": [],
   "source": [
    "corr_spearman = df_ohe.corr(method='spearman')['Live birth occurrence'].sort_values(key=abs, ascending=False)[1:].head(20)\n",
    "corr_spearman"
   ]
  },
  {
   "cell_type": "markdown",
   "metadata": {},
   "source": [
    "The same for `pearson` method"
   ]
  },
  {
   "cell_type": "code",
   "execution_count": null,
   "metadata": {},
   "outputs": [],
   "source": [
    "corr_pearson = df_ohe.corr(method='pearson')['Live birth occurrence'].sort_values(key=abs, ascending=False)[1:].head(20)\n",
    "corr_pearson"
   ]
  },
  {
   "cell_type": "markdown",
   "metadata": {},
   "source": [
    "## Correlation analysis results:\n",
    "\n",
    "For both correlation methods, we notice **very week levels of correlation** between 'Live birth occurrence' and a given variable.\n",
    "\n",
    " The highest negative value of -0.23 for \"Embryos transferred_0\", meaning no embryos were transfered and positive value of 0.16 for \"Date of embryo transfer_5 - fresh\", meaning that the embryo was transfered on the 5th day from the beginning of the procedure on a fresh cycle (as opposed to a frozen cycle, where the embyo is collected and frozen prior to the transfer procedure).\n",
    "\n",
    "Since 'Date of embryo transfer_NT', 'Embryos transferred_0', 'Total embryos created_0', 'Total eggs mixed_0', 'Fresh eggs collected_0' represent treatments that have failed prior to embryo transfer, these variables are also going to be ignored in the analysis because of its obvious negative impact on the treatment failing.\n",
    "\n",
    "**Predictors that might offer valuable insights into treatment success:**\n",
    "\n",
    "- Date of embryo transfer_5 - fresh:\n",
    "    - This suggests that embryo transfers on day 5 of fresh cycles have some association with higher success rates.\n",
    "\n",
    "- Embryos transferred_1e:\n",
    "    - This suggests thattransfering one single embryo, which has been electively selected has some association with higher success rates.\n",
    "\n",
    "- Elective single embryo transfer:\n",
    "    - Using Elective single embryo transfer has a moderate impact on success rates.\n",
    "\n",
    "- Patient/Egg provider (different age ranges):\n",
    "    - Age 18-34 positively correlates with success.\n",
    "    - Age 40-42 and Age 43-44 negatively correlate, reflecting decreased success rates with increasing age.\n",
    "\n",
    "- Total embryos created_6-10:\n",
    "    - This positive correlation suggests that creating more embryos within this range might be associated with higher success rates.\n",
    "\n",
    "- Fresh eggs collected_1-5 and Total eggs mixed_1-5:\n",
    "    - These variables show a slight negative correlation, indicating that collecting or mixing fewer eggs might have a marginal impact on success.\n",
    "\n",
    "- Partner/Sperm provider age_18-34, correlation values:\n",
    "    - Just like with the Patient/Egg provider age, the Partner/Sperm provider age on the range of 18-34 seems to have a somewhat positive impact on treatment success.\n",
    "\n",
    "The variables Patient age at treatment and Partner age have similar effects to Patient/Egg provider and Partner/Sperm provider. This is likely because the large majority of treatments on this dataset have as egg source the patient and as sperm source the partner. Therefore only Patient/Egg provider and Partner/Sperm provider ages will be considered for the analysis.\n"
   ]
  },
  {
   "cell_type": "markdown",
   "metadata": {},
   "source": [
    "\n",
    "Based on the correlation analysis results and the hypotheses to be validated, the investigation will focus on whether successful IVF treatment outcomes are typically associated with:\n",
    "\n",
    "- Embryo transfer occurring on day 5.\n",
    "- Elective single embryo transfer (eSET).\n",
    "- Patient/Egg provider being younger than 34 years old.\n",
    "- Collection of more than 5 fresh eggs from the patient/egg donor.\n",
    "- Mixing of more than 5 eggs with sperm.\n",
    "- Creation of 6-10 embryos.\n",
    "- Partner/Sperm provider being younger than 34 years old.\n",
    "- Absence of endometriosis in the patient."
   ]
  },
  {
   "cell_type": "code",
   "execution_count": null,
   "metadata": {},
   "outputs": [],
   "source": [
    "vars_to_study = ['Date of embryo transfer', 'Elective single embryo transfer', 'Embryos transferred', 'Fresh eggs collected', 'Total eggs mixed', 'Total embryos created', 'Patient/Egg provider age', 'Partner/Sperm provider age', 'Causes of infertility - endometriosis']\n",
    "vars_to_study"
   ]
  },
  {
   "cell_type": "markdown",
   "metadata": {},
   "source": [
    "## Exploratory Data Analysis (EDA) on selected variables"
   ]
  },
  {
   "cell_type": "code",
   "execution_count": null,
   "metadata": {},
   "outputs": [],
   "source": [
    "df_eda = df.filter(vars_to_study + ['Live birth occurrence'])\n",
    "df_eda.head(3)"
   ]
  },
  {
   "cell_type": "markdown",
   "metadata": {},
   "source": [
    "### Variables Distribution by Live birth occurrence"
   ]
  },
  {
   "cell_type": "code",
   "execution_count": null,
   "metadata": {},
   "outputs": [],
   "source": [
    "%matplotlib inline\n",
    "import matplotlib.pyplot as plt\n",
    "import matplotlib.ticker as mtick\n",
    "import seaborn as sns\n",
    "import numpy as np\n",
    "\n",
    "sns.set_style(\"whitegrid\")\n",
    "\n",
    "\n",
    "def plot_count_distribution(df, col, target_var):\n",
    "    plt.figure(figsize=(12, 5))\n",
    "\n",
    "    # Define custom ordering for specific columns with ranges\n",
    "    if col == \"Date of embryo transfer\":\n",
    "        order = [\n",
    "            \"0 - fresh\",\n",
    "            \"1 - fresh\",\n",
    "            \"2 - fresh\",\n",
    "            \"3 - fresh\",\n",
    "            \"4 - fresh\",\n",
    "            \"5 - fresh\",\n",
    "            \"6 - fresh\",\n",
    "            \"7 - fresh\",\n",
    "            \"0 - frozen\",\n",
    "            \"1 - frozen\",\n",
    "            \"2 - frozen\",\n",
    "            \"3 - frozen\",\n",
    "            \"4 - frozen\",\n",
    "            \"5 - frozen\",\n",
    "            \"6 - frozen\",\n",
    "            \"7 - frozen\",\n",
    "            \"2 - Mixed fresh/frozen\",\n",
    "            \"3 - Mixed fresh/frozen\",\n",
    "            \"5 - Mixed fresh/frozen\",\n",
    "            \"6 - Mixed fresh/frozen\",\n",
    "            \"Missing\",\n",
    "            \"NT\",\n",
    "        ]\n",
    "    elif col in [\"Fresh eggs collected\", \"Total eggs mixed\"]:\n",
    "        order = [\n",
    "            \"0\",\n",
    "            \"1-5\",\n",
    "            \"6-10\",\n",
    "            \"11-15\",\n",
    "            \"16-20\",\n",
    "            \"21-25\",\n",
    "            \"26-30\",\n",
    "            \"31-35\",\n",
    "            \"36-40\",\n",
    "            \">40\",\n",
    "            \"0 - frozen cycle\",\n",
    "        ]\n",
    "    elif col == \"Total embryos created\":\n",
    "        order = [\n",
    "            \"0\",\n",
    "            \"1-5\",\n",
    "            \"6-10\",\n",
    "            \"11-15\",\n",
    "            \"16-20\",\n",
    "            \"21-25\",\n",
    "            \"26-30\",\n",
    "            \">30\",\n",
    "            \"0 - frozen cycle\",\n",
    "        ]\n",
    "    else:\n",
    "        order = sorted(\n",
    "            # Sort other categorical columns in ascending order as strings\n",
    "            df[col].unique(), key=str\n",
    "        )  \n",
    "\n",
    "    sns.countplot(data=df, x=col, hue=target_var, order=order)\n",
    "    plt.xticks(rotation=90)\n",
    "    plt.title(f\"{col}\", fontsize=20, y=1.05)\n",
    "    plt.show()\n",
    "\n",
    "\n",
    "def convert_to_string(df, columns):\n",
    "    for col in columns:\n",
    "        # Convert to string to avoid mixed type issues\n",
    "        df[col] = df[col].astype(str)  \n",
    "\n",
    "\n",
    "# Convert data before plotting to avoid mixed type issues\n",
    "columns_to_convert = [\"Total embryos created\"]\n",
    "convert_to_string(df_eda, columns_to_convert)\n",
    "\n",
    "\n",
    "# Function to plot proportion distributions\n",
    "def plot_proportion_distribution(df, col, target_var):\n",
    "    plt.figure(figsize=(15, 6))\n",
    "\n",
    "    # Define the order specifically for the variable of interest\n",
    "    if col == \"Date of embryo transfer\":\n",
    "        order = [\n",
    "            \"0 - fresh\",\n",
    "            \"1 - fresh\",\n",
    "            \"2 - fresh\",\n",
    "            \"3 - fresh\",\n",
    "            \"4 - fresh\",\n",
    "            \"5 - fresh\",\n",
    "            \"6 - fresh\",\n",
    "            \"7 - fresh\",\n",
    "            \"0 - frozen\",\n",
    "            \"1 - frozen\",\n",
    "            \"2 - frozen\",\n",
    "            \"3 - frozen\",\n",
    "            \"4 - frozen\",\n",
    "            \"5 - frozen\",\n",
    "            \"6 - frozen\",\n",
    "            \"7 - frozen\",\n",
    "            \"2 - Mixed fresh/frozen\",\n",
    "            \"3 - Mixed fresh/frozen\",\n",
    "            \"5 - Mixed fresh/frozen\",\n",
    "            \"6 - Mixed fresh/frozen\",\n",
    "            \"Missing\",\n",
    "            \"NT\",\n",
    "        ]\n",
    "    elif col in [\"Fresh eggs collected\", \"Total eggs mixed\"]:\n",
    "        order = [\n",
    "            \"0\",\n",
    "            \"1-5\",\n",
    "            \"6-10\",\n",
    "            \"11-15\",\n",
    "            \"16-20\",\n",
    "            \"21-25\",\n",
    "            \"26-30\",\n",
    "            \"31-35\",\n",
    "            \"36-40\",\n",
    "            \">40\",\n",
    "            \"0 - frozen cycle\",\n",
    "        ]\n",
    "    elif col == \"Total embryos created\":\n",
    "        order = [\n",
    "            \"0\",\n",
    "            \"1-5\",\n",
    "            \"6-10\",\n",
    "            \"11-15\",\n",
    "            \"16-20\",\n",
    "            \"21-25\",\n",
    "            \"26-30\",\n",
    "            \">30\",\n",
    "            \"0 - frozen cycle\",\n",
    "        ]\n",
    "    else:\n",
    "        order = sorted(\n",
    "            df[col].unique(), key=str\n",
    "        )  # Sort other categorical columns in ascending order as strings\n",
    "\n",
    "    # Filter order to match only existing categories\n",
    "    unique_values = df[col].unique()\n",
    "    order = [x for x in order if x in unique_values]\n",
    "\n",
    "    # Calculate proportions\n",
    "    df_prop = df.groupby([col, target_var]).size().reset_index(name=\"count\")\n",
    "    df_prop[\"proportion\"] = df_prop.groupby(col)[\"count\"].transform(\n",
    "        lambda x: x / x.sum()\n",
    "    )\n",
    "\n",
    "    # Pivot the data to have proportions for each target variable as separate columns\n",
    "    df_pivot = df_prop.pivot(index=col, columns=target_var, values=\"proportion\").fillna(\n",
    "        0\n",
    "    )\n",
    "    df_pivot = df_pivot.reindex(\n",
    "        order, fill_value=0\n",
    "    )  # Reorder according to the predefined order\n",
    "\n",
    "    # Plot using Matplotlib to stack bars\n",
    "    if not df_pivot.empty:\n",
    "        plt.bar(\n",
    "            df_pivot.index,\n",
    "            df_pivot[0],\n",
    "            label=\"Live birth occurrence 0\",\n",
    "            color=\"#3274a1\",\n",
    "        )\n",
    "        if 1 in df_pivot.columns:\n",
    "            plt.bar(\n",
    "                df_pivot.index,\n",
    "                df_pivot[1],\n",
    "                bottom=df_pivot[0],\n",
    "                label=\"Live birth occurrence 1\",\n",
    "                color=\"#e1812c\",\n",
    "            )\n",
    "\n",
    "    # Format y-axis as percentages\n",
    "    plt.gca().yaxis.set_major_formatter(mtick.PercentFormatter(1.0))\n",
    "    plt.xticks(rotation=90)\n",
    "    plt.title(f\"Proportion Distribution of {col} by {target_var}\", fontsize=20, y=1.05)\n",
    "    plt.ylabel(\"Proportion\")\n",
    "    plt.xlabel(col)\n",
    "    plt.legend(title=target_var, loc=\"upper right\")\n",
    "\n",
    "    # Add labels to the stacked bars\n",
    "    for i in range(len(df_pivot)):\n",
    "        if (\n",
    "            0 in df_pivot.columns\n",
    "            and np.isfinite(df_pivot.iloc[i, 0])\n",
    "            and df_pivot.iloc[i, 0] > 0\n",
    "        ):\n",
    "            plt.text(\n",
    "                i,\n",
    "                df_pivot.iloc[i, 0] / 2,\n",
    "                f\"{df_pivot.iloc[i, 0]:.1%}\",\n",
    "                ha=\"center\",\n",
    "                va=\"center\",\n",
    "                color=\"white\",\n",
    "                fontsize=9,\n",
    "            )\n",
    "        if (\n",
    "            1 in df_pivot.columns\n",
    "            and np.isfinite(df_pivot.iloc[i, 1])\n",
    "            and df_pivot.iloc[i, 1] > 0\n",
    "        ):\n",
    "            plt.text(\n",
    "                i,\n",
    "                df_pivot.iloc[i, 0] + df_pivot.iloc[i, 1] / 2,\n",
    "                f\"{df_pivot.iloc[i, 1]:.1%}\",\n",
    "                ha=\"center\",\n",
    "                va=\"center\",\n",
    "                color=\"black\",\n",
    "                fontsize=9,\n",
    "            )\n",
    "\n",
    "    plt.show()\n",
    "\n",
    "\n",
    "# Choose color palette\n",
    "palette = sns.color_palette(\"colorblind\")\n",
    "\n",
    "\n",
    "# Function to plot pie charts\n",
    "def plot_pie_chart(df, col, target_var):\n",
    "    # Filter the data to include only successful cases\n",
    "    df_successful = df[df[target_var] == 1]\n",
    "\n",
    "    # Aggregate counts within each category for successful cases\n",
    "    df_pie = df_successful.groupby([col]).size().reset_index(name=\"count\")\n",
    "\n",
    "    # Calculate total count for percentage calculations\n",
    "    total_count = df_pie[\"count\"].sum()\n",
    "\n",
    "    # Calculate the percentage for each slice\n",
    "    df_pie[\"percentage\"] = df_pie[\"count\"] / total_count\n",
    "\n",
    "    # Define threshold for displaying labels directly on the pie chart\n",
    "    threshold = 0.05  # 5%\n",
    "\n",
    "    # Creating labels for the legend with counts and percentages\n",
    "    legend_labels = [\n",
    "        f\"{label}: {count} ({count/total_count:.1%})\"\n",
    "        for label, count in zip(df_pie[col], df_pie[\"count\"])\n",
    "    ]\n",
    "\n",
    "    # Plot pie chart for successful cases\n",
    "    plt.figure(figsize=(8, 8))\n",
    "    wedges, texts, autotexts = plt.pie(\n",
    "        df_pie[\"count\"],\n",
    "        startangle=90,\n",
    "        colors=palette,\n",
    "        labels=[\n",
    "            # Display category name if above threshold\n",
    "            label if pct > threshold else \"\"\n",
    "            for label, pct in zip(df_pie[col], df_pie[\"percentage\"])\n",
    "        ],  \n",
    "        autopct=lambda p: (\n",
    "            # Show % only if > threshold\n",
    "            f\"{p:.1f}%\" if p / 100 > threshold else \"\"\n",
    "        ),  \n",
    "    )\n",
    "\n",
    "    # Adjust the display of labels on the pie chart\n",
    "    for text in autotexts:\n",
    "        text.set_color(\"black\")\n",
    "\n",
    "    # Adding the legend\n",
    "    plt.legend(\n",
    "        wedges, legend_labels, title=col, loc=\"center left\", bbox_to_anchor=(1, 0.5)\n",
    "    )\n",
    "    plt.title(f\"Distribution of Successful Cases for {col}\")\n",
    "    plt.show()\n",
    "\n",
    "\n",
    "# Plotting the graphs\n",
    "target_var = \"Live birth occurrence\"\n",
    "\n",
    "for col in vars_to_study:\n",
    "    print(f\"Plotting count distribution for: {col}\")\n",
    "    plot_count_distribution(df_eda, col, target_var)\n",
    "    print(\"\\n\\n\")\n",
    "\n",
    "    print(f\"Plotting proportion distribution for: {col}\")\n",
    "    plot_proportion_distribution(df_eda, col, target_var)\n",
    "    print(\"\\n\\n\")\n",
    "\n",
    "    print(f\"Plotting pie charts for: {col}\")\n",
    "    plot_pie_chart(df_eda, col, target_var)\n",
    "    print(\"\\n\\n\")"
   ]
  },
  {
   "cell_type": "markdown",
   "metadata": {},
   "source": [
    "---"
   ]
  },
  {
   "cell_type": "markdown",
   "metadata": {},
   "source": [
    "## Parallel Plot"
   ]
  },
  {
   "cell_type": "code",
   "execution_count": null,
   "metadata": {},
   "outputs": [],
   "source": [
    "import plotly.express as px\n",
    "\n",
    "# Convert the categorical column to a numeric type\n",
    "df_eda['Live birth occurrence'] = df_eda['Live birth occurrence'].astype('category').cat.codes\n",
    "\n",
    "# Create the parallel categories plot\n",
    "fig = px.parallel_categories(df_eda, color=\"Live birth occurrence\")\n",
    "\n",
    "# Update layout to adjust size, font size and margins\n",
    "fig.update_layout(\n",
    "    font=dict(size=8),\n",
    "    margin=dict(l=50, r=50, t=50, b=50),\n",
    "    width=1000, height=600\n",
    ")\n",
    "\n",
    "fig.show(renderer='jupyterlab')\n"
   ]
  },
  {
   "cell_type": "markdown",
   "metadata": {},
   "source": [
    "---"
   ]
  },
  {
   "cell_type": "markdown",
   "metadata": {},
   "source": [
    "## Conclusions"
   ]
  },
  {
   "cell_type": "markdown",
   "metadata": {},
   "source": [
    "The correlations and plots interpretation converge.\n",
    "\n",
    "The findings from the correlation analysis and data visualization suggest key factors that are commonly associated with successful IVF treatment outcomes:\n",
    "\n",
    "- Embryo transfers performed on day 5 of a fresh cycle or on day 0 of a frozen cycle (the day they were thawed) were more likely to result in success.\n",
    "\n",
    "- Success was often observed when a single embryo was electively transferred or when two embryos were transferred without elective selection.\n",
    "\n",
    "- Collecting more than 5 fresh eggs from the patient or egg donor, or utilizing eggs from a frozen cycle, was linked to higher success rates.\n",
    "\n",
    "- Mixing more than 5 eggs with sperm was a common factor in successful outcomes.\n",
    "\n",
    "- Successful treatments typically involved the creation of 6 to 10 embryos.\n",
    "\n",
    "- Higher success rates were noted when the Patient/Egg provider was younger than 34 years old.\n",
    "\n",
    "- Outcomes were more favorable when the Partner/Sperm provider was also younger than 34 years old."
   ]
  },
  {
   "cell_type": "markdown",
   "metadata": {},
   "source": [
    "---"
   ]
  }
 ],
 "metadata": {
  "kernelspec": {
   "display_name": "Python 3",
   "language": "python",
   "name": "python3"
  },
  "language_info": {
   "codemirror_mode": {
    "name": "ipython",
    "version": 3
   },
   "file_extension": ".py",
   "mimetype": "text/x-python",
   "name": "python",
   "nbconvert_exporter": "python",
   "pygments_lexer": "ipython3",
   "version": "3.11.9"
  }
 },
 "nbformat": 4,
 "nbformat_minor": 2
}
