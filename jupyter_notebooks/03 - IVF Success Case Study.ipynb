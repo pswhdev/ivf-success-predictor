{
 "cells": [
  {
   "cell_type": "markdown",
   "metadata": {},
   "source": [
    "# **IVF Case Study Notebook**"
   ]
  },
  {
   "cell_type": "markdown",
   "metadata": {},
   "source": [
    "## Objectives\n",
    "\n",
    "*   Answer business requirement 1: \n",
    "    - The client is interested in understanding the factors that impact IVF treatment success and identifying the most relevant variables correlated with a successful outcome.\n",
    "## Inputs\n",
    "\n",
    "* outputs/datasets/cleaned/FertilityTreatmentDataCleaned.csv\n",
    "\n",
    "## Outputs\n",
    "\n",
    "* generate code that answers business requirement 1 and can be used to build the Streamlit App"
   ]
  },
  {
   "cell_type": "markdown",
   "metadata": {},
   "source": [
    "---"
   ]
  },
  {
   "cell_type": "markdown",
   "metadata": {},
   "source": [
    "# Change working directory"
   ]
  },
  {
   "cell_type": "markdown",
   "metadata": {},
   "source": [
    "Change the working directory from its current folder to its parent folder\n",
    "* Access the current directory with os.getcwd()"
   ]
  },
  {
   "cell_type": "code",
   "execution_count": null,
   "metadata": {},
   "outputs": [],
   "source": [
    "import os\n",
    "current_dir = os.getcwd()\n",
    "current_dir"
   ]
  },
  {
   "cell_type": "markdown",
   "metadata": {},
   "source": [
    "To make the parent of the current directory the new current directory:\n",
    "* os.path.dirname() gets the parent directory\n",
    "* os.chir() defines the new current directory"
   ]
  },
  {
   "cell_type": "code",
   "execution_count": null,
   "metadata": {},
   "outputs": [],
   "source": [
    "os.chdir(os.path.dirname(current_dir))\n",
    "print(\"A new current directory has been set\")"
   ]
  },
  {
   "cell_type": "markdown",
   "metadata": {},
   "source": [
    "Confirm the new current directory"
   ]
  },
  {
   "cell_type": "code",
   "execution_count": null,
   "metadata": {},
   "outputs": [],
   "source": [
    "current_dir = os.getcwd()\n",
    "current_dir"
   ]
  },
  {
   "cell_type": "markdown",
   "metadata": {},
   "source": [
    "---"
   ]
  },
  {
   "cell_type": "markdown",
   "metadata": {},
   "source": [
    "# Load data"
   ]
  },
  {
   "cell_type": "code",
   "execution_count": null,
   "metadata": {},
   "outputs": [],
   "source": [
    "import pandas as pd\n",
    "# Read the DataFrame from the compressed CSV file\n",
    "df = pd.read_csv('outputs/datasets/cleaned/FertilityTreatmentDataCleaned.csv')\n",
    "df.head(3)"
   ]
  },
  {
   "cell_type": "markdown",
   "metadata": {},
   "source": [
    "Investigate data"
   ]
  },
  {
   "cell_type": "code",
   "execution_count": null,
   "metadata": {},
   "outputs": [],
   "source": [
    "from ydata_profiling import ProfileReport\n",
    "\n",
    "profile = ProfileReport(df=df, minimal=True)\n",
    "profile.to_notebook_iframe()"
   ]
  },
  {
   "cell_type": "markdown",
   "metadata": {},
   "source": [
    "## Correlation Study"
   ]
  },
  {
   "cell_type": "code",
   "execution_count": null,
   "metadata": {},
   "outputs": [],
   "source": [
    "df.info()"
   ]
  },
  {
   "cell_type": "code",
   "execution_count": null,
   "metadata": {},
   "outputs": [],
   "source": [
    "print (f\"Number of empty entries followed by the unique values and data type at each column:\\n\")\n",
    "\n",
    "for column in df.columns:\n",
    "    # Check how many empty fields there are in each column\n",
    "    empty_fields_count = df[column].isnull().sum()\n",
    "    # Check unique values there are in each column\n",
    "    unique_values = df[column].unique()\n",
    "    # Check data type of each column\n",
    "    data_type = df[column].dtype\n",
    "    \n",
    "    print (f\"- {column}: {empty_fields_count}, {unique_values}, {data_type}\\n\")\n"
   ]
  },
  {
   "cell_type": "code",
   "execution_count": null,
   "metadata": {},
   "outputs": [],
   "source": [
    "from feature_engine.encoding import OneHotEncoder\n",
    "encoder = OneHotEncoder(variables=df.columns[df.dtypes=='object'].to_list(), drop_last=False)\n",
    "df_ohe = encoder.fit_transform(df)\n",
    "print(df_ohe.shape)\n",
    "df_ohe.head(3)"
   ]
  },
  {
   "cell_type": "markdown",
   "metadata": {},
   "source": [
    "`.corr()` for `spearman` and `pearson` methods was used, and the top 20 correlations were investigated.\n",
    "\n",
    "* As this command returns a pandas series and the first item is the correlation between 'Live birth occurrence' and 'Live birth occurrence', which happens to be 1, it was excluded by applying `[1:]`\n",
    "  \n",
    "* Values were sorted considering the absolute value, by setting `key=abs`"
   ]
  },
  {
   "cell_type": "code",
   "execution_count": null,
   "metadata": {},
   "outputs": [],
   "source": [
    "corr_spearman = df_ohe.corr(method='spearman')['Live birth occurrence'].sort_values(key=abs, ascending=False)[1:].head(20)\n",
    "corr_spearman"
   ]
  },
  {
   "cell_type": "markdown",
   "metadata": {},
   "source": [
    "The same for `pearson` method"
   ]
  },
  {
   "cell_type": "code",
   "execution_count": null,
   "metadata": {},
   "outputs": [],
   "source": [
    "corr_pearson = df_ohe.corr(method='pearson')['Live birth occurrence'].sort_values(key=abs, ascending=False)[1:].head(20)\n",
    "corr_pearson"
   ]
  },
  {
   "cell_type": "markdown",
   "metadata": {},
   "source": [
    "## Correlation analysis results:\n",
    "\n",
    "For both correlation methods, we notice weak or very week levels of correlation between 'Live birth occurrence' and a given variable.\n",
    "\n",
    "Since 'Date of embryo transfer_NT', 'Embryos transferred_0', 'Total embryos created_0', 'Total eggs mixed_0', 'Fresh eggs collected_0' represent treatments that have failed prior to embryo transfer, these variables are also going to be ignored in the analysis because of its obvious negative impact on the treatment failing.\n",
    "\n",
    "**Predictors that might offer valuable insights into treatment success:**\n",
    "\n",
    "- Date of embryo transfer_5 - fresh:\n",
    "\n",
    "    This suggests that embryo transfers on day 5 of fresh cycles have some association with higher success rates.\n",
    "\n",
    "- Embryos transferred_1e:\n",
    "\n",
    "    This suggests thattransfering one single embryo, which has been electively selected has some association with higher success rates.\n",
    "\n",
    "- Elective single embryo transfer:\n",
    "\n",
    "    Using Elective single embryo transfer has a moderate impact on success rates.\n",
    "\n",
    "- Patient/Egg provider (different age ranges):\n",
    "\n",
    "    Age 18-34 positively correlates with success.\n",
    "    Age 40-42 and Age 43-44 negatively correlate, reflecting decreased success rates with increasing age.\n",
    "\n",
    "- Total embryos created_6-10:\n",
    "\n",
    "    This positive correlation suggests that creating more embryos within this range might be associated with higher success rates.\n",
    "\n",
    "- Fresh eggs collected_1-5 and Total eggs mixed_1-5:\n",
    "\n",
    "    These variables show a slight negative correlation, indicating that collecting or mixing fewer eggs might have a marginal impact on success.\n",
    "\n",
    "- Partner/Sperm provider age_18-34, correlation values:\n",
    "\n",
    "    Just like with the Patient/Egg provider age, the Partner/Sperm provider age on the range of 18-34 seems to have a somewhat positive impact on treatment success.\n",
    "\n",
    "The variables Patient age at treatment and Partner age have similar effects to Patient/Egg provider and Partner/Sperm provider. This is likely because the large majority of treatments on this dataset have as egg source the patient and as sperm source the partner. Therefore only Patient/Egg provider and Partner/Sperm provider ages will be considered for the analysis.\n",
    "\n"
   ]
  },
  {
   "cell_type": "markdown",
   "metadata": {},
   "source": [
    "Based on the correlation results it will be investigated if successful IVF treatment outcomes typically:\n",
    "\n",
    "* had the embryo being transfered on day 5.\n",
    "* had only one electively selected embryo transfered.\n",
    "* happened when Patient/Egg provider was younger than 34 years old.\n",
    "* had more than 5 fresh eggs being collected from patient/egg donor.\n",
    "* had more than 5 eggs mixed with sperm.\n",
    "* had a range of 6-10 embryos created.\n",
    "* happened when Partner/Sperm provider was younger than 34 years old. "
   ]
  },
  {
   "cell_type": "code",
   "execution_count": null,
   "metadata": {},
   "outputs": [],
   "source": [
    "vars_to_study = ['Date of embryo transfer', 'Elective single embryo transfer', 'Embryos transferred', 'Fresh eggs collected', 'Total eggs mixed', 'Total embryos created', 'Patient/Egg provider age', 'Partner/Sperm provider age']\n",
    "vars_to_study"
   ]
  },
  {
   "cell_type": "markdown",
   "metadata": {},
   "source": [
    "## EDA on selected variables"
   ]
  },
  {
   "cell_type": "code",
   "execution_count": null,
   "metadata": {},
   "outputs": [],
   "source": [
    "df_eda = df.filter(vars_to_study + ['Live birth occurrence'])\n",
    "df_eda.head(3)"
   ]
  },
  {
   "cell_type": "markdown",
   "metadata": {},
   "source": [
    "### Variables Distribution by Live birth occurrence"
   ]
  },
  {
   "cell_type": "markdown",
   "metadata": {},
   "source": [
    "Plot the distribution (numerical and categorical) coloured by Live birth occurrence"
   ]
  },
  {
   "cell_type": "code",
   "execution_count": null,
   "metadata": {},
   "outputs": [],
   "source": [
    "%matplotlib inline\n",
    "import matplotlib.pyplot as plt\n",
    "import seaborn as sns\n",
    "sns.set_style('whitegrid')\n",
    "\n",
    "\n",
    "def plot_categorical(df, col, target_var):\n",
    "\n",
    "    plt.figure(figsize=(12, 5))\n",
    "    sns.countplot(data=df, x=col, hue=target_var, order=df[col].value_counts().index)\n",
    "    plt.xticks(rotation=90)\n",
    "    plt.title(f\"{col}\", fontsize=20, y=1.05)\n",
    "    plt.show()\n",
    "\n",
    "\n",
    "def plot_numerical(df, col, target_var):\n",
    "    plt.figure(figsize=(8, 5))\n",
    "    sns.histplot(data=df, x=col, hue=target_var, kde=True, element=\"step\")\n",
    "    plt.xticks(rotation=90)\n",
    "    plt.title(f\"{col}\", fontsize=20, y=1.05)\n",
    "    plt.show()\n",
    "\n",
    "\n",
    "target_var = 'Live birth occurrence'\n",
    "for col in vars_to_study:\n",
    "    if df_eda[col].dtype == 'category':\n",
    "        plot_categorical(df_eda, col, target_var)\n",
    "        print(\"\\n\\n\")\n",
    "    else:\n",
    "        plot_numerical(df_eda, col, target_var)\n",
    "        print(\"\\n\\n\")\n"
   ]
  },
  {
   "cell_type": "markdown",
   "metadata": {},
   "source": [
    "---"
   ]
  },
  {
   "cell_type": "markdown",
   "metadata": {},
   "source": [
    "## Parallel Plot"
   ]
  },
  {
   "cell_type": "code",
   "execution_count": null,
   "metadata": {},
   "outputs": [],
   "source": [
    "import plotly.express as px\n",
    "\n",
    "# Convert the categorical column to a numeric type\n",
    "df_eda['Live birth occurrence'] = df_eda['Live birth occurrence'].astype('category').cat.codes\n",
    "\n",
    "# Create the parallel categories plot\n",
    "fig = px.parallel_categories(df_eda, color=\"Live birth occurrence\")\n",
    "\n",
    "# Update layout to adjust size, font size and margins\n",
    "fig.update_layout(\n",
    "    font=dict(size=8),\n",
    "    margin=dict(l=50, r=50, t=50, b=50),\n",
    "    width=1000, height=600\n",
    ")\n",
    "\n",
    "fig.show(renderer='jupyterlab')\n"
   ]
  },
  {
   "cell_type": "markdown",
   "metadata": {},
   "source": [
    "---"
   ]
  },
  {
   "cell_type": "markdown",
   "metadata": {},
   "source": [
    "## Conclusions"
   ]
  },
  {
   "cell_type": "markdown",
   "metadata": {},
   "source": [
    "The correlations and plots interpretation converge. \n",
    "\n",
    "Successful IVF treatment outcomes typically:\n",
    "\n",
    "* had eitehr the embryo being transfered on day 5 on a fresh cycle or were from a frozen cycle being transfered on the day they were thawed, day 0.\n",
    "\n",
    "* had only one embryo selected electively transfered or 2 embryos without elective selection.\n",
    "\n",
    "* had more than 5 fresh eggs being collected from patient/egg donor or were from a frozen cycle.\n",
    "\n",
    "* had more than 5 eggs mixed with sperm.\n",
    "\n",
    "* had a range of 6-10 embryos created.\n",
    "\n",
    "* happened when Patient/Egg provider was younger than 34 year old.\n",
    "\n",
    "* happened when Partner/Sperm provider was younger than 34 year old."
   ]
  },
  {
   "cell_type": "markdown",
   "metadata": {},
   "source": [
    "---"
   ]
  }
 ],
 "metadata": {
  "kernelspec": {
   "display_name": "Python 3",
   "language": "python",
   "name": "python3"
  },
  "language_info": {
   "codemirror_mode": {
    "name": "ipython",
    "version": 3
   },
   "file_extension": ".py",
   "mimetype": "text/x-python",
   "name": "python",
   "nbconvert_exporter": "python",
   "pygments_lexer": "ipython3",
   "version": "3.11.9"
  }
 },
 "nbformat": 4,
 "nbformat_minor": 2
}
