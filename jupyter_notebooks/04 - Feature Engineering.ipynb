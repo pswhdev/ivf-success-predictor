{
 "cells": [
  {
   "cell_type": "markdown",
   "metadata": {},
   "source": [
    "# Feature Engineering Notebook"
   ]
  },
  {
   "cell_type": "markdown",
   "metadata": {},
   "source": [
    "## Objectives\n",
    "\n",
    "* Perform Correlation and PPS Analysis\n",
    "* Engineer features for ML models\n",
    "\n",
    "## Inputs\n",
    "\n",
    "* outputs/datasets/cleaned/FertilityTreatmentDataCleaned.csv\n",
    "* outputs/datasets/cleaned/TestSetCleaned.csv\n",
    "* outputs/datasets/cleaned/TrainSetCleaned.csv\n",
    "\n",
    "## Outputs\n",
    "\n",
    "* generate a list with variables to engineer\n",
    "\n",
    "## Conclusions\n",
    "\n",
    "Feature Engineering Transformers\n",
    "  \n",
    "  * One Hot Encoding:\n",
    "    `['Patient age at treatment',\n",
    "    'Partner/Sperm provider age',\n",
    "    'Patient/Egg provider age',\n",
    "    'Total number of previous IVF cycles',\n",
    "    'Fresh eggs collected',\n",
    "    'Total eggs mixed',\n",
    "    'Total embryos created',\n",
    "    'Embryos transferred',\n",
    "    'Total embryos thawed',\n",
    "    'Date of embryo transfer',\n",
    "    'Specific treatment type',\n",
    "    'Egg source',\n",
    "    'Sperm source',\n",
    "    'Patient ethnicity']`\n",
    "\n",
    "  * Smart Correlation Selection:\n",
    "    `['Patient age at treatment_18-34',\n",
    " 'Total embryos thawed_0 - fresh cycle',\n",
    " 'Fresh cycle',\n",
    " 'Frozen cycle',\n",
    " 'Total embryos created_0 - frozen cycle',\n",
    " 'Total eggs mixed_0 - frozen cycle',\n",
    " 'Fresh eggs collected_0 - frozen cycle',\n",
    " 'Total embryos thawed_1-5',\n",
    " 'Embryos transferred_1e',\n",
    " 'Patient/Egg provider age_35-37',\n",
    " 'Patient age at treatment_38-39',\n",
    " 'Patient/Egg provider age_40-42',\n",
    " 'Date of embryo transfer_NT']`\n",
    "\n"
   ]
  },
  {
   "cell_type": "markdown",
   "metadata": {},
   "source": [
    "---"
   ]
  },
  {
   "cell_type": "markdown",
   "metadata": {},
   "source": [
    "# Change working directory"
   ]
  },
  {
   "cell_type": "markdown",
   "metadata": {},
   "source": [
    "Change the working directory from its current folder to its parent folder\n",
    "* Access the current directory with os.getcwd()"
   ]
  },
  {
   "cell_type": "code",
   "execution_count": null,
   "metadata": {},
   "outputs": [],
   "source": [
    "import os\n",
    "current_dir = os.getcwd()\n",
    "current_dir"
   ]
  },
  {
   "cell_type": "markdown",
   "metadata": {},
   "source": [
    "To make the parent of the current directory the new current directory:\n",
    "* os.path.dirname() gets the parent directory\n",
    "* os.chir() defines the new current directory"
   ]
  },
  {
   "cell_type": "code",
   "execution_count": null,
   "metadata": {},
   "outputs": [],
   "source": [
    "os.chdir(os.path.dirname(current_dir))\n",
    "print(\"A new current directory has been set\")"
   ]
  },
  {
   "cell_type": "markdown",
   "metadata": {},
   "source": [
    "Confirm the new current directory"
   ]
  },
  {
   "cell_type": "code",
   "execution_count": null,
   "metadata": {},
   "outputs": [],
   "source": [
    "current_dir = os.getcwd()\n",
    "current_dir"
   ]
  },
  {
   "cell_type": "markdown",
   "metadata": {},
   "source": [
    "---"
   ]
  },
  {
   "cell_type": "markdown",
   "metadata": {},
   "source": [
    "# Load cleaned data"
   ]
  },
  {
   "cell_type": "code",
   "execution_count": null,
   "metadata": {},
   "outputs": [],
   "source": [
    "import pandas as pd\n",
    "# Read the DataFrame from the compressed CSV file\n",
    "df = pd.read_csv('outputs/datasets/cleaned/FertilityTreatmentDataCleaned.csv')\n",
    "df.head(3)"
   ]
  },
  {
   "cell_type": "markdown",
   "metadata": {},
   "source": [
    "### Correlation and PPS Analysis"
   ]
  },
  {
   "cell_type": "code",
   "execution_count": null,
   "metadata": {},
   "outputs": [],
   "source": [
    "import numpy as np\n",
    "import matplotlib.pyplot as plt\n",
    "import seaborn as sns\n",
    "import ppscore as pps\n",
    "import warnings\n",
    "\n",
    "warnings.filterwarnings(\"ignore\")\n",
    "\n",
    "\n",
    "def heatmap_corr(df, threshold, figsize=(20, 12), font_annot=8):\n",
    "    if len(df.columns) > 1:\n",
    "        mask = np.zeros_like(df, dtype=bool)\n",
    "        mask[np.triu_indices_from(mask)] = True\n",
    "        mask[abs(df) < threshold] = True\n",
    "\n",
    "        fig, axes = plt.subplots(figsize=figsize)\n",
    "        sns.heatmap(\n",
    "            df,\n",
    "            annot=True,\n",
    "            xticklabels=True,\n",
    "            yticklabels=True,\n",
    "            mask=mask,\n",
    "            cmap=\"viridis\",\n",
    "            annot_kws={\"size\": font_annot},\n",
    "            ax=axes,\n",
    "            linewidth=0.5,\n",
    "        )\n",
    "        axes.set_yticklabels(df.columns, rotation=0)\n",
    "        plt.ylim(len(df.columns), 0)\n",
    "        plt.show()\n",
    "\n",
    "\n",
    "def heatmap_pps(df, threshold, figsize=(20, 12), font_annot=8):\n",
    "    if len(df.columns) > 1:\n",
    "        mask = np.zeros_like(df, dtype=bool)\n",
    "        mask[abs(df) < threshold] = True\n",
    "        fig, ax = plt.subplots(figsize=figsize)\n",
    "        ax = sns.heatmap(\n",
    "            df,\n",
    "            annot=True,\n",
    "            xticklabels=True,\n",
    "            yticklabels=True,\n",
    "            mask=mask,\n",
    "            cmap=\"rocket_r\",\n",
    "            annot_kws={\"size\": font_annot},\n",
    "            linewidth=0.05,\n",
    "            linecolor=\"grey\",\n",
    "        )\n",
    "        plt.ylim(len(df.columns), 0)\n",
    "        plt.show()\n",
    "\n",
    "\n",
    "def CalculateCorrAndPPS(df):\n",
    "    df_corr_spearman = df.corr(method=\"spearman\", numeric_only=True)\n",
    "    df_corr_pearson = df.corr(method=\"pearson\", numeric_only=True)\n",
    "\n",
    "    pps_matrix_raw = pps.matrix(df)\n",
    "    pps_matrix = pps_matrix_raw.filter([\"x\", \"y\", \"ppscore\"]).pivot(\n",
    "        columns=\"x\", index=\"y\", values=\"ppscore\"\n",
    "    )\n",
    "\n",
    "    pps_score_stats = (\n",
    "        pps_matrix_raw.query(\"ppscore < 1\").filter([\"ppscore\"]).describe().T\n",
    "    )\n",
    "    print(\"PPS threshold - check PPS score IQR to decide threshold for heatmap \\n\")\n",
    "    print(pps_score_stats.round(3))\n",
    "\n",
    "    return df_corr_pearson, df_corr_spearman, pps_matrix\n",
    "\n",
    "\n",
    "def DisplayCorrAndPPS(\n",
    "    df_corr_pearson,\n",
    "    df_corr_spearman,\n",
    "    pps_matrix,\n",
    "    CorrThreshold,\n",
    "    PPS_Threshold,\n",
    "    figsize=(20, 12),\n",
    "    font_annot=8,\n",
    "):\n",
    "\n",
    "    print(\"\\n\")\n",
    "    print(\n",
    "        \"* Analyse how the target variable for your ML models are correlated with other variables (features and target)\"\n",
    "    )\n",
    "    print(\n",
    "        \"* Analyse multi-colinearity, that is, how the features are correlated among themselves\"\n",
    "    )\n",
    "\n",
    "    print(\"\\n\")\n",
    "    print(\"*** Heatmap: Spearman Correlation ***\")\n",
    "    print(\"It evaluates monotonic relationship \\n\")\n",
    "    heatmap_corr(\n",
    "        df=df_corr_spearman,\n",
    "        threshold=CorrThreshold,\n",
    "        figsize=figsize,\n",
    "        font_annot=font_annot,\n",
    "    )\n",
    "\n",
    "    print(\"\\n\")\n",
    "    print(\"*** Heatmap: Pearson Correlation ***\")\n",
    "    print(\"It evaluates the linear relationship between two continuous variables \\n\")\n",
    "    heatmap_corr(\n",
    "        df=df_corr_pearson,\n",
    "        threshold=CorrThreshold,\n",
    "        figsize=figsize,\n",
    "        font_annot=font_annot,\n",
    "    )\n",
    "\n",
    "    print(\"\\n\")\n",
    "    print(\"*** Heatmap: Power Predictive Score (PPS) ***\")\n",
    "    print(\n",
    "        f\"PPS detects linear or non-linear relationships between two columns.\\n\"\n",
    "        f\"The score ranges from 0 (no predictive power) to 1 (perfect predictive power) \\n\"\n",
    "    )\n",
    "    heatmap_pps(\n",
    "        df=pps_matrix, threshold=PPS_Threshold, figsize=figsize, font_annot=font_annot\n",
    "    )"
   ]
  },
  {
   "cell_type": "markdown",
   "metadata": {},
   "source": [
    "Calculate Correlations and Power Predictive Score"
   ]
  },
  {
   "cell_type": "code",
   "execution_count": null,
   "metadata": {},
   "outputs": [],
   "source": [
    "df_corr_pearson, df_corr_spearman, pps_matrix = CalculateCorrAndPPS(df)"
   ]
  },
  {
   "cell_type": "markdown",
   "metadata": {},
   "source": [
    "Display Heatmaps"
   ]
  },
  {
   "cell_type": "code",
   "execution_count": null,
   "metadata": {},
   "outputs": [],
   "source": [
    "DisplayCorrAndPPS(df_corr_pearson = df_corr_pearson,\n",
    "                  df_corr_spearman = df_corr_spearman, \n",
    "                  pps_matrix = pps_matrix,\n",
    "                  CorrThreshold = 0.4, PPS_Threshold =0.2,\n",
    "                  figsize=(12,10), font_annot=7)"
   ]
  },
  {
   "cell_type": "markdown",
   "metadata": {},
   "source": [
    "---"
   ]
  },
  {
   "cell_type": "markdown",
   "metadata": {},
   "source": [
    "## Load Train and Test Sets"
   ]
  },
  {
   "cell_type": "markdown",
   "metadata": {},
   "source": [
    "Tain Set"
   ]
  },
  {
   "cell_type": "code",
   "execution_count": null,
   "metadata": {},
   "outputs": [],
   "source": [
    "import pandas as pd\n",
    "train_set_path = \"outputs/datasets/cleaned/TrainSetCleaned.csv\"\n",
    "TrainSet = pd.read_csv(train_set_path)\n",
    "TrainSet.head(3)"
   ]
  },
  {
   "cell_type": "markdown",
   "metadata": {},
   "source": [
    "Test Set"
   ]
  },
  {
   "cell_type": "code",
   "execution_count": null,
   "metadata": {},
   "outputs": [],
   "source": [
    "test_set_path = 'outputs/datasets/cleaned/TestSetCleaned.csv'\n",
    "TestSet = pd.read_csv(test_set_path)\n",
    "TestSet.head(3)"
   ]
  },
  {
   "cell_type": "markdown",
   "metadata": {},
   "source": [
    "---"
   ]
  },
  {
   "cell_type": "markdown",
   "metadata": {},
   "source": [
    "## Data Exploration"
   ]
  },
  {
   "cell_type": "code",
   "execution_count": null,
   "metadata": {},
   "outputs": [],
   "source": [
    "from ydata_profiling import ProfileReport\n",
    "pandas_report = ProfileReport(df=TrainSet, minimal=True)\n",
    "pandas_report.to_notebook_iframe()"
   ]
  },
  {
   "cell_type": "code",
   "execution_count": null,
   "metadata": {},
   "outputs": [],
   "source": [
    "print (f\"Number of empty entries followed by the unique values and data type at each column:\\n\")\n",
    "\n",
    "for column in TrainSet.columns:\n",
    "    # Check how many empty fields there are in each column\n",
    "    empty_fields_count = TrainSet[column].isnull().sum()\n",
    "    # Check unique values there are in each column\n",
    "    unique_values = TrainSet[column].unique()\n",
    "    # Check data type of each column\n",
    "    data_type = TrainSet[column].dtype\n",
    "    \n",
    "    print (f\"- {column}: {empty_fields_count}, {unique_values}, {data_type}\\n\")"
   ]
  },
  {
   "cell_type": "markdown",
   "metadata": {},
   "source": [
    "## Feature Engineering"
   ]
  },
  {
   "cell_type": "code",
   "execution_count": null,
   "metadata": {},
   "outputs": [],
   "source": [
    "import scipy.stats as stats\n",
    "import matplotlib.pyplot as plt\n",
    "import seaborn as sns\n",
    "import pandas as pd\n",
    "import warnings\n",
    "from feature_engine.encoding import OneHotEncoder\n",
    "\n",
    "sns.set_theme(style=\"whitegrid\")\n",
    "warnings.filterwarnings(\"ignore\")\n",
    "\n",
    "def FeatureEngineeringAnalysis(df, analysis_type=None):\n",
    "    \"\"\"\n",
    "    - Used for quick feature engineering on categorical variables\n",
    "    to decide which transformation can better transform the distribution shape.\n",
    "    \"\"\"\n",
    "    check_missing_values(df)\n",
    "    allowed_types = [\"one_hot_encoder\"]\n",
    "    check_user_entry_on_analysis_type(analysis_type, allowed_types)\n",
    "\n",
    "    # For one-hot encoding, no additional transformers are needed.\n",
    "    df_feat_eng, list_applied_transformers = apply_transformers(analysis_type, df)\n",
    "\n",
    "    # For each variable, assess how the transformations perform\n",
    "    for column in df.columns:\n",
    "        transformer_evaluation(column, list_applied_transformers, analysis_type, df_feat_eng)\n",
    "\n",
    "    return df_feat_eng\n",
    "\n",
    "\n",
    "def check_user_entry_on_analysis_type(analysis_type, allowed_types):\n",
    "    \"\"\"Check analysis type\"\"\"\n",
    "    if analysis_type is None or analysis_type not in allowed_types:\n",
    "        raise SystemExit(f\"analysis_type argument should be one of these options: {allowed_types}\")\n",
    "\n",
    "\n",
    "def check_missing_values(df):\n",
    "    if df.isna().sum().sum() != 0:\n",
    "        raise SystemExit(\"There is a missing value in your dataset. Please handle that before feature engineering.\")\n",
    "\n",
    "\n",
    "def apply_transformers(analysis_type, df):\n",
    "    list_applied_transformers = []\n",
    "\n",
    "    if analysis_type == \"one_hot_encoder\":\n",
    "        df, list_applied_transformers = FeatEngineering_OneHotEncoder(df)\n",
    "\n",
    "    return df, list_applied_transformers\n",
    "\n",
    "\n",
    "def FeatEngineering_OneHotEncoder(df):\n",
    "    list_methods_worked = []\n",
    "    try:\n",
    "        # Initialize the OneHotEncoder from feature_engine\n",
    "        encoder = OneHotEncoder(drop_last=True)\n",
    "\n",
    "        # Fit and transform the dataframe\n",
    "        df = encoder.fit_transform(df)\n",
    "\n",
    "        # Record the applied transformations\n",
    "        list_methods_worked.extend(df.columns)\n",
    "\n",
    "    except Exception as e:\n",
    "        print(f\"Error during one-hot encoding: {e}\")\n",
    "\n",
    "    return df, list_methods_worked\n",
    "\n",
    "\n",
    "def transformer_evaluation(column, list_applied_transformers, analysis_type, df_feat_eng):\n",
    "    # For one-hot encoding, show only the relevant columns that were created in this transformation\n",
    "    transformed_columns = [col for col in df_feat_eng.columns if column in col]\n",
    "    print(f\"* Variable Analyzed: {column}\")\n",
    "    print(f\"* Applied transformation: {list_applied_transformers} \\n\")\n",
    "    print(df_feat_eng[transformed_columns].head().to_string())\n",
    "    print(\"\\n\")\n"
   ]
  },
  {
   "cell_type": "markdown",
   "metadata": {},
   "source": [
    "## Transformers"
   ]
  },
  {
   "cell_type": "markdown",
   "metadata": {},
   "source": [
    "* Categorical Encoding (OneHotEncoder)\n",
    "* Smart Correlation Selection (SmartCorrelatedSelection)"
   ]
  },
  {
   "cell_type": "markdown",
   "metadata": {},
   "source": [
    "\n",
    "#### OneHotEncoder for features without inherent order:"
   ]
  },
  {
   "cell_type": "markdown",
   "metadata": {},
   "source": [
    "Select variables"
   ]
  },
  {
   "cell_type": "code",
   "execution_count": null,
   "metadata": {},
   "outputs": [],
   "source": [
    "variables_eng_ohe= [\n",
    "        'Patient age at treatment',\n",
    "        'Partner/Sperm provider age',\n",
    "        'Patient/Egg provider age',\n",
    "        'Total number of previous IVF cycles',\n",
    "        'Specific treatment type',\n",
    "        'Egg source',\n",
    "        'Sperm source',\n",
    "        'Patient ethnicity',\n",
    "        'Fresh eggs collected',\n",
    "        'Total eggs mixed',\n",
    "        'Total embryos created',\n",
    "        'Embryos transferred',\n",
    "        'Total embryos thawed',\n",
    "        'Date of embryo transfer',\n",
    "        ]\n",
    "\n",
    "variables_eng_ohe"
   ]
  },
  {
   "cell_type": "markdown",
   "metadata": {},
   "source": [
    "Create a separate DataFrame with the selected variables"
   ]
  },
  {
   "cell_type": "code",
   "execution_count": null,
   "metadata": {},
   "outputs": [],
   "source": [
    "df_eng_ohe = TrainSet[variables_eng_ohe].copy()\n",
    "df_eng_ohe.head(3)"
   ]
  },
  {
   "cell_type": "markdown",
   "metadata": {},
   "source": [
    "Apply the transformation"
   ]
  },
  {
   "cell_type": "code",
   "execution_count": null,
   "metadata": {},
   "outputs": [],
   "source": [
    "df_eng_ohe = FeatureEngineeringAnalysis(df=df_eng_ohe, analysis_type='one_hot_encoder')"
   ]
  },
  {
   "cell_type": "markdown",
   "metadata": {},
   "source": [
    "Conclusion on how the transformation(s) look to be effective:\n",
    "  * For all variables, the transformation is effective, since it converted categories to numbers."
   ]
  },
  {
   "cell_type": "markdown",
   "metadata": {},
   "source": [
    "Apply the selected transformation to the Train and Test Set"
   ]
  },
  {
   "cell_type": "code",
   "execution_count": null,
   "metadata": {},
   "outputs": [],
   "source": [
    "ohe_encoder = OneHotEncoder(top_categories=None, drop_last=True, variables = variables_eng_ohe)\n",
    "TrainSet = ohe_encoder.fit_transform(TrainSet)\n",
    "TestSet = ohe_encoder.transform(TestSet)\n",
    "\n",
    "print(\"One Hot Encoding - transformation completed\")"
   ]
  },
  {
   "cell_type": "markdown",
   "metadata": {},
   "source": [
    "### SmartCorrelatedSelection Variables"
   ]
  },
  {
   "cell_type": "markdown",
   "metadata": {},
   "source": [
    "* To be applied in all variables"
   ]
  },
  {
   "cell_type": "markdown",
   "metadata": {},
   "source": [
    "Create a new dataframe to apply the transformer on"
   ]
  },
  {
   "cell_type": "code",
   "execution_count": null,
   "metadata": {},
   "outputs": [],
   "source": [
    "df_eng_smart_corr_sel = TrainSet.copy()\n",
    "df_eng_smart_corr_sel.head(3)"
   ]
  },
  {
   "cell_type": "markdown",
   "metadata": {},
   "source": [
    "Apply the transformation"
   ]
  },
  {
   "cell_type": "code",
   "execution_count": null,
   "metadata": {},
   "outputs": [],
   "source": [
    "from feature_engine.selection import SmartCorrelatedSelection\n",
    "corr_sel = SmartCorrelatedSelection(variables=None, method=\"spearman\", threshold=0.9, selection_method=\"variance\")\n",
    "\n",
    "corr_sel.fit_transform(df_eng_smart_corr_sel)\n",
    "corr_sel.correlated_feature_sets_"
   ]
  },
  {
   "cell_type": "markdown",
   "metadata": {},
   "source": [
    "Check what freatures should be dropped"
   ]
  },
  {
   "cell_type": "code",
   "execution_count": null,
   "metadata": {},
   "outputs": [],
   "source": [
    "corr_sel.features_to_drop_"
   ]
  },
  {
   "cell_type": "markdown",
   "metadata": {},
   "source": [
    "---"
   ]
  },
  {
   "cell_type": "markdown",
   "metadata": {},
   "source": [
    "## Conclusion\n"
   ]
  },
  {
   "cell_type": "markdown",
   "metadata": {},
   "source": [
    "Transformations needed for feature engineering:"
   ]
  },
  {
   "cell_type": "markdown",
   "metadata": {},
   "source": [
    "\n",
    "Feature Engineering Transformers\n",
    "\n",
    "  * One Hot Encoding:\n",
    "\n",
    "    `['Patient age at treatment',\n",
    "    'Partner/Sperm provider age',\n",
    "    'Patient/Egg provider age',\n",
    "    'Total number of previous IVF cycles',\n",
    "    'Fresh eggs collected',\n",
    "    'Total eggs mixed',\n",
    "    'Total embryos created',\n",
    "    'Embryos transferred',\n",
    "    'Total embryos thawed',\n",
    "    'Date of embryo transfer',\n",
    "    'Specific treatment type',\n",
    "    'Egg source',\n",
    "    'Sperm source',\n",
    "    'Patient ethnicity']`\n",
    "\n",
    "  * Smart Correlation Selection:\n",
    "    `['Patient age at treatment_18-34',\n",
    " 'Total embryos thawed_0 - fresh cycle',\n",
    " 'Fresh cycle',\n",
    " 'Frozen cycle',\n",
    " 'Total embryos created_0 - frozen cycle',\n",
    " 'Total eggs mixed_0 - frozen cycle',\n",
    " 'Fresh eggs collected_0 - frozen cycle',\n",
    " 'Total embryos thawed_1-5',\n",
    " 'Embryos transferred_1e',\n",
    " 'Patient/Egg provider age_35-37',\n",
    " 'Patient age at treatment_38-39',\n",
    " 'Patient/Egg provider age_40-42',\n",
    " 'Date of embryo transfer_NT']`\n",
    "    \n"
   ]
  },
  {
   "cell_type": "markdown",
   "metadata": {},
   "source": []
  }
 ],
 "metadata": {
  "kernelspec": {
   "display_name": "venv",
   "language": "python",
   "name": "python3"
  },
  "language_info": {
   "codemirror_mode": {
    "name": "ipython",
    "version": 3
   },
   "file_extension": ".py",
   "mimetype": "text/x-python",
   "name": "python",
   "nbconvert_exporter": "python",
   "pygments_lexer": "ipython3",
   "version": "3.11.9"
  }
 },
 "nbformat": 4,
 "nbformat_minor": 2
}
