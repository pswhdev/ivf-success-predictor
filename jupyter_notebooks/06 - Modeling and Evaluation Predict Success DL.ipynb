{
 "cells": [
  {
   "cell_type": "markdown",
   "metadata": {},
   "source": [
    "# Classification"
   ]
  },
  {
   "cell_type": "markdown",
   "metadata": {},
   "source": [
    "## Objectives\n",
    "\n",
    "*   Fit and evaluate a deep learning classification model to predict if a treatment will be successful or not.\n",
    "\n",
    "\n",
    "## Inputs\n",
    "\n",
    "* outputs/datasets/collection/FertilityTreatmentData.csv.gz\n",
    "* Instructions from the notebooks 02 and 04 on which variables to use for data cleaning and feature engineering.\n",
    "\n",
    "## Outputs\n",
    "\n",
    "* Train set (features and target)\n",
    "* Test set (features and target)\n",
    "* Data cleaning and Feature Engineering pipeline\n",
    "* Modeling pipeline\n",
    "* Machine learning model creation and training\n",
    "* Learning curve plot for model performance\n",
    "* Model evaluation on pickle file\n",
    "* Prediction on random data\n"
   ]
  },
  {
   "cell_type": "markdown",
   "metadata": {},
   "source": [
    "---"
   ]
  },
  {
   "cell_type": "markdown",
   "metadata": {},
   "source": [
    "## Change working directory"
   ]
  },
  {
   "cell_type": "markdown",
   "metadata": {},
   "source": [
    "Change the working directory from its current folder to its parent folder\n",
    "* Access the current directory with os.getcwd()"
   ]
  },
  {
   "cell_type": "code",
   "execution_count": 1,
   "metadata": {},
   "outputs": [
    {
     "data": {
      "text/plain": [
       "'/Users/patriciahalley/Documents/Code_institute/git/ivf-success-predictor/jupyter_notebooks'"
      ]
     },
     "execution_count": 1,
     "metadata": {},
     "output_type": "execute_result"
    }
   ],
   "source": [
    "import os\n",
    "current_dir = os.getcwd()\n",
    "current_dir"
   ]
  },
  {
   "cell_type": "markdown",
   "metadata": {},
   "source": [
    "To make the parent of the current directory the new current directory:\n",
    "* os.path.dirname() gets the parent directory\n",
    "* os.chir() defines the new current directory"
   ]
  },
  {
   "cell_type": "code",
   "execution_count": 2,
   "metadata": {},
   "outputs": [
    {
     "name": "stdout",
     "output_type": "stream",
     "text": [
      "A new current directory has been set\n"
     ]
    }
   ],
   "source": [
    "os.chdir(os.path.dirname(current_dir))\n",
    "print(\"A new current directory has been set\")"
   ]
  },
  {
   "cell_type": "markdown",
   "metadata": {},
   "source": [
    "Confirm the new current directory"
   ]
  },
  {
   "cell_type": "code",
   "execution_count": 3,
   "metadata": {},
   "outputs": [
    {
     "data": {
      "text/plain": [
       "'/Users/patriciahalley/Documents/Code_institute/git/ivf-success-predictor'"
      ]
     },
     "execution_count": 3,
     "metadata": {},
     "output_type": "execute_result"
    }
   ],
   "source": [
    "current_dir = os.getcwd()\n",
    "current_dir"
   ]
  },
  {
   "cell_type": "markdown",
   "metadata": {},
   "source": [
    "---"
   ]
  },
  {
   "cell_type": "markdown",
   "metadata": {},
   "source": [
    "## Load Data"
   ]
  },
  {
   "cell_type": "code",
   "execution_count": 4,
   "metadata": {},
   "outputs": [
    {
     "name": "stdout",
     "output_type": "stream",
     "text": [
      "(135695, 30)\n"
     ]
    },
    {
     "data": {
      "text/html": [
       "<div>\n",
       "<style scoped>\n",
       "    .dataframe tbody tr th:only-of-type {\n",
       "        vertical-align: middle;\n",
       "    }\n",
       "\n",
       "    .dataframe tbody tr th {\n",
       "        vertical-align: top;\n",
       "    }\n",
       "\n",
       "    .dataframe thead th {\n",
       "        text-align: right;\n",
       "    }\n",
       "</style>\n",
       "<table border=\"1\" class=\"dataframe\">\n",
       "  <thead>\n",
       "    <tr style=\"text-align: right;\">\n",
       "      <th></th>\n",
       "      <th>Patient age at treatment</th>\n",
       "      <th>Total number of previous IVF cycles</th>\n",
       "      <th>Total number of previous pregnancies - IVF and DI</th>\n",
       "      <th>Total number of previous live births - IVF or DI</th>\n",
       "      <th>Causes of infertility - tubal disease</th>\n",
       "      <th>Causes of infertility - ovulatory disorder</th>\n",
       "      <th>Causes of infertility - male factor</th>\n",
       "      <th>Causes of infertility - patient unexplained</th>\n",
       "      <th>Causes of infertility - endometriosis</th>\n",
       "      <th>Stimulation used</th>\n",
       "      <th>...</th>\n",
       "      <th>Fresh eggs collected</th>\n",
       "      <th>Total eggs mixed</th>\n",
       "      <th>Total embryos created</th>\n",
       "      <th>Embryos transferred</th>\n",
       "      <th>Total embryos thawed</th>\n",
       "      <th>Embryos transferred from eggs micro-injected</th>\n",
       "      <th>Date of embryo transfer</th>\n",
       "      <th>Live birth occurrence</th>\n",
       "      <th>Patient ethnicity</th>\n",
       "      <th>Partner ethnicity</th>\n",
       "    </tr>\n",
       "  </thead>\n",
       "  <tbody>\n",
       "    <tr>\n",
       "      <th>0</th>\n",
       "      <td>18-34</td>\n",
       "      <td>0</td>\n",
       "      <td>0</td>\n",
       "      <td>0</td>\n",
       "      <td>0</td>\n",
       "      <td>0</td>\n",
       "      <td>1</td>\n",
       "      <td>0</td>\n",
       "      <td>0</td>\n",
       "      <td>1</td>\n",
       "      <td>...</td>\n",
       "      <td>1-5</td>\n",
       "      <td>1-5</td>\n",
       "      <td>1-5</td>\n",
       "      <td>1e</td>\n",
       "      <td>0 - fresh cycle</td>\n",
       "      <td>1</td>\n",
       "      <td>5 - fresh</td>\n",
       "      <td>0</td>\n",
       "      <td>White</td>\n",
       "      <td>White</td>\n",
       "    </tr>\n",
       "    <tr>\n",
       "      <th>1</th>\n",
       "      <td>18-34</td>\n",
       "      <td>1</td>\n",
       "      <td>0</td>\n",
       "      <td>0</td>\n",
       "      <td>0</td>\n",
       "      <td>0</td>\n",
       "      <td>1</td>\n",
       "      <td>0</td>\n",
       "      <td>0</td>\n",
       "      <td>0</td>\n",
       "      <td>...</td>\n",
       "      <td>0 - frozen cycle</td>\n",
       "      <td>0 - frozen cycle</td>\n",
       "      <td>0 - frozen cycle</td>\n",
       "      <td>1</td>\n",
       "      <td>1-5</td>\n",
       "      <td>0</td>\n",
       "      <td>0 - frozen</td>\n",
       "      <td>0</td>\n",
       "      <td>White</td>\n",
       "      <td>White</td>\n",
       "    </tr>\n",
       "    <tr>\n",
       "      <th>2</th>\n",
       "      <td>40-42</td>\n",
       "      <td>0</td>\n",
       "      <td>0</td>\n",
       "      <td>0</td>\n",
       "      <td>0</td>\n",
       "      <td>0</td>\n",
       "      <td>0</td>\n",
       "      <td>1</td>\n",
       "      <td>0</td>\n",
       "      <td>1</td>\n",
       "      <td>...</td>\n",
       "      <td>1-5</td>\n",
       "      <td>1-5</td>\n",
       "      <td>1-5</td>\n",
       "      <td>1</td>\n",
       "      <td>0 - fresh cycle</td>\n",
       "      <td>0</td>\n",
       "      <td>3 - fresh</td>\n",
       "      <td>0</td>\n",
       "      <td>White</td>\n",
       "      <td>White</td>\n",
       "    </tr>\n",
       "  </tbody>\n",
       "</table>\n",
       "<p>3 rows × 30 columns</p>\n",
       "</div>"
      ],
      "text/plain": [
       "  Patient age at treatment Total number of previous IVF cycles  \\\n",
       "0                    18-34                                   0   \n",
       "1                    18-34                                   1   \n",
       "2                    40-42                                   0   \n",
       "\n",
       "   Total number of previous pregnancies - IVF and DI  \\\n",
       "0                                                  0   \n",
       "1                                                  0   \n",
       "2                                                  0   \n",
       "\n",
       "   Total number of previous live births - IVF or DI  \\\n",
       "0                                                 0   \n",
       "1                                                 0   \n",
       "2                                                 0   \n",
       "\n",
       "   Causes of infertility - tubal disease  \\\n",
       "0                                      0   \n",
       "1                                      0   \n",
       "2                                      0   \n",
       "\n",
       "   Causes of infertility - ovulatory disorder  \\\n",
       "0                                           0   \n",
       "1                                           0   \n",
       "2                                           0   \n",
       "\n",
       "   Causes of infertility - male factor  \\\n",
       "0                                    1   \n",
       "1                                    1   \n",
       "2                                    0   \n",
       "\n",
       "   Causes of infertility - patient unexplained  \\\n",
       "0                                            0   \n",
       "1                                            0   \n",
       "2                                            1   \n",
       "\n",
       "   Causes of infertility - endometriosis  Stimulation used  ...  \\\n",
       "0                                      0                 1  ...   \n",
       "1                                      0                 0  ...   \n",
       "2                                      0                 1  ...   \n",
       "\n",
       "  Fresh eggs collected  Total eggs mixed Total embryos created  \\\n",
       "0                  1-5               1-5                   1-5   \n",
       "1     0 - frozen cycle  0 - frozen cycle      0 - frozen cycle   \n",
       "2                  1-5               1-5                   1-5   \n",
       "\n",
       "   Embryos transferred  Total embryos thawed  \\\n",
       "0                   1e       0 - fresh cycle   \n",
       "1                    1                   1-5   \n",
       "2                    1       0 - fresh cycle   \n",
       "\n",
       "   Embryos transferred from eggs micro-injected Date of embryo transfer  \\\n",
       "0                                             1               5 - fresh   \n",
       "1                                             0              0 - frozen   \n",
       "2                                             0               3 - fresh   \n",
       "\n",
       "  Live birth occurrence  Patient ethnicity  Partner ethnicity  \n",
       "0                     0              White              White  \n",
       "1                     0              White              White  \n",
       "2                     0              White              White  \n",
       "\n",
       "[3 rows x 30 columns]"
      ]
     },
     "execution_count": 4,
     "metadata": {},
     "output_type": "execute_result"
    }
   ],
   "source": [
    "import numpy as np\n",
    "import pandas as pd\n",
    "\n",
    "# Open dataset\n",
    "df = pd.read_csv(\"outputs/datasets/cleaned/FertilityTreatmentDataCleaned.csv\")\n",
    "        \n",
    "print(df.shape)\n",
    "df.head(3)"
   ]
  },
  {
   "cell_type": "markdown",
   "metadata": {},
   "source": [
    "---"
   ]
  },
  {
   "cell_type": "markdown",
   "metadata": {},
   "source": [
    "## Set output directory"
   ]
  },
  {
   "cell_type": "code",
   "execution_count": 5,
   "metadata": {},
   "outputs": [
    {
     "name": "stdout",
     "output_type": "stream",
     "text": [
      "Old version is already available. Please create a new version.\n"
     ]
    }
   ],
   "source": [
    "import joblib\n",
    "import os\n",
    "\n",
    "version = \"v1\"\n",
    "file_path = f\"outputs/ml_pipeline_dl/ivf_success_predictor_dl/{version}\"\n",
    "\n",
    "try:\n",
    "    # Check if the directories exist\n",
    "    if os.path.exists(file_path):\n",
    "        print(\"Old version is already available. Please create a new version.\")\n",
    "    else:\n",
    "        # Create the directory if it does not exist\n",
    "        os.makedirs(name=file_path)\n",
    "        print(f\"Directory {file_path} created successfully.\")\n",
    "except Exception as e:\n",
    "    print(f\"An error occurred: {e}\")"
   ]
  },
  {
   "cell_type": "markdown",
   "metadata": {},
   "source": [
    "---"
   ]
  },
  {
   "cell_type": "markdown",
   "metadata": {},
   "source": [
    "## ML Pipeline"
   ]
  },
  {
   "cell_type": "markdown",
   "metadata": {},
   "source": [
    "Custom Transformers:"
   ]
  },
  {
   "cell_type": "markdown",
   "metadata": {},
   "source": [
    "### Data Cleaning and Feature Engineering Pipeline"
   ]
  },
  {
   "cell_type": "markdown",
   "metadata": {},
   "source": [
    "For the deep learning model, all categorical variables were encoded using One-Hot Encoding to avoid implicit ordinal relationships, ensuring the model does not misinterpret any order among categorical values, which could lead to learning non-existent relationships."
   ]
  },
  {
   "cell_type": "code",
   "execution_count": 6,
   "metadata": {},
   "outputs": [
    {
     "data": {
      "text/html": [
       "<style>#sk-container-id-1 {\n",
       "  /* Definition of color scheme common for light and dark mode */\n",
       "  --sklearn-color-text: black;\n",
       "  --sklearn-color-line: gray;\n",
       "  /* Definition of color scheme for unfitted estimators */\n",
       "  --sklearn-color-unfitted-level-0: #fff5e6;\n",
       "  --sklearn-color-unfitted-level-1: #f6e4d2;\n",
       "  --sklearn-color-unfitted-level-2: #ffe0b3;\n",
       "  --sklearn-color-unfitted-level-3: chocolate;\n",
       "  /* Definition of color scheme for fitted estimators */\n",
       "  --sklearn-color-fitted-level-0: #f0f8ff;\n",
       "  --sklearn-color-fitted-level-1: #d4ebff;\n",
       "  --sklearn-color-fitted-level-2: #b3dbfd;\n",
       "  --sklearn-color-fitted-level-3: cornflowerblue;\n",
       "\n",
       "  /* Specific color for light theme */\n",
       "  --sklearn-color-text-on-default-background: var(--sg-text-color, var(--theme-code-foreground, var(--jp-content-font-color1, black)));\n",
       "  --sklearn-color-background: var(--sg-background-color, var(--theme-background, var(--jp-layout-color0, white)));\n",
       "  --sklearn-color-border-box: var(--sg-text-color, var(--theme-code-foreground, var(--jp-content-font-color1, black)));\n",
       "  --sklearn-color-icon: #696969;\n",
       "\n",
       "  @media (prefers-color-scheme: dark) {\n",
       "    /* Redefinition of color scheme for dark theme */\n",
       "    --sklearn-color-text-on-default-background: var(--sg-text-color, var(--theme-code-foreground, var(--jp-content-font-color1, white)));\n",
       "    --sklearn-color-background: var(--sg-background-color, var(--theme-background, var(--jp-layout-color0, #111)));\n",
       "    --sklearn-color-border-box: var(--sg-text-color, var(--theme-code-foreground, var(--jp-content-font-color1, white)));\n",
       "    --sklearn-color-icon: #878787;\n",
       "  }\n",
       "}\n",
       "\n",
       "#sk-container-id-1 {\n",
       "  color: var(--sklearn-color-text);\n",
       "}\n",
       "\n",
       "#sk-container-id-1 pre {\n",
       "  padding: 0;\n",
       "}\n",
       "\n",
       "#sk-container-id-1 input.sk-hidden--visually {\n",
       "  border: 0;\n",
       "  clip: rect(1px 1px 1px 1px);\n",
       "  clip: rect(1px, 1px, 1px, 1px);\n",
       "  height: 1px;\n",
       "  margin: -1px;\n",
       "  overflow: hidden;\n",
       "  padding: 0;\n",
       "  position: absolute;\n",
       "  width: 1px;\n",
       "}\n",
       "\n",
       "#sk-container-id-1 div.sk-dashed-wrapped {\n",
       "  border: 1px dashed var(--sklearn-color-line);\n",
       "  margin: 0 0.4em 0.5em 0.4em;\n",
       "  box-sizing: border-box;\n",
       "  padding-bottom: 0.4em;\n",
       "  background-color: var(--sklearn-color-background);\n",
       "}\n",
       "\n",
       "#sk-container-id-1 div.sk-container {\n",
       "  /* jupyter's `normalize.less` sets `[hidden] { display: none; }`\n",
       "     but bootstrap.min.css set `[hidden] { display: none !important; }`\n",
       "     so we also need the `!important` here to be able to override the\n",
       "     default hidden behavior on the sphinx rendered scikit-learn.org.\n",
       "     See: https://github.com/scikit-learn/scikit-learn/issues/21755 */\n",
       "  display: inline-block !important;\n",
       "  position: relative;\n",
       "}\n",
       "\n",
       "#sk-container-id-1 div.sk-text-repr-fallback {\n",
       "  display: none;\n",
       "}\n",
       "\n",
       "div.sk-parallel-item,\n",
       "div.sk-serial,\n",
       "div.sk-item {\n",
       "  /* draw centered vertical line to link estimators */\n",
       "  background-image: linear-gradient(var(--sklearn-color-text-on-default-background), var(--sklearn-color-text-on-default-background));\n",
       "  background-size: 2px 100%;\n",
       "  background-repeat: no-repeat;\n",
       "  background-position: center center;\n",
       "}\n",
       "\n",
       "/* Parallel-specific style estimator block */\n",
       "\n",
       "#sk-container-id-1 div.sk-parallel-item::after {\n",
       "  content: \"\";\n",
       "  width: 100%;\n",
       "  border-bottom: 2px solid var(--sklearn-color-text-on-default-background);\n",
       "  flex-grow: 1;\n",
       "}\n",
       "\n",
       "#sk-container-id-1 div.sk-parallel {\n",
       "  display: flex;\n",
       "  align-items: stretch;\n",
       "  justify-content: center;\n",
       "  background-color: var(--sklearn-color-background);\n",
       "  position: relative;\n",
       "}\n",
       "\n",
       "#sk-container-id-1 div.sk-parallel-item {\n",
       "  display: flex;\n",
       "  flex-direction: column;\n",
       "}\n",
       "\n",
       "#sk-container-id-1 div.sk-parallel-item:first-child::after {\n",
       "  align-self: flex-end;\n",
       "  width: 50%;\n",
       "}\n",
       "\n",
       "#sk-container-id-1 div.sk-parallel-item:last-child::after {\n",
       "  align-self: flex-start;\n",
       "  width: 50%;\n",
       "}\n",
       "\n",
       "#sk-container-id-1 div.sk-parallel-item:only-child::after {\n",
       "  width: 0;\n",
       "}\n",
       "\n",
       "/* Serial-specific style estimator block */\n",
       "\n",
       "#sk-container-id-1 div.sk-serial {\n",
       "  display: flex;\n",
       "  flex-direction: column;\n",
       "  align-items: center;\n",
       "  background-color: var(--sklearn-color-background);\n",
       "  padding-right: 1em;\n",
       "  padding-left: 1em;\n",
       "}\n",
       "\n",
       "\n",
       "/* Toggleable style: style used for estimator/Pipeline/ColumnTransformer box that is\n",
       "clickable and can be expanded/collapsed.\n",
       "- Pipeline and ColumnTransformer use this feature and define the default style\n",
       "- Estimators will overwrite some part of the style using the `sk-estimator` class\n",
       "*/\n",
       "\n",
       "/* Pipeline and ColumnTransformer style (default) */\n",
       "\n",
       "#sk-container-id-1 div.sk-toggleable {\n",
       "  /* Default theme specific background. It is overwritten whether we have a\n",
       "  specific estimator or a Pipeline/ColumnTransformer */\n",
       "  background-color: var(--sklearn-color-background);\n",
       "}\n",
       "\n",
       "/* Toggleable label */\n",
       "#sk-container-id-1 label.sk-toggleable__label {\n",
       "  cursor: pointer;\n",
       "  display: block;\n",
       "  width: 100%;\n",
       "  margin-bottom: 0;\n",
       "  padding: 0.5em;\n",
       "  box-sizing: border-box;\n",
       "  text-align: center;\n",
       "}\n",
       "\n",
       "#sk-container-id-1 label.sk-toggleable__label-arrow:before {\n",
       "  /* Arrow on the left of the label */\n",
       "  content: \"▸\";\n",
       "  float: left;\n",
       "  margin-right: 0.25em;\n",
       "  color: var(--sklearn-color-icon);\n",
       "}\n",
       "\n",
       "#sk-container-id-1 label.sk-toggleable__label-arrow:hover:before {\n",
       "  color: var(--sklearn-color-text);\n",
       "}\n",
       "\n",
       "/* Toggleable content - dropdown */\n",
       "\n",
       "#sk-container-id-1 div.sk-toggleable__content {\n",
       "  max-height: 0;\n",
       "  max-width: 0;\n",
       "  overflow: hidden;\n",
       "  text-align: left;\n",
       "  /* unfitted */\n",
       "  background-color: var(--sklearn-color-unfitted-level-0);\n",
       "}\n",
       "\n",
       "#sk-container-id-1 div.sk-toggleable__content.fitted {\n",
       "  /* fitted */\n",
       "  background-color: var(--sklearn-color-fitted-level-0);\n",
       "}\n",
       "\n",
       "#sk-container-id-1 div.sk-toggleable__content pre {\n",
       "  margin: 0.2em;\n",
       "  border-radius: 0.25em;\n",
       "  color: var(--sklearn-color-text);\n",
       "  /* unfitted */\n",
       "  background-color: var(--sklearn-color-unfitted-level-0);\n",
       "}\n",
       "\n",
       "#sk-container-id-1 div.sk-toggleable__content.fitted pre {\n",
       "  /* unfitted */\n",
       "  background-color: var(--sklearn-color-fitted-level-0);\n",
       "}\n",
       "\n",
       "#sk-container-id-1 input.sk-toggleable__control:checked~div.sk-toggleable__content {\n",
       "  /* Expand drop-down */\n",
       "  max-height: 200px;\n",
       "  max-width: 100%;\n",
       "  overflow: auto;\n",
       "}\n",
       "\n",
       "#sk-container-id-1 input.sk-toggleable__control:checked~label.sk-toggleable__label-arrow:before {\n",
       "  content: \"▾\";\n",
       "}\n",
       "\n",
       "/* Pipeline/ColumnTransformer-specific style */\n",
       "\n",
       "#sk-container-id-1 div.sk-label input.sk-toggleable__control:checked~label.sk-toggleable__label {\n",
       "  color: var(--sklearn-color-text);\n",
       "  background-color: var(--sklearn-color-unfitted-level-2);\n",
       "}\n",
       "\n",
       "#sk-container-id-1 div.sk-label.fitted input.sk-toggleable__control:checked~label.sk-toggleable__label {\n",
       "  background-color: var(--sklearn-color-fitted-level-2);\n",
       "}\n",
       "\n",
       "/* Estimator-specific style */\n",
       "\n",
       "/* Colorize estimator box */\n",
       "#sk-container-id-1 div.sk-estimator input.sk-toggleable__control:checked~label.sk-toggleable__label {\n",
       "  /* unfitted */\n",
       "  background-color: var(--sklearn-color-unfitted-level-2);\n",
       "}\n",
       "\n",
       "#sk-container-id-1 div.sk-estimator.fitted input.sk-toggleable__control:checked~label.sk-toggleable__label {\n",
       "  /* fitted */\n",
       "  background-color: var(--sklearn-color-fitted-level-2);\n",
       "}\n",
       "\n",
       "#sk-container-id-1 div.sk-label label.sk-toggleable__label,\n",
       "#sk-container-id-1 div.sk-label label {\n",
       "  /* The background is the default theme color */\n",
       "  color: var(--sklearn-color-text-on-default-background);\n",
       "}\n",
       "\n",
       "/* On hover, darken the color of the background */\n",
       "#sk-container-id-1 div.sk-label:hover label.sk-toggleable__label {\n",
       "  color: var(--sklearn-color-text);\n",
       "  background-color: var(--sklearn-color-unfitted-level-2);\n",
       "}\n",
       "\n",
       "/* Label box, darken color on hover, fitted */\n",
       "#sk-container-id-1 div.sk-label.fitted:hover label.sk-toggleable__label.fitted {\n",
       "  color: var(--sklearn-color-text);\n",
       "  background-color: var(--sklearn-color-fitted-level-2);\n",
       "}\n",
       "\n",
       "/* Estimator label */\n",
       "\n",
       "#sk-container-id-1 div.sk-label label {\n",
       "  font-family: monospace;\n",
       "  font-weight: bold;\n",
       "  display: inline-block;\n",
       "  line-height: 1.2em;\n",
       "}\n",
       "\n",
       "#sk-container-id-1 div.sk-label-container {\n",
       "  text-align: center;\n",
       "}\n",
       "\n",
       "/* Estimator-specific */\n",
       "#sk-container-id-1 div.sk-estimator {\n",
       "  font-family: monospace;\n",
       "  border: 1px dotted var(--sklearn-color-border-box);\n",
       "  border-radius: 0.25em;\n",
       "  box-sizing: border-box;\n",
       "  margin-bottom: 0.5em;\n",
       "  /* unfitted */\n",
       "  background-color: var(--sklearn-color-unfitted-level-0);\n",
       "}\n",
       "\n",
       "#sk-container-id-1 div.sk-estimator.fitted {\n",
       "  /* fitted */\n",
       "  background-color: var(--sklearn-color-fitted-level-0);\n",
       "}\n",
       "\n",
       "/* on hover */\n",
       "#sk-container-id-1 div.sk-estimator:hover {\n",
       "  /* unfitted */\n",
       "  background-color: var(--sklearn-color-unfitted-level-2);\n",
       "}\n",
       "\n",
       "#sk-container-id-1 div.sk-estimator.fitted:hover {\n",
       "  /* fitted */\n",
       "  background-color: var(--sklearn-color-fitted-level-2);\n",
       "}\n",
       "\n",
       "/* Specification for estimator info (e.g. \"i\" and \"?\") */\n",
       "\n",
       "/* Common style for \"i\" and \"?\" */\n",
       "\n",
       ".sk-estimator-doc-link,\n",
       "a:link.sk-estimator-doc-link,\n",
       "a:visited.sk-estimator-doc-link {\n",
       "  float: right;\n",
       "  font-size: smaller;\n",
       "  line-height: 1em;\n",
       "  font-family: monospace;\n",
       "  background-color: var(--sklearn-color-background);\n",
       "  border-radius: 1em;\n",
       "  height: 1em;\n",
       "  width: 1em;\n",
       "  text-decoration: none !important;\n",
       "  margin-left: 1ex;\n",
       "  /* unfitted */\n",
       "  border: var(--sklearn-color-unfitted-level-1) 1pt solid;\n",
       "  color: var(--sklearn-color-unfitted-level-1);\n",
       "}\n",
       "\n",
       ".sk-estimator-doc-link.fitted,\n",
       "a:link.sk-estimator-doc-link.fitted,\n",
       "a:visited.sk-estimator-doc-link.fitted {\n",
       "  /* fitted */\n",
       "  border: var(--sklearn-color-fitted-level-1) 1pt solid;\n",
       "  color: var(--sklearn-color-fitted-level-1);\n",
       "}\n",
       "\n",
       "/* On hover */\n",
       "div.sk-estimator:hover .sk-estimator-doc-link:hover,\n",
       ".sk-estimator-doc-link:hover,\n",
       "div.sk-label-container:hover .sk-estimator-doc-link:hover,\n",
       ".sk-estimator-doc-link:hover {\n",
       "  /* unfitted */\n",
       "  background-color: var(--sklearn-color-unfitted-level-3);\n",
       "  color: var(--sklearn-color-background);\n",
       "  text-decoration: none;\n",
       "}\n",
       "\n",
       "div.sk-estimator.fitted:hover .sk-estimator-doc-link.fitted:hover,\n",
       ".sk-estimator-doc-link.fitted:hover,\n",
       "div.sk-label-container:hover .sk-estimator-doc-link.fitted:hover,\n",
       ".sk-estimator-doc-link.fitted:hover {\n",
       "  /* fitted */\n",
       "  background-color: var(--sklearn-color-fitted-level-3);\n",
       "  color: var(--sklearn-color-background);\n",
       "  text-decoration: none;\n",
       "}\n",
       "\n",
       "/* Span, style for the box shown on hovering the info icon */\n",
       ".sk-estimator-doc-link span {\n",
       "  display: none;\n",
       "  z-index: 9999;\n",
       "  position: relative;\n",
       "  font-weight: normal;\n",
       "  right: .2ex;\n",
       "  padding: .5ex;\n",
       "  margin: .5ex;\n",
       "  width: min-content;\n",
       "  min-width: 20ex;\n",
       "  max-width: 50ex;\n",
       "  color: var(--sklearn-color-text);\n",
       "  box-shadow: 2pt 2pt 4pt #999;\n",
       "  /* unfitted */\n",
       "  background: var(--sklearn-color-unfitted-level-0);\n",
       "  border: .5pt solid var(--sklearn-color-unfitted-level-3);\n",
       "}\n",
       "\n",
       ".sk-estimator-doc-link.fitted span {\n",
       "  /* fitted */\n",
       "  background: var(--sklearn-color-fitted-level-0);\n",
       "  border: var(--sklearn-color-fitted-level-3);\n",
       "}\n",
       "\n",
       ".sk-estimator-doc-link:hover span {\n",
       "  display: block;\n",
       "}\n",
       "\n",
       "/* \"?\"-specific style due to the `<a>` HTML tag */\n",
       "\n",
       "#sk-container-id-1 a.estimator_doc_link {\n",
       "  float: right;\n",
       "  font-size: 1rem;\n",
       "  line-height: 1em;\n",
       "  font-family: monospace;\n",
       "  background-color: var(--sklearn-color-background);\n",
       "  border-radius: 1rem;\n",
       "  height: 1rem;\n",
       "  width: 1rem;\n",
       "  text-decoration: none;\n",
       "  /* unfitted */\n",
       "  color: var(--sklearn-color-unfitted-level-1);\n",
       "  border: var(--sklearn-color-unfitted-level-1) 1pt solid;\n",
       "}\n",
       "\n",
       "#sk-container-id-1 a.estimator_doc_link.fitted {\n",
       "  /* fitted */\n",
       "  border: var(--sklearn-color-fitted-level-1) 1pt solid;\n",
       "  color: var(--sklearn-color-fitted-level-1);\n",
       "}\n",
       "\n",
       "/* On hover */\n",
       "#sk-container-id-1 a.estimator_doc_link:hover {\n",
       "  /* unfitted */\n",
       "  background-color: var(--sklearn-color-unfitted-level-3);\n",
       "  color: var(--sklearn-color-background);\n",
       "  text-decoration: none;\n",
       "}\n",
       "\n",
       "#sk-container-id-1 a.estimator_doc_link.fitted:hover {\n",
       "  /* fitted */\n",
       "  background-color: var(--sklearn-color-fitted-level-3);\n",
       "}\n",
       "</style><div id=\"sk-container-id-1\" class=\"sk-top-container\"><div class=\"sk-text-repr-fallback\"><pre>Pipeline(steps=[(&#x27;one_hot_encoding&#x27;,\n",
       "                 OneHotEncoder(drop_last=True,\n",
       "                               variables=[&#x27;Patient age at treatment&#x27;,\n",
       "                                          &#x27;Total number of previous IVF cycles&#x27;,\n",
       "                                          &#x27;Patient/Egg provider age&#x27;,\n",
       "                                          &#x27;Partner/Sperm provider age&#x27;,\n",
       "                                          &#x27;Specific treatment type&#x27;,\n",
       "                                          &#x27;Egg source&#x27;, &#x27;Sperm source&#x27;,\n",
       "                                          &#x27;Patient ethnicity&#x27;,\n",
       "                                          &#x27;Partner ethnicity&#x27;,\n",
       "                                          &#x27;Fresh eggs collected&#x27;,\n",
       "                                          &#x27;Total eggs mixed&#x27;,\n",
       "                                          &#x27;Total embryos created&#x27;,\n",
       "                                          &#x27;Embryos transferred&#x27;,\n",
       "                                          &#x27;Total embryos thawed&#x27;,\n",
       "                                          &#x27;Date of embryo transfer&#x27;])),\n",
       "                (&#x27;smart_correlation&#x27;,\n",
       "                 SmartCorrelatedSelection(method=&#x27;spearman&#x27;,\n",
       "                                          selection_method=&#x27;variance&#x27;,\n",
       "                                          threshold=0.9))])</pre><b>In a Jupyter environment, please rerun this cell to show the HTML representation or trust the notebook. <br />On GitHub, the HTML representation is unable to render, please try loading this page with nbviewer.org.</b></div><div class=\"sk-container\" hidden><div class=\"sk-item sk-dashed-wrapped\"><div class=\"sk-label-container\"><div class=\"sk-label  sk-toggleable\"><input class=\"sk-toggleable__control sk-hidden--visually\" id=\"sk-estimator-id-1\" type=\"checkbox\" ><label for=\"sk-estimator-id-1\" class=\"sk-toggleable__label  sk-toggleable__label-arrow \">&nbsp;&nbsp;Pipeline<a class=\"sk-estimator-doc-link \" rel=\"noreferrer\" target=\"_blank\" href=\"https://scikit-learn.org/1.5/modules/generated/sklearn.pipeline.Pipeline.html\">?<span>Documentation for Pipeline</span></a><span class=\"sk-estimator-doc-link \">i<span>Not fitted</span></span></label><div class=\"sk-toggleable__content \"><pre>Pipeline(steps=[(&#x27;one_hot_encoding&#x27;,\n",
       "                 OneHotEncoder(drop_last=True,\n",
       "                               variables=[&#x27;Patient age at treatment&#x27;,\n",
       "                                          &#x27;Total number of previous IVF cycles&#x27;,\n",
       "                                          &#x27;Patient/Egg provider age&#x27;,\n",
       "                                          &#x27;Partner/Sperm provider age&#x27;,\n",
       "                                          &#x27;Specific treatment type&#x27;,\n",
       "                                          &#x27;Egg source&#x27;, &#x27;Sperm source&#x27;,\n",
       "                                          &#x27;Patient ethnicity&#x27;,\n",
       "                                          &#x27;Partner ethnicity&#x27;,\n",
       "                                          &#x27;Fresh eggs collected&#x27;,\n",
       "                                          &#x27;Total eggs mixed&#x27;,\n",
       "                                          &#x27;Total embryos created&#x27;,\n",
       "                                          &#x27;Embryos transferred&#x27;,\n",
       "                                          &#x27;Total embryos thawed&#x27;,\n",
       "                                          &#x27;Date of embryo transfer&#x27;])),\n",
       "                (&#x27;smart_correlation&#x27;,\n",
       "                 SmartCorrelatedSelection(method=&#x27;spearman&#x27;,\n",
       "                                          selection_method=&#x27;variance&#x27;,\n",
       "                                          threshold=0.9))])</pre></div> </div></div><div class=\"sk-serial\"><div class=\"sk-item\"><div class=\"sk-estimator  sk-toggleable\"><input class=\"sk-toggleable__control sk-hidden--visually\" id=\"sk-estimator-id-2\" type=\"checkbox\" ><label for=\"sk-estimator-id-2\" class=\"sk-toggleable__label  sk-toggleable__label-arrow \">OneHotEncoder</label><div class=\"sk-toggleable__content \"><pre>OneHotEncoder(drop_last=True,\n",
       "              variables=[&#x27;Patient age at treatment&#x27;,\n",
       "                         &#x27;Total number of previous IVF cycles&#x27;,\n",
       "                         &#x27;Patient/Egg provider age&#x27;,\n",
       "                         &#x27;Partner/Sperm provider age&#x27;,\n",
       "                         &#x27;Specific treatment type&#x27;, &#x27;Egg source&#x27;,\n",
       "                         &#x27;Sperm source&#x27;, &#x27;Patient ethnicity&#x27;,\n",
       "                         &#x27;Partner ethnicity&#x27;, &#x27;Fresh eggs collected&#x27;,\n",
       "                         &#x27;Total eggs mixed&#x27;, &#x27;Total embryos created&#x27;,\n",
       "                         &#x27;Embryos transferred&#x27;, &#x27;Total embryos thawed&#x27;,\n",
       "                         &#x27;Date of embryo transfer&#x27;])</pre></div> </div></div><div class=\"sk-item\"><div class=\"sk-estimator  sk-toggleable\"><input class=\"sk-toggleable__control sk-hidden--visually\" id=\"sk-estimator-id-3\" type=\"checkbox\" ><label for=\"sk-estimator-id-3\" class=\"sk-toggleable__label  sk-toggleable__label-arrow \">SmartCorrelatedSelection</label><div class=\"sk-toggleable__content \"><pre>SmartCorrelatedSelection(method=&#x27;spearman&#x27;, selection_method=&#x27;variance&#x27;,\n",
       "                         threshold=0.9)</pre></div> </div></div></div></div></div></div>"
      ],
      "text/plain": [
       "Pipeline(steps=[('one_hot_encoding',\n",
       "                 OneHotEncoder(drop_last=True,\n",
       "                               variables=['Patient age at treatment',\n",
       "                                          'Total number of previous IVF cycles',\n",
       "                                          'Patient/Egg provider age',\n",
       "                                          'Partner/Sperm provider age',\n",
       "                                          'Specific treatment type',\n",
       "                                          'Egg source', 'Sperm source',\n",
       "                                          'Patient ethnicity',\n",
       "                                          'Partner ethnicity',\n",
       "                                          'Fresh eggs collected',\n",
       "                                          'Total eggs mixed',\n",
       "                                          'Total embryos created',\n",
       "                                          'Embryos transferred',\n",
       "                                          'Total embryos thawed',\n",
       "                                          'Date of embryo transfer'])),\n",
       "                ('smart_correlation',\n",
       "                 SmartCorrelatedSelection(method='spearman',\n",
       "                                          selection_method='variance',\n",
       "                                          threshold=0.9))])"
      ]
     },
     "execution_count": 6,
     "metadata": {},
     "output_type": "execute_result"
    }
   ],
   "source": [
    "from sklearn.pipeline import Pipeline\n",
    "from feature_engine.selection import SmartCorrelatedSelection\n",
    "from feature_engine.encoding import OneHotEncoder\n",
    "\n",
    "\n",
    "def PreprocessingPipelineDL():\n",
    "    pipeline_base = Pipeline(\n",
    "        [\n",
    "            (\n",
    "                \"one_hot_encoding\",\n",
    "                OneHotEncoder(\n",
    "                    drop_last=True,\n",
    "                    variables=[\n",
    "                        \"Patient age at treatment\",\n",
    "                        \"Total number of previous IVF cycles\",\n",
    "                        \"Patient/Egg provider age\",\n",
    "                        \"Partner/Sperm provider age\",\n",
    "                        \"Specific treatment type\",\n",
    "                        \"Egg source\",\n",
    "                        \"Sperm source\",\n",
    "                        \"Patient ethnicity\",\n",
    "                        \"Partner ethnicity\",\n",
    "                        \"Fresh eggs collected\",\n",
    "                        \"Total eggs mixed\",\n",
    "                        \"Total embryos created\",\n",
    "                        \"Embryos transferred\",\n",
    "                        \"Total embryos thawed\",\n",
    "                        \"Date of embryo transfer\",\n",
    "                    ],\n",
    "                ),\n",
    "            ),\n",
    "            (\n",
    "                \"smart_correlation\",\n",
    "                SmartCorrelatedSelection(\n",
    "                    method=\"spearman\", threshold=0.9, selection_method=\"variance\"\n",
    "                ),\n",
    "            ),\n",
    "        ]\n",
    "    )\n",
    "\n",
    "    return pipeline_base\n",
    "\n",
    "\n",
    "PreprocessingPipelineDL()"
   ]
  },
  {
   "cell_type": "markdown",
   "metadata": {},
   "source": [
    "---"
   ]
  },
  {
   "cell_type": "markdown",
   "metadata": {},
   "source": [
    "## Sequential model (Deep Learning)"
   ]
  },
  {
   "cell_type": "markdown",
   "metadata": {},
   "source": [
    "### Split Train and Test Set"
   ]
  },
  {
   "cell_type": "code",
   "execution_count": 7,
   "metadata": {},
   "outputs": [],
   "source": [
    "from sklearn.model_selection import train_test_split\n",
    "\n",
    "X_train, X_test, y_train, y_test = train_test_split(\n",
    "    # Do not drop the target column here because it is needed for the pipeline\n",
    "    df,\n",
    "    df[\"Live birth occurrence\"],\n",
    "    test_size=0.2,\n",
    "    random_state=0,\n",
    ")\n"
   ]
  },
  {
   "cell_type": "markdown",
   "metadata": {},
   "source": [
    "Apply the data cleaning and feature engineering pipeline"
   ]
  },
  {
   "cell_type": "code",
   "execution_count": 8,
   "metadata": {},
   "outputs": [
    {
     "data": {
      "text/html": [
       "<div>\n",
       "<style scoped>\n",
       "    .dataframe tbody tr th:only-of-type {\n",
       "        vertical-align: middle;\n",
       "    }\n",
       "\n",
       "    .dataframe tbody tr th {\n",
       "        vertical-align: top;\n",
       "    }\n",
       "\n",
       "    .dataframe thead th {\n",
       "        text-align: right;\n",
       "    }\n",
       "</style>\n",
       "<table border=\"1\" class=\"dataframe\">\n",
       "  <thead>\n",
       "    <tr style=\"text-align: right;\">\n",
       "      <th></th>\n",
       "      <th>Patient age at treatment</th>\n",
       "      <th>Total number of previous IVF cycles</th>\n",
       "      <th>Total number of previous pregnancies - IVF and DI</th>\n",
       "      <th>Total number of previous live births - IVF or DI</th>\n",
       "      <th>Causes of infertility - tubal disease</th>\n",
       "      <th>Causes of infertility - ovulatory disorder</th>\n",
       "      <th>Causes of infertility - male factor</th>\n",
       "      <th>Causes of infertility - patient unexplained</th>\n",
       "      <th>Causes of infertility - endometriosis</th>\n",
       "      <th>Stimulation used</th>\n",
       "      <th>...</th>\n",
       "      <th>Fresh eggs collected</th>\n",
       "      <th>Total eggs mixed</th>\n",
       "      <th>Total embryos created</th>\n",
       "      <th>Embryos transferred</th>\n",
       "      <th>Total embryos thawed</th>\n",
       "      <th>Embryos transferred from eggs micro-injected</th>\n",
       "      <th>Date of embryo transfer</th>\n",
       "      <th>Live birth occurrence</th>\n",
       "      <th>Patient ethnicity</th>\n",
       "      <th>Partner ethnicity</th>\n",
       "    </tr>\n",
       "  </thead>\n",
       "  <tbody>\n",
       "    <tr>\n",
       "      <th>37915</th>\n",
       "      <td>18-34</td>\n",
       "      <td>4</td>\n",
       "      <td>1</td>\n",
       "      <td>1</td>\n",
       "      <td>0</td>\n",
       "      <td>1</td>\n",
       "      <td>1</td>\n",
       "      <td>0</td>\n",
       "      <td>0</td>\n",
       "      <td>0</td>\n",
       "      <td>...</td>\n",
       "      <td>0 - frozen cycle</td>\n",
       "      <td>0 - frozen cycle</td>\n",
       "      <td>0 - frozen cycle</td>\n",
       "      <td>1e</td>\n",
       "      <td>1-5</td>\n",
       "      <td>1</td>\n",
       "      <td>0 - frozen</td>\n",
       "      <td>0</td>\n",
       "      <td>Other</td>\n",
       "      <td>Other</td>\n",
       "    </tr>\n",
       "    <tr>\n",
       "      <th>112081</th>\n",
       "      <td>18-34</td>\n",
       "      <td>1</td>\n",
       "      <td>0</td>\n",
       "      <td>0</td>\n",
       "      <td>0</td>\n",
       "      <td>0</td>\n",
       "      <td>0</td>\n",
       "      <td>0</td>\n",
       "      <td>0</td>\n",
       "      <td>1</td>\n",
       "      <td>...</td>\n",
       "      <td>11-15</td>\n",
       "      <td>11-15</td>\n",
       "      <td>6-10</td>\n",
       "      <td>1e</td>\n",
       "      <td>0 - fresh cycle</td>\n",
       "      <td>0</td>\n",
       "      <td>5 - fresh</td>\n",
       "      <td>1</td>\n",
       "      <td>White</td>\n",
       "      <td>White</td>\n",
       "    </tr>\n",
       "    <tr>\n",
       "      <th>83821</th>\n",
       "      <td>18-34</td>\n",
       "      <td>0</td>\n",
       "      <td>0</td>\n",
       "      <td>0</td>\n",
       "      <td>0</td>\n",
       "      <td>0</td>\n",
       "      <td>1</td>\n",
       "      <td>0</td>\n",
       "      <td>0</td>\n",
       "      <td>1</td>\n",
       "      <td>...</td>\n",
       "      <td>6-10</td>\n",
       "      <td>6-10</td>\n",
       "      <td>1-5</td>\n",
       "      <td>2</td>\n",
       "      <td>0 - fresh cycle</td>\n",
       "      <td>2</td>\n",
       "      <td>3 - fresh</td>\n",
       "      <td>0</td>\n",
       "      <td>White</td>\n",
       "      <td>White</td>\n",
       "    </tr>\n",
       "  </tbody>\n",
       "</table>\n",
       "<p>3 rows × 30 columns</p>\n",
       "</div>"
      ],
      "text/plain": [
       "       Patient age at treatment Total number of previous IVF cycles  \\\n",
       "37915                     18-34                                   4   \n",
       "112081                    18-34                                   1   \n",
       "83821                     18-34                                   0   \n",
       "\n",
       "        Total number of previous pregnancies - IVF and DI  \\\n",
       "37915                                                   1   \n",
       "112081                                                  0   \n",
       "83821                                                   0   \n",
       "\n",
       "        Total number of previous live births - IVF or DI  \\\n",
       "37915                                                  1   \n",
       "112081                                                 0   \n",
       "83821                                                  0   \n",
       "\n",
       "        Causes of infertility - tubal disease  \\\n",
       "37915                                       0   \n",
       "112081                                      0   \n",
       "83821                                       0   \n",
       "\n",
       "        Causes of infertility - ovulatory disorder  \\\n",
       "37915                                            1   \n",
       "112081                                           0   \n",
       "83821                                            0   \n",
       "\n",
       "        Causes of infertility - male factor  \\\n",
       "37915                                     1   \n",
       "112081                                    0   \n",
       "83821                                     1   \n",
       "\n",
       "        Causes of infertility - patient unexplained  \\\n",
       "37915                                             0   \n",
       "112081                                            0   \n",
       "83821                                             0   \n",
       "\n",
       "        Causes of infertility - endometriosis  Stimulation used  ...  \\\n",
       "37915                                       0                 0  ...   \n",
       "112081                                      0                 1  ...   \n",
       "83821                                       0                 1  ...   \n",
       "\n",
       "       Fresh eggs collected  Total eggs mixed Total embryos created  \\\n",
       "37915      0 - frozen cycle  0 - frozen cycle      0 - frozen cycle   \n",
       "112081                11-15             11-15                  6-10   \n",
       "83821                  6-10              6-10                   1-5   \n",
       "\n",
       "        Embryos transferred  Total embryos thawed  \\\n",
       "37915                    1e                   1-5   \n",
       "112081                   1e       0 - fresh cycle   \n",
       "83821                     2       0 - fresh cycle   \n",
       "\n",
       "        Embryos transferred from eggs micro-injected Date of embryo transfer  \\\n",
       "37915                                              1              0 - frozen   \n",
       "112081                                             0               5 - fresh   \n",
       "83821                                              2               3 - fresh   \n",
       "\n",
       "       Live birth occurrence  Patient ethnicity  Partner ethnicity  \n",
       "37915                      0              Other              Other  \n",
       "112081                     1              White              White  \n",
       "83821                      0              White              White  \n",
       "\n",
       "[3 rows x 30 columns]"
      ]
     },
     "execution_count": 8,
     "metadata": {},
     "output_type": "execute_result"
    }
   ],
   "source": [
    "X_train.head(3)"
   ]
  },
  {
   "cell_type": "code",
   "execution_count": 9,
   "metadata": {},
   "outputs": [],
   "source": [
    "pipeline_feat_eng_dl = PreprocessingPipelineDL()\n",
    "X_train = pipeline_feat_eng_dl.fit_transform(X_train)"
   ]
  },
  {
   "cell_type": "code",
   "execution_count": 10,
   "metadata": {},
   "outputs": [
    {
     "data": {
      "text/html": [
       "<div>\n",
       "<style scoped>\n",
       "    .dataframe tbody tr th:only-of-type {\n",
       "        vertical-align: middle;\n",
       "    }\n",
       "\n",
       "    .dataframe tbody tr th {\n",
       "        vertical-align: top;\n",
       "    }\n",
       "\n",
       "    .dataframe thead th {\n",
       "        text-align: right;\n",
       "    }\n",
       "</style>\n",
       "<table border=\"1\" class=\"dataframe\">\n",
       "  <thead>\n",
       "    <tr style=\"text-align: right;\">\n",
       "      <th></th>\n",
       "      <th>Total number of previous pregnancies - IVF and DI</th>\n",
       "      <th>Total number of previous live births - IVF or DI</th>\n",
       "      <th>Causes of infertility - tubal disease</th>\n",
       "      <th>Causes of infertility - ovulatory disorder</th>\n",
       "      <th>Causes of infertility - male factor</th>\n",
       "      <th>Causes of infertility - patient unexplained</th>\n",
       "      <th>Causes of infertility - endometriosis</th>\n",
       "      <th>Stimulation used</th>\n",
       "      <th>PGT-M treatment</th>\n",
       "      <th>PGT-A treatment</th>\n",
       "      <th>...</th>\n",
       "      <th>Date of embryo transfer_2 - frozen</th>\n",
       "      <th>Date of embryo transfer_6 - frozen</th>\n",
       "      <th>Date of embryo transfer_0 - fresh</th>\n",
       "      <th>Date of embryo transfer_1 - fresh</th>\n",
       "      <th>Date of embryo transfer_3 - Mixed fresh/frozen</th>\n",
       "      <th>Date of embryo transfer_5 - frozen</th>\n",
       "      <th>Date of embryo transfer_7 - fresh</th>\n",
       "      <th>Date of embryo transfer_2 - Mixed fresh/frozen</th>\n",
       "      <th>Date of embryo transfer_5 - Mixed fresh/frozen</th>\n",
       "      <th>Date of embryo transfer_6 - Mixed fresh/frozen</th>\n",
       "    </tr>\n",
       "  </thead>\n",
       "  <tbody>\n",
       "    <tr>\n",
       "      <th>37915</th>\n",
       "      <td>1</td>\n",
       "      <td>1</td>\n",
       "      <td>0</td>\n",
       "      <td>1</td>\n",
       "      <td>1</td>\n",
       "      <td>0</td>\n",
       "      <td>0</td>\n",
       "      <td>0</td>\n",
       "      <td>1</td>\n",
       "      <td>0</td>\n",
       "      <td>...</td>\n",
       "      <td>0</td>\n",
       "      <td>0</td>\n",
       "      <td>0</td>\n",
       "      <td>0</td>\n",
       "      <td>0</td>\n",
       "      <td>0</td>\n",
       "      <td>0</td>\n",
       "      <td>0</td>\n",
       "      <td>0</td>\n",
       "      <td>0</td>\n",
       "    </tr>\n",
       "    <tr>\n",
       "      <th>112081</th>\n",
       "      <td>0</td>\n",
       "      <td>0</td>\n",
       "      <td>0</td>\n",
       "      <td>0</td>\n",
       "      <td>0</td>\n",
       "      <td>0</td>\n",
       "      <td>0</td>\n",
       "      <td>1</td>\n",
       "      <td>0</td>\n",
       "      <td>0</td>\n",
       "      <td>...</td>\n",
       "      <td>0</td>\n",
       "      <td>0</td>\n",
       "      <td>0</td>\n",
       "      <td>0</td>\n",
       "      <td>0</td>\n",
       "      <td>0</td>\n",
       "      <td>0</td>\n",
       "      <td>0</td>\n",
       "      <td>0</td>\n",
       "      <td>0</td>\n",
       "    </tr>\n",
       "    <tr>\n",
       "      <th>83821</th>\n",
       "      <td>0</td>\n",
       "      <td>0</td>\n",
       "      <td>0</td>\n",
       "      <td>0</td>\n",
       "      <td>1</td>\n",
       "      <td>0</td>\n",
       "      <td>0</td>\n",
       "      <td>1</td>\n",
       "      <td>0</td>\n",
       "      <td>0</td>\n",
       "      <td>...</td>\n",
       "      <td>0</td>\n",
       "      <td>0</td>\n",
       "      <td>0</td>\n",
       "      <td>0</td>\n",
       "      <td>0</td>\n",
       "      <td>0</td>\n",
       "      <td>0</td>\n",
       "      <td>0</td>\n",
       "      <td>0</td>\n",
       "      <td>0</td>\n",
       "    </tr>\n",
       "  </tbody>\n",
       "</table>\n",
       "<p>3 rows × 98 columns</p>\n",
       "</div>"
      ],
      "text/plain": [
       "        Total number of previous pregnancies - IVF and DI  \\\n",
       "37915                                                   1   \n",
       "112081                                                  0   \n",
       "83821                                                   0   \n",
       "\n",
       "        Total number of previous live births - IVF or DI  \\\n",
       "37915                                                  1   \n",
       "112081                                                 0   \n",
       "83821                                                  0   \n",
       "\n",
       "        Causes of infertility - tubal disease  \\\n",
       "37915                                       0   \n",
       "112081                                      0   \n",
       "83821                                       0   \n",
       "\n",
       "        Causes of infertility - ovulatory disorder  \\\n",
       "37915                                            1   \n",
       "112081                                           0   \n",
       "83821                                            0   \n",
       "\n",
       "        Causes of infertility - male factor  \\\n",
       "37915                                     1   \n",
       "112081                                    0   \n",
       "83821                                     1   \n",
       "\n",
       "        Causes of infertility - patient unexplained  \\\n",
       "37915                                             0   \n",
       "112081                                            0   \n",
       "83821                                             0   \n",
       "\n",
       "        Causes of infertility - endometriosis  Stimulation used  \\\n",
       "37915                                       0                 0   \n",
       "112081                                      0                 1   \n",
       "83821                                       0                 1   \n",
       "\n",
       "        PGT-M treatment  PGT-A treatment  ...  \\\n",
       "37915                 1                0  ...   \n",
       "112081                0                0  ...   \n",
       "83821                 0                0  ...   \n",
       "\n",
       "        Date of embryo transfer_2 - frozen  \\\n",
       "37915                                    0   \n",
       "112081                                   0   \n",
       "83821                                    0   \n",
       "\n",
       "        Date of embryo transfer_6 - frozen  Date of embryo transfer_0 - fresh  \\\n",
       "37915                                    0                                  0   \n",
       "112081                                   0                                  0   \n",
       "83821                                    0                                  0   \n",
       "\n",
       "        Date of embryo transfer_1 - fresh  \\\n",
       "37915                                   0   \n",
       "112081                                  0   \n",
       "83821                                   0   \n",
       "\n",
       "        Date of embryo transfer_3 - Mixed fresh/frozen  \\\n",
       "37915                                                0   \n",
       "112081                                               0   \n",
       "83821                                                0   \n",
       "\n",
       "        Date of embryo transfer_5 - frozen  Date of embryo transfer_7 - fresh  \\\n",
       "37915                                    0                                  0   \n",
       "112081                                   0                                  0   \n",
       "83821                                    0                                  0   \n",
       "\n",
       "        Date of embryo transfer_2 - Mixed fresh/frozen  \\\n",
       "37915                                                0   \n",
       "112081                                               0   \n",
       "83821                                                0   \n",
       "\n",
       "        Date of embryo transfer_5 - Mixed fresh/frozen  \\\n",
       "37915                                                0   \n",
       "112081                                               0   \n",
       "83821                                                0   \n",
       "\n",
       "        Date of embryo transfer_6 - Mixed fresh/frozen  \n",
       "37915                                                0  \n",
       "112081                                               0  \n",
       "83821                                                0  \n",
       "\n",
       "[3 rows x 98 columns]"
      ]
     },
     "execution_count": 10,
     "metadata": {},
     "output_type": "execute_result"
    }
   ],
   "source": [
    "X_train.head(3)"
   ]
  },
  {
   "cell_type": "markdown",
   "metadata": {},
   "source": [
    "Apply the pipeline to the test set"
   ]
  },
  {
   "cell_type": "code",
   "execution_count": 11,
   "metadata": {},
   "outputs": [],
   "source": [
    "X_test = pipeline_feat_eng_dl.transform(X_test)"
   ]
  },
  {
   "cell_type": "markdown",
   "metadata": {},
   "source": [
    "Drop the target column from the processed X_train and X_test"
   ]
  },
  {
   "cell_type": "code",
   "execution_count": 12,
   "metadata": {},
   "outputs": [],
   "source": [
    "X_train = X_train.drop([\"Live birth occurrence\"], axis=1)\n",
    "X_test = X_test.drop([\"Live birth occurrence\"], axis=1)"
   ]
  },
  {
   "cell_type": "code",
   "execution_count": 13,
   "metadata": {},
   "outputs": [
    {
     "name": "stdout",
     "output_type": "stream",
     "text": [
      "(108556, 97) (108556,) (27139, 97) (27139,)\n"
     ]
    }
   ],
   "source": [
    "print(X_train.shape, y_train.shape, X_test.shape, y_test.shape)"
   ]
  },
  {
   "cell_type": "markdown",
   "metadata": {},
   "source": [
    "Check Train Set Target distribution"
   ]
  },
  {
   "cell_type": "code",
   "execution_count": 14,
   "metadata": {},
   "outputs": [
    {
     "name": "stdout",
     "output_type": "stream",
     "text": [
      "0    77581\n",
      "1    30975\n",
      "Name: Live birth occurrence, dtype: int64\n"
     ]
    },
    {
     "data": {
      "image/png": "[encoded data removed]",
      "text/plain": [
       "<Figure size 640x480 with 1 Axes>"
      ]
     },
     "metadata": {},
     "output_type": "display_data"
    }
   ],
   "source": [
    "import matplotlib.pyplot as plt\n",
    "import seaborn as sns\n",
    "\n",
    "print(y_train.value_counts())\n",
    "\n",
    "sns.set_style(\"whitegrid\")\n",
    "y_train.value_counts().plot(kind=\"bar\", title=\"Train Set Target Distribution\")\n",
    "plt.show()"
   ]
  },
  {
   "cell_type": "markdown",
   "metadata": {},
   "source": [
    "## Handle Target Imbalance"
   ]
  },
  {
   "cell_type": "markdown",
   "metadata": {},
   "source": [
    "### Use SMOTE (Synthetic Minority Oversampling TEchnique) to balance Train Set target"
   ]
  },
  {
   "cell_type": "code",
   "execution_count": 15,
   "metadata": {},
   "outputs": [
    {
     "name": "stdout",
     "output_type": "stream",
     "text": [
      "(155162, 97) (155162,) (27139, 97) (27139,)\n"
     ]
    }
   ],
   "source": [
    "from imblearn.over_sampling import SMOTE\n",
    "\n",
    "oversample = SMOTE(sampling_strategy='minority', random_state=0)\n",
    "X_train, y_train = oversample.fit_resample(X_train, y_train)\n",
    "print(X_train.shape, y_train.shape, X_test.shape, y_test.shape)"
   ]
  },
  {
   "cell_type": "markdown",
   "metadata": {},
   "source": [
    "Check Train Set Target distribution after resampling"
   ]
  },
  {
   "cell_type": "code",
   "execution_count": 16,
   "metadata": {},
   "outputs": [
    {
     "name": "stdout",
     "output_type": "stream",
     "text": [
      "0    77581\n",
      "1    77581\n",
      "Name: Live birth occurrence, dtype: int64\n"
     ]
    },
    {
     "data": {
      "image/png": "[encoded data removed]",
      "text/plain": [
       "<Figure size 640x480 with 1 Axes>"
      ]
     },
     "metadata": {},
     "output_type": "display_data"
    }
   ],
   "source": [
    "import matplotlib.pyplot as plt\n",
    "\n",
    "print(y_train.value_counts())\n",
    "\n",
    "y_train.value_counts().plot(kind='bar', title='Train Set Target Distribution')\n",
    "plt.show()"
   ]
  },
  {
   "cell_type": "markdown",
   "metadata": {},
   "source": [
    "Further split Train set to validation and Train set"
   ]
  },
  {
   "cell_type": "code",
   "execution_count": 17,
   "metadata": {},
   "outputs": [
    {
     "name": "stdout",
     "output_type": "stream",
     "text": [
      "* Train set: (124129, 97) (124129,)\n",
      "* Validation set: (31033, 97) (31033,)\n",
      "* Test set: (27139, 97) (27139,)\n"
     ]
    }
   ],
   "source": [
    "from sklearn.model_selection import train_test_split\n",
    "\n",
    "# Create new training and validation sets\n",
    "X_train, X_val, y_train, y_val = train_test_split(\n",
    "                                    X_train, y_train,\n",
    "                                    test_size=0.2,\n",
    "                                    random_state=0\n",
    "                                    )\n",
    "\n",
    "print(\"* Train set:\", X_train.shape, y_train.shape)\n",
    "print(\"* Validation set:\",  X_val.shape, y_val.shape)\n",
    "print(\"* Test set:\",   X_test.shape, y_test.shape)\n"
   ]
  },
  {
   "cell_type": "markdown",
   "metadata": {},
   "source": [
    "### Push to Repo"
   ]
  },
  {
   "cell_type": "markdown",
   "metadata": {},
   "source": [
    "#### Train Set"
   ]
  },
  {
   "cell_type": "code",
   "execution_count": 18,
   "metadata": {},
   "outputs": [],
   "source": [
    "X_train.to_csv(f\"{file_path}/X_train.csv\")"
   ]
  },
  {
   "cell_type": "code",
   "execution_count": 19,
   "metadata": {},
   "outputs": [],
   "source": [
    "y_train.to_csv(f\"{file_path}/y_train.csv\")"
   ]
  },
  {
   "cell_type": "markdown",
   "metadata": {},
   "source": [
    "#### Test Set"
   ]
  },
  {
   "cell_type": "code",
   "execution_count": 20,
   "metadata": {},
   "outputs": [],
   "source": [
    "X_test.to_csv(f\"{file_path}/X_test.csv\", index=False)"
   ]
  },
  {
   "cell_type": "code",
   "execution_count": 21,
   "metadata": {},
   "outputs": [],
   "source": [
    "y_test.to_csv(f\"{file_path}/y_test.csv\", index=False)"
   ]
  },
  {
   "cell_type": "markdown",
   "metadata": {},
   "source": [
    "#### Validation Set"
   ]
  },
  {
   "cell_type": "code",
   "execution_count": 22,
   "metadata": {},
   "outputs": [],
   "source": [
    "X_test.to_csv(f\"{file_path}/X_test.csv\", index=False)"
   ]
  },
  {
   "cell_type": "code",
   "execution_count": 23,
   "metadata": {},
   "outputs": [],
   "source": [
    "y_test.to_csv(f\"{file_path}/y_test.csv\", index=False)"
   ]
  },
  {
   "cell_type": "markdown",
   "metadata": {},
   "source": [
    "### Scale Features"
   ]
  },
  {
   "cell_type": "code",
   "execution_count": 24,
   "metadata": {},
   "outputs": [],
   "source": [
    "from sklearn.preprocessing import StandardScaler\n",
    "\n",
    "\n",
    "def pipeline_pre_processing():\n",
    "    pipeline_base = Pipeline([(\"feat_scaling\", StandardScaler())])\n",
    "\n",
    "    return pipeline_base"
   ]
  },
  {
   "cell_type": "code",
   "execution_count": 25,
   "metadata": {},
   "outputs": [
    {
     "data": {
      "text/plain": [
       "array([[-4.51333979e-01, -4.02255930e-01, -3.13159506e-01,\n",
       "        -3.47611814e-01, -7.09000307e-01, -6.44876978e-01,\n",
       "        -2.25863588e-01, -1.18705618e+00, -9.79667054e-02,\n",
       "        -1.10859376e-01,  1.18485318e+00, -6.73302940e-01,\n",
       "        -5.46179327e-01, -3.60578987e-01, -1.80296423e-01,\n",
       "        -2.04227758e-01,  1.69384670e+00, -7.58565126e-01,\n",
       "        -2.88029667e-01, -1.47611775e-01, -1.76667986e-01,\n",
       "         1.04298408e+00, -3.90596348e-01, -1.55755024e-01,\n",
       "        -3.76402108e-01,  1.35274720e+00, -4.83998707e-01,\n",
       "        -2.44945837e-01, -2.98767031e-01, -1.36912845e-01,\n",
       "        -3.61804640e-01, -7.62220952e-02, -7.88755229e-01,\n",
       "        -6.89167524e-01,  1.57245844e+00, -4.31791255e-02,\n",
       "        -1.77281701e-02,  2.58446192e-01,  3.16621338e-01,\n",
       "        -4.37081253e-01,  6.73323863e-01, -3.34824705e-01,\n",
       "        -1.40234330e-01, -4.40006207e-01,  6.90095924e-01,\n",
       "        -3.20395676e-01, -9.33788377e-02, -1.38038320e-01,\n",
       "        -3.96303295e-01, -4.92665330e-01, -3.90349723e-01,\n",
       "        -1.53130341e-01, -2.45149021e-01, -2.59420371e-01,\n",
       "        -8.57945137e-02, -4.71206560e-02, -2.93726090e-02,\n",
       "        -3.81337742e-01, -5.33834521e-01, -4.53797391e-01,\n",
       "        -1.29970621e-01, -1.60307342e-01, -2.30591314e-01,\n",
       "        -7.07936434e-02, -3.93595500e-02, -2.35835216e-02,\n",
       "        -5.03776031e-01, -6.36659031e-01, -2.60973395e-01,\n",
       "        -2.12188680e-01, -5.20980652e-02, -1.20204194e-01,\n",
       "        -2.69365596e-02, -6.21315923e-01, -4.91023252e-01,\n",
       "        -3.04236471e-01, -6.45460670e-02,  1.39335763e+00,\n",
       "        -7.97624135e-01, -3.20701301e-01, -2.06167706e-01,\n",
       "        -7.59006593e-02, -6.53590858e-02, -9.07986309e-02,\n",
       "        -4.01404159e-03, -6.53590858e-02, -4.71206560e-02,\n",
       "        -7.80191304e-02, -9.83274979e-03, -2.61771030e-02,\n",
       "        -1.39062804e-02, -1.30079770e-02, -2.78206321e-02,\n",
       "        -1.17035489e-02, -4.91619666e-03, -1.17035489e-02,\n",
       "        -5.67675779e-03],\n",
       "       [ 1.69343979e+00,  2.22406568e+00, -3.13159506e-01,\n",
       "        -3.47611814e-01, -7.09000307e-01,  1.55068336e+00,\n",
       "        -2.25863588e-01, -1.18705618e+00, -9.79667054e-02,\n",
       "         9.02043687e+00, -8.43986423e-01, -6.73302940e-01,\n",
       "        -5.46179327e-01,  2.77331746e+00, -1.80296423e-01,\n",
       "        -2.04227758e-01, -5.90372199e-01, -7.58565126e-01,\n",
       "         3.47186459e+00, -1.47611775e-01, -1.76667986e-01,\n",
       "        -9.58787406e-01, -3.90596348e-01, -1.55755024e-01,\n",
       "         2.65673326e+00, -7.39236421e-01, -4.83998707e-01,\n",
       "        -2.44945837e-01, -2.98767031e-01, -1.36912845e-01,\n",
       "        -3.61804640e-01, -7.62220952e-02, -7.88755229e-01,\n",
       "        -6.89167524e-01,  1.57245844e+00, -4.31791255e-02,\n",
       "        -1.77281701e-02,  2.58446192e-01,  3.16621338e-01,\n",
       "        -4.37081253e-01,  6.73323863e-01, -3.34824705e-01,\n",
       "        -1.40234330e-01, -4.40006207e-01,  6.90095924e-01,\n",
       "        -3.20395676e-01, -9.33788377e-02, -1.38038320e-01,\n",
       "        -3.96303295e-01, -4.92665330e-01, -3.90349723e-01,\n",
       "        -1.53130341e-01, -2.45149021e-01, -2.59420371e-01,\n",
       "        -8.57945137e-02, -4.71206560e-02, -2.93726090e-02,\n",
       "        -3.81337742e-01, -5.33834521e-01, -4.53797391e-01,\n",
       "        -1.29970621e-01, -1.60307342e-01, -2.30591314e-01,\n",
       "        -7.07936434e-02, -3.93595500e-02, -2.35835216e-02,\n",
       "        -5.03776031e-01, -6.36659031e-01, -2.60973395e-01,\n",
       "        -2.12188680e-01, -5.20980652e-02, -1.20204194e-01,\n",
       "        -2.69365596e-02, -6.21315923e-01,  2.03656343e+00,\n",
       "        -3.04236471e-01, -6.45460670e-02,  1.39335763e+00,\n",
       "        -7.97624135e-01, -3.20701301e-01, -2.06167706e-01,\n",
       "        -7.59006593e-02, -6.53590858e-02, -9.07986309e-02,\n",
       "        -4.01404159e-03, -6.53590858e-02, -4.71206560e-02,\n",
       "        -7.80191304e-02, -9.83274979e-03, -2.61771030e-02,\n",
       "        -1.39062804e-02, -1.30079770e-02, -2.78206321e-02,\n",
       "        -1.17035489e-02, -4.91619666e-03, -1.17035489e-02,\n",
       "        -5.67675779e-03]])"
      ]
     },
     "execution_count": 25,
     "metadata": {},
     "output_type": "execute_result"
    }
   ],
   "source": [
    "pipeline_clf = pipeline_pre_processing()\n",
    "X_train = pipeline_clf = pipeline_pre_processing().fit_transform(X_train)\n",
    "X_val = pipeline_clf = pipeline_pre_processing().fit_transform(X_val)\n",
    "X_test = pipeline_clf = pipeline_pre_processing().fit_transform(X_test)\n",
    "\n",
    "X_train[:2,]"
   ]
  },
  {
   "cell_type": "markdown",
   "metadata": {},
   "source": [
    "---"
   ]
  },
  {
   "cell_type": "markdown",
   "metadata": {},
   "source": [
    "# Model creation"
   ]
  },
  {
   "cell_type": "markdown",
   "metadata": {},
   "source": [
    "## ML model"
   ]
  },
  {
   "cell_type": "markdown",
   "metadata": {},
   "source": [
    "Define early stopping callback"
   ]
  },
  {
   "cell_type": "code",
   "execution_count": 26,
   "metadata": {},
   "outputs": [],
   "source": [
    "from tensorflow.keras.callbacks import EarlyStopping\n",
    "\n",
    "early_stopping = EarlyStopping(\n",
    "    patience=20,\n",
    "    restore_best_weights=True,  \n",
    "    monitor='val_accuracy',\n",
    "    verbose=1, \n",
    "    mode='max' \n",
    ")"
   ]
  },
  {
   "cell_type": "markdown",
   "metadata": {},
   "source": [
    "### Define deep learning model"
   ]
  },
  {
   "cell_type": "code",
   "execution_count": 27,
   "metadata": {},
   "outputs": [],
   "source": [
    "import tensorflow as tf\n",
    "from tensorflow.keras.layers import Dense, Dropout\n",
    "\n",
    "input_shape = X_train.shape[1:]\n",
    "\n",
    "def create_dl_model(input_shape):\n",
    "    model = tf.keras.Sequential([\n",
    "        # First hidden layer with 64 neurons and a dropout rate of 0.5\n",
    "        Dense(64, activation='relu', input_shape=input_shape),\n",
    "        Dropout(0.5),\n",
    "        # Second hidden layer with 32 neurons and a dropout rate of 0.5\n",
    "        Dense(32, activation='relu'),\n",
    "        Dropout(0.5),\n",
    "        # Output layer for binary classification\n",
    "        Dense(1, activation='sigmoid')\n",
    "    ])\n",
    "    \n",
    "    model.compile(optimizer='adam', loss='binary_crossentropy', metrics=['accuracy'])\n",
    "    return model"
   ]
  },
  {
   "cell_type": "markdown",
   "metadata": {},
   "source": [
    "### Model Summary "
   ]
  },
  {
   "cell_type": "code",
   "execution_count": 28,
   "metadata": {},
   "outputs": [
    {
     "name": "stderr",
     "output_type": "stream",
     "text": [
      "/Users/patriciahalley/Documents/Code_institute/git/ivf-success-predictor/venv-311/lib/python3.11/site-packages/keras/src/layers/core/dense.py:87: UserWarning: Do not pass an `input_shape`/`input_dim` argument to a layer. When using Sequential models, prefer using an `Input(shape)` object as the first layer in the model instead.\n",
      "  super().__init__(activity_regularizer=activity_regularizer, **kwargs)\n",
      "2024-09-03 15:18:56.835002: I metal_plugin/src/device/metal_device.cc:1154] Metal device set to: Apple M2\n",
      "2024-09-03 15:18:56.835039: I metal_plugin/src/device/metal_device.cc:296] systemMemory: 16.00 GB\n",
      "2024-09-03 15:18:56.835101: I metal_plugin/src/device/metal_device.cc:313] maxCacheSize: 5.33 GB\n",
      "2024-09-03 15:18:56.835202: I tensorflow/core/common_runtime/pluggable_device/pluggable_device_factory.cc:305] Could not identify NUMA node of platform GPU ID 0, defaulting to 0. Your kernel may not have been built with NUMA support.\n",
      "2024-09-03 15:18:56.835214: I tensorflow/core/common_runtime/pluggable_device/pluggable_device_factory.cc:271] Created TensorFlow device (/job:localhost/replica:0/task:0/device:GPU:0 with 0 MB memory) -> physical PluggableDevice (device: 0, name: METAL, pci bus id: <undefined>)\n"
     ]
    },
    {
     "data": {
      "text/html": [
       "<pre style=\"white-space:pre;overflow-x:auto;line-height:normal;font-family:Menlo,'DejaVu Sans Mono',consolas,'Courier New',monospace\"><span style=\"font-weight: bold\">Model: \"sequential\"</span>\n",
       "</pre>\n"
      ],
      "text/plain": [
       "\u001b[1mModel: \"sequential\"\u001b[0m\n"
      ]
     },
     "metadata": {},
     "output_type": "display_data"
    },
    {
     "data": {
      "text/html": [
       "<pre style=\"white-space:pre;overflow-x:auto;line-height:normal;font-family:Menlo,'DejaVu Sans Mono',consolas,'Courier New',monospace\">┏━━━━━━━━━━━━━━━━━━━━━━━━━━━━━━━━━┳━━━━━━━━━━━━━━━━━━━━━━━━┳━━━━━━━━━━━━━━━┓\n",
       "┃<span style=\"font-weight: bold\"> Layer (type)                    </span>┃<span style=\"font-weight: bold\"> Output Shape           </span>┃<span style=\"font-weight: bold\">       Param # </span>┃\n",
       "┡━━━━━━━━━━━━━━━━━━━━━━━━━━━━━━━━━╇━━━━━━━━━━━━━━━━━━━━━━━━╇━━━━━━━━━━━━━━━┩\n",
       "│ dense (<span style=\"color: #0087ff; text-decoration-color: #0087ff\">Dense</span>)                   │ (<span style=\"color: #00d7ff; text-decoration-color: #00d7ff\">None</span>, <span style=\"color: #00af00; text-decoration-color: #00af00\">64</span>)             │         <span style=\"color: #00af00; text-decoration-color: #00af00\">6,272</span> │\n",
       "├─────────────────────────────────┼────────────────────────┼───────────────┤\n",
       "│ dropout (<span style=\"color: #0087ff; text-decoration-color: #0087ff\">Dropout</span>)               │ (<span style=\"color: #00d7ff; text-decoration-color: #00d7ff\">None</span>, <span style=\"color: #00af00; text-decoration-color: #00af00\">64</span>)             │             <span style=\"color: #00af00; text-decoration-color: #00af00\">0</span> │\n",
       "├─────────────────────────────────┼────────────────────────┼───────────────┤\n",
       "│ dense_1 (<span style=\"color: #0087ff; text-decoration-color: #0087ff\">Dense</span>)                 │ (<span style=\"color: #00d7ff; text-decoration-color: #00d7ff\">None</span>, <span style=\"color: #00af00; text-decoration-color: #00af00\">32</span>)             │         <span style=\"color: #00af00; text-decoration-color: #00af00\">2,080</span> │\n",
       "├─────────────────────────────────┼────────────────────────┼───────────────┤\n",
       "│ dropout_1 (<span style=\"color: #0087ff; text-decoration-color: #0087ff\">Dropout</span>)             │ (<span style=\"color: #00d7ff; text-decoration-color: #00d7ff\">None</span>, <span style=\"color: #00af00; text-decoration-color: #00af00\">32</span>)             │             <span style=\"color: #00af00; text-decoration-color: #00af00\">0</span> │\n",
       "├─────────────────────────────────┼────────────────────────┼───────────────┤\n",
       "│ dense_2 (<span style=\"color: #0087ff; text-decoration-color: #0087ff\">Dense</span>)                 │ (<span style=\"color: #00d7ff; text-decoration-color: #00d7ff\">None</span>, <span style=\"color: #00af00; text-decoration-color: #00af00\">1</span>)              │            <span style=\"color: #00af00; text-decoration-color: #00af00\">33</span> │\n",
       "└─────────────────────────────────┴────────────────────────┴───────────────┘\n",
       "</pre>\n"
      ],
      "text/plain": [
       "┏━━━━━━━━━━━━━━━━━━━━━━━━━━━━━━━━━┳━━━━━━━━━━━━━━━━━━━━━━━━┳━━━━━━━━━━━━━━━┓\n",
       "┃\u001b[1m \u001b[0m\u001b[1mLayer (type)                   \u001b[0m\u001b[1m \u001b[0m┃\u001b[1m \u001b[0m\u001b[1mOutput Shape          \u001b[0m\u001b[1m \u001b[0m┃\u001b[1m \u001b[0m\u001b[1m      Param #\u001b[0m\u001b[1m \u001b[0m┃\n",
       "┡━━━━━━━━━━━━━━━━━━━━━━━━━━━━━━━━━╇━━━━━━━━━━━━━━━━━━━━━━━━╇━━━━━━━━━━━━━━━┩\n",
       "│ dense (\u001b[38;5;33mDense\u001b[0m)                   │ (\u001b[38;5;45mNone\u001b[0m, \u001b[38;5;34m64\u001b[0m)             │         \u001b[38;5;34m6,272\u001b[0m │\n",
       "├─────────────────────────────────┼────────────────────────┼───────────────┤\n",
       "│ dropout (\u001b[38;5;33mDropout\u001b[0m)               │ (\u001b[38;5;45mNone\u001b[0m, \u001b[38;5;34m64\u001b[0m)             │             \u001b[38;5;34m0\u001b[0m │\n",
       "├─────────────────────────────────┼────────────────────────┼───────────────┤\n",
       "│ dense_1 (\u001b[38;5;33mDense\u001b[0m)                 │ (\u001b[38;5;45mNone\u001b[0m, \u001b[38;5;34m32\u001b[0m)             │         \u001b[38;5;34m2,080\u001b[0m │\n",
       "├─────────────────────────────────┼────────────────────────┼───────────────┤\n",
       "│ dropout_1 (\u001b[38;5;33mDropout\u001b[0m)             │ (\u001b[38;5;45mNone\u001b[0m, \u001b[38;5;34m32\u001b[0m)             │             \u001b[38;5;34m0\u001b[0m │\n",
       "├─────────────────────────────────┼────────────────────────┼───────────────┤\n",
       "│ dense_2 (\u001b[38;5;33mDense\u001b[0m)                 │ (\u001b[38;5;45mNone\u001b[0m, \u001b[38;5;34m1\u001b[0m)              │            \u001b[38;5;34m33\u001b[0m │\n",
       "└─────────────────────────────────┴────────────────────────┴───────────────┘\n"
      ]
     },
     "metadata": {},
     "output_type": "display_data"
    },
    {
     "data": {
      "text/html": [
       "<pre style=\"white-space:pre;overflow-x:auto;line-height:normal;font-family:Menlo,'DejaVu Sans Mono',consolas,'Courier New',monospace\"><span style=\"font-weight: bold\"> Total params: </span><span style=\"color: #00af00; text-decoration-color: #00af00\">8,385</span> (32.75 KB)\n",
       "</pre>\n"
      ],
      "text/plain": [
       "\u001b[1m Total params: \u001b[0m\u001b[38;5;34m8,385\u001b[0m (32.75 KB)\n"
      ]
     },
     "metadata": {},
     "output_type": "display_data"
    },
    {
     "data": {
      "text/html": [
       "<pre style=\"white-space:pre;overflow-x:auto;line-height:normal;font-family:Menlo,'DejaVu Sans Mono',consolas,'Courier New',monospace\"><span style=\"font-weight: bold\"> Trainable params: </span><span style=\"color: #00af00; text-decoration-color: #00af00\">8,385</span> (32.75 KB)\n",
       "</pre>\n"
      ],
      "text/plain": [
       "\u001b[1m Trainable params: \u001b[0m\u001b[38;5;34m8,385\u001b[0m (32.75 KB)\n"
      ]
     },
     "metadata": {},
     "output_type": "display_data"
    },
    {
     "data": {
      "text/html": [
       "<pre style=\"white-space:pre;overflow-x:auto;line-height:normal;font-family:Menlo,'DejaVu Sans Mono',consolas,'Courier New',monospace\"><span style=\"font-weight: bold\"> Non-trainable params: </span><span style=\"color: #00af00; text-decoration-color: #00af00\">0</span> (0.00 B)\n",
       "</pre>\n"
      ],
      "text/plain": [
       "\u001b[1m Non-trainable params: \u001b[0m\u001b[38;5;34m0\u001b[0m (0.00 B)\n"
      ]
     },
     "metadata": {},
     "output_type": "display_data"
    }
   ],
   "source": [
    "dl_model = create_dl_model(input_shape)\n",
    "dl_model.summary()"
   ]
  },
  {
   "cell_type": "markdown",
   "metadata": {},
   "source": [
    "### Save model to output folder"
   ]
  },
  {
   "cell_type": "code",
   "execution_count": 29,
   "metadata": {},
   "outputs": [],
   "source": [
    "dl_model.save(f\"{file_path}/ivf_success_predictor_dl_model.keras\")"
   ]
  },
  {
   "cell_type": "markdown",
   "metadata": {},
   "source": [
    "Train deep learning model"
   ]
  },
  {
   "cell_type": "code",
   "execution_count": 30,
   "metadata": {},
   "outputs": [
    {
     "name": "stdout",
     "output_type": "stream",
     "text": [
      "Epoch 1/100\n"
     ]
    },
    {
     "name": "stderr",
     "output_type": "stream",
     "text": [
      "2024-09-03 15:18:57.350974: I tensorflow/core/grappler/optimizers/custom_graph_optimizer_registry.cc:117] Plugin optimizer for device_type GPU is enabled.\n"
     ]
    },
    {
     "name": "stdout",
     "output_type": "stream",
     "text": [
      "\u001b[1m3880/3880\u001b[0m \u001b[32m━━━━━━━━━━━━━━━━━━━━\u001b[0m\u001b[37m\u001b[0m \u001b[1m30s\u001b[0m 8ms/step - accuracy: 0.6290 - loss: 0.6425 - val_accuracy: 0.7043 - val_loss: 0.5496\n",
      "Epoch 2/100\n",
      "\u001b[1m3880/3880\u001b[0m \u001b[32m━━━━━━━━━━━━━━━━━━━━\u001b[0m\u001b[37m\u001b[0m \u001b[1m30s\u001b[0m 8ms/step - accuracy: 0.7022 - loss: 0.5525 - val_accuracy: 0.7213 - val_loss: 0.5176\n",
      "Epoch 3/100\n",
      "\u001b[1m3880/3880\u001b[0m \u001b[32m━━━━━━━━━━━━━━━━━━━━\u001b[0m\u001b[37m\u001b[0m \u001b[1m28s\u001b[0m 7ms/step - accuracy: 0.7158 - loss: 0.5270 - val_accuracy: 0.7233 - val_loss: 0.5124\n",
      "Epoch 4/100\n",
      "\u001b[1m3880/3880\u001b[0m \u001b[32m━━━━━━━━━━━━━━━━━━━━\u001b[0m\u001b[37m\u001b[0m \u001b[1m28s\u001b[0m 7ms/step - accuracy: 0.7169 - loss: 0.5271 - val_accuracy: 0.7250 - val_loss: 0.5073\n",
      "Epoch 5/100\n",
      "\u001b[1m3880/3880\u001b[0m \u001b[32m━━━━━━━━━━━━━━━━━━━━\u001b[0m\u001b[37m\u001b[0m \u001b[1m29s\u001b[0m 8ms/step - accuracy: 0.7204 - loss: 0.5216 - val_accuracy: 0.7246 - val_loss: 0.5068\n",
      "Epoch 6/100\n",
      "\u001b[1m3880/3880\u001b[0m \u001b[32m━━━━━━━━━━━━━━━━━━━━\u001b[0m\u001b[37m\u001b[0m \u001b[1m29s\u001b[0m 7ms/step - accuracy: 0.7216 - loss: 0.5154 - val_accuracy: 0.7253 - val_loss: 0.5067\n",
      "Epoch 7/100\n",
      "\u001b[1m3880/3880\u001b[0m \u001b[32m━━━━━━━━━━━━━━━━━━━━\u001b[0m\u001b[37m\u001b[0m \u001b[1m28s\u001b[0m 7ms/step - accuracy: 0.7254 - loss: 0.5149 - val_accuracy: 0.7281 - val_loss: 0.5044\n",
      "Epoch 8/100\n",
      "\u001b[1m3880/3880\u001b[0m \u001b[32m━━━━━━━━━━━━━━━━━━━━\u001b[0m\u001b[37m\u001b[0m \u001b[1m28s\u001b[0m 7ms/step - accuracy: 0.7235 - loss: 0.5145 - val_accuracy: 0.7283 - val_loss: 0.5031\n",
      "Epoch 9/100\n",
      "\u001b[1m3880/3880\u001b[0m \u001b[32m━━━━━━━━━━━━━━━━━━━━\u001b[0m\u001b[37m\u001b[0m \u001b[1m29s\u001b[0m 8ms/step - accuracy: 0.7238 - loss: 0.5145 - val_accuracy: 0.7276 - val_loss: 0.5023\n",
      "Epoch 10/100\n",
      "\u001b[1m3880/3880\u001b[0m \u001b[32m━━━━━━━━━━━━━━━━━━━━\u001b[0m\u001b[37m\u001b[0m \u001b[1m29s\u001b[0m 7ms/step - accuracy: 0.7254 - loss: 0.5120 - val_accuracy: 0.7270 - val_loss: 0.5032\n",
      "Epoch 11/100\n",
      "\u001b[1m3880/3880\u001b[0m \u001b[32m━━━━━━━━━━━━━━━━━━━━\u001b[0m\u001b[37m\u001b[0m \u001b[1m29s\u001b[0m 7ms/step - accuracy: 0.7251 - loss: 0.5114 - val_accuracy: 0.7306 - val_loss: 0.5036\n",
      "Epoch 12/100\n",
      "\u001b[1m3880/3880\u001b[0m \u001b[32m━━━━━━━━━━━━━━━━━━━━\u001b[0m\u001b[37m\u001b[0m \u001b[1m29s\u001b[0m 8ms/step - accuracy: 0.7282 - loss: 0.5083 - val_accuracy: 0.7290 - val_loss: 0.4999\n",
      "Epoch 13/100\n",
      "\u001b[1m3880/3880\u001b[0m \u001b[32m━━━━━━━━━━━━━━━━━━━━\u001b[0m\u001b[37m\u001b[0m \u001b[1m29s\u001b[0m 7ms/step - accuracy: 0.7257 - loss: 0.5120 - val_accuracy: 0.7297 - val_loss: 0.5015\n",
      "Epoch 14/100\n",
      "\u001b[1m3880/3880\u001b[0m \u001b[32m━━━━━━━━━━━━━━━━━━━━\u001b[0m\u001b[37m\u001b[0m \u001b[1m29s\u001b[0m 7ms/step - accuracy: 0.7259 - loss: 0.5085 - val_accuracy: 0.7285 - val_loss: 0.5019\n",
      "Epoch 15/100\n",
      "\u001b[1m3880/3880\u001b[0m \u001b[32m━━━━━━━━━━━━━━━━━━━━\u001b[0m\u001b[37m\u001b[0m \u001b[1m28s\u001b[0m 7ms/step - accuracy: 0.7259 - loss: 0.5079 - val_accuracy: 0.7282 - val_loss: 0.5007\n",
      "Epoch 16/100\n",
      "\u001b[1m3880/3880\u001b[0m \u001b[32m━━━━━━━━━━━━━━━━━━━━\u001b[0m\u001b[37m\u001b[0m \u001b[1m28s\u001b[0m 7ms/step - accuracy: 0.7268 - loss: 0.5084 - val_accuracy: 0.7294 - val_loss: 0.5005\n",
      "Epoch 17/100\n",
      "\u001b[1m3880/3880\u001b[0m \u001b[32m━━━━━━━━━━━━━━━━━━━━\u001b[0m\u001b[37m\u001b[0m \u001b[1m29s\u001b[0m 8ms/step - accuracy: 0.7291 - loss: 0.5066 - val_accuracy: 0.7307 - val_loss: 0.4992\n",
      "Epoch 18/100\n",
      "\u001b[1m3880/3880\u001b[0m \u001b[32m━━━━━━━━━━━━━━━━━━━━\u001b[0m\u001b[37m\u001b[0m \u001b[1m29s\u001b[0m 7ms/step - accuracy: 0.7286 - loss: 0.5073 - val_accuracy: 0.7308 - val_loss: 0.4990\n",
      "Epoch 19/100\n",
      "\u001b[1m3880/3880\u001b[0m \u001b[32m━━━━━━━━━━━━━━━━━━━━\u001b[0m\u001b[37m\u001b[0m \u001b[1m29s\u001b[0m 7ms/step - accuracy: 0.7273 - loss: 0.5063 - val_accuracy: 0.7281 - val_loss: 0.4994\n",
      "Epoch 20/100\n",
      "\u001b[1m3880/3880\u001b[0m \u001b[32m━━━━━━━━━━━━━━━━━━━━\u001b[0m\u001b[37m\u001b[0m \u001b[1m29s\u001b[0m 7ms/step - accuracy: 0.7267 - loss: 0.5091 - val_accuracy: 0.7295 - val_loss: 0.4996\n",
      "Epoch 21/100\n",
      "\u001b[1m3880/3880\u001b[0m \u001b[32m━━━━━━━━━━━━━━━━━━━━\u001b[0m\u001b[37m\u001b[0m \u001b[1m29s\u001b[0m 8ms/step - accuracy: 0.7287 - loss: 0.5092 - val_accuracy: 0.7285 - val_loss: 0.4987\n",
      "Epoch 22/100\n",
      "\u001b[1m3880/3880\u001b[0m \u001b[32m━━━━━━━━━━━━━━━━━━━━\u001b[0m\u001b[37m\u001b[0m \u001b[1m30s\u001b[0m 8ms/step - accuracy: 0.7300 - loss: 0.5065 - val_accuracy: 0.7312 - val_loss: 0.4982\n",
      "Epoch 23/100\n",
      "\u001b[1m3880/3880\u001b[0m \u001b[32m━━━━━━━━━━━━━━━━━━━━\u001b[0m\u001b[37m\u001b[0m \u001b[1m28s\u001b[0m 7ms/step - accuracy: 0.7297 - loss: 0.5071 - val_accuracy: 0.7286 - val_loss: 0.4988\n",
      "Epoch 24/100\n",
      "\u001b[1m3880/3880\u001b[0m \u001b[32m━━━━━━━━━━━━━━━━━━━━\u001b[0m\u001b[37m\u001b[0m \u001b[1m29s\u001b[0m 8ms/step - accuracy: 0.7318 - loss: 0.5050 - val_accuracy: 0.7287 - val_loss: 0.4992\n",
      "Epoch 25/100\n",
      "\u001b[1m3880/3880\u001b[0m \u001b[32m━━━━━━━━━━━━━━━━━━━━\u001b[0m\u001b[37m\u001b[0m \u001b[1m30s\u001b[0m 8ms/step - accuracy: 0.7300 - loss: 0.5045 - val_accuracy: 0.7310 - val_loss: 0.4979\n",
      "Epoch 26/100\n",
      "\u001b[1m3880/3880\u001b[0m \u001b[32m━━━━━━━━━━━━━━━━━━━━\u001b[0m\u001b[37m\u001b[0m \u001b[1m29s\u001b[0m 7ms/step - accuracy: 0.7271 - loss: 0.5072 - val_accuracy: 0.7289 - val_loss: 0.4988\n",
      "Epoch 27/100\n",
      "\u001b[1m3880/3880\u001b[0m \u001b[32m━━━━━━━━━━━━━━━━━━━━\u001b[0m\u001b[37m\u001b[0m \u001b[1m29s\u001b[0m 7ms/step - accuracy: 0.7301 - loss: 0.5041 - val_accuracy: 0.7302 - val_loss: 0.4976\n",
      "Epoch 28/100\n",
      "\u001b[1m3880/3880\u001b[0m \u001b[32m━━━━━━━━━━━━━━━━━━━━\u001b[0m\u001b[37m\u001b[0m \u001b[1m29s\u001b[0m 8ms/step - accuracy: 0.7287 - loss: 0.5036 - val_accuracy: 0.7306 - val_loss: 0.4963\n",
      "Epoch 29/100\n",
      "\u001b[1m3880/3880\u001b[0m \u001b[32m━━━━━━━━━━━━━━━━━━━━\u001b[0m\u001b[37m\u001b[0m \u001b[1m29s\u001b[0m 7ms/step - accuracy: 0.7315 - loss: 0.5035 - val_accuracy: 0.7327 - val_loss: 0.4979\n",
      "Epoch 30/100\n",
      "\u001b[1m3880/3880\u001b[0m \u001b[32m━━━━━━━━━━━━━━━━━━━━\u001b[0m\u001b[37m\u001b[0m \u001b[1m31s\u001b[0m 8ms/step - accuracy: 0.7322 - loss: 0.5019 - val_accuracy: 0.7298 - val_loss: 0.4971\n",
      "Epoch 31/100\n",
      "\u001b[1m3880/3880\u001b[0m \u001b[32m━━━━━━━━━━━━━━━━━━━━\u001b[0m\u001b[37m\u001b[0m \u001b[1m30s\u001b[0m 8ms/step - accuracy: 0.7283 - loss: 0.5052 - val_accuracy: 0.7295 - val_loss: 0.4975\n",
      "Epoch 32/100\n",
      "\u001b[1m3880/3880\u001b[0m \u001b[32m━━━━━━━━━━━━━━━━━━━━\u001b[0m\u001b[37m\u001b[0m \u001b[1m29s\u001b[0m 8ms/step - accuracy: 0.7296 - loss: 0.5027 - val_accuracy: 0.7292 - val_loss: 0.4972\n",
      "Epoch 33/100\n",
      "\u001b[1m3880/3880\u001b[0m \u001b[32m━━━━━━━━━━━━━━━━━━━━\u001b[0m\u001b[37m\u001b[0m \u001b[1m29s\u001b[0m 8ms/step - accuracy: 0.7300 - loss: 0.5025 - val_accuracy: 0.7289 - val_loss: 0.4980\n",
      "Epoch 34/100\n",
      "\u001b[1m3880/3880\u001b[0m \u001b[32m━━━━━━━━━━━━━━━━━━━━\u001b[0m\u001b[37m\u001b[0m \u001b[1m32s\u001b[0m 8ms/step - accuracy: 0.7293 - loss: 0.5032 - val_accuracy: 0.7312 - val_loss: 0.4970\n",
      "Epoch 35/100\n",
      "\u001b[1m3880/3880\u001b[0m \u001b[32m━━━━━━━━━━━━━━━━━━━━\u001b[0m\u001b[37m\u001b[0m \u001b[1m30s\u001b[0m 8ms/step - accuracy: 0.7317 - loss: 0.5035 - val_accuracy: 0.7290 - val_loss: 0.4975\n",
      "Epoch 36/100\n",
      "\u001b[1m3880/3880\u001b[0m \u001b[32m━━━━━━━━━━━━━━━━━━━━\u001b[0m\u001b[37m\u001b[0m \u001b[1m32s\u001b[0m 8ms/step - accuracy: 0.7306 - loss: 0.5040 - val_accuracy: 0.7289 - val_loss: 0.4977\n",
      "Epoch 37/100\n",
      "\u001b[1m3880/3880\u001b[0m \u001b[32m━━━━━━━━━━━━━━━━━━━━\u001b[0m\u001b[37m\u001b[0m \u001b[1m32s\u001b[0m 8ms/step - accuracy: 0.7302 - loss: 0.5040 - val_accuracy: 0.7310 - val_loss: 0.4969\n",
      "Epoch 38/100\n",
      "\u001b[1m3880/3880\u001b[0m \u001b[32m━━━━━━━━━━━━━━━━━━━━\u001b[0m\u001b[37m\u001b[0m \u001b[1m30s\u001b[0m 8ms/step - accuracy: 0.7294 - loss: 0.5056 - val_accuracy: 0.7307 - val_loss: 0.4967\n",
      "Epoch 39/100\n",
      "\u001b[1m3880/3880\u001b[0m \u001b[32m━━━━━━━━━━━━━━━━━━━━\u001b[0m\u001b[37m\u001b[0m \u001b[1m33s\u001b[0m 9ms/step - accuracy: 0.7298 - loss: 0.5035 - val_accuracy: 0.7289 - val_loss: 0.4975\n",
      "Epoch 40/100\n",
      "\u001b[1m3880/3880\u001b[0m \u001b[32m━━━━━━━━━━━━━━━━━━━━\u001b[0m\u001b[37m\u001b[0m \u001b[1m32s\u001b[0m 8ms/step - accuracy: 0.7302 - loss: 0.5031 - val_accuracy: 0.7286 - val_loss: 0.4958\n",
      "Epoch 41/100\n",
      "\u001b[1m3880/3880\u001b[0m \u001b[32m━━━━━━━━━━━━━━━━━━━━\u001b[0m\u001b[37m\u001b[0m \u001b[1m30s\u001b[0m 8ms/step - accuracy: 0.7313 - loss: 0.5038 - val_accuracy: 0.7308 - val_loss: 0.4995\n",
      "Epoch 42/100\n",
      "\u001b[1m3880/3880\u001b[0m \u001b[32m━━━━━━━━━━━━━━━━━━━━\u001b[0m\u001b[37m\u001b[0m \u001b[1m30s\u001b[0m 8ms/step - accuracy: 0.7292 - loss: 0.5054 - val_accuracy: 0.7309 - val_loss: 0.4958\n",
      "Epoch 43/100\n",
      "\u001b[1m3880/3880\u001b[0m \u001b[32m━━━━━━━━━━━━━━━━━━━━\u001b[0m\u001b[37m\u001b[0m \u001b[1m31s\u001b[0m 8ms/step - accuracy: 0.7309 - loss: 0.5016 - val_accuracy: 0.7290 - val_loss: 0.4985\n",
      "Epoch 44/100\n",
      "\u001b[1m3880/3880\u001b[0m \u001b[32m━━━━━━━━━━━━━━━━━━━━\u001b[0m\u001b[37m\u001b[0m \u001b[1m32s\u001b[0m 8ms/step - accuracy: 0.7306 - loss: 0.5004 - val_accuracy: 0.7298 - val_loss: 0.4971\n",
      "Epoch 45/100\n",
      "\u001b[1m3880/3880\u001b[0m \u001b[32m━━━━━━━━━━━━━━━━━━━━\u001b[0m\u001b[37m\u001b[0m \u001b[1m33s\u001b[0m 8ms/step - accuracy: 0.7294 - loss: 0.5042 - val_accuracy: 0.7319 - val_loss: 0.4962\n",
      "Epoch 46/100\n",
      "\u001b[1m3880/3880\u001b[0m \u001b[32m━━━━━━━━━━━━━━━━━━━━\u001b[0m\u001b[37m\u001b[0m \u001b[1m31s\u001b[0m 8ms/step - accuracy: 0.7330 - loss: 0.4996 - val_accuracy: 0.7314 - val_loss: 0.4980\n",
      "Epoch 47/100\n",
      "\u001b[1m3880/3880\u001b[0m \u001b[32m━━━━━━━━━━━━━━━━━━━━\u001b[0m\u001b[37m\u001b[0m \u001b[1m30s\u001b[0m 8ms/step - accuracy: 0.7288 - loss: 0.5045 - val_accuracy: 0.7309 - val_loss: 0.4960\n",
      "Epoch 48/100\n",
      "\u001b[1m3880/3880\u001b[0m \u001b[32m━━━━━━━━━━━━━━━━━━━━\u001b[0m\u001b[37m\u001b[0m \u001b[1m31s\u001b[0m 8ms/step - accuracy: 0.7315 - loss: 0.5013 - val_accuracy: 0.7304 - val_loss: 0.4951\n",
      "Epoch 49/100\n",
      "\u001b[1m3880/3880\u001b[0m \u001b[32m━━━━━━━━━━━━━━━━━━━━\u001b[0m\u001b[37m\u001b[0m \u001b[1m32s\u001b[0m 8ms/step - accuracy: 0.7317 - loss: 0.5022 - val_accuracy: 0.7322 - val_loss: 0.4964\n",
      "Epoch 49: early stopping\n",
      "Restoring model weights from the end of the best epoch: 29.\n"
     ]
    },
    {
     "data": {
      "text/plain": [
       "<keras.src.callbacks.history.History at 0x30ea13010>"
      ]
     },
     "execution_count": 30,
     "metadata": {},
     "output_type": "execute_result"
    }
   ],
   "source": [
    "dl_model.fit(\n",
    "    X_train,\n",
    "    y_train,\n",
    "    epochs=100,\n",
    "    batch_size=32,\n",
    "    validation_data=(X_val, y_val),\n",
    "    callbacks=[early_stopping],\n",
    "    verbose=1\n",
    ")"
   ]
  },
  {
   "cell_type": "markdown",
   "metadata": {},
   "source": [
    "---"
   ]
  },
  {
   "cell_type": "markdown",
   "metadata": {},
   "source": [
    "## Model Performace"
   ]
  },
  {
   "cell_type": "markdown",
   "metadata": {},
   "source": [
    "### Model learning curve"
   ]
  },
  {
   "cell_type": "code",
   "execution_count": 31,
   "metadata": {},
   "outputs": [
    {
     "data": {
      "image/png": "[encoded data removed]",
      "text/plain": [
       "<Figure size 640x480 with 1 Axes>"
      ]
     },
     "metadata": {},
     "output_type": "display_data"
    },
    {
     "name": "stdout",
     "output_type": "stream",
     "text": [
      "\n",
      "\n"
     ]
    },
    {
     "data": {
      "image/png": "[encoded data removed]",
      "text/plain": [
       "<Figure size 640x480 with 1 Axes>"
      ]
     },
     "metadata": {},
     "output_type": "display_data"
    }
   ],
   "source": [
    "losses = pd.DataFrame(dl_model.history.history)\n",
    "\n",
    "sns.set_style(\"whitegrid\")\n",
    "losses[['loss','val_loss']].plot(style='.-')\n",
    "plt.title(\"Loss\")\n",
    "plt.savefig(f'{file_path}/dl_model_training_losses.png', bbox_inches='tight', dpi=150)\n",
    "plt.show()\n",
    "\n",
    "print(\"\\n\")\n",
    "losses[['accuracy','val_accuracy']].plot(style='.-')\n",
    "plt.title(\"Accuracy\")\n",
    "plt.savefig(f'{file_path}/dl_model_training_acc.png', bbox_inches='tight', dpi=150)\n",
    "plt.show()"
   ]
  },
  {
   "cell_type": "markdown",
   "metadata": {},
   "source": [
    " ### Model Evaluation"
   ]
  },
  {
   "cell_type": "markdown",
   "metadata": {},
   "source": [
    "Load saved model"
   ]
  },
  {
   "cell_type": "code",
   "execution_count": 32,
   "metadata": {},
   "outputs": [
    {
     "name": "stderr",
     "output_type": "stream",
     "text": [
      "/Users/patriciahalley/Documents/Code_institute/git/ivf-success-predictor/venv-311/lib/python3.11/site-packages/keras/src/saving/saving_lib.py:713: UserWarning: Skipping variable loading for optimizer 'adam', because it has 14 variables whereas the saved optimizer has 2 variables. \n",
      "  saveable.load_own_variables(weights_store.get(inner_path))\n"
     ]
    }
   ],
   "source": [
    "from keras.models import load_model\n",
    "\n",
    "dl_model = load_model(f\"{file_path}/ivf_success_predictor_dl_model.keras\")"
   ]
  },
  {
   "cell_type": "markdown",
   "metadata": {},
   "source": [
    "Evaluate model on test set"
   ]
  },
  {
   "cell_type": "code",
   "execution_count": 33,
   "metadata": {},
   "outputs": [
    {
     "name": "stdout",
     "output_type": "stream",
     "text": [
      "\u001b[1m849/849\u001b[0m \u001b[32m━━━━━━━━━━━━━━━━━━━━\u001b[0m\u001b[37m\u001b[0m \u001b[1m2s\u001b[0m 3ms/step - accuracy: 0.6589 - loss: 0.6398\n"
     ]
    }
   ],
   "source": [
    "evaluation = dl_model.evaluate(X_test,y_test)"
   ]
  },
  {
   "cell_type": "markdown",
   "metadata": {},
   "source": [
    "### Save evaluation pickle"
   ]
  },
  {
   "cell_type": "code",
   "execution_count": 34,
   "metadata": {},
   "outputs": [
    {
     "data": {
      "text/plain": [
       "['outputs/ml_pipeline_dl/ivf_success_predictor_dl/v1/evaluation.pkl']"
      ]
     },
     "execution_count": 34,
     "metadata": {},
     "output_type": "execute_result"
    }
   ],
   "source": [
    "import joblib\n",
    "\n",
    "joblib.dump(value=evaluation,\n",
    "            filename=f\"{file_path}/evaluation.pkl\")"
   ]
  },
  {
   "cell_type": "markdown",
   "metadata": {},
   "source": [
    "### Confusion matrix"
   ]
  },
  {
   "cell_type": "code",
   "execution_count": 35,
   "metadata": {},
   "outputs": [],
   "source": [
    "from sklearn.metrics import classification_report, confusion_matrix\n",
    "\n",
    "\n",
    "def confusion_matrix_and_report(X, y, pipeline, label_map):\n",
    "    prediction = pipeline.predict(X).reshape(-1)\n",
    "    prediction = np.where(prediction < 0.5, 0, 1)\n",
    "\n",
    "    print(\"---  Confusion Matrix  ---\")\n",
    "    print(\n",
    "        pd.DataFrame(\n",
    "            confusion_matrix(y_true=prediction, y_pred=y),\n",
    "            columns=[[\"Actual \" + sub for sub in label_map]],\n",
    "            index=[[\"Prediction \" + sub for sub in label_map]],\n",
    "        )\n",
    "    )\n",
    "    print(\"\\n\")\n",
    "\n",
    "    print(\"---  Classification Report  ---\")\n",
    "    print(classification_report(y, prediction, target_names=label_map), \"\\n\")\n",
    "\n",
    "\n",
    "def clf_performance(\n",
    "    X_train, y_train, X_test, y_test, X_val, y_val, pipeline, label_map\n",
    "):\n",
    "\n",
    "    print(\"#### Train Set #### \\n\")\n",
    "    confusion_matrix_and_report(X_train, y_train, pipeline, label_map)\n",
    "\n",
    "    print(\"#### Validation Set #### \\n\")\n",
    "    confusion_matrix_and_report(X_val, y_val, pipeline, label_map)\n",
    "\n",
    "    print(\"#### Test Set ####\\n\")\n",
    "    confusion_matrix_and_report(X_test, y_test, pipeline, label_map)"
   ]
  },
  {
   "cell_type": "code",
   "execution_count": 36,
   "metadata": {},
   "outputs": [
    {
     "name": "stdout",
     "output_type": "stream",
     "text": [
      "#### Train Set #### \n",
      "\n",
      "\u001b[1m3880/3880\u001b[0m \u001b[32m━━━━━━━━━━━━━━━━━━━━\u001b[0m\u001b[37m\u001b[0m \u001b[1m4s\u001b[0m 933us/step\n",
      "---  Confusion Matrix  ---\n",
      "                      Actual No Success Actual Success\n",
      "Prediction No Success             53042          52145\n",
      "Prediction Success                 9066           9876\n",
      "\n",
      "\n",
      "---  Classification Report  ---\n",
      "              precision    recall  f1-score   support\n",
      "\n",
      "  No Success       0.50      0.85      0.63     62108\n",
      "     Success       0.52      0.16      0.24     62021\n",
      "\n",
      "    accuracy                           0.51    124129\n",
      "   macro avg       0.51      0.51      0.44    124129\n",
      "weighted avg       0.51      0.51      0.44    124129\n",
      " \n",
      "\n",
      "#### Validation Set #### \n",
      "\n",
      "\u001b[1m970/970\u001b[0m \u001b[32m━━━━━━━━━━━━━━━━━━━━\u001b[0m\u001b[37m\u001b[0m \u001b[1m1s\u001b[0m 763us/step\n",
      "---  Confusion Matrix  ---\n",
      "                      Actual No Success Actual Success\n",
      "Prediction No Success             13254          13093\n",
      "Prediction Success                 2219           2467\n",
      "\n",
      "\n",
      "---  Classification Report  ---\n",
      "              precision    recall  f1-score   support\n",
      "\n",
      "  No Success       0.50      0.86      0.63     15473\n",
      "     Success       0.53      0.16      0.24     15560\n",
      "\n",
      "    accuracy                           0.51     31033\n",
      "   macro avg       0.51      0.51      0.44     31033\n",
      "weighted avg       0.51      0.51      0.44     31033\n",
      " \n",
      "\n",
      "#### Test Set ####\n",
      "\n",
      "\u001b[1m849/849\u001b[0m \u001b[32m━━━━━━━━━━━━━━━━━━━━\u001b[0m\u001b[37m\u001b[0m \u001b[1m1s\u001b[0m 758us/step\n",
      "---  Confusion Matrix  ---\n",
      "                      Actual No Success Actual Success\n",
      "Prediction No Success             16602           6552\n",
      "Prediction Success                 2710           1275\n",
      "\n",
      "\n",
      "---  Classification Report  ---\n",
      "              precision    recall  f1-score   support\n",
      "\n",
      "  No Success       0.72      0.86      0.78     19312\n",
      "     Success       0.32      0.16      0.22      7827\n",
      "\n",
      "    accuracy                           0.66     27139\n",
      "   macro avg       0.52      0.51      0.50     27139\n",
      "weighted avg       0.60      0.66      0.62     27139\n",
      " \n",
      "\n"
     ]
    }
   ],
   "source": [
    "clf_performance(X_train, y_train,\n",
    "                X_test,y_test,\n",
    "                X_val, y_val,\n",
    "                dl_model,\n",
    "                label_map= ['No Success', 'Success']\n",
    "                )"
   ]
  },
  {
   "cell_type": "markdown",
   "metadata": {},
   "source": [
    "---"
   ]
  },
  {
   "cell_type": "markdown",
   "metadata": {},
   "source": [
    "## Predict on new data"
   ]
  },
  {
   "cell_type": "markdown",
   "metadata": {},
   "source": [
    "Predict class probabilities"
   ]
  },
  {
   "cell_type": "markdown",
   "metadata": {},
   "source": [
    "Create a dataframe with rows that were not dropped during data cleaning steps to test the live prediction"
   ]
  },
  {
   "cell_type": "code",
   "execution_count": 37,
   "metadata": {},
   "outputs": [
    {
     "data": {
      "text/plain": [
       "0     0\n",
       "1     0\n",
       "2     0\n",
       "3     0\n",
       "4     0\n",
       "5     0\n",
       "6     0\n",
       "7     0\n",
       "8     1\n",
       "9     1\n",
       "10    1\n",
       "11    0\n",
       "12    0\n",
       "13    0\n",
       "14    0\n",
       "15    0\n",
       "16    1\n",
       "17    0\n",
       "18    0\n",
       "19    0\n",
       "20    0\n",
       "21    0\n",
       "22    0\n",
       "23    0\n",
       "24    0\n",
       "25    1\n",
       "26    0\n",
       "27    0\n",
       "28    0\n",
       "29    0\n",
       "30    1\n",
       "31    0\n",
       "32    0\n",
       "33    0\n",
       "34    0\n",
       "35    0\n",
       "36    0\n",
       "37    0\n",
       "38    0\n",
       "39    0\n",
       "40    0\n",
       "41    0\n",
       "42    1\n",
       "43    0\n",
       "44    0\n",
       "45    1\n",
       "46    0\n",
       "47    1\n",
       "48    1\n",
       "49    0\n",
       "Name: Live birth occurrence, dtype: int64"
      ]
     },
     "execution_count": 37,
     "metadata": {},
     "output_type": "execute_result"
    }
   ],
   "source": [
    "X_train_live_data_prediction = pipeline_feat_eng_dl.fit_transform(df)\n",
    "X_train_live_data_prediction[\"Live birth occurrence\"].head(50)"
   ]
  },
  {
   "cell_type": "markdown",
   "metadata": {},
   "source": [
    "Take a sample from the test set and use it as if it was live data."
   ]
  },
  {
   "cell_type": "markdown",
   "metadata": {},
   "source": [
    "Choose a index from the dataset that should result in \"No Sucess\", i. e. Live birth occurrence 0 to test"
   ]
  },
  {
   "cell_type": "code",
   "execution_count": 38,
   "metadata": {},
   "outputs": [
    {
     "data": {
      "text/plain": [
       "array([[-4.52799998e-01, -4.00777769e-01, -3.35723289e-01,\n",
       "        -3.74174720e-01,  1.40018232e+00, -6.75707094e-01,\n",
       "        -2.54264171e-01, -1.22357983e+00,  1.00511848e+01,\n",
       "        -1.22773407e-01, -7.93398158e-01, -6.52269817e-01,\n",
       "        -5.51595846e-01, -4.05295280e-01, -2.11118528e-01,\n",
       "        -2.27814014e-01,  1.65132091e+00, -7.72094615e-01,\n",
       "        -3.08612927e-01, -1.66259110e-01, -2.00914111e-01,\n",
       "         1.10739923e+00, -4.19425203e-01, -1.87952077e-01,\n",
       "        -3.99484799e-01,  1.38532079e+00, -4.81861694e-01,\n",
       "        -2.75457993e-01, -3.21544391e-01, -1.55159799e-01,\n",
       "        -3.89442686e-01, -8.80957518e-02, -7.86447406e-01,\n",
       "        -7.14898719e-01,  1.61669881e+00, -4.78515018e-02,\n",
       "        -1.82136236e-02,  2.49382800e-01,  3.08541310e-01,\n",
       "         2.21151946e+00, -1.47550832e+00, -3.42813511e-01,\n",
       "        -1.58122840e-01,  2.17271715e+00, -1.43070940e+00,\n",
       "        -3.25505434e-01, -1.10264597e-01, -1.51127373e-01,\n",
       "        -3.87369448e-01, -4.91648778e-01, -4.23002794e-01,\n",
       "        -1.56647655e-01, -2.63181326e-01, -2.52782547e-01,\n",
       "        -9.60334130e-02, -5.70360806e-02, -3.54172431e-02,\n",
       "        -3.65937042e-01, -5.24660861e-01, -4.89452092e-01,\n",
       "        -1.33755863e-01, -1.94882120e-01, -2.28974930e-01,\n",
       "        -7.55438561e-02, -4.58772166e-02, -2.42879651e-02,\n",
       "        -4.81281098e-01, -6.65429474e-01, -2.54674573e-01,\n",
       "        -2.62219578e-01, -5.89549715e-02, -1.21998001e-01,\n",
       "        -3.43585052e-02, -6.12227650e-01,  1.95832220e+00,\n",
       "        -3.69681529e-01, -7.77329278e-02,  1.43996508e+00,\n",
       "        -7.44010757e-01, -3.43953397e-01, -2.30840373e-01,\n",
       "        -8.30716653e-02, -7.57901358e-02, -1.01362493e-01,\n",
       "         0.00000000e+00, -7.57901358e-02, -5.36877719e-02,\n",
       "        -8.74563292e-02, -6.07031294e-03, -3.32662524e-02,\n",
       "        -1.35746328e-02, -1.21412970e-02, -2.78279247e-02,\n",
       "        -1.35746328e-02, -6.07031294e-03, -1.71716526e-02,\n",
       "        -6.07031294e-03]])"
      ]
     },
     "execution_count": 38,
     "metadata": {},
     "output_type": "execute_result"
    }
   ],
   "source": [
    "# Set a specific row of data as the index value \n",
    "index = 9\n",
    "\n",
    "# Extract a specific row from the X_test dataset using the index with the slice method\n",
    "# The row extracted corresponds to the value of `index-1` to `index`.\n",
    "# That means if `index` is 1, the row extracted will be the first row of the dataset\n",
    "# (from index-1, which is 0, to index, which is 1 and 1 is not includded).\n",
    "# The comma after `index-1:index` keeps the row in a 2D array format (like a single row in a matrix).\n",
    "live_data = X_test[index-1:index,]\n",
    "\n",
    "# Display the extracted data.\n",
    "live_data"
   ]
  },
  {
   "cell_type": "markdown",
   "metadata": {},
   "source": [
    "Use model.predict and pass the data"
   ]
  },
  {
   "cell_type": "code",
   "execution_count": 39,
   "metadata": {},
   "outputs": [
    {
     "name": "stdout",
     "output_type": "stream",
     "text": [
      "\u001b[1m1/1\u001b[0m \u001b[32m━━━━━━━━━━━━━━━━━━━━\u001b[0m\u001b[37m\u001b[0m \u001b[1m0s\u001b[0m 9ms/step\n"
     ]
    },
    {
     "data": {
      "text/plain": [
       "array([[0.07434901]], dtype=float32)"
      ]
     },
     "execution_count": 39,
     "metadata": {},
     "output_type": "execute_result"
    }
   ],
   "source": [
    "prediction_proba = dl_model.predict(live_data)\n",
    "prediction_proba"
   ]
  },
  {
   "cell_type": "markdown",
   "metadata": {},
   "source": [
    "Set threshold using NumPy function np.where().\n",
    "\n",
    "Make a condition: (prediction_proba < 0.5), if that is true, it converts to 0; otherwise, it is 1."
   ]
  },
  {
   "cell_type": "code",
   "execution_count": 40,
   "metadata": {},
   "outputs": [
    {
     "data": {
      "text/plain": [
       "array([[0]])"
      ]
     },
     "execution_count": 40,
     "metadata": {},
     "output_type": "execute_result"
    }
   ],
   "source": [
    "prediction_class = np.where(prediction_proba<0.5,0,1)\n",
    "prediction_class"
   ]
  },
  {
   "cell_type": "markdown",
   "metadata": {},
   "source": [
    "In this case, 0 means \"No success\" and 1 means \"Success\"."
   ]
  },
  {
   "cell_type": "markdown",
   "metadata": {},
   "source": [
    "---"
   ]
  },
  {
   "cell_type": "markdown",
   "metadata": {},
   "source": [
    "### ML Pipelines: Feat Eng pipeline and Modelling Pipeline"
   ]
  },
  {
   "cell_type": "markdown",
   "metadata": {},
   "source": [
    "Both pipelines should be used in conjunction to predict Live Data.\n",
    "\n",
    "* To predict on Train Set, Test Set we use only pipeline_clf, since the data is already processed."
   ]
  },
  {
   "cell_type": "markdown",
   "metadata": {},
   "source": [
    "Pipeline responsible for Data Cleaning and Feature Engineering."
   ]
  },
  {
   "cell_type": "code",
   "execution_count": 41,
   "metadata": {},
   "outputs": [
    {
     "data": {
      "text/html": [
       "<style>#sk-container-id-2 {\n",
       "  /* Definition of color scheme common for light and dark mode */\n",
       "  --sklearn-color-text: black;\n",
       "  --sklearn-color-line: gray;\n",
       "  /* Definition of color scheme for unfitted estimators */\n",
       "  --sklearn-color-unfitted-level-0: #fff5e6;\n",
       "  --sklearn-color-unfitted-level-1: #f6e4d2;\n",
       "  --sklearn-color-unfitted-level-2: #ffe0b3;\n",
       "  --sklearn-color-unfitted-level-3: chocolate;\n",
       "  /* Definition of color scheme for fitted estimators */\n",
       "  --sklearn-color-fitted-level-0: #f0f8ff;\n",
       "  --sklearn-color-fitted-level-1: #d4ebff;\n",
       "  --sklearn-color-fitted-level-2: #b3dbfd;\n",
       "  --sklearn-color-fitted-level-3: cornflowerblue;\n",
       "\n",
       "  /* Specific color for light theme */\n",
       "  --sklearn-color-text-on-default-background: var(--sg-text-color, var(--theme-code-foreground, var(--jp-content-font-color1, black)));\n",
       "  --sklearn-color-background: var(--sg-background-color, var(--theme-background, var(--jp-layout-color0, white)));\n",
       "  --sklearn-color-border-box: var(--sg-text-color, var(--theme-code-foreground, var(--jp-content-font-color1, black)));\n",
       "  --sklearn-color-icon: #696969;\n",
       "\n",
       "  @media (prefers-color-scheme: dark) {\n",
       "    /* Redefinition of color scheme for dark theme */\n",
       "    --sklearn-color-text-on-default-background: var(--sg-text-color, var(--theme-code-foreground, var(--jp-content-font-color1, white)));\n",
       "    --sklearn-color-background: var(--sg-background-color, var(--theme-background, var(--jp-layout-color0, #111)));\n",
       "    --sklearn-color-border-box: var(--sg-text-color, var(--theme-code-foreground, var(--jp-content-font-color1, white)));\n",
       "    --sklearn-color-icon: #878787;\n",
       "  }\n",
       "}\n",
       "\n",
       "#sk-container-id-2 {\n",
       "  color: var(--sklearn-color-text);\n",
       "}\n",
       "\n",
       "#sk-container-id-2 pre {\n",
       "  padding: 0;\n",
       "}\n",
       "\n",
       "#sk-container-id-2 input.sk-hidden--visually {\n",
       "  border: 0;\n",
       "  clip: rect(1px 1px 1px 1px);\n",
       "  clip: rect(1px, 1px, 1px, 1px);\n",
       "  height: 1px;\n",
       "  margin: -1px;\n",
       "  overflow: hidden;\n",
       "  padding: 0;\n",
       "  position: absolute;\n",
       "  width: 1px;\n",
       "}\n",
       "\n",
       "#sk-container-id-2 div.sk-dashed-wrapped {\n",
       "  border: 1px dashed var(--sklearn-color-line);\n",
       "  margin: 0 0.4em 0.5em 0.4em;\n",
       "  box-sizing: border-box;\n",
       "  padding-bottom: 0.4em;\n",
       "  background-color: var(--sklearn-color-background);\n",
       "}\n",
       "\n",
       "#sk-container-id-2 div.sk-container {\n",
       "  /* jupyter's `normalize.less` sets `[hidden] { display: none; }`\n",
       "     but bootstrap.min.css set `[hidden] { display: none !important; }`\n",
       "     so we also need the `!important` here to be able to override the\n",
       "     default hidden behavior on the sphinx rendered scikit-learn.org.\n",
       "     See: https://github.com/scikit-learn/scikit-learn/issues/21755 */\n",
       "  display: inline-block !important;\n",
       "  position: relative;\n",
       "}\n",
       "\n",
       "#sk-container-id-2 div.sk-text-repr-fallback {\n",
       "  display: none;\n",
       "}\n",
       "\n",
       "div.sk-parallel-item,\n",
       "div.sk-serial,\n",
       "div.sk-item {\n",
       "  /* draw centered vertical line to link estimators */\n",
       "  background-image: linear-gradient(var(--sklearn-color-text-on-default-background), var(--sklearn-color-text-on-default-background));\n",
       "  background-size: 2px 100%;\n",
       "  background-repeat: no-repeat;\n",
       "  background-position: center center;\n",
       "}\n",
       "\n",
       "/* Parallel-specific style estimator block */\n",
       "\n",
       "#sk-container-id-2 div.sk-parallel-item::after {\n",
       "  content: \"\";\n",
       "  width: 100%;\n",
       "  border-bottom: 2px solid var(--sklearn-color-text-on-default-background);\n",
       "  flex-grow: 1;\n",
       "}\n",
       "\n",
       "#sk-container-id-2 div.sk-parallel {\n",
       "  display: flex;\n",
       "  align-items: stretch;\n",
       "  justify-content: center;\n",
       "  background-color: var(--sklearn-color-background);\n",
       "  position: relative;\n",
       "}\n",
       "\n",
       "#sk-container-id-2 div.sk-parallel-item {\n",
       "  display: flex;\n",
       "  flex-direction: column;\n",
       "}\n",
       "\n",
       "#sk-container-id-2 div.sk-parallel-item:first-child::after {\n",
       "  align-self: flex-end;\n",
       "  width: 50%;\n",
       "}\n",
       "\n",
       "#sk-container-id-2 div.sk-parallel-item:last-child::after {\n",
       "  align-self: flex-start;\n",
       "  width: 50%;\n",
       "}\n",
       "\n",
       "#sk-container-id-2 div.sk-parallel-item:only-child::after {\n",
       "  width: 0;\n",
       "}\n",
       "\n",
       "/* Serial-specific style estimator block */\n",
       "\n",
       "#sk-container-id-2 div.sk-serial {\n",
       "  display: flex;\n",
       "  flex-direction: column;\n",
       "  align-items: center;\n",
       "  background-color: var(--sklearn-color-background);\n",
       "  padding-right: 1em;\n",
       "  padding-left: 1em;\n",
       "}\n",
       "\n",
       "\n",
       "/* Toggleable style: style used for estimator/Pipeline/ColumnTransformer box that is\n",
       "clickable and can be expanded/collapsed.\n",
       "- Pipeline and ColumnTransformer use this feature and define the default style\n",
       "- Estimators will overwrite some part of the style using the `sk-estimator` class\n",
       "*/\n",
       "\n",
       "/* Pipeline and ColumnTransformer style (default) */\n",
       "\n",
       "#sk-container-id-2 div.sk-toggleable {\n",
       "  /* Default theme specific background. It is overwritten whether we have a\n",
       "  specific estimator or a Pipeline/ColumnTransformer */\n",
       "  background-color: var(--sklearn-color-background);\n",
       "}\n",
       "\n",
       "/* Toggleable label */\n",
       "#sk-container-id-2 label.sk-toggleable__label {\n",
       "  cursor: pointer;\n",
       "  display: block;\n",
       "  width: 100%;\n",
       "  margin-bottom: 0;\n",
       "  padding: 0.5em;\n",
       "  box-sizing: border-box;\n",
       "  text-align: center;\n",
       "}\n",
       "\n",
       "#sk-container-id-2 label.sk-toggleable__label-arrow:before {\n",
       "  /* Arrow on the left of the label */\n",
       "  content: \"▸\";\n",
       "  float: left;\n",
       "  margin-right: 0.25em;\n",
       "  color: var(--sklearn-color-icon);\n",
       "}\n",
       "\n",
       "#sk-container-id-2 label.sk-toggleable__label-arrow:hover:before {\n",
       "  color: var(--sklearn-color-text);\n",
       "}\n",
       "\n",
       "/* Toggleable content - dropdown */\n",
       "\n",
       "#sk-container-id-2 div.sk-toggleable__content {\n",
       "  max-height: 0;\n",
       "  max-width: 0;\n",
       "  overflow: hidden;\n",
       "  text-align: left;\n",
       "  /* unfitted */\n",
       "  background-color: var(--sklearn-color-unfitted-level-0);\n",
       "}\n",
       "\n",
       "#sk-container-id-2 div.sk-toggleable__content.fitted {\n",
       "  /* fitted */\n",
       "  background-color: var(--sklearn-color-fitted-level-0);\n",
       "}\n",
       "\n",
       "#sk-container-id-2 div.sk-toggleable__content pre {\n",
       "  margin: 0.2em;\n",
       "  border-radius: 0.25em;\n",
       "  color: var(--sklearn-color-text);\n",
       "  /* unfitted */\n",
       "  background-color: var(--sklearn-color-unfitted-level-0);\n",
       "}\n",
       "\n",
       "#sk-container-id-2 div.sk-toggleable__content.fitted pre {\n",
       "  /* unfitted */\n",
       "  background-color: var(--sklearn-color-fitted-level-0);\n",
       "}\n",
       "\n",
       "#sk-container-id-2 input.sk-toggleable__control:checked~div.sk-toggleable__content {\n",
       "  /* Expand drop-down */\n",
       "  max-height: 200px;\n",
       "  max-width: 100%;\n",
       "  overflow: auto;\n",
       "}\n",
       "\n",
       "#sk-container-id-2 input.sk-toggleable__control:checked~label.sk-toggleable__label-arrow:before {\n",
       "  content: \"▾\";\n",
       "}\n",
       "\n",
       "/* Pipeline/ColumnTransformer-specific style */\n",
       "\n",
       "#sk-container-id-2 div.sk-label input.sk-toggleable__control:checked~label.sk-toggleable__label {\n",
       "  color: var(--sklearn-color-text);\n",
       "  background-color: var(--sklearn-color-unfitted-level-2);\n",
       "}\n",
       "\n",
       "#sk-container-id-2 div.sk-label.fitted input.sk-toggleable__control:checked~label.sk-toggleable__label {\n",
       "  background-color: var(--sklearn-color-fitted-level-2);\n",
       "}\n",
       "\n",
       "/* Estimator-specific style */\n",
       "\n",
       "/* Colorize estimator box */\n",
       "#sk-container-id-2 div.sk-estimator input.sk-toggleable__control:checked~label.sk-toggleable__label {\n",
       "  /* unfitted */\n",
       "  background-color: var(--sklearn-color-unfitted-level-2);\n",
       "}\n",
       "\n",
       "#sk-container-id-2 div.sk-estimator.fitted input.sk-toggleable__control:checked~label.sk-toggleable__label {\n",
       "  /* fitted */\n",
       "  background-color: var(--sklearn-color-fitted-level-2);\n",
       "}\n",
       "\n",
       "#sk-container-id-2 div.sk-label label.sk-toggleable__label,\n",
       "#sk-container-id-2 div.sk-label label {\n",
       "  /* The background is the default theme color */\n",
       "  color: var(--sklearn-color-text-on-default-background);\n",
       "}\n",
       "\n",
       "/* On hover, darken the color of the background */\n",
       "#sk-container-id-2 div.sk-label:hover label.sk-toggleable__label {\n",
       "  color: var(--sklearn-color-text);\n",
       "  background-color: var(--sklearn-color-unfitted-level-2);\n",
       "}\n",
       "\n",
       "/* Label box, darken color on hover, fitted */\n",
       "#sk-container-id-2 div.sk-label.fitted:hover label.sk-toggleable__label.fitted {\n",
       "  color: var(--sklearn-color-text);\n",
       "  background-color: var(--sklearn-color-fitted-level-2);\n",
       "}\n",
       "\n",
       "/* Estimator label */\n",
       "\n",
       "#sk-container-id-2 div.sk-label label {\n",
       "  font-family: monospace;\n",
       "  font-weight: bold;\n",
       "  display: inline-block;\n",
       "  line-height: 1.2em;\n",
       "}\n",
       "\n",
       "#sk-container-id-2 div.sk-label-container {\n",
       "  text-align: center;\n",
       "}\n",
       "\n",
       "/* Estimator-specific */\n",
       "#sk-container-id-2 div.sk-estimator {\n",
       "  font-family: monospace;\n",
       "  border: 1px dotted var(--sklearn-color-border-box);\n",
       "  border-radius: 0.25em;\n",
       "  box-sizing: border-box;\n",
       "  margin-bottom: 0.5em;\n",
       "  /* unfitted */\n",
       "  background-color: var(--sklearn-color-unfitted-level-0);\n",
       "}\n",
       "\n",
       "#sk-container-id-2 div.sk-estimator.fitted {\n",
       "  /* fitted */\n",
       "  background-color: var(--sklearn-color-fitted-level-0);\n",
       "}\n",
       "\n",
       "/* on hover */\n",
       "#sk-container-id-2 div.sk-estimator:hover {\n",
       "  /* unfitted */\n",
       "  background-color: var(--sklearn-color-unfitted-level-2);\n",
       "}\n",
       "\n",
       "#sk-container-id-2 div.sk-estimator.fitted:hover {\n",
       "  /* fitted */\n",
       "  background-color: var(--sklearn-color-fitted-level-2);\n",
       "}\n",
       "\n",
       "/* Specification for estimator info (e.g. \"i\" and \"?\") */\n",
       "\n",
       "/* Common style for \"i\" and \"?\" */\n",
       "\n",
       ".sk-estimator-doc-link,\n",
       "a:link.sk-estimator-doc-link,\n",
       "a:visited.sk-estimator-doc-link {\n",
       "  float: right;\n",
       "  font-size: smaller;\n",
       "  line-height: 1em;\n",
       "  font-family: monospace;\n",
       "  background-color: var(--sklearn-color-background);\n",
       "  border-radius: 1em;\n",
       "  height: 1em;\n",
       "  width: 1em;\n",
       "  text-decoration: none !important;\n",
       "  margin-left: 1ex;\n",
       "  /* unfitted */\n",
       "  border: var(--sklearn-color-unfitted-level-1) 1pt solid;\n",
       "  color: var(--sklearn-color-unfitted-level-1);\n",
       "}\n",
       "\n",
       ".sk-estimator-doc-link.fitted,\n",
       "a:link.sk-estimator-doc-link.fitted,\n",
       "a:visited.sk-estimator-doc-link.fitted {\n",
       "  /* fitted */\n",
       "  border: var(--sklearn-color-fitted-level-1) 1pt solid;\n",
       "  color: var(--sklearn-color-fitted-level-1);\n",
       "}\n",
       "\n",
       "/* On hover */\n",
       "div.sk-estimator:hover .sk-estimator-doc-link:hover,\n",
       ".sk-estimator-doc-link:hover,\n",
       "div.sk-label-container:hover .sk-estimator-doc-link:hover,\n",
       ".sk-estimator-doc-link:hover {\n",
       "  /* unfitted */\n",
       "  background-color: var(--sklearn-color-unfitted-level-3);\n",
       "  color: var(--sklearn-color-background);\n",
       "  text-decoration: none;\n",
       "}\n",
       "\n",
       "div.sk-estimator.fitted:hover .sk-estimator-doc-link.fitted:hover,\n",
       ".sk-estimator-doc-link.fitted:hover,\n",
       "div.sk-label-container:hover .sk-estimator-doc-link.fitted:hover,\n",
       ".sk-estimator-doc-link.fitted:hover {\n",
       "  /* fitted */\n",
       "  background-color: var(--sklearn-color-fitted-level-3);\n",
       "  color: var(--sklearn-color-background);\n",
       "  text-decoration: none;\n",
       "}\n",
       "\n",
       "/* Span, style for the box shown on hovering the info icon */\n",
       ".sk-estimator-doc-link span {\n",
       "  display: none;\n",
       "  z-index: 9999;\n",
       "  position: relative;\n",
       "  font-weight: normal;\n",
       "  right: .2ex;\n",
       "  padding: .5ex;\n",
       "  margin: .5ex;\n",
       "  width: min-content;\n",
       "  min-width: 20ex;\n",
       "  max-width: 50ex;\n",
       "  color: var(--sklearn-color-text);\n",
       "  box-shadow: 2pt 2pt 4pt #999;\n",
       "  /* unfitted */\n",
       "  background: var(--sklearn-color-unfitted-level-0);\n",
       "  border: .5pt solid var(--sklearn-color-unfitted-level-3);\n",
       "}\n",
       "\n",
       ".sk-estimator-doc-link.fitted span {\n",
       "  /* fitted */\n",
       "  background: var(--sklearn-color-fitted-level-0);\n",
       "  border: var(--sklearn-color-fitted-level-3);\n",
       "}\n",
       "\n",
       ".sk-estimator-doc-link:hover span {\n",
       "  display: block;\n",
       "}\n",
       "\n",
       "/* \"?\"-specific style due to the `<a>` HTML tag */\n",
       "\n",
       "#sk-container-id-2 a.estimator_doc_link {\n",
       "  float: right;\n",
       "  font-size: 1rem;\n",
       "  line-height: 1em;\n",
       "  font-family: monospace;\n",
       "  background-color: var(--sklearn-color-background);\n",
       "  border-radius: 1rem;\n",
       "  height: 1rem;\n",
       "  width: 1rem;\n",
       "  text-decoration: none;\n",
       "  /* unfitted */\n",
       "  color: var(--sklearn-color-unfitted-level-1);\n",
       "  border: var(--sklearn-color-unfitted-level-1) 1pt solid;\n",
       "}\n",
       "\n",
       "#sk-container-id-2 a.estimator_doc_link.fitted {\n",
       "  /* fitted */\n",
       "  border: var(--sklearn-color-fitted-level-1) 1pt solid;\n",
       "  color: var(--sklearn-color-fitted-level-1);\n",
       "}\n",
       "\n",
       "/* On hover */\n",
       "#sk-container-id-2 a.estimator_doc_link:hover {\n",
       "  /* unfitted */\n",
       "  background-color: var(--sklearn-color-unfitted-level-3);\n",
       "  color: var(--sklearn-color-background);\n",
       "  text-decoration: none;\n",
       "}\n",
       "\n",
       "#sk-container-id-2 a.estimator_doc_link.fitted:hover {\n",
       "  /* fitted */\n",
       "  background-color: var(--sklearn-color-fitted-level-3);\n",
       "}\n",
       "</style><div id=\"sk-container-id-2\" class=\"sk-top-container\"><div class=\"sk-text-repr-fallback\"><pre>Pipeline(steps=[(&#x27;one_hot_encoding&#x27;,\n",
       "                 OneHotEncoder(drop_last=True,\n",
       "                               variables=[&#x27;Patient age at treatment&#x27;,\n",
       "                                          &#x27;Total number of previous IVF cycles&#x27;,\n",
       "                                          &#x27;Patient/Egg provider age&#x27;,\n",
       "                                          &#x27;Partner/Sperm provider age&#x27;,\n",
       "                                          &#x27;Specific treatment type&#x27;,\n",
       "                                          &#x27;Egg source&#x27;, &#x27;Sperm source&#x27;,\n",
       "                                          &#x27;Patient ethnicity&#x27;,\n",
       "                                          &#x27;Partner ethnicity&#x27;,\n",
       "                                          &#x27;Fresh eggs collected&#x27;,\n",
       "                                          &#x27;Total eggs mixed&#x27;,\n",
       "                                          &#x27;Total embryos created&#x27;,\n",
       "                                          &#x27;Embryos transferred&#x27;,\n",
       "                                          &#x27;Total embryos thawed&#x27;,\n",
       "                                          &#x27;Date of embryo transfer&#x27;])),\n",
       "                (&#x27;smart_correlation&#x27;,\n",
       "                 SmartCorrelatedSelection(method=&#x27;spearman&#x27;,\n",
       "                                          selection_method=&#x27;variance&#x27;,\n",
       "                                          threshold=0.9))])</pre><b>In a Jupyter environment, please rerun this cell to show the HTML representation or trust the notebook. <br />On GitHub, the HTML representation is unable to render, please try loading this page with nbviewer.org.</b></div><div class=\"sk-container\" hidden><div class=\"sk-item sk-dashed-wrapped\"><div class=\"sk-label-container\"><div class=\"sk-label fitted sk-toggleable\"><input class=\"sk-toggleable__control sk-hidden--visually\" id=\"sk-estimator-id-4\" type=\"checkbox\" ><label for=\"sk-estimator-id-4\" class=\"sk-toggleable__label fitted sk-toggleable__label-arrow fitted\">&nbsp;&nbsp;Pipeline<a class=\"sk-estimator-doc-link fitted\" rel=\"noreferrer\" target=\"_blank\" href=\"https://scikit-learn.org/1.5/modules/generated/sklearn.pipeline.Pipeline.html\">?<span>Documentation for Pipeline</span></a><span class=\"sk-estimator-doc-link fitted\">i<span>Fitted</span></span></label><div class=\"sk-toggleable__content fitted\"><pre>Pipeline(steps=[(&#x27;one_hot_encoding&#x27;,\n",
       "                 OneHotEncoder(drop_last=True,\n",
       "                               variables=[&#x27;Patient age at treatment&#x27;,\n",
       "                                          &#x27;Total number of previous IVF cycles&#x27;,\n",
       "                                          &#x27;Patient/Egg provider age&#x27;,\n",
       "                                          &#x27;Partner/Sperm provider age&#x27;,\n",
       "                                          &#x27;Specific treatment type&#x27;,\n",
       "                                          &#x27;Egg source&#x27;, &#x27;Sperm source&#x27;,\n",
       "                                          &#x27;Patient ethnicity&#x27;,\n",
       "                                          &#x27;Partner ethnicity&#x27;,\n",
       "                                          &#x27;Fresh eggs collected&#x27;,\n",
       "                                          &#x27;Total eggs mixed&#x27;,\n",
       "                                          &#x27;Total embryos created&#x27;,\n",
       "                                          &#x27;Embryos transferred&#x27;,\n",
       "                                          &#x27;Total embryos thawed&#x27;,\n",
       "                                          &#x27;Date of embryo transfer&#x27;])),\n",
       "                (&#x27;smart_correlation&#x27;,\n",
       "                 SmartCorrelatedSelection(method=&#x27;spearman&#x27;,\n",
       "                                          selection_method=&#x27;variance&#x27;,\n",
       "                                          threshold=0.9))])</pre></div> </div></div><div class=\"sk-serial\"><div class=\"sk-item\"><div class=\"sk-estimator fitted sk-toggleable\"><input class=\"sk-toggleable__control sk-hidden--visually\" id=\"sk-estimator-id-5\" type=\"checkbox\" ><label for=\"sk-estimator-id-5\" class=\"sk-toggleable__label fitted sk-toggleable__label-arrow fitted\">OneHotEncoder</label><div class=\"sk-toggleable__content fitted\"><pre>OneHotEncoder(drop_last=True,\n",
       "              variables=[&#x27;Patient age at treatment&#x27;,\n",
       "                         &#x27;Total number of previous IVF cycles&#x27;,\n",
       "                         &#x27;Patient/Egg provider age&#x27;,\n",
       "                         &#x27;Partner/Sperm provider age&#x27;,\n",
       "                         &#x27;Specific treatment type&#x27;, &#x27;Egg source&#x27;,\n",
       "                         &#x27;Sperm source&#x27;, &#x27;Patient ethnicity&#x27;,\n",
       "                         &#x27;Partner ethnicity&#x27;, &#x27;Fresh eggs collected&#x27;,\n",
       "                         &#x27;Total eggs mixed&#x27;, &#x27;Total embryos created&#x27;,\n",
       "                         &#x27;Embryos transferred&#x27;, &#x27;Total embryos thawed&#x27;,\n",
       "                         &#x27;Date of embryo transfer&#x27;])</pre></div> </div></div><div class=\"sk-item\"><div class=\"sk-estimator fitted sk-toggleable\"><input class=\"sk-toggleable__control sk-hidden--visually\" id=\"sk-estimator-id-6\" type=\"checkbox\" ><label for=\"sk-estimator-id-6\" class=\"sk-toggleable__label fitted sk-toggleable__label-arrow fitted\">SmartCorrelatedSelection</label><div class=\"sk-toggleable__content fitted\"><pre>SmartCorrelatedSelection(method=&#x27;spearman&#x27;, selection_method=&#x27;variance&#x27;,\n",
       "                         threshold=0.9)</pre></div> </div></div></div></div></div></div>"
      ],
      "text/plain": [
       "Pipeline(steps=[('one_hot_encoding',\n",
       "                 OneHotEncoder(drop_last=True,\n",
       "                               variables=['Patient age at treatment',\n",
       "                                          'Total number of previous IVF cycles',\n",
       "                                          'Patient/Egg provider age',\n",
       "                                          'Partner/Sperm provider age',\n",
       "                                          'Specific treatment type',\n",
       "                                          'Egg source', 'Sperm source',\n",
       "                                          'Patient ethnicity',\n",
       "                                          'Partner ethnicity',\n",
       "                                          'Fresh eggs collected',\n",
       "                                          'Total eggs mixed',\n",
       "                                          'Total embryos created',\n",
       "                                          'Embryos transferred',\n",
       "                                          'Total embryos thawed',\n",
       "                                          'Date of embryo transfer'])),\n",
       "                ('smart_correlation',\n",
       "                 SmartCorrelatedSelection(method='spearman',\n",
       "                                          selection_method='variance',\n",
       "                                          threshold=0.9))])"
      ]
     },
     "execution_count": 41,
     "metadata": {},
     "output_type": "execute_result"
    }
   ],
   "source": [
    "pipeline_feat_eng_dl"
   ]
  },
  {
   "cell_type": "code",
   "execution_count": 42,
   "metadata": {},
   "outputs": [
    {
     "data": {
      "text/plain": [
       "['outputs/ml_pipeline_dl/ivf_success_predictor_dl/v1/clf_pipeline_feat_eng_dl.pkl']"
      ]
     },
     "execution_count": 42,
     "metadata": {},
     "output_type": "execute_result"
    }
   ],
   "source": [
    "joblib.dump(value=pipeline_feat_eng_dl ,\n",
    "            filename=f\"{file_path}/clf_pipeline_feat_eng_dl.pkl\")"
   ]
  },
  {
   "cell_type": "markdown",
   "metadata": {},
   "source": [
    "  Pipeline responsible for Feature Scaling, and Model"
   ]
  },
  {
   "cell_type": "code",
   "execution_count": 43,
   "metadata": {},
   "outputs": [
    {
     "data": {
      "text/plain": [
       "array([[-0.4528    , -0.40077777, -0.33572329, ..., -0.00607031,\n",
       "        -0.01717165, -0.00607031],\n",
       "       [-0.4528    , -0.40077777, -0.33572329, ..., -0.00607031,\n",
       "        -0.01717165, -0.00607031],\n",
       "       [-0.4528    , -0.40077777, -0.33572329, ..., -0.00607031,\n",
       "        -0.01717165, -0.00607031],\n",
       "       ...,\n",
       "       [-0.4528    , -0.40077777, -0.33572329, ..., -0.00607031,\n",
       "        -0.01717165, -0.00607031],\n",
       "       [-0.4528    , -0.40077777, -0.33572329, ..., -0.00607031,\n",
       "        -0.01717165, -0.00607031],\n",
       "       [-0.4528    , -0.40077777, -0.33572329, ..., -0.00607031,\n",
       "        -0.01717165, -0.00607031]])"
      ]
     },
     "execution_count": 43,
     "metadata": {},
     "output_type": "execute_result"
    }
   ],
   "source": [
    "pipeline_clf"
   ]
  },
  {
   "cell_type": "markdown",
   "metadata": {},
   "source": [
    "### Save the model as pkl compressed"
   ]
  },
  {
   "cell_type": "code",
   "execution_count": 44,
   "metadata": {},
   "outputs": [
    {
     "name": "stdout",
     "output_type": "stream",
     "text": [
      "Model compressed and saved at: outputs/ml_pipeline_dl/ivf_success_predictor_dl/v1/clf_pipeline_model.pkl.gz\n"
     ]
    }
   ],
   "source": [
    "import joblib\n",
    "import gzip\n",
    "\n",
    "# Save the model directly into a compressed gzip file\n",
    "with gzip.open(f\"{file_path}/clf_pipeline_model.pkl.gz\", 'wb') as f_out:\n",
    "    joblib.dump(pipeline_clf, f_out)\n",
    "\n",
    "print(f\"Model compressed and saved at: {file_path}/clf_pipeline_model.pkl.gz\")"
   ]
  },
  {
   "cell_type": "markdown",
   "metadata": {},
   "source": [
    "---"
   ]
  }
 ],
 "metadata": {
  "kernelspec": {
   "display_name": "venv",
   "language": "python",
   "name": "python3"
  },
  "language_info": {
   "codemirror_mode": {
    "name": "ipython",
    "version": 3
   },
   "file_extension": ".py",
   "mimetype": "text/x-python",
   "name": "python",
   "nbconvert_exporter": "python",
   "pygments_lexer": "ipython3",
   "version": "3.11.9"
  }
 },
 "nbformat": 4,
 "nbformat_minor": 2
}
