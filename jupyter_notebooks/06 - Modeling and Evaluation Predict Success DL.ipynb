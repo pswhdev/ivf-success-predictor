{
 "cells": [
  {
   "cell_type": "markdown",
   "metadata": {},
   "source": [
    "# Classification"
   ]
  },
  {
   "cell_type": "markdown",
   "metadata": {},
   "source": [
    "## Objectives\n",
    "\n",
    "*   Fit and evaluate a deep learning classification model to predict if a treatment will be successful or not.\n",
    "\n",
    "\n",
    "## Inputs\n",
    "\n",
    "* outputs/datasets/collection/FertilityTreatmentData.csv.gz\n",
    "* Instructions from the notebooks 02 and 04 on which variables to use for data cleaning and feature engineering.\n",
    "\n",
    "## Outputs\n",
    "\n",
    "* Train set (features and target)\n",
    "* Test set (features and target)\n",
    "* Data cleaning and Feature Engineering pipeline\n",
    "* Modeling pipeline\n",
    "* Machine learning model creation and training\n",
    "* Learning curve plot for model performance\n",
    "* Model evaluation on pickle file\n",
    "* Prediction on random data\n"
   ]
  },
  {
   "cell_type": "markdown",
   "metadata": {},
   "source": [
    "---"
   ]
  },
  {
   "cell_type": "markdown",
   "metadata": {},
   "source": [
    "## Change working directory"
   ]
  },
  {
   "cell_type": "markdown",
   "metadata": {},
   "source": [
    "Change the working directory from its current folder to its parent folder\n",
    "* Access the current directory with os.getcwd()"
   ]
  },
  {
   "cell_type": "code",
   "execution_count": 1,
   "metadata": {},
   "outputs": [
    {
     "data": {
      "text/plain": [
       "'/Users/patriciahalley/Documents/Code_institute/git/ivf-success-predictor/jupyter_notebooks'"
      ]
     },
     "execution_count": 1,
     "metadata": {},
     "output_type": "execute_result"
    }
   ],
   "source": [
    "import os\n",
    "current_dir = os.getcwd()\n",
    "current_dir"
   ]
  },
  {
   "cell_type": "markdown",
   "metadata": {},
   "source": [
    "To make the parent of the current directory the new current directory:\n",
    "* os.path.dirname() gets the parent directory\n",
    "* os.chir() defines the new current directory"
   ]
  },
  {
   "cell_type": "code",
   "execution_count": 2,
   "metadata": {},
   "outputs": [
    {
     "name": "stdout",
     "output_type": "stream",
     "text": [
      "A new current directory has been set\n"
     ]
    }
   ],
   "source": [
    "os.chdir(os.path.dirname(current_dir))\n",
    "print(\"A new current directory has been set\")"
   ]
  },
  {
   "cell_type": "markdown",
   "metadata": {},
   "source": [
    "Confirm the new current directory"
   ]
  },
  {
   "cell_type": "code",
   "execution_count": 3,
   "metadata": {},
   "outputs": [
    {
     "data": {
      "text/plain": [
       "'/Users/patriciahalley/Documents/Code_institute/git/ivf-success-predictor'"
      ]
     },
     "execution_count": 3,
     "metadata": {},
     "output_type": "execute_result"
    }
   ],
   "source": [
    "current_dir = os.getcwd()\n",
    "current_dir"
   ]
  },
  {
   "cell_type": "markdown",
   "metadata": {},
   "source": [
    "---"
   ]
  },
  {
   "cell_type": "markdown",
   "metadata": {},
   "source": [
    "## Load Data"
   ]
  },
  {
   "cell_type": "code",
   "execution_count": 4,
   "metadata": {},
   "outputs": [
    {
     "name": "stderr",
     "output_type": "stream",
     "text": [
      "/var/folders/ps/q2jlnsf17tx866fp04k_jkg00000gn/T/ipykernel_70053/3215408494.py:5: DtypeWarning: Columns (4,38,51) have mixed types. Specify dtype option on import or set low_memory=False.\n",
      "  df = pd.read_csv(\"outputs/datasets/collection/FertilityTreatmentData.csv.gz\")\n"
     ]
    },
    {
     "name": "stdout",
     "output_type": "stream",
     "text": [
      "(169616, 61)\n"
     ]
    },
    {
     "data": {
      "text/html": [
       "<div>\n",
       "<style scoped>\n",
       "    .dataframe tbody tr th:only-of-type {\n",
       "        vertical-align: middle;\n",
       "    }\n",
       "\n",
       "    .dataframe tbody tr th {\n",
       "        vertical-align: top;\n",
       "    }\n",
       "\n",
       "    .dataframe thead th {\n",
       "        text-align: right;\n",
       "    }\n",
       "</style>\n",
       "<table border=\"1\" class=\"dataframe\">\n",
       "  <thead>\n",
       "    <tr style=\"text-align: right;\">\n",
       "      <th></th>\n",
       "      <th>Patient age at treatment</th>\n",
       "      <th>Total number of previous IVF cycles</th>\n",
       "      <th>Total number of previous DI cycles</th>\n",
       "      <th>Total number of previous pregnancies - IVF and DI</th>\n",
       "      <th>Total number of previous live births - IVF or DI</th>\n",
       "      <th>Causes of infertility - tubal disease</th>\n",
       "      <th>Causes of infertility - ovulatory disorder</th>\n",
       "      <th>Causes of infertility - male factor</th>\n",
       "      <th>Causes of infertility - patient unexplained</th>\n",
       "      <th>Causes of infertility - endometriosis</th>\n",
       "      <th>...</th>\n",
       "      <th>Heart three weeks gestation</th>\n",
       "      <th>Heart three birth outcome</th>\n",
       "      <th>Heart three birth weight</th>\n",
       "      <th>Heart three sex</th>\n",
       "      <th>Heart three birth congenital abnormalities</th>\n",
       "      <th>Heart three delivery date</th>\n",
       "      <th>Patient ethnicity</th>\n",
       "      <th>Partner ethnicity</th>\n",
       "      <th>Partner Type</th>\n",
       "      <th>Partner age</th>\n",
       "    </tr>\n",
       "  </thead>\n",
       "  <tbody>\n",
       "    <tr>\n",
       "      <th>0</th>\n",
       "      <td>45-50</td>\n",
       "      <td>3</td>\n",
       "      <td>0</td>\n",
       "      <td>0.0</td>\n",
       "      <td>0</td>\n",
       "      <td>0</td>\n",
       "      <td>0</td>\n",
       "      <td>0</td>\n",
       "      <td>0</td>\n",
       "      <td>0</td>\n",
       "      <td>...</td>\n",
       "      <td>NaN</td>\n",
       "      <td>NaN</td>\n",
       "      <td>NaN</td>\n",
       "      <td>NaN</td>\n",
       "      <td>NaN</td>\n",
       "      <td>NaN</td>\n",
       "      <td>Black</td>\n",
       "      <td>Other</td>\n",
       "      <td>Male</td>\n",
       "      <td>NaN</td>\n",
       "    </tr>\n",
       "    <tr>\n",
       "      <th>1</th>\n",
       "      <td>18-34</td>\n",
       "      <td>0</td>\n",
       "      <td>0</td>\n",
       "      <td>NaN</td>\n",
       "      <td>NaN</td>\n",
       "      <td>0</td>\n",
       "      <td>0</td>\n",
       "      <td>0</td>\n",
       "      <td>0</td>\n",
       "      <td>0</td>\n",
       "      <td>...</td>\n",
       "      <td>NaN</td>\n",
       "      <td>NaN</td>\n",
       "      <td>NaN</td>\n",
       "      <td>NaN</td>\n",
       "      <td>NaN</td>\n",
       "      <td>NaN</td>\n",
       "      <td>White</td>\n",
       "      <td>Other</td>\n",
       "      <td>NaN</td>\n",
       "      <td>NaN</td>\n",
       "    </tr>\n",
       "    <tr>\n",
       "      <th>2</th>\n",
       "      <td>999</td>\n",
       "      <td>0</td>\n",
       "      <td>0</td>\n",
       "      <td>NaN</td>\n",
       "      <td>NaN</td>\n",
       "      <td>0</td>\n",
       "      <td>0</td>\n",
       "      <td>0</td>\n",
       "      <td>0</td>\n",
       "      <td>0</td>\n",
       "      <td>...</td>\n",
       "      <td>NaN</td>\n",
       "      <td>NaN</td>\n",
       "      <td>NaN</td>\n",
       "      <td>NaN</td>\n",
       "      <td>NaN</td>\n",
       "      <td>NaN</td>\n",
       "      <td>Other</td>\n",
       "      <td>Other</td>\n",
       "      <td>NaN</td>\n",
       "      <td>NaN</td>\n",
       "    </tr>\n",
       "  </tbody>\n",
       "</table>\n",
       "<p>3 rows × 61 columns</p>\n",
       "</div>"
      ],
      "text/plain": [
       "  Patient age at treatment Total number of previous IVF cycles  \\\n",
       "0                    45-50                                   3   \n",
       "1                    18-34                                   0   \n",
       "2                      999                                   0   \n",
       "\n",
       "  Total number of previous DI cycles  \\\n",
       "0                                  0   \n",
       "1                                  0   \n",
       "2                                  0   \n",
       "\n",
       "   Total number of previous pregnancies - IVF and DI  \\\n",
       "0                                                0.0   \n",
       "1                                                NaN   \n",
       "2                                                NaN   \n",
       "\n",
       "  Total number of previous live births - IVF or DI  \\\n",
       "0                                                0   \n",
       "1                                              NaN   \n",
       "2                                              NaN   \n",
       "\n",
       "   Causes of infertility - tubal disease  \\\n",
       "0                                      0   \n",
       "1                                      0   \n",
       "2                                      0   \n",
       "\n",
       "   Causes of infertility - ovulatory disorder  \\\n",
       "0                                           0   \n",
       "1                                           0   \n",
       "2                                           0   \n",
       "\n",
       "   Causes of infertility - male factor  \\\n",
       "0                                    0   \n",
       "1                                    0   \n",
       "2                                    0   \n",
       "\n",
       "   Causes of infertility - patient unexplained  \\\n",
       "0                                            0   \n",
       "1                                            0   \n",
       "2                                            0   \n",
       "\n",
       "   Causes of infertility - endometriosis  ... Heart three weeks gestation  \\\n",
       "0                                      0  ...                         NaN   \n",
       "1                                      0  ...                         NaN   \n",
       "2                                      0  ...                         NaN   \n",
       "\n",
       "   Heart three birth outcome Heart three birth weight Heart three sex  \\\n",
       "0                        NaN                      NaN             NaN   \n",
       "1                        NaN                      NaN             NaN   \n",
       "2                        NaN                      NaN             NaN   \n",
       "\n",
       "   Heart three birth congenital abnormalities Heart three delivery date  \\\n",
       "0                                         NaN                       NaN   \n",
       "1                                         NaN                       NaN   \n",
       "2                                         NaN                       NaN   \n",
       "\n",
       "  Patient ethnicity  Partner ethnicity  Partner Type  Partner age  \n",
       "0             Black              Other          Male          NaN  \n",
       "1             White              Other           NaN          NaN  \n",
       "2             Other              Other           NaN          NaN  \n",
       "\n",
       "[3 rows x 61 columns]"
      ]
     },
     "execution_count": 4,
     "metadata": {},
     "output_type": "execute_result"
    }
   ],
   "source": [
    "import numpy as np\n",
    "import pandas as pd\n",
    "\n",
    "# Open dataset\n",
    "df = pd.read_csv(\"outputs/datasets/collection/FertilityTreatmentData.csv.gz\")\n",
    "        \n",
    "print(df.shape)\n",
    "df.head(3)"
   ]
  },
  {
   "cell_type": "markdown",
   "metadata": {},
   "source": [
    "---"
   ]
  },
  {
   "cell_type": "markdown",
   "metadata": {},
   "source": [
    "## Set output directory"
   ]
  },
  {
   "cell_type": "code",
   "execution_count": 5,
   "metadata": {},
   "outputs": [
    {
     "name": "stdout",
     "output_type": "stream",
     "text": [
      "Old version is already available create a new version.\n"
     ]
    }
   ],
   "source": [
    "version = 'v1'\n",
    "file_path = f'outputs/{version}'\n",
    "\n",
    "if 'outputs' in os.listdir(current_dir) and version in os.listdir(current_dir + '/outputs'):\n",
    "  print('Old version is already available create a new version.')\n",
    "  pass\n",
    "else:\n",
    "  os.makedirs(name=file_path)"
   ]
  },
  {
   "cell_type": "markdown",
   "metadata": {},
   "source": [
    "---"
   ]
  },
  {
   "cell_type": "markdown",
   "metadata": {},
   "source": [
    "## ML Pipeline"
   ]
  },
  {
   "cell_type": "markdown",
   "metadata": {},
   "source": [
    "#### ML pipeline for Data Cleaning and Feature Engineering"
   ]
  },
  {
   "cell_type": "markdown",
   "metadata": {},
   "source": [
    "Custom Transformers:"
   ]
  },
  {
   "cell_type": "code",
   "execution_count": 6,
   "metadata": {},
   "outputs": [],
   "source": [
    "from sklearn.base import BaseEstimator, TransformerMixin\n",
    "\n",
    "\n",
    "class FilterIVFTreatments(BaseEstimator, TransformerMixin):\n",
    "    def fit(self, X, y=None):\n",
    "        return self\n",
    "\n",
    "    def transform(self, X):\n",
    "        return X.query(\n",
    "            \"`Main reason for producing embroys storing eggs` == 'Treatment - IVF'\"\n",
    "        )\n",
    "\n",
    "class DropErroneousEntries(BaseEstimator, TransformerMixin):\n",
    "    def fit(self, X, y=None):\n",
    "        return self\n",
    "\n",
    "    def transform(self, X):\n",
    "        return X.drop(\n",
    "            X[(X[\"Live birth occurrence\"] == 1) & (X[\"Embryos transferred\"] == 0)].index\n",
    "        )\n",
    "\n",
    "class ConvertToNumeric(BaseEstimator, TransformerMixin):\n",
    "    def __init__(self, columns):\n",
    "        self.columns = columns\n",
    "\n",
    "    def fit(self, X, y=None):\n",
    "        return self\n",
    "\n",
    "    def transform(self, X):\n",
    "        X = X.copy()\n",
    "        for col in self.columns:\n",
    "            # Replace '>3' with 4\n",
    "            X[col] = X[col].replace(\">3\", 4)\n",
    "            # Convert to numeric\n",
    "            X[col] = pd.to_numeric(X[col])\n",
    "        return X\n",
    "\n",
    "\n",
    "class ConvertToIntegers(BaseEstimator, TransformerMixin):\n",
    "    def __init__(self, columns):\n",
    "        self.columns = columns\n",
    "\n",
    "    def fit(self, X, y=None):\n",
    "        return self\n",
    "\n",
    "    def transform(self, X):\n",
    "        X = X.copy()\n",
    "        for col in self.columns:\n",
    "            # Replace '>3' with 4 and convert to int\n",
    "            X[col] = X[col].replace(\">3\", 4).astype(float).astype(int)\n",
    "        return X\n",
    "\n",
    "\n",
    "class FillSpermSource(BaseEstimator, TransformerMixin):\n",
    "    def fit(self, X, y=None):\n",
    "        return self\n",
    "\n",
    "    def transform(self, X):\n",
    "        X = X.copy()\n",
    "        X[\"Sperm source\"] = X.apply(self._fill_sperm_source, axis=1)\n",
    "        return X\n",
    "\n",
    "    def _fill_sperm_source(self, row):\n",
    "        if pd.isna(row[\"Sperm source\"]):\n",
    "            if not pd.isna(row[\"Sperm donor age at registration\"]):\n",
    "                return \"Donor\"\n",
    "            else:\n",
    "                return \"Partner\"\n",
    "        return row[\"Sperm source\"]\n",
    "\n",
    "\n",
    "# Convert float values to integers and handle NaN values\n",
    "class ConvertToIntAndReplace999(BaseEstimator, TransformerMixin):\n",
    "    def fit(self, X, y=None):\n",
    "        return self\n",
    "\n",
    "    def transform(self, X):\n",
    "        X = X.copy()\n",
    "        # Fill NaN with -1 and convert to int\n",
    "        X[\"Date of embryo transfer\"] = (\n",
    "            X[\"Date of embryo transfer\"].fillna(-1).astype(int)\n",
    "        )\n",
    "        # Replace 999 with 0\n",
    "        X[\"Date of embryo transfer\"] = X[\"Date of embryo transfer\"].replace(999, 0)\n",
    "        return X\n",
    "\n",
    "\n",
    "# Replace missing values based on the \"Embryos transferred\" column\n",
    "class ReplaceMissingValues(BaseEstimator, TransformerMixin):\n",
    "    def fit(self, X, y=None):\n",
    "        return self\n",
    "\n",
    "    def transform(self, X):\n",
    "        X = X.copy()\n",
    "        X[\"Date of embryo transfer\"] = X.apply(self._replace_missing, axis=1)\n",
    "        return X\n",
    "\n",
    "    def _replace_missing(self, row):\n",
    "        value = row[\"Date of embryo transfer\"]\n",
    "        if value == -1 and row[\"Embryos transferred\"] == 0:\n",
    "            return \"NT\"\n",
    "        elif value == -1:\n",
    "            return \"Missing\"\n",
    "        return value\n",
    "\n",
    "\n",
    "# Append strings based on the \"Fresh cycle\" and \"Frozen cycle\" values\n",
    "class AppendCycleType(BaseEstimator, TransformerMixin):\n",
    "    def fit(self, X, y=None):\n",
    "        return self\n",
    "\n",
    "    def transform(self, X):\n",
    "        X = X.copy()\n",
    "        X[\"Date of embryo transfer\"] = X.apply(self._append_cycle_type, axis=1)\n",
    "        return X\n",
    "\n",
    "    def _append_cycle_type(self, row):\n",
    "        value = row[\"Date of embryo transfer\"]\n",
    "        if value not in [\"NT\", \"Missing\"]:\n",
    "            if row[\"Fresh cycle\"] == 1:\n",
    "                value = f\"{value} - fresh\"\n",
    "            elif row[\"Frozen cycle\"] == 1:\n",
    "                value = f\"{value} - frozen\"\n",
    "            else:\n",
    "                value = f\"{value} - Mixed fresh/frozen\"\n",
    "        return value\n",
    "\n",
    "\n",
    "class MicroInjectedEmbryos(BaseEstimator, TransformerMixin):\n",
    "\n",
    "    def fit(self, X, y=None):\n",
    "        return self\n",
    "\n",
    "    def transform(self, X):\n",
    "        X = X.copy()\n",
    "\n",
    "        # Embryos transferred from eggs micro-injected imputation\n",
    "        missing_micro_injected = X[\n",
    "            \"Embryos transferred from eggs micro-injected\"\n",
    "        ].isna()\n",
    "        ICSI = X[\"Specific treatment type\"].str.contains(\"ICSI\")\n",
    "        # Only replace missing values\n",
    "        X.loc[\n",
    "            missing_micro_injected & ICSI,\n",
    "            \"Embryos transferred from eggs micro-injected\",\n",
    "        ] = X.loc[missing_micro_injected & ICSI, \"Embryos transferred\"]\n",
    "        X.loc[\n",
    "            missing_micro_injected & ~ICSI,\n",
    "            \"Embryos transferred from eggs micro-injected\",\n",
    "        ] = 0\n",
    "\n",
    "        return X\n",
    "\n",
    "\n",
    "class DonorAgeImputer(BaseEstimator, TransformerMixin):\n",
    "    def __init__(self):\n",
    "        # Mapping from donor age ranges to patient/partner age ranges\n",
    "        self.egg_age_map = {\n",
    "            'Between 21 and 25': '18-34',\n",
    "            'Between 26 and 30': '18-34',\n",
    "            'Between 31 and 35': '18-34',\n",
    "            '>35': '38-39',\n",
    "            '<= 20': '18-34'\n",
    "        }\n",
    "        self.sperm_age_map = {\n",
    "            'Between 21 and 25': '18-34',\n",
    "            'Between 26 and 30': '18-34',\n",
    "            'Between 31 and 35': '18-34',\n",
    "            'Between 36 and 40': '38-39',\n",
    "            'Between 41 and 45': '43-44',\n",
    "            '>45': '45-50',\n",
    "            '<= 20': '18-34'\n",
    "        }\n",
    "    \n",
    "    def fit(self, X, y=None):\n",
    "        return self\n",
    "    \n",
    "    def transform(self, X):\n",
    "        X = X.copy()\n",
    "        \n",
    "        # Egg donor age imputation\n",
    "        X['Egg donor age at registration'] = X['Egg donor age at registration'].map(self.egg_age_map)\n",
    "        missing_egg_age = (X['Egg donor age at registration'].isna()) & (X['Egg source'] == 'Patient')\n",
    "        X.loc[missing_egg_age, 'Egg donor age at registration'] = X.loc[missing_egg_age, 'Patient age at treatment']\n",
    "        X.rename(columns={'Egg donor age at registration': 'Patient/Egg provider age'}, inplace=True)\n",
    "        \n",
    "        # Sperm donor age imputation\n",
    "        X['Sperm donor age at registration'] = X['Sperm donor age at registration'].map(self.sperm_age_map)\n",
    "        missing_sperm_age = (X['Sperm donor age at registration'].isna()) & (X['Sperm source'] == 'Partner')\n",
    "        X.loc[missing_sperm_age, 'Sperm donor age at registration'] = X.loc[missing_sperm_age, 'Partner age']\n",
    "        X.rename(columns={'Sperm donor age at registration': 'Partner/Sperm provider age'}, inplace=True)\n",
    "\n",
    "        # Drop the \"Partner age\" column\n",
    "        X.drop(columns=['Partner age'], inplace=True)\n",
    "        \n",
    "        # Ensure no duplicate columns\n",
    "        if X.columns.duplicated().any():\n",
    "            raise ValueError(\"Duplicate column names found after transformation\")\n",
    "        \n",
    "        return X\n",
    "\n",
    "\n",
    "class FloatToIntTransformer(BaseEstimator, TransformerMixin):\n",
    "    def __init__(self):\n",
    "        self.float_vars = None\n",
    "\n",
    "    def fit(self, X, y=None):\n",
    "        # Identify float columns\n",
    "        self.float_vars = X.select_dtypes(include=\"float\").columns.tolist()\n",
    "        return self\n",
    "\n",
    "    def transform(self, X):\n",
    "        X = X.copy()\n",
    "        for var in self.float_vars:\n",
    "            X[var] = X[var].astype(int)\n",
    "        return X\n",
    "\n",
    "\n",
    "class EFlaggingTransformer(BaseEstimator, TransformerMixin):\n",
    "\n",
    "    def fit(self, X, y=None):\n",
    "        return self\n",
    "\n",
    "    def transform(self, X):\n",
    "        X = X.copy()\n",
    "\n",
    "        X[\"Embryos transferred\"] = X.apply(self.append_e, axis=1)\n",
    "        return X\n",
    "\n",
    "    def append_e(self, row):\n",
    "        if (\n",
    "            row[\"Embryos transferred\"] == 1\n",
    "            and row[\"Elective single embryo transfer\"] == 1\n",
    "        ):\n",
    "            return \"1e\"\n",
    "        else:\n",
    "            return row[\"Embryos transferred\"]\n",
    "\n",
    "\n",
    "class TypeOfCycleAppender(BaseEstimator, TransformerMixin):\n",
    "    def __init__(self, columns_to_update):\n",
    "        self.columns_to_update = columns_to_update\n",
    "\n",
    "    def fit(self, X, y=None):\n",
    "        return self\n",
    "\n",
    "    def transform(self, X):\n",
    "        X = X.copy()\n",
    "\n",
    "        # Ensure columns have the correct data type to avoid issues\n",
    "        for column in self.columns_to_update:\n",
    "            X[column] = X[column].astype(str)\n",
    "\n",
    "        # Apply transformation for frozen cycle\n",
    "        for column in self.columns_to_update:\n",
    "            X.loc[(X[\"Frozen cycle\"] == 1) & (X[column] == \"0\"), column] = (\n",
    "                \"0 - frozen cycle\"\n",
    "            )\n",
    "\n",
    "        # Apply transformation for fresh cycle\n",
    "        X[\"Total embryos thawed\"] = X[\"Total embryos thawed\"].astype(str)\n",
    "        X.loc[\n",
    "            (X[\"Fresh cycle\"] == 1) & (X[\"Total embryos thawed\"] == \"0\"),\n",
    "            \"Total embryos thawed\",\n",
    "        ] = \"0 - fresh cycle\"\n",
    "\n",
    "        return X\n",
    "\n",
    "\n",
    "class DropRowsWith999(BaseEstimator, TransformerMixin):\n",
    "    \"\"\"\n",
    "    Custom transformer to drop rows with the value \"999\" in any column.\n",
    "    \"\"\"\n",
    "    def __init__(self):\n",
    "        pass\n",
    "\n",
    "    def fit(self, X, y=None):\n",
    "        return self\n",
    "\n",
    "    def transform(self, X):\n",
    "        X = X.copy()\n",
    "        \n",
    "        # Drop rows where any column has the value \"999\"\n",
    "        X_filtered = X[(X != \"999\").all(axis=1)]\n",
    "        \n",
    "        return X_filtered\n"
   ]
  },
  {
   "cell_type": "markdown",
   "metadata": {},
   "source": [
    "#### Pipeline"
   ]
  },
  {
   "cell_type": "markdown",
   "metadata": {},
   "source": [
    "For the deep learning model, all categorical variables were encoded using One-Hot Encoding to avoid implicit ordinal relationships, ensuring the model does not misinterpret any order among categorical values, which could lead to learning non-existent relationships."
   ]
  },
  {
   "cell_type": "code",
   "execution_count": 7,
   "metadata": {},
   "outputs": [
    {
     "data": {
      "text/html": [
       "<style>#sk-container-id-1 {\n",
       "  /* Definition of color scheme common for light and dark mode */\n",
       "  --sklearn-color-text: black;\n",
       "  --sklearn-color-line: gray;\n",
       "  /* Definition of color scheme for unfitted estimators */\n",
       "  --sklearn-color-unfitted-level-0: #fff5e6;\n",
       "  --sklearn-color-unfitted-level-1: #f6e4d2;\n",
       "  --sklearn-color-unfitted-level-2: #ffe0b3;\n",
       "  --sklearn-color-unfitted-level-3: chocolate;\n",
       "  /* Definition of color scheme for fitted estimators */\n",
       "  --sklearn-color-fitted-level-0: #f0f8ff;\n",
       "  --sklearn-color-fitted-level-1: #d4ebff;\n",
       "  --sklearn-color-fitted-level-2: #b3dbfd;\n",
       "  --sklearn-color-fitted-level-3: cornflowerblue;\n",
       "\n",
       "  /* Specific color for light theme */\n",
       "  --sklearn-color-text-on-default-background: var(--sg-text-color, var(--theme-code-foreground, var(--jp-content-font-color1, black)));\n",
       "  --sklearn-color-background: var(--sg-background-color, var(--theme-background, var(--jp-layout-color0, white)));\n",
       "  --sklearn-color-border-box: var(--sg-text-color, var(--theme-code-foreground, var(--jp-content-font-color1, black)));\n",
       "  --sklearn-color-icon: #696969;\n",
       "\n",
       "  @media (prefers-color-scheme: dark) {\n",
       "    /* Redefinition of color scheme for dark theme */\n",
       "    --sklearn-color-text-on-default-background: var(--sg-text-color, var(--theme-code-foreground, var(--jp-content-font-color1, white)));\n",
       "    --sklearn-color-background: var(--sg-background-color, var(--theme-background, var(--jp-layout-color0, #111)));\n",
       "    --sklearn-color-border-box: var(--sg-text-color, var(--theme-code-foreground, var(--jp-content-font-color1, white)));\n",
       "    --sklearn-color-icon: #878787;\n",
       "  }\n",
       "}\n",
       "\n",
       "#sk-container-id-1 {\n",
       "  color: var(--sklearn-color-text);\n",
       "}\n",
       "\n",
       "#sk-container-id-1 pre {\n",
       "  padding: 0;\n",
       "}\n",
       "\n",
       "#sk-container-id-1 input.sk-hidden--visually {\n",
       "  border: 0;\n",
       "  clip: rect(1px 1px 1px 1px);\n",
       "  clip: rect(1px, 1px, 1px, 1px);\n",
       "  height: 1px;\n",
       "  margin: -1px;\n",
       "  overflow: hidden;\n",
       "  padding: 0;\n",
       "  position: absolute;\n",
       "  width: 1px;\n",
       "}\n",
       "\n",
       "#sk-container-id-1 div.sk-dashed-wrapped {\n",
       "  border: 1px dashed var(--sklearn-color-line);\n",
       "  margin: 0 0.4em 0.5em 0.4em;\n",
       "  box-sizing: border-box;\n",
       "  padding-bottom: 0.4em;\n",
       "  background-color: var(--sklearn-color-background);\n",
       "}\n",
       "\n",
       "#sk-container-id-1 div.sk-container {\n",
       "  /* jupyter's `normalize.less` sets `[hidden] { display: none; }`\n",
       "     but bootstrap.min.css set `[hidden] { display: none !important; }`\n",
       "     so we also need the `!important` here to be able to override the\n",
       "     default hidden behavior on the sphinx rendered scikit-learn.org.\n",
       "     See: https://github.com/scikit-learn/scikit-learn/issues/21755 */\n",
       "  display: inline-block !important;\n",
       "  position: relative;\n",
       "}\n",
       "\n",
       "#sk-container-id-1 div.sk-text-repr-fallback {\n",
       "  display: none;\n",
       "}\n",
       "\n",
       "div.sk-parallel-item,\n",
       "div.sk-serial,\n",
       "div.sk-item {\n",
       "  /* draw centered vertical line to link estimators */\n",
       "  background-image: linear-gradient(var(--sklearn-color-text-on-default-background), var(--sklearn-color-text-on-default-background));\n",
       "  background-size: 2px 100%;\n",
       "  background-repeat: no-repeat;\n",
       "  background-position: center center;\n",
       "}\n",
       "\n",
       "/* Parallel-specific style estimator block */\n",
       "\n",
       "#sk-container-id-1 div.sk-parallel-item::after {\n",
       "  content: \"\";\n",
       "  width: 100%;\n",
       "  border-bottom: 2px solid var(--sklearn-color-text-on-default-background);\n",
       "  flex-grow: 1;\n",
       "}\n",
       "\n",
       "#sk-container-id-1 div.sk-parallel {\n",
       "  display: flex;\n",
       "  align-items: stretch;\n",
       "  justify-content: center;\n",
       "  background-color: var(--sklearn-color-background);\n",
       "  position: relative;\n",
       "}\n",
       "\n",
       "#sk-container-id-1 div.sk-parallel-item {\n",
       "  display: flex;\n",
       "  flex-direction: column;\n",
       "}\n",
       "\n",
       "#sk-container-id-1 div.sk-parallel-item:first-child::after {\n",
       "  align-self: flex-end;\n",
       "  width: 50%;\n",
       "}\n",
       "\n",
       "#sk-container-id-1 div.sk-parallel-item:last-child::after {\n",
       "  align-self: flex-start;\n",
       "  width: 50%;\n",
       "}\n",
       "\n",
       "#sk-container-id-1 div.sk-parallel-item:only-child::after {\n",
       "  width: 0;\n",
       "}\n",
       "\n",
       "/* Serial-specific style estimator block */\n",
       "\n",
       "#sk-container-id-1 div.sk-serial {\n",
       "  display: flex;\n",
       "  flex-direction: column;\n",
       "  align-items: center;\n",
       "  background-color: var(--sklearn-color-background);\n",
       "  padding-right: 1em;\n",
       "  padding-left: 1em;\n",
       "}\n",
       "\n",
       "\n",
       "/* Toggleable style: style used for estimator/Pipeline/ColumnTransformer box that is\n",
       "clickable and can be expanded/collapsed.\n",
       "- Pipeline and ColumnTransformer use this feature and define the default style\n",
       "- Estimators will overwrite some part of the style using the `sk-estimator` class\n",
       "*/\n",
       "\n",
       "/* Pipeline and ColumnTransformer style (default) */\n",
       "\n",
       "#sk-container-id-1 div.sk-toggleable {\n",
       "  /* Default theme specific background. It is overwritten whether we have a\n",
       "  specific estimator or a Pipeline/ColumnTransformer */\n",
       "  background-color: var(--sklearn-color-background);\n",
       "}\n",
       "\n",
       "/* Toggleable label */\n",
       "#sk-container-id-1 label.sk-toggleable__label {\n",
       "  cursor: pointer;\n",
       "  display: block;\n",
       "  width: 100%;\n",
       "  margin-bottom: 0;\n",
       "  padding: 0.5em;\n",
       "  box-sizing: border-box;\n",
       "  text-align: center;\n",
       "}\n",
       "\n",
       "#sk-container-id-1 label.sk-toggleable__label-arrow:before {\n",
       "  /* Arrow on the left of the label */\n",
       "  content: \"▸\";\n",
       "  float: left;\n",
       "  margin-right: 0.25em;\n",
       "  color: var(--sklearn-color-icon);\n",
       "}\n",
       "\n",
       "#sk-container-id-1 label.sk-toggleable__label-arrow:hover:before {\n",
       "  color: var(--sklearn-color-text);\n",
       "}\n",
       "\n",
       "/* Toggleable content - dropdown */\n",
       "\n",
       "#sk-container-id-1 div.sk-toggleable__content {\n",
       "  max-height: 0;\n",
       "  max-width: 0;\n",
       "  overflow: hidden;\n",
       "  text-align: left;\n",
       "  /* unfitted */\n",
       "  background-color: var(--sklearn-color-unfitted-level-0);\n",
       "}\n",
       "\n",
       "#sk-container-id-1 div.sk-toggleable__content.fitted {\n",
       "  /* fitted */\n",
       "  background-color: var(--sklearn-color-fitted-level-0);\n",
       "}\n",
       "\n",
       "#sk-container-id-1 div.sk-toggleable__content pre {\n",
       "  margin: 0.2em;\n",
       "  border-radius: 0.25em;\n",
       "  color: var(--sklearn-color-text);\n",
       "  /* unfitted */\n",
       "  background-color: var(--sklearn-color-unfitted-level-0);\n",
       "}\n",
       "\n",
       "#sk-container-id-1 div.sk-toggleable__content.fitted pre {\n",
       "  /* unfitted */\n",
       "  background-color: var(--sklearn-color-fitted-level-0);\n",
       "}\n",
       "\n",
       "#sk-container-id-1 input.sk-toggleable__control:checked~div.sk-toggleable__content {\n",
       "  /* Expand drop-down */\n",
       "  max-height: 200px;\n",
       "  max-width: 100%;\n",
       "  overflow: auto;\n",
       "}\n",
       "\n",
       "#sk-container-id-1 input.sk-toggleable__control:checked~label.sk-toggleable__label-arrow:before {\n",
       "  content: \"▾\";\n",
       "}\n",
       "\n",
       "/* Pipeline/ColumnTransformer-specific style */\n",
       "\n",
       "#sk-container-id-1 div.sk-label input.sk-toggleable__control:checked~label.sk-toggleable__label {\n",
       "  color: var(--sklearn-color-text);\n",
       "  background-color: var(--sklearn-color-unfitted-level-2);\n",
       "}\n",
       "\n",
       "#sk-container-id-1 div.sk-label.fitted input.sk-toggleable__control:checked~label.sk-toggleable__label {\n",
       "  background-color: var(--sklearn-color-fitted-level-2);\n",
       "}\n",
       "\n",
       "/* Estimator-specific style */\n",
       "\n",
       "/* Colorize estimator box */\n",
       "#sk-container-id-1 div.sk-estimator input.sk-toggleable__control:checked~label.sk-toggleable__label {\n",
       "  /* unfitted */\n",
       "  background-color: var(--sklearn-color-unfitted-level-2);\n",
       "}\n",
       "\n",
       "#sk-container-id-1 div.sk-estimator.fitted input.sk-toggleable__control:checked~label.sk-toggleable__label {\n",
       "  /* fitted */\n",
       "  background-color: var(--sklearn-color-fitted-level-2);\n",
       "}\n",
       "\n",
       "#sk-container-id-1 div.sk-label label.sk-toggleable__label,\n",
       "#sk-container-id-1 div.sk-label label {\n",
       "  /* The background is the default theme color */\n",
       "  color: var(--sklearn-color-text-on-default-background);\n",
       "}\n",
       "\n",
       "/* On hover, darken the color of the background */\n",
       "#sk-container-id-1 div.sk-label:hover label.sk-toggleable__label {\n",
       "  color: var(--sklearn-color-text);\n",
       "  background-color: var(--sklearn-color-unfitted-level-2);\n",
       "}\n",
       "\n",
       "/* Label box, darken color on hover, fitted */\n",
       "#sk-container-id-1 div.sk-label.fitted:hover label.sk-toggleable__label.fitted {\n",
       "  color: var(--sklearn-color-text);\n",
       "  background-color: var(--sklearn-color-fitted-level-2);\n",
       "}\n",
       "\n",
       "/* Estimator label */\n",
       "\n",
       "#sk-container-id-1 div.sk-label label {\n",
       "  font-family: monospace;\n",
       "  font-weight: bold;\n",
       "  display: inline-block;\n",
       "  line-height: 1.2em;\n",
       "}\n",
       "\n",
       "#sk-container-id-1 div.sk-label-container {\n",
       "  text-align: center;\n",
       "}\n",
       "\n",
       "/* Estimator-specific */\n",
       "#sk-container-id-1 div.sk-estimator {\n",
       "  font-family: monospace;\n",
       "  border: 1px dotted var(--sklearn-color-border-box);\n",
       "  border-radius: 0.25em;\n",
       "  box-sizing: border-box;\n",
       "  margin-bottom: 0.5em;\n",
       "  /* unfitted */\n",
       "  background-color: var(--sklearn-color-unfitted-level-0);\n",
       "}\n",
       "\n",
       "#sk-container-id-1 div.sk-estimator.fitted {\n",
       "  /* fitted */\n",
       "  background-color: var(--sklearn-color-fitted-level-0);\n",
       "}\n",
       "\n",
       "/* on hover */\n",
       "#sk-container-id-1 div.sk-estimator:hover {\n",
       "  /* unfitted */\n",
       "  background-color: var(--sklearn-color-unfitted-level-2);\n",
       "}\n",
       "\n",
       "#sk-container-id-1 div.sk-estimator.fitted:hover {\n",
       "  /* fitted */\n",
       "  background-color: var(--sklearn-color-fitted-level-2);\n",
       "}\n",
       "\n",
       "/* Specification for estimator info (e.g. \"i\" and \"?\") */\n",
       "\n",
       "/* Common style for \"i\" and \"?\" */\n",
       "\n",
       ".sk-estimator-doc-link,\n",
       "a:link.sk-estimator-doc-link,\n",
       "a:visited.sk-estimator-doc-link {\n",
       "  float: right;\n",
       "  font-size: smaller;\n",
       "  line-height: 1em;\n",
       "  font-family: monospace;\n",
       "  background-color: var(--sklearn-color-background);\n",
       "  border-radius: 1em;\n",
       "  height: 1em;\n",
       "  width: 1em;\n",
       "  text-decoration: none !important;\n",
       "  margin-left: 1ex;\n",
       "  /* unfitted */\n",
       "  border: var(--sklearn-color-unfitted-level-1) 1pt solid;\n",
       "  color: var(--sklearn-color-unfitted-level-1);\n",
       "}\n",
       "\n",
       ".sk-estimator-doc-link.fitted,\n",
       "a:link.sk-estimator-doc-link.fitted,\n",
       "a:visited.sk-estimator-doc-link.fitted {\n",
       "  /* fitted */\n",
       "  border: var(--sklearn-color-fitted-level-1) 1pt solid;\n",
       "  color: var(--sklearn-color-fitted-level-1);\n",
       "}\n",
       "\n",
       "/* On hover */\n",
       "div.sk-estimator:hover .sk-estimator-doc-link:hover,\n",
       ".sk-estimator-doc-link:hover,\n",
       "div.sk-label-container:hover .sk-estimator-doc-link:hover,\n",
       ".sk-estimator-doc-link:hover {\n",
       "  /* unfitted */\n",
       "  background-color: var(--sklearn-color-unfitted-level-3);\n",
       "  color: var(--sklearn-color-background);\n",
       "  text-decoration: none;\n",
       "}\n",
       "\n",
       "div.sk-estimator.fitted:hover .sk-estimator-doc-link.fitted:hover,\n",
       ".sk-estimator-doc-link.fitted:hover,\n",
       "div.sk-label-container:hover .sk-estimator-doc-link.fitted:hover,\n",
       ".sk-estimator-doc-link.fitted:hover {\n",
       "  /* fitted */\n",
       "  background-color: var(--sklearn-color-fitted-level-3);\n",
       "  color: var(--sklearn-color-background);\n",
       "  text-decoration: none;\n",
       "}\n",
       "\n",
       "/* Span, style for the box shown on hovering the info icon */\n",
       ".sk-estimator-doc-link span {\n",
       "  display: none;\n",
       "  z-index: 9999;\n",
       "  position: relative;\n",
       "  font-weight: normal;\n",
       "  right: .2ex;\n",
       "  padding: .5ex;\n",
       "  margin: .5ex;\n",
       "  width: min-content;\n",
       "  min-width: 20ex;\n",
       "  max-width: 50ex;\n",
       "  color: var(--sklearn-color-text);\n",
       "  box-shadow: 2pt 2pt 4pt #999;\n",
       "  /* unfitted */\n",
       "  background: var(--sklearn-color-unfitted-level-0);\n",
       "  border: .5pt solid var(--sklearn-color-unfitted-level-3);\n",
       "}\n",
       "\n",
       ".sk-estimator-doc-link.fitted span {\n",
       "  /* fitted */\n",
       "  background: var(--sklearn-color-fitted-level-0);\n",
       "  border: var(--sklearn-color-fitted-level-3);\n",
       "}\n",
       "\n",
       ".sk-estimator-doc-link:hover span {\n",
       "  display: block;\n",
       "}\n",
       "\n",
       "/* \"?\"-specific style due to the `<a>` HTML tag */\n",
       "\n",
       "#sk-container-id-1 a.estimator_doc_link {\n",
       "  float: right;\n",
       "  font-size: 1rem;\n",
       "  line-height: 1em;\n",
       "  font-family: monospace;\n",
       "  background-color: var(--sklearn-color-background);\n",
       "  border-radius: 1rem;\n",
       "  height: 1rem;\n",
       "  width: 1rem;\n",
       "  text-decoration: none;\n",
       "  /* unfitted */\n",
       "  color: var(--sklearn-color-unfitted-level-1);\n",
       "  border: var(--sklearn-color-unfitted-level-1) 1pt solid;\n",
       "}\n",
       "\n",
       "#sk-container-id-1 a.estimator_doc_link.fitted {\n",
       "  /* fitted */\n",
       "  border: var(--sklearn-color-fitted-level-1) 1pt solid;\n",
       "  color: var(--sklearn-color-fitted-level-1);\n",
       "}\n",
       "\n",
       "/* On hover */\n",
       "#sk-container-id-1 a.estimator_doc_link:hover {\n",
       "  /* unfitted */\n",
       "  background-color: var(--sklearn-color-unfitted-level-3);\n",
       "  color: var(--sklearn-color-background);\n",
       "  text-decoration: none;\n",
       "}\n",
       "\n",
       "#sk-container-id-1 a.estimator_doc_link.fitted:hover {\n",
       "  /* fitted */\n",
       "  background-color: var(--sklearn-color-fitted-level-3);\n",
       "}\n",
       "</style><div id=\"sk-container-id-1\" class=\"sk-top-container\"><div class=\"sk-text-repr-fallback\"><pre>Pipeline(steps=[(&#x27;filter_ivf&#x27;, FilterIVFTreatments()),\n",
       "                (&#x27;drop_erroneous&#x27;, DropErroneousEntries()),\n",
       "                (&#x27;drop_columns&#x27;,\n",
       "                 DropFeatures(features_to_drop=[&#x27;Total number of previous DI &#x27;\n",
       "                                                &#x27;cycles&#x27;,\n",
       "                                                &#x27;Main reason for producing &#x27;\n",
       "                                                &#x27;embroys storing eggs&#x27;,\n",
       "                                                &#x27;Type of treatment - IVF or DI&#x27;,\n",
       "                                                &#x27;Donated embryo&#x27;,\n",
       "                                                &#x27;Eggs thawed (0/1)&#x27;,\n",
       "                                                &#x27;Year of treatment&#x27;,\n",
       "                                                &#x27;Number of live births&#x27;,\n",
       "                                                &#x27;Embryos stored for use by &#x27;\n",
       "                                                &#x27;patien...\n",
       "                                          &#x27;Partner/Sperm provider age&#x27;,\n",
       "                                          &#x27;Specific treatment type&#x27;,\n",
       "                                          &#x27;Egg source&#x27;, &#x27;Sperm source&#x27;,\n",
       "                                          &#x27;Patient ethnicity&#x27;,\n",
       "                                          &#x27;Partner ethnicity&#x27;,\n",
       "                                          &#x27;Fresh eggs collected&#x27;,\n",
       "                                          &#x27;Total eggs mixed&#x27;,\n",
       "                                          &#x27;Total embryos created&#x27;,\n",
       "                                          &#x27;Embryos transferred&#x27;,\n",
       "                                          &#x27;Total embryos thawed&#x27;,\n",
       "                                          &#x27;Date of embryo transfer&#x27;])),\n",
       "                (&#x27;smart_correlation&#x27;,\n",
       "                 SmartCorrelatedSelection(method=&#x27;spearman&#x27;,\n",
       "                                          selection_method=&#x27;variance&#x27;,\n",
       "                                          threshold=0.9))])</pre><b>In a Jupyter environment, please rerun this cell to show the HTML representation or trust the notebook. <br />On GitHub, the HTML representation is unable to render, please try loading this page with nbviewer.org.</b></div><div class=\"sk-container\" hidden><div class=\"sk-item sk-dashed-wrapped\"><div class=\"sk-label-container\"><div class=\"sk-label  sk-toggleable\"><input class=\"sk-toggleable__control sk-hidden--visually\" id=\"sk-estimator-id-1\" type=\"checkbox\" ><label for=\"sk-estimator-id-1\" class=\"sk-toggleable__label  sk-toggleable__label-arrow \">&nbsp;&nbsp;Pipeline<a class=\"sk-estimator-doc-link \" rel=\"noreferrer\" target=\"_blank\" href=\"https://scikit-learn.org/1.5/modules/generated/sklearn.pipeline.Pipeline.html\">?<span>Documentation for Pipeline</span></a><span class=\"sk-estimator-doc-link \">i<span>Not fitted</span></span></label><div class=\"sk-toggleable__content \"><pre>Pipeline(steps=[(&#x27;filter_ivf&#x27;, FilterIVFTreatments()),\n",
       "                (&#x27;drop_erroneous&#x27;, DropErroneousEntries()),\n",
       "                (&#x27;drop_columns&#x27;,\n",
       "                 DropFeatures(features_to_drop=[&#x27;Total number of previous DI &#x27;\n",
       "                                                &#x27;cycles&#x27;,\n",
       "                                                &#x27;Main reason for producing &#x27;\n",
       "                                                &#x27;embroys storing eggs&#x27;,\n",
       "                                                &#x27;Type of treatment - IVF or DI&#x27;,\n",
       "                                                &#x27;Donated embryo&#x27;,\n",
       "                                                &#x27;Eggs thawed (0/1)&#x27;,\n",
       "                                                &#x27;Year of treatment&#x27;,\n",
       "                                                &#x27;Number of live births&#x27;,\n",
       "                                                &#x27;Embryos stored for use by &#x27;\n",
       "                                                &#x27;patien...\n",
       "                                          &#x27;Partner/Sperm provider age&#x27;,\n",
       "                                          &#x27;Specific treatment type&#x27;,\n",
       "                                          &#x27;Egg source&#x27;, &#x27;Sperm source&#x27;,\n",
       "                                          &#x27;Patient ethnicity&#x27;,\n",
       "                                          &#x27;Partner ethnicity&#x27;,\n",
       "                                          &#x27;Fresh eggs collected&#x27;,\n",
       "                                          &#x27;Total eggs mixed&#x27;,\n",
       "                                          &#x27;Total embryos created&#x27;,\n",
       "                                          &#x27;Embryos transferred&#x27;,\n",
       "                                          &#x27;Total embryos thawed&#x27;,\n",
       "                                          &#x27;Date of embryo transfer&#x27;])),\n",
       "                (&#x27;smart_correlation&#x27;,\n",
       "                 SmartCorrelatedSelection(method=&#x27;spearman&#x27;,\n",
       "                                          selection_method=&#x27;variance&#x27;,\n",
       "                                          threshold=0.9))])</pre></div> </div></div><div class=\"sk-serial\"><div class=\"sk-item\"><div class=\"sk-estimator  sk-toggleable\"><input class=\"sk-toggleable__control sk-hidden--visually\" id=\"sk-estimator-id-2\" type=\"checkbox\" ><label for=\"sk-estimator-id-2\" class=\"sk-toggleable__label  sk-toggleable__label-arrow \">FilterIVFTreatments</label><div class=\"sk-toggleable__content \"><pre>FilterIVFTreatments()</pre></div> </div></div><div class=\"sk-item\"><div class=\"sk-estimator  sk-toggleable\"><input class=\"sk-toggleable__control sk-hidden--visually\" id=\"sk-estimator-id-3\" type=\"checkbox\" ><label for=\"sk-estimator-id-3\" class=\"sk-toggleable__label  sk-toggleable__label-arrow \">DropErroneousEntries</label><div class=\"sk-toggleable__content \"><pre>DropErroneousEntries()</pre></div> </div></div><div class=\"sk-item\"><div class=\"sk-estimator  sk-toggleable\"><input class=\"sk-toggleable__control sk-hidden--visually\" id=\"sk-estimator-id-4\" type=\"checkbox\" ><label for=\"sk-estimator-id-4\" class=\"sk-toggleable__label  sk-toggleable__label-arrow \">DropFeatures</label><div class=\"sk-toggleable__content \"><pre>DropFeatures(features_to_drop=[&#x27;Total number of previous DI cycles&#x27;,\n",
       "                               &#x27;Main reason for producing embroys storing eggs&#x27;,\n",
       "                               &#x27;Type of treatment - IVF or DI&#x27;,\n",
       "                               &#x27;Donated embryo&#x27;, &#x27;Eggs thawed (0/1)&#x27;,\n",
       "                               &#x27;Year of treatment&#x27;, &#x27;Number of live births&#x27;,\n",
       "                               &#x27;Embryos stored for use by patient&#x27;,\n",
       "                               &#x27;Fresh eggs stored (0/1)&#x27;,\n",
       "                               &#x27;Heart three birth congenital abnormalities&#x27;,\n",
       "                               &#x27;Heart two birth congenital abnormalities&#x27;,\n",
       "                               &#x27;Heart three...\n",
       "                               &#x27;Heart three weeks gestation&#x27;,\n",
       "                               &#x27;Heart three birth outcome&#x27;,\n",
       "                               &#x27;Heart one birth congenital abnormalities&#x27;,\n",
       "                               &#x27;Heart two birth weight&#x27;,\n",
       "                               &#x27;Heart two delivery date&#x27;, &#x27;Heart two sex&#x27;,\n",
       "                               &#x27;Heart two weeks gestation&#x27;,\n",
       "                               &#x27;Heart two birth outcome&#x27;,\n",
       "                               &#x27;Heart one birth weight&#x27;,\n",
       "                               &#x27;Heart one weeks gestation&#x27;,\n",
       "                               &#x27;Heart one delivery date&#x27;, &#x27;Heart one sex&#x27;,\n",
       "                               &#x27;Heart one birth outcome&#x27;,\n",
       "                               &#x27;Number of foetal sacs with fetal pulsation&#x27;,\n",
       "                               &#x27;Early outcome&#x27;, &#x27;Partner Type&#x27;])</pre></div> </div></div><div class=\"sk-item\"><div class=\"sk-estimator  sk-toggleable\"><input class=\"sk-toggleable__control sk-hidden--visually\" id=\"sk-estimator-id-5\" type=\"checkbox\" ><label for=\"sk-estimator-id-5\" class=\"sk-toggleable__label  sk-toggleable__label-arrow \">ConvertToNumeric</label><div class=\"sk-toggleable__content \"><pre>ConvertToNumeric(columns=[&#x27;Total number of previous pregnancies - IVF and DI&#x27;,\n",
       "                          &#x27;Total number of previous live births - IVF or DI&#x27;])</pre></div> </div></div><div class=\"sk-item\"><div class=\"sk-estimator  sk-toggleable\"><input class=\"sk-toggleable__control sk-hidden--visually\" id=\"sk-estimator-id-6\" type=\"checkbox\" ><label for=\"sk-estimator-id-6\" class=\"sk-toggleable__label  sk-toggleable__label-arrow \">ArbitraryNumberImputer</label><div class=\"sk-toggleable__content \"><pre>ArbitraryNumberImputer(arbitrary_number=0,\n",
       "                       variables=[&#x27;Total number of previous pregnancies - IVF &#x27;\n",
       "                                  &#x27;and DI&#x27;,\n",
       "                                  &#x27;Total number of previous live births - IVF &#x27;\n",
       "                                  &#x27;or DI&#x27;])</pre></div> </div></div><div class=\"sk-item\"><div class=\"sk-estimator  sk-toggleable\"><input class=\"sk-toggleable__control sk-hidden--visually\" id=\"sk-estimator-id-7\" type=\"checkbox\" ><label for=\"sk-estimator-id-7\" class=\"sk-toggleable__label  sk-toggleable__label-arrow \">ConvertToIntegers</label><div class=\"sk-toggleable__content \"><pre>ConvertToIntegers(columns=[&#x27;Total number of previous pregnancies - IVF and DI&#x27;,\n",
       "                           &#x27;Total number of previous live births - IVF or DI&#x27;])</pre></div> </div></div><div class=\"sk-item\"><div class=\"sk-estimator  sk-toggleable\"><input class=\"sk-toggleable__control sk-hidden--visually\" id=\"sk-estimator-id-8\" type=\"checkbox\" ><label for=\"sk-estimator-id-8\" class=\"sk-toggleable__label  sk-toggleable__label-arrow \">FillSpermSource</label><div class=\"sk-toggleable__content \"><pre>FillSpermSource()</pre></div> </div></div><div class=\"sk-item\"><div class=\"sk-estimator  sk-toggleable\"><input class=\"sk-toggleable__control sk-hidden--visually\" id=\"sk-estimator-id-9\" type=\"checkbox\" ><label for=\"sk-estimator-id-9\" class=\"sk-toggleable__label  sk-toggleable__label-arrow \">ConvertToIntAndReplace999</label><div class=\"sk-toggleable__content \"><pre>ConvertToIntAndReplace999()</pre></div> </div></div><div class=\"sk-item\"><div class=\"sk-estimator  sk-toggleable\"><input class=\"sk-toggleable__control sk-hidden--visually\" id=\"sk-estimator-id-10\" type=\"checkbox\" ><label for=\"sk-estimator-id-10\" class=\"sk-toggleable__label  sk-toggleable__label-arrow \">ReplaceMissingValues</label><div class=\"sk-toggleable__content \"><pre>ReplaceMissingValues()</pre></div> </div></div><div class=\"sk-item\"><div class=\"sk-estimator  sk-toggleable\"><input class=\"sk-toggleable__control sk-hidden--visually\" id=\"sk-estimator-id-11\" type=\"checkbox\" ><label for=\"sk-estimator-id-11\" class=\"sk-toggleable__label  sk-toggleable__label-arrow \">AppendCycleType</label><div class=\"sk-toggleable__content \"><pre>AppendCycleType()</pre></div> </div></div><div class=\"sk-item\"><div class=\"sk-estimator  sk-toggleable\"><input class=\"sk-toggleable__control sk-hidden--visually\" id=\"sk-estimator-id-12\" type=\"checkbox\" ><label for=\"sk-estimator-id-12\" class=\"sk-toggleable__label  sk-toggleable__label-arrow \">MicroInjectedEmbryos</label><div class=\"sk-toggleable__content \"><pre>MicroInjectedEmbryos()</pre></div> </div></div><div class=\"sk-item\"><div class=\"sk-estimator  sk-toggleable\"><input class=\"sk-toggleable__control sk-hidden--visually\" id=\"sk-estimator-id-13\" type=\"checkbox\" ><label for=\"sk-estimator-id-13\" class=\"sk-toggleable__label  sk-toggleable__label-arrow \">DonorAgeImputer</label><div class=\"sk-toggleable__content \"><pre>DonorAgeImputer()</pre></div> </div></div><div class=\"sk-item\"><div class=\"sk-estimator  sk-toggleable\"><input class=\"sk-toggleable__control sk-hidden--visually\" id=\"sk-estimator-id-14\" type=\"checkbox\" ><label for=\"sk-estimator-id-14\" class=\"sk-toggleable__label  sk-toggleable__label-arrow \">FloatToIntTransformer</label><div class=\"sk-toggleable__content \"><pre>FloatToIntTransformer()</pre></div> </div></div><div class=\"sk-item\"><div class=\"sk-estimator  sk-toggleable\"><input class=\"sk-toggleable__control sk-hidden--visually\" id=\"sk-estimator-id-15\" type=\"checkbox\" ><label for=\"sk-estimator-id-15\" class=\"sk-toggleable__label  sk-toggleable__label-arrow \">EFlaggingTransformer</label><div class=\"sk-toggleable__content \"><pre>EFlaggingTransformer()</pre></div> </div></div><div class=\"sk-item\"><div class=\"sk-estimator  sk-toggleable\"><input class=\"sk-toggleable__control sk-hidden--visually\" id=\"sk-estimator-id-16\" type=\"checkbox\" ><label for=\"sk-estimator-id-16\" class=\"sk-toggleable__label  sk-toggleable__label-arrow \">TypeOfCycleAppender</label><div class=\"sk-toggleable__content \"><pre>TypeOfCycleAppender(columns_to_update=[&#x27;Fresh eggs collected&#x27;,\n",
       "                                       &#x27;Total eggs mixed&#x27;,\n",
       "                                       &#x27;Total embryos created&#x27;])</pre></div> </div></div><div class=\"sk-item\"><div class=\"sk-estimator  sk-toggleable\"><input class=\"sk-toggleable__control sk-hidden--visually\" id=\"sk-estimator-id-17\" type=\"checkbox\" ><label for=\"sk-estimator-id-17\" class=\"sk-toggleable__label  sk-toggleable__label-arrow \">DropRowsWith999</label><div class=\"sk-toggleable__content \"><pre>DropRowsWith999()</pre></div> </div></div><div class=\"sk-item\"><div class=\"sk-estimator  sk-toggleable\"><input class=\"sk-toggleable__control sk-hidden--visually\" id=\"sk-estimator-id-18\" type=\"checkbox\" ><label for=\"sk-estimator-id-18\" class=\"sk-toggleable__label  sk-toggleable__label-arrow \">DropMissingData</label><div class=\"sk-toggleable__content \"><pre>DropMissingData()</pre></div> </div></div><div class=\"sk-item\"><div class=\"sk-estimator  sk-toggleable\"><input class=\"sk-toggleable__control sk-hidden--visually\" id=\"sk-estimator-id-19\" type=\"checkbox\" ><label for=\"sk-estimator-id-19\" class=\"sk-toggleable__label  sk-toggleable__label-arrow \">OneHotEncoder</label><div class=\"sk-toggleable__content \"><pre>OneHotEncoder(drop_last=True,\n",
       "              variables=[&#x27;Patient age at treatment&#x27;,\n",
       "                         &#x27;Total number of previous IVF cycles&#x27;,\n",
       "                         &#x27;Patient/Egg provider age&#x27;,\n",
       "                         &#x27;Partner/Sperm provider age&#x27;,\n",
       "                         &#x27;Specific treatment type&#x27;, &#x27;Egg source&#x27;,\n",
       "                         &#x27;Sperm source&#x27;, &#x27;Patient ethnicity&#x27;,\n",
       "                         &#x27;Partner ethnicity&#x27;, &#x27;Fresh eggs collected&#x27;,\n",
       "                         &#x27;Total eggs mixed&#x27;, &#x27;Total embryos created&#x27;,\n",
       "                         &#x27;Embryos transferred&#x27;, &#x27;Total embryos thawed&#x27;,\n",
       "                         &#x27;Date of embryo transfer&#x27;])</pre></div> </div></div><div class=\"sk-item\"><div class=\"sk-estimator  sk-toggleable\"><input class=\"sk-toggleable__control sk-hidden--visually\" id=\"sk-estimator-id-20\" type=\"checkbox\" ><label for=\"sk-estimator-id-20\" class=\"sk-toggleable__label  sk-toggleable__label-arrow \">SmartCorrelatedSelection</label><div class=\"sk-toggleable__content \"><pre>SmartCorrelatedSelection(method=&#x27;spearman&#x27;, selection_method=&#x27;variance&#x27;,\n",
       "                         threshold=0.9)</pre></div> </div></div></div></div></div></div>"
      ],
      "text/plain": [
       "Pipeline(steps=[('filter_ivf', FilterIVFTreatments()),\n",
       "                ('drop_erroneous', DropErroneousEntries()),\n",
       "                ('drop_columns',\n",
       "                 DropFeatures(features_to_drop=['Total number of previous DI '\n",
       "                                                'cycles',\n",
       "                                                'Main reason for producing '\n",
       "                                                'embroys storing eggs',\n",
       "                                                'Type of treatment - IVF or DI',\n",
       "                                                'Donated embryo',\n",
       "                                                'Eggs thawed (0/1)',\n",
       "                                                'Year of treatment',\n",
       "                                                'Number of live births',\n",
       "                                                'Embryos stored for use by '\n",
       "                                                'patien...\n",
       "                                          'Partner/Sperm provider age',\n",
       "                                          'Specific treatment type',\n",
       "                                          'Egg source', 'Sperm source',\n",
       "                                          'Patient ethnicity',\n",
       "                                          'Partner ethnicity',\n",
       "                                          'Fresh eggs collected',\n",
       "                                          'Total eggs mixed',\n",
       "                                          'Total embryos created',\n",
       "                                          'Embryos transferred',\n",
       "                                          'Total embryos thawed',\n",
       "                                          'Date of embryo transfer'])),\n",
       "                ('smart_correlation',\n",
       "                 SmartCorrelatedSelection(method='spearman',\n",
       "                                          selection_method='variance',\n",
       "                                          threshold=0.9))])"
      ]
     },
     "execution_count": 7,
     "metadata": {},
     "output_type": "execute_result"
    }
   ],
   "source": [
    "from sklearn.pipeline import Pipeline\n",
    "from feature_engine.selection import DropFeatures, SmartCorrelatedSelection\n",
    "from feature_engine.imputation import ArbitraryNumberImputer, DropMissingData\n",
    "from feature_engine.encoding import OneHotEncoder\n",
    "\n",
    "# Columns to drop\n",
    "columns_to_drop = [\n",
    "    \"Total number of previous DI cycles\",\n",
    "    \"Main reason for producing embroys storing eggs\",\n",
    "    \"Type of treatment - IVF or DI\",\n",
    "    \"Donated embryo\",\n",
    "    \"Eggs thawed (0/1)\",\n",
    "    \"Year of treatment\",\n",
    "    \"Number of live births\",\n",
    "    \"Embryos stored for use by patient\",\n",
    "    \"Fresh eggs stored (0/1)\",\n",
    "    \"Heart three birth congenital abnormalities\",\n",
    "    \"Heart two birth congenital abnormalities\",\n",
    "    \"Heart three delivery date\",\n",
    "    \"Heart three sex\",\n",
    "    \"Heart three birth weight\",\n",
    "    \"Heart three weeks gestation\",\n",
    "    \"Heart three birth outcome\",\n",
    "    \"Heart one birth congenital abnormalities\",\n",
    "    \"Heart two birth weight\",\n",
    "    \"Heart two delivery date\",\n",
    "    \"Heart two sex\",\n",
    "    \"Heart two weeks gestation\",\n",
    "    \"Heart two birth outcome\",\n",
    "    \"Heart one birth weight\",\n",
    "    \"Heart one weeks gestation\",\n",
    "    \"Heart one delivery date\",\n",
    "    \"Heart one sex\",\n",
    "    \"Heart one birth outcome\",\n",
    "    \"Number of foetal sacs with fetal pulsation\",\n",
    "    \"Early outcome\",\n",
    "    \"Partner Type\",\n",
    "]\n",
    "\n",
    "# Columns to be updated with the type of cycle\n",
    "columns_to_update = [\n",
    "    \"Fresh eggs collected\",\n",
    "    \"Total eggs mixed\",\n",
    "    \"Total embryos created\",\n",
    "]\n",
    "\n",
    "\n",
    "def PipelineDataCleaningAndFeatureEngineering():\n",
    "    pipeline_base = Pipeline(\n",
    "        [\n",
    "            # Data Cleaning Steps\n",
    "            (\"filter_ivf\", FilterIVFTreatments()),\n",
    "            (\"drop_erroneous\", DropErroneousEntries()),\n",
    "            (\"drop_columns\", DropFeatures(features_to_drop=columns_to_drop)),\n",
    "            (\n",
    "                \"convert_to_numeric\",\n",
    "                ConvertToNumeric(\n",
    "                    columns=[\n",
    "                        \"Total number of previous pregnancies - IVF and DI\",\n",
    "                        \"Total number of previous live births - IVF or DI\",\n",
    "                    ]\n",
    "                ),\n",
    "            ),\n",
    "            (\n",
    "                \"zeros_imputer\",\n",
    "                ArbitraryNumberImputer(\n",
    "                    arbitrary_number=0,\n",
    "                    variables=[\n",
    "                        \"Total number of previous pregnancies - IVF and DI\",\n",
    "                        \"Total number of previous live births - IVF or DI\",\n",
    "                    ],\n",
    "                ),\n",
    "            ),\n",
    "            (\n",
    "                \"convert_to_int\",\n",
    "                ConvertToIntegers(\n",
    "                    columns=[\n",
    "                        \"Total number of previous pregnancies - IVF and DI\",\n",
    "                        \"Total number of previous live births - IVF or DI\",\n",
    "                    ]\n",
    "                ),\n",
    "            ),\n",
    "            (\"fill_sperm_source\", FillSpermSource()),\n",
    "            (\"dot_to_int_999\", ConvertToIntAndReplace999()),\n",
    "            (\"replace_missing_values\", ReplaceMissingValues()),\n",
    "            (\"append_cycle_type\", AppendCycleType()),\n",
    "            (\"micro_injected\", MicroInjectedEmbryos()),\n",
    "            (\"donor_age\", DonorAgeImputer()),\n",
    "            (\"float_to_int\", FloatToIntTransformer()),\n",
    "            (\"e_flagging\", EFlaggingTransformer()),\n",
    "            (\"type_of_cycle\", TypeOfCycleAppender(columns_to_update=columns_to_update)),\n",
    "            (\"drop_999\", DropRowsWith999()),\n",
    "            (\"drop_missing_data\", DropMissingData()),\n",
    "\n",
    "            # Feature Engineering Steps\n",
    "            (\n",
    "                \"one_hot_encoding\",\n",
    "                OneHotEncoder(\n",
    "                    drop_last=True,\n",
    "                    variables=[\n",
    "                        \"Patient age at treatment\",\n",
    "                        \"Total number of previous IVF cycles\",\n",
    "                        \"Patient/Egg provider age\",\n",
    "                        \"Partner/Sperm provider age\",\n",
    "                        \"Specific treatment type\",\n",
    "                        \"Egg source\",\n",
    "                        \"Sperm source\",\n",
    "                        \"Patient ethnicity\",\n",
    "                        \"Partner ethnicity\",\n",
    "                        \"Fresh eggs collected\",\n",
    "                        \"Total eggs mixed\",\n",
    "                        \"Total embryos created\",\n",
    "                        \"Embryos transferred\",\n",
    "                        \"Total embryos thawed\",\n",
    "                        \"Date of embryo transfer\",\n",
    "                    ],\n",
    "                ),\n",
    "            ),\n",
    "            \n",
    "            (\n",
    "                \"smart_correlation\",\n",
    "                SmartCorrelatedSelection(\n",
    "                    method=\"spearman\",\n",
    "                    threshold=0.9,\n",
    "                    selection_method=\"variance\"\n",
    "                ),\n",
    "            ),\n",
    "        ]\n",
    "    )\n",
    "\n",
    "    return pipeline_base\n",
    "\n",
    "\n",
    "PipelineDataCleaningAndFeatureEngineering()"
   ]
  },
  {
   "cell_type": "markdown",
   "metadata": {},
   "source": [
    "---"
   ]
  },
  {
   "cell_type": "markdown",
   "metadata": {},
   "source": [
    "## Step 3: Sequential model (Deep Learning)"
   ]
  },
  {
   "cell_type": "markdown",
   "metadata": {},
   "source": [
    "### Split Train and Test Set"
   ]
  },
  {
   "cell_type": "code",
   "execution_count": 8,
   "metadata": {},
   "outputs": [],
   "source": [
    "from sklearn.model_selection import train_test_split\n",
    "\n",
    "X_train, X_test, y_train, y_test = train_test_split(\n",
    "    # Do not drop the target column here because it is needed for the pipeline\n",
    "    df,\n",
    "    df[\"Live birth occurrence\"],\n",
    "    test_size=0.2,\n",
    "    random_state=0,\n",
    ")\n"
   ]
  },
  {
   "cell_type": "markdown",
   "metadata": {},
   "source": [
    "Apply the data cleaning and feature engineering pipeline"
   ]
  },
  {
   "cell_type": "code",
   "execution_count": 9,
   "metadata": {},
   "outputs": [
    {
     "data": {
      "text/html": [
       "<div>\n",
       "<style scoped>\n",
       "    .dataframe tbody tr th:only-of-type {\n",
       "        vertical-align: middle;\n",
       "    }\n",
       "\n",
       "    .dataframe tbody tr th {\n",
       "        vertical-align: top;\n",
       "    }\n",
       "\n",
       "    .dataframe thead th {\n",
       "        text-align: right;\n",
       "    }\n",
       "</style>\n",
       "<table border=\"1\" class=\"dataframe\">\n",
       "  <thead>\n",
       "    <tr style=\"text-align: right;\">\n",
       "      <th></th>\n",
       "      <th>Patient age at treatment</th>\n",
       "      <th>Total number of previous IVF cycles</th>\n",
       "      <th>Total number of previous DI cycles</th>\n",
       "      <th>Total number of previous pregnancies - IVF and DI</th>\n",
       "      <th>Total number of previous live births - IVF or DI</th>\n",
       "      <th>Causes of infertility - tubal disease</th>\n",
       "      <th>Causes of infertility - ovulatory disorder</th>\n",
       "      <th>Causes of infertility - male factor</th>\n",
       "      <th>Causes of infertility - patient unexplained</th>\n",
       "      <th>Causes of infertility - endometriosis</th>\n",
       "      <th>...</th>\n",
       "      <th>Heart three weeks gestation</th>\n",
       "      <th>Heart three birth outcome</th>\n",
       "      <th>Heart three birth weight</th>\n",
       "      <th>Heart three sex</th>\n",
       "      <th>Heart three birth congenital abnormalities</th>\n",
       "      <th>Heart three delivery date</th>\n",
       "      <th>Patient ethnicity</th>\n",
       "      <th>Partner ethnicity</th>\n",
       "      <th>Partner Type</th>\n",
       "      <th>Partner age</th>\n",
       "    </tr>\n",
       "  </thead>\n",
       "  <tbody>\n",
       "    <tr>\n",
       "      <th>141611</th>\n",
       "      <td>40-42</td>\n",
       "      <td>1</td>\n",
       "      <td>0</td>\n",
       "      <td>NaN</td>\n",
       "      <td>0.0</td>\n",
       "      <td>1</td>\n",
       "      <td>0</td>\n",
       "      <td>0</td>\n",
       "      <td>0</td>\n",
       "      <td>0</td>\n",
       "      <td>...</td>\n",
       "      <td>NaN</td>\n",
       "      <td>NaN</td>\n",
       "      <td>NaN</td>\n",
       "      <td>NaN</td>\n",
       "      <td>NaN</td>\n",
       "      <td>NaN</td>\n",
       "      <td>White</td>\n",
       "      <td>White</td>\n",
       "      <td>Male</td>\n",
       "      <td>45-50</td>\n",
       "    </tr>\n",
       "    <tr>\n",
       "      <th>98484</th>\n",
       "      <td>40-42</td>\n",
       "      <td>4</td>\n",
       "      <td>0</td>\n",
       "      <td>NaN</td>\n",
       "      <td>0.0</td>\n",
       "      <td>0</td>\n",
       "      <td>0</td>\n",
       "      <td>1</td>\n",
       "      <td>0</td>\n",
       "      <td>0</td>\n",
       "      <td>...</td>\n",
       "      <td>NaN</td>\n",
       "      <td>NaN</td>\n",
       "      <td>NaN</td>\n",
       "      <td>NaN</td>\n",
       "      <td>NaN</td>\n",
       "      <td>NaN</td>\n",
       "      <td>White</td>\n",
       "      <td>White</td>\n",
       "      <td>Male</td>\n",
       "      <td>38-39</td>\n",
       "    </tr>\n",
       "    <tr>\n",
       "      <th>158125</th>\n",
       "      <td>38-39</td>\n",
       "      <td>0</td>\n",
       "      <td>0</td>\n",
       "      <td>NaN</td>\n",
       "      <td>NaN</td>\n",
       "      <td>0</td>\n",
       "      <td>0</td>\n",
       "      <td>0</td>\n",
       "      <td>1</td>\n",
       "      <td>0</td>\n",
       "      <td>...</td>\n",
       "      <td>NaN</td>\n",
       "      <td>NaN</td>\n",
       "      <td>NaN</td>\n",
       "      <td>NaN</td>\n",
       "      <td>NaN</td>\n",
       "      <td>NaN</td>\n",
       "      <td>White</td>\n",
       "      <td>White</td>\n",
       "      <td>Male</td>\n",
       "      <td>45-50</td>\n",
       "    </tr>\n",
       "  </tbody>\n",
       "</table>\n",
       "<p>3 rows × 61 columns</p>\n",
       "</div>"
      ],
      "text/plain": [
       "       Patient age at treatment Total number of previous IVF cycles  \\\n",
       "141611                    40-42                                   1   \n",
       "98484                     40-42                                   4   \n",
       "158125                    38-39                                   0   \n",
       "\n",
       "       Total number of previous DI cycles  \\\n",
       "141611                                  0   \n",
       "98484                                   0   \n",
       "158125                                  0   \n",
       "\n",
       "        Total number of previous pregnancies - IVF and DI  \\\n",
       "141611                                                NaN   \n",
       "98484                                                 NaN   \n",
       "158125                                                NaN   \n",
       "\n",
       "       Total number of previous live births - IVF or DI  \\\n",
       "141611                                              0.0   \n",
       "98484                                               0.0   \n",
       "158125                                              NaN   \n",
       "\n",
       "        Causes of infertility - tubal disease  \\\n",
       "141611                                      1   \n",
       "98484                                       0   \n",
       "158125                                      0   \n",
       "\n",
       "        Causes of infertility - ovulatory disorder  \\\n",
       "141611                                           0   \n",
       "98484                                            0   \n",
       "158125                                           0   \n",
       "\n",
       "        Causes of infertility - male factor  \\\n",
       "141611                                    0   \n",
       "98484                                     1   \n",
       "158125                                    0   \n",
       "\n",
       "        Causes of infertility - patient unexplained  \\\n",
       "141611                                            0   \n",
       "98484                                             0   \n",
       "158125                                            1   \n",
       "\n",
       "        Causes of infertility - endometriosis  ...  \\\n",
       "141611                                      0  ...   \n",
       "98484                                       0  ...   \n",
       "158125                                      0  ...   \n",
       "\n",
       "       Heart three weeks gestation  Heart three birth outcome  \\\n",
       "141611                         NaN                        NaN   \n",
       "98484                          NaN                        NaN   \n",
       "158125                         NaN                        NaN   \n",
       "\n",
       "       Heart three birth weight Heart three sex  \\\n",
       "141611                      NaN             NaN   \n",
       "98484                       NaN             NaN   \n",
       "158125                      NaN             NaN   \n",
       "\n",
       "        Heart three birth congenital abnormalities Heart three delivery date  \\\n",
       "141611                                         NaN                       NaN   \n",
       "98484                                          NaN                       NaN   \n",
       "158125                                         NaN                       NaN   \n",
       "\n",
       "       Patient ethnicity  Partner ethnicity  Partner Type  Partner age  \n",
       "141611             White              White          Male        45-50  \n",
       "98484              White              White          Male        38-39  \n",
       "158125             White              White          Male        45-50  \n",
       "\n",
       "[3 rows x 61 columns]"
      ]
     },
     "execution_count": 9,
     "metadata": {},
     "output_type": "execute_result"
    }
   ],
   "source": [
    "X_train.head(3)"
   ]
  },
  {
   "cell_type": "code",
   "execution_count": 10,
   "metadata": {},
   "outputs": [],
   "source": [
    "pipeline_data_cleaning_feat_eng = PipelineDataCleaningAndFeatureEngineering()\n",
    "X_train = pipeline_data_cleaning_feat_eng.fit_transform(X_train)"
   ]
  },
  {
   "cell_type": "code",
   "execution_count": 11,
   "metadata": {},
   "outputs": [
    {
     "data": {
      "text/html": [
       "<div>\n",
       "<style scoped>\n",
       "    .dataframe tbody tr th:only-of-type {\n",
       "        vertical-align: middle;\n",
       "    }\n",
       "\n",
       "    .dataframe tbody tr th {\n",
       "        vertical-align: top;\n",
       "    }\n",
       "\n",
       "    .dataframe thead th {\n",
       "        text-align: right;\n",
       "    }\n",
       "</style>\n",
       "<table border=\"1\" class=\"dataframe\">\n",
       "  <thead>\n",
       "    <tr style=\"text-align: right;\">\n",
       "      <th></th>\n",
       "      <th>Total number of previous pregnancies - IVF and DI</th>\n",
       "      <th>Total number of previous live births - IVF or DI</th>\n",
       "      <th>Causes of infertility - tubal disease</th>\n",
       "      <th>Causes of infertility - ovulatory disorder</th>\n",
       "      <th>Causes of infertility - male factor</th>\n",
       "      <th>Causes of infertility - patient unexplained</th>\n",
       "      <th>Causes of infertility - endometriosis</th>\n",
       "      <th>Stimulation used</th>\n",
       "      <th>PGT-M treatment</th>\n",
       "      <th>PGT-A treatment</th>\n",
       "      <th>...</th>\n",
       "      <th>Date of embryo transfer_2 - frozen</th>\n",
       "      <th>Date of embryo transfer_5 - Mixed fresh/frozen</th>\n",
       "      <th>Date of embryo transfer_7 - fresh</th>\n",
       "      <th>Date of embryo transfer_0 - fresh</th>\n",
       "      <th>Date of embryo transfer_1 - fresh</th>\n",
       "      <th>Date of embryo transfer_5 - frozen</th>\n",
       "      <th>Date of embryo transfer_6 - frozen</th>\n",
       "      <th>Date of embryo transfer_2 - Mixed fresh/frozen</th>\n",
       "      <th>Date of embryo transfer_7 - frozen</th>\n",
       "      <th>Date of embryo transfer_6 - Mixed fresh/frozen</th>\n",
       "    </tr>\n",
       "  </thead>\n",
       "  <tbody>\n",
       "    <tr>\n",
       "      <th>141611</th>\n",
       "      <td>0</td>\n",
       "      <td>0</td>\n",
       "      <td>1</td>\n",
       "      <td>0</td>\n",
       "      <td>0</td>\n",
       "      <td>0</td>\n",
       "      <td>0</td>\n",
       "      <td>1</td>\n",
       "      <td>0</td>\n",
       "      <td>0</td>\n",
       "      <td>...</td>\n",
       "      <td>0</td>\n",
       "      <td>0</td>\n",
       "      <td>0</td>\n",
       "      <td>0</td>\n",
       "      <td>0</td>\n",
       "      <td>0</td>\n",
       "      <td>0</td>\n",
       "      <td>0</td>\n",
       "      <td>0</td>\n",
       "      <td>0</td>\n",
       "    </tr>\n",
       "    <tr>\n",
       "      <th>158125</th>\n",
       "      <td>0</td>\n",
       "      <td>0</td>\n",
       "      <td>0</td>\n",
       "      <td>0</td>\n",
       "      <td>0</td>\n",
       "      <td>1</td>\n",
       "      <td>0</td>\n",
       "      <td>1</td>\n",
       "      <td>0</td>\n",
       "      <td>0</td>\n",
       "      <td>...</td>\n",
       "      <td>0</td>\n",
       "      <td>0</td>\n",
       "      <td>0</td>\n",
       "      <td>0</td>\n",
       "      <td>0</td>\n",
       "      <td>0</td>\n",
       "      <td>0</td>\n",
       "      <td>0</td>\n",
       "      <td>0</td>\n",
       "      <td>0</td>\n",
       "    </tr>\n",
       "    <tr>\n",
       "      <th>34201</th>\n",
       "      <td>0</td>\n",
       "      <td>0</td>\n",
       "      <td>1</td>\n",
       "      <td>0</td>\n",
       "      <td>0</td>\n",
       "      <td>0</td>\n",
       "      <td>0</td>\n",
       "      <td>1</td>\n",
       "      <td>0</td>\n",
       "      <td>0</td>\n",
       "      <td>...</td>\n",
       "      <td>0</td>\n",
       "      <td>0</td>\n",
       "      <td>0</td>\n",
       "      <td>0</td>\n",
       "      <td>0</td>\n",
       "      <td>0</td>\n",
       "      <td>0</td>\n",
       "      <td>0</td>\n",
       "      <td>0</td>\n",
       "      <td>0</td>\n",
       "    </tr>\n",
       "  </tbody>\n",
       "</table>\n",
       "<p>3 rows × 98 columns</p>\n",
       "</div>"
      ],
      "text/plain": [
       "        Total number of previous pregnancies - IVF and DI  \\\n",
       "141611                                                  0   \n",
       "158125                                                  0   \n",
       "34201                                                   0   \n",
       "\n",
       "        Total number of previous live births - IVF or DI  \\\n",
       "141611                                                 0   \n",
       "158125                                                 0   \n",
       "34201                                                  0   \n",
       "\n",
       "        Causes of infertility - tubal disease  \\\n",
       "141611                                      1   \n",
       "158125                                      0   \n",
       "34201                                       1   \n",
       "\n",
       "        Causes of infertility - ovulatory disorder  \\\n",
       "141611                                           0   \n",
       "158125                                           0   \n",
       "34201                                            0   \n",
       "\n",
       "        Causes of infertility - male factor  \\\n",
       "141611                                    0   \n",
       "158125                                    0   \n",
       "34201                                     0   \n",
       "\n",
       "        Causes of infertility - patient unexplained  \\\n",
       "141611                                            0   \n",
       "158125                                            1   \n",
       "34201                                             0   \n",
       "\n",
       "        Causes of infertility - endometriosis  Stimulation used  \\\n",
       "141611                                      0                 1   \n",
       "158125                                      0                 1   \n",
       "34201                                       0                 1   \n",
       "\n",
       "        PGT-M treatment  PGT-A treatment  ...  \\\n",
       "141611                0                0  ...   \n",
       "158125                0                0  ...   \n",
       "34201                 0                0  ...   \n",
       "\n",
       "        Date of embryo transfer_2 - frozen  \\\n",
       "141611                                   0   \n",
       "158125                                   0   \n",
       "34201                                    0   \n",
       "\n",
       "        Date of embryo transfer_5 - Mixed fresh/frozen  \\\n",
       "141611                                               0   \n",
       "158125                                               0   \n",
       "34201                                                0   \n",
       "\n",
       "        Date of embryo transfer_7 - fresh  Date of embryo transfer_0 - fresh  \\\n",
       "141611                                  0                                  0   \n",
       "158125                                  0                                  0   \n",
       "34201                                   0                                  0   \n",
       "\n",
       "        Date of embryo transfer_1 - fresh  Date of embryo transfer_5 - frozen  \\\n",
       "141611                                  0                                   0   \n",
       "158125                                  0                                   0   \n",
       "34201                                   0                                   0   \n",
       "\n",
       "        Date of embryo transfer_6 - frozen  \\\n",
       "141611                                   0   \n",
       "158125                                   0   \n",
       "34201                                    0   \n",
       "\n",
       "        Date of embryo transfer_2 - Mixed fresh/frozen  \\\n",
       "141611                                               0   \n",
       "158125                                               0   \n",
       "34201                                                0   \n",
       "\n",
       "        Date of embryo transfer_7 - frozen  \\\n",
       "141611                                   0   \n",
       "158125                                   0   \n",
       "34201                                    0   \n",
       "\n",
       "        Date of embryo transfer_6 - Mixed fresh/frozen  \n",
       "141611                                               0  \n",
       "158125                                               0  \n",
       "34201                                                0  \n",
       "\n",
       "[3 rows x 98 columns]"
      ]
     },
     "execution_count": 11,
     "metadata": {},
     "output_type": "execute_result"
    }
   ],
   "source": [
    "X_train.head(3)"
   ]
  },
  {
   "cell_type": "markdown",
   "metadata": {},
   "source": [
    "Realign y_train indices with the transformed X_train to keep only the rows present on the dataset after the cleaning step"
   ]
  },
  {
   "cell_type": "code",
   "execution_count": 12,
   "metadata": {},
   "outputs": [],
   "source": [
    "y_train = y_train.loc[X_train.index]"
   ]
  },
  {
   "cell_type": "markdown",
   "metadata": {},
   "source": [
    "Apply the pipeline to the test set and realign indices on y_test"
   ]
  },
  {
   "cell_type": "code",
   "execution_count": 13,
   "metadata": {},
   "outputs": [],
   "source": [
    "X_test = pipeline_data_cleaning_feat_eng.transform(X_test)\n",
    "y_test = y_test.loc[X_test.index]\n"
   ]
  },
  {
   "cell_type": "markdown",
   "metadata": {},
   "source": [
    "Drop the target column from the processed X_train and X_test"
   ]
  },
  {
   "cell_type": "code",
   "execution_count": 14,
   "metadata": {},
   "outputs": [],
   "source": [
    "X_train = X_train.drop([\"Live birth occurrence\"], axis=1)\n",
    "X_test = X_test.drop([\"Live birth occurrence\"], axis=1)"
   ]
  },
  {
   "cell_type": "code",
   "execution_count": 15,
   "metadata": {},
   "outputs": [
    {
     "name": "stdout",
     "output_type": "stream",
     "text": [
      "(108583, 97) (108583,) (27112, 97) (27112,)\n"
     ]
    }
   ],
   "source": [
    "print(X_train.shape, y_train.shape, X_test.shape, y_test.shape)"
   ]
  },
  {
   "cell_type": "markdown",
   "metadata": {},
   "source": [
    "Check Train Set Target distribution"
   ]
  },
  {
   "cell_type": "code",
   "execution_count": 16,
   "metadata": {},
   "outputs": [
    {
     "name": "stdout",
     "output_type": "stream",
     "text": [
      "0    77485\n",
      "1    31098\n",
      "Name: Live birth occurrence, dtype: int64\n"
     ]
    },
    {
     "data": {
      "image/png": "[encoded data removed]",
      "text/plain": [
       "<Figure size 640x480 with 1 Axes>"
      ]
     },
     "metadata": {},
     "output_type": "display_data"
    }
   ],
   "source": [
    "import matplotlib.pyplot as plt\n",
    "import seaborn as sns\n",
    "\n",
    "print(y_train.value_counts())\n",
    "\n",
    "sns.set_style(\"whitegrid\")\n",
    "y_train.value_counts().plot(kind=\"bar\", title=\"Train Set Target Distribution\")\n",
    "plt.show()"
   ]
  },
  {
   "cell_type": "markdown",
   "metadata": {},
   "source": [
    "## Handle Target Imbalance"
   ]
  },
  {
   "cell_type": "markdown",
   "metadata": {},
   "source": [
    "### Use SMOTE (Synthetic Minority Oversampling TEchnique) to balance Train Set target"
   ]
  },
  {
   "cell_type": "code",
   "execution_count": 17,
   "metadata": {},
   "outputs": [
    {
     "name": "stdout",
     "output_type": "stream",
     "text": [
      "(154970, 97) (154970,) (27112, 97) (27112,)\n"
     ]
    }
   ],
   "source": [
    "from imblearn.over_sampling import SMOTE\n",
    "\n",
    "oversample = SMOTE(sampling_strategy='minority', random_state=0)\n",
    "X_train, y_train = oversample.fit_resample(X_train, y_train)\n",
    "print(X_train.shape, y_train.shape, X_test.shape, y_test.shape)"
   ]
  },
  {
   "cell_type": "markdown",
   "metadata": {},
   "source": [
    "Check Train Set Target distribution after resampling"
   ]
  },
  {
   "cell_type": "code",
   "execution_count": 18,
   "metadata": {},
   "outputs": [
    {
     "name": "stdout",
     "output_type": "stream",
     "text": [
      "1    77485\n",
      "0    77485\n",
      "Name: Live birth occurrence, dtype: int64\n"
     ]
    },
    {
     "data": {
      "image/png": "[encoded data removed]",
      "text/plain": [
       "<Figure size 640x480 with 1 Axes>"
      ]
     },
     "metadata": {},
     "output_type": "display_data"
    }
   ],
   "source": [
    "import matplotlib.pyplot as plt\n",
    "\n",
    "print(y_train.value_counts())\n",
    "\n",
    "y_train.value_counts().plot(kind='bar', title='Train Set Target Distribution')\n",
    "plt.show()"
   ]
  },
  {
   "cell_type": "markdown",
   "metadata": {},
   "source": [
    "Further split Train set to validation and Train set"
   ]
  },
  {
   "cell_type": "code",
   "execution_count": 19,
   "metadata": {},
   "outputs": [
    {
     "name": "stdout",
     "output_type": "stream",
     "text": [
      "* Train set: (123976, 97) (123976,)\n",
      "* Validation set: (30994, 97) (30994,)\n",
      "* Test set: (27112, 97) (27112,)\n"
     ]
    }
   ],
   "source": [
    "from sklearn.model_selection import train_test_split\n",
    "\n",
    "# Create new training and validation sets\n",
    "X_train, X_val, y_train, y_val = train_test_split(\n",
    "                                    X_train, y_train,\n",
    "                                    test_size=0.2,\n",
    "                                    random_state=0\n",
    "                                    )\n",
    "\n",
    "print(\"* Train set:\", X_train.shape, y_train.shape)\n",
    "print(\"* Validation set:\",  X_val.shape, y_val.shape)\n",
    "print(\"* Test set:\",   X_test.shape, y_test.shape)\n"
   ]
  },
  {
   "cell_type": "markdown",
   "metadata": {},
   "source": [
    "Scale Features"
   ]
  },
  {
   "cell_type": "code",
   "execution_count": 20,
   "metadata": {},
   "outputs": [],
   "source": [
    "from sklearn.preprocessing import StandardScaler\n",
    "\n",
    "\n",
    "def pipeline_pre_processing():\n",
    "    pipeline_base = Pipeline([(\"feat_scaling\", StandardScaler())])\n",
    "\n",
    "    return pipeline_base"
   ]
  },
  {
   "cell_type": "code",
   "execution_count": 21,
   "metadata": {},
   "outputs": [
    {
     "data": {
      "text/plain": [
       "array([[-0.44693288, -0.39890402, -0.31253276, -0.34919113, -0.70596067,\n",
       "         1.54315175, -0.22466625, -1.19387518, -0.09861315, -0.11336222,\n",
       "        -0.83150271,  2.05425026, -0.36518509, -0.54411477, -0.14421748,\n",
       "         1.68973811, -0.76876948, -0.29336103, -0.17757943, -0.41579112,\n",
       "        -0.14988532, -0.39295567,  1.04562925, -0.15680106, -0.2980383 ,\n",
       "        -0.48129354, -0.13739555, -0.36370818,  1.35019472, -0.37946816,\n",
       "        -0.24889257, -0.07584024,  1.26538703, -0.69248331, -0.63225913,\n",
       "        -0.01631721, -0.04273479,  0.25513734,  0.31657416,  0.67809444,\n",
       "        -0.10764079, -0.32877961, -0.14177989,  0.69055902, -0.44426681,\n",
       "        -0.31555532, -0.13586404, -0.14118673, -0.49198106, -0.39307876,\n",
       "        -0.24332589, -0.40178721, -0.25858078, -0.08455112, -0.15139739,\n",
       "        -0.04916897, -0.02769233, -0.53333467, -0.45701368, -0.38227273,\n",
       "        -0.16054099, -0.13043645, -0.23064417, -0.0696781 , -0.0216345 ,\n",
       "        -0.03979264, -0.50570043, -0.63836247, -0.2129264 , -0.26132153,\n",
       "        -0.1202449 , -0.05039027, -0.01773911, -0.10492418, -0.30404594,\n",
       "         1.63039512, -0.03560871, -0.20774101, -0.79848384, -0.32427216,\n",
       "         1.40130802, -0.06318586, -0.06838047, -0.01238059, -0.09211024,\n",
       "        -0.07605511, -0.04601943, -0.07791052, -0.013016  , -0.01238059,\n",
       "        -0.02572656, -0.01448316, -0.02665181, -0.00941991, -0.00491923,\n",
       "        -0.00568026, -0.00635075],\n",
       "       [-0.44693288, -0.39890402, -0.31253276, -0.34919113, -0.70596067,\n",
       "        -0.64802441,  4.45104685,  0.8376085 , -0.09861315, -0.11336222,\n",
       "         1.20264189,  0.68984193, -0.36518509, -0.54411477, -0.14421748,\n",
       "        -0.59180769,  1.30078005, -0.29336103, -0.17757943, -0.41579112,\n",
       "        -0.14988532, -0.39295567, -0.95636192, -0.15680106, -0.2980383 ,\n",
       "         2.07773411, -0.13739555, -0.36370818, -0.74063392, -0.37946816,\n",
       "        -0.24889257, -0.07584024,  1.26538703, -0.69248331, -0.63225913,\n",
       "        -0.01631721, -0.04273479,  0.25513734,  0.31657416, -1.47472083,\n",
       "        -0.10764079, -0.32877961, -0.14177989, -1.44810215,  2.25089965,\n",
       "        -0.31555532, -0.13586404, -0.14118673,  2.03259857, -0.39307876,\n",
       "        -0.24332589, -0.40178721, -0.25858078, -0.08455112, -0.15139739,\n",
       "        -0.04916897, -0.02769233,  1.8749953 , -0.45701368, -0.38227273,\n",
       "        -0.16054099, -0.13043645, -0.23064417, -0.0696781 , -0.0216345 ,\n",
       "        -0.03979264,  1.97745532, -0.63836247, -0.2129264 , -0.26132153,\n",
       "        -0.1202449 , -0.05039027, -0.01773911, -0.10492418, -0.30404594,\n",
       "        -0.61334825, -0.03560871, -0.20774101,  1.2523735 , -0.32427216,\n",
       "        -0.71361898, -0.06318586, -0.06838047, -0.01238059, -0.09211024,\n",
       "        -0.07605511, -0.04601943, -0.07791052, -0.013016  , -0.01238059,\n",
       "        -0.02572656, -0.01448316, -0.02665181, -0.00941991, -0.00491923,\n",
       "        -0.00568026, -0.00635075]])"
      ]
     },
     "execution_count": 21,
     "metadata": {},
     "output_type": "execute_result"
    }
   ],
   "source": [
    "pipeline = pipeline_pre_processing()\n",
    "X_train = pipeline.fit_transform(X_train)\n",
    "X_val= pipeline.transform(X_val)\n",
    "X_test = pipeline.transform(X_test)\n",
    "\n",
    "X_train[:2,]"
   ]
  },
  {
   "cell_type": "markdown",
   "metadata": {},
   "source": [
    "---"
   ]
  },
  {
   "cell_type": "markdown",
   "metadata": {},
   "source": [
    "# Model creation"
   ]
  },
  {
   "cell_type": "markdown",
   "metadata": {},
   "source": [
    "## ML model"
   ]
  },
  {
   "cell_type": "markdown",
   "metadata": {},
   "source": [
    "Define early stopping callback"
   ]
  },
  {
   "cell_type": "code",
   "execution_count": 22,
   "metadata": {},
   "outputs": [],
   "source": [
    "from tensorflow.keras.callbacks import EarlyStopping\n",
    "\n",
    "early_stopping = EarlyStopping(\n",
    "    patience=20,\n",
    "    restore_best_weights=True,  \n",
    "    monitor='val_accuracy',\n",
    "    verbose=1, \n",
    "    mode='max' \n",
    ")"
   ]
  },
  {
   "cell_type": "markdown",
   "metadata": {},
   "source": [
    "### Define deep learning model"
   ]
  },
  {
   "cell_type": "code",
   "execution_count": 23,
   "metadata": {},
   "outputs": [],
   "source": [
    "import tensorflow as tf\n",
    "from tensorflow.keras.layers import Dense, Dropout\n",
    "\n",
    "input_shape = X_train.shape[1:]\n",
    "\n",
    "def create_dl_model(input_shape):\n",
    "    model = tf.keras.Sequential([\n",
    "        # First hidden layer with 64 neurons and a dropout rate of 0.5\n",
    "        Dense(64, activation='relu', input_shape=input_shape),\n",
    "        Dropout(0.5),\n",
    "        # Second hidden layer with 32 neurons and a dropout rate of 0.5\n",
    "        Dense(32, activation='relu'),\n",
    "        Dropout(0.5),\n",
    "        # Output layer for binary classification\n",
    "        Dense(1, activation='sigmoid')\n",
    "    ])\n",
    "    \n",
    "    model.compile(optimizer='adam', loss='binary_crossentropy', metrics=['accuracy'])\n",
    "    return model"
   ]
  },
  {
   "cell_type": "markdown",
   "metadata": {},
   "source": [
    "### Model Summary "
   ]
  },
  {
   "cell_type": "code",
   "execution_count": 24,
   "metadata": {},
   "outputs": [
    {
     "name": "stderr",
     "output_type": "stream",
     "text": [
      "/Users/patriciahalley/Documents/Code_institute/git/ivf-success-predictor/venv-311/lib/python3.11/site-packages/keras/src/layers/core/dense.py:87: UserWarning: Do not pass an `input_shape`/`input_dim` argument to a layer. When using Sequential models, prefer using an `Input(shape)` object as the first layer in the model instead.\n",
      "  super().__init__(activity_regularizer=activity_regularizer, **kwargs)\n",
      "2024-09-01 23:33:02.831347: I metal_plugin/src/device/metal_device.cc:1154] Metal device set to: Apple M2\n",
      "2024-09-01 23:33:02.831398: I metal_plugin/src/device/metal_device.cc:296] systemMemory: 16.00 GB\n",
      "2024-09-01 23:33:02.831411: I metal_plugin/src/device/metal_device.cc:313] maxCacheSize: 5.33 GB\n",
      "2024-09-01 23:33:02.831469: I tensorflow/core/common_runtime/pluggable_device/pluggable_device_factory.cc:305] Could not identify NUMA node of platform GPU ID 0, defaulting to 0. Your kernel may not have been built with NUMA support.\n",
      "2024-09-01 23:33:02.831490: I tensorflow/core/common_runtime/pluggable_device/pluggable_device_factory.cc:271] Created TensorFlow device (/job:localhost/replica:0/task:0/device:GPU:0 with 0 MB memory) -> physical PluggableDevice (device: 0, name: METAL, pci bus id: <undefined>)\n"
     ]
    },
    {
     "data": {
      "text/html": [
       "<pre style=\"white-space:pre;overflow-x:auto;line-height:normal;font-family:Menlo,'DejaVu Sans Mono',consolas,'Courier New',monospace\"><span style=\"font-weight: bold\">Model: \"sequential\"</span>\n",
       "</pre>\n"
      ],
      "text/plain": [
       "\u001b[1mModel: \"sequential\"\u001b[0m\n"
      ]
     },
     "metadata": {},
     "output_type": "display_data"
    },
    {
     "data": {
      "text/html": [
       "<pre style=\"white-space:pre;overflow-x:auto;line-height:normal;font-family:Menlo,'DejaVu Sans Mono',consolas,'Courier New',monospace\">┏━━━━━━━━━━━━━━━━━━━━━━━━━━━━━━━━━┳━━━━━━━━━━━━━━━━━━━━━━━━┳━━━━━━━━━━━━━━━┓\n",
       "┃<span style=\"font-weight: bold\"> Layer (type)                    </span>┃<span style=\"font-weight: bold\"> Output Shape           </span>┃<span style=\"font-weight: bold\">       Param # </span>┃\n",
       "┡━━━━━━━━━━━━━━━━━━━━━━━━━━━━━━━━━╇━━━━━━━━━━━━━━━━━━━━━━━━╇━━━━━━━━━━━━━━━┩\n",
       "│ dense (<span style=\"color: #0087ff; text-decoration-color: #0087ff\">Dense</span>)                   │ (<span style=\"color: #00d7ff; text-decoration-color: #00d7ff\">None</span>, <span style=\"color: #00af00; text-decoration-color: #00af00\">64</span>)             │         <span style=\"color: #00af00; text-decoration-color: #00af00\">6,272</span> │\n",
       "├─────────────────────────────────┼────────────────────────┼───────────────┤\n",
       "│ dropout (<span style=\"color: #0087ff; text-decoration-color: #0087ff\">Dropout</span>)               │ (<span style=\"color: #00d7ff; text-decoration-color: #00d7ff\">None</span>, <span style=\"color: #00af00; text-decoration-color: #00af00\">64</span>)             │             <span style=\"color: #00af00; text-decoration-color: #00af00\">0</span> │\n",
       "├─────────────────────────────────┼────────────────────────┼───────────────┤\n",
       "│ dense_1 (<span style=\"color: #0087ff; text-decoration-color: #0087ff\">Dense</span>)                 │ (<span style=\"color: #00d7ff; text-decoration-color: #00d7ff\">None</span>, <span style=\"color: #00af00; text-decoration-color: #00af00\">32</span>)             │         <span style=\"color: #00af00; text-decoration-color: #00af00\">2,080</span> │\n",
       "├─────────────────────────────────┼────────────────────────┼───────────────┤\n",
       "│ dropout_1 (<span style=\"color: #0087ff; text-decoration-color: #0087ff\">Dropout</span>)             │ (<span style=\"color: #00d7ff; text-decoration-color: #00d7ff\">None</span>, <span style=\"color: #00af00; text-decoration-color: #00af00\">32</span>)             │             <span style=\"color: #00af00; text-decoration-color: #00af00\">0</span> │\n",
       "├─────────────────────────────────┼────────────────────────┼───────────────┤\n",
       "│ dense_2 (<span style=\"color: #0087ff; text-decoration-color: #0087ff\">Dense</span>)                 │ (<span style=\"color: #00d7ff; text-decoration-color: #00d7ff\">None</span>, <span style=\"color: #00af00; text-decoration-color: #00af00\">1</span>)              │            <span style=\"color: #00af00; text-decoration-color: #00af00\">33</span> │\n",
       "└─────────────────────────────────┴────────────────────────┴───────────────┘\n",
       "</pre>\n"
      ],
      "text/plain": [
       "┏━━━━━━━━━━━━━━━━━━━━━━━━━━━━━━━━━┳━━━━━━━━━━━━━━━━━━━━━━━━┳━━━━━━━━━━━━━━━┓\n",
       "┃\u001b[1m \u001b[0m\u001b[1mLayer (type)                   \u001b[0m\u001b[1m \u001b[0m┃\u001b[1m \u001b[0m\u001b[1mOutput Shape          \u001b[0m\u001b[1m \u001b[0m┃\u001b[1m \u001b[0m\u001b[1m      Param #\u001b[0m\u001b[1m \u001b[0m┃\n",
       "┡━━━━━━━━━━━━━━━━━━━━━━━━━━━━━━━━━╇━━━━━━━━━━━━━━━━━━━━━━━━╇━━━━━━━━━━━━━━━┩\n",
       "│ dense (\u001b[38;5;33mDense\u001b[0m)                   │ (\u001b[38;5;45mNone\u001b[0m, \u001b[38;5;34m64\u001b[0m)             │         \u001b[38;5;34m6,272\u001b[0m │\n",
       "├─────────────────────────────────┼────────────────────────┼───────────────┤\n",
       "│ dropout (\u001b[38;5;33mDropout\u001b[0m)               │ (\u001b[38;5;45mNone\u001b[0m, \u001b[38;5;34m64\u001b[0m)             │             \u001b[38;5;34m0\u001b[0m │\n",
       "├─────────────────────────────────┼────────────────────────┼───────────────┤\n",
       "│ dense_1 (\u001b[38;5;33mDense\u001b[0m)                 │ (\u001b[38;5;45mNone\u001b[0m, \u001b[38;5;34m32\u001b[0m)             │         \u001b[38;5;34m2,080\u001b[0m │\n",
       "├─────────────────────────────────┼────────────────────────┼───────────────┤\n",
       "│ dropout_1 (\u001b[38;5;33mDropout\u001b[0m)             │ (\u001b[38;5;45mNone\u001b[0m, \u001b[38;5;34m32\u001b[0m)             │             \u001b[38;5;34m0\u001b[0m │\n",
       "├─────────────────────────────────┼────────────────────────┼───────────────┤\n",
       "│ dense_2 (\u001b[38;5;33mDense\u001b[0m)                 │ (\u001b[38;5;45mNone\u001b[0m, \u001b[38;5;34m1\u001b[0m)              │            \u001b[38;5;34m33\u001b[0m │\n",
       "└─────────────────────────────────┴────────────────────────┴───────────────┘\n"
      ]
     },
     "metadata": {},
     "output_type": "display_data"
    },
    {
     "data": {
      "text/html": [
       "<pre style=\"white-space:pre;overflow-x:auto;line-height:normal;font-family:Menlo,'DejaVu Sans Mono',consolas,'Courier New',monospace\"><span style=\"font-weight: bold\"> Total params: </span><span style=\"color: #00af00; text-decoration-color: #00af00\">8,385</span> (32.75 KB)\n",
       "</pre>\n"
      ],
      "text/plain": [
       "\u001b[1m Total params: \u001b[0m\u001b[38;5;34m8,385\u001b[0m (32.75 KB)\n"
      ]
     },
     "metadata": {},
     "output_type": "display_data"
    },
    {
     "data": {
      "text/html": [
       "<pre style=\"white-space:pre;overflow-x:auto;line-height:normal;font-family:Menlo,'DejaVu Sans Mono',consolas,'Courier New',monospace\"><span style=\"font-weight: bold\"> Trainable params: </span><span style=\"color: #00af00; text-decoration-color: #00af00\">8,385</span> (32.75 KB)\n",
       "</pre>\n"
      ],
      "text/plain": [
       "\u001b[1m Trainable params: \u001b[0m\u001b[38;5;34m8,385\u001b[0m (32.75 KB)\n"
      ]
     },
     "metadata": {},
     "output_type": "display_data"
    },
    {
     "data": {
      "text/html": [
       "<pre style=\"white-space:pre;overflow-x:auto;line-height:normal;font-family:Menlo,'DejaVu Sans Mono',consolas,'Courier New',monospace\"><span style=\"font-weight: bold\"> Non-trainable params: </span><span style=\"color: #00af00; text-decoration-color: #00af00\">0</span> (0.00 B)\n",
       "</pre>\n"
      ],
      "text/plain": [
       "\u001b[1m Non-trainable params: \u001b[0m\u001b[38;5;34m0\u001b[0m (0.00 B)\n"
      ]
     },
     "metadata": {},
     "output_type": "display_data"
    }
   ],
   "source": [
    "dl_model = create_dl_model(input_shape)\n",
    "dl_model.summary()"
   ]
  },
  {
   "cell_type": "markdown",
   "metadata": {},
   "source": [
    "Get input shape from X_train"
   ]
  },
  {
   "cell_type": "markdown",
   "metadata": {},
   "source": [
    "Train deep learning model"
   ]
  },
  {
   "cell_type": "code",
   "execution_count": 25,
   "metadata": {},
   "outputs": [
    {
     "name": "stdout",
     "output_type": "stream",
     "text": [
      "Epoch 1/100\n"
     ]
    },
    {
     "name": "stderr",
     "output_type": "stream",
     "text": [
      "2024-09-01 23:33:04.252122: I tensorflow/core/grappler/optimizers/custom_graph_optimizer_registry.cc:117] Plugin optimizer for device_type GPU is enabled.\n"
     ]
    },
    {
     "name": "stdout",
     "output_type": "stream",
     "text": [
      "\u001b[1m3875/3875\u001b[0m \u001b[32m━━━━━━━━━━━━━━━━━━━━\u001b[0m\u001b[37m\u001b[0m \u001b[1m111s\u001b[0m 28ms/step - accuracy: 0.6186 - loss: 0.6546 - val_accuracy: 0.7045 - val_loss: 0.5525\n",
      "Epoch 2/100\n",
      "\u001b[1m3875/3875\u001b[0m \u001b[32m━━━━━━━━━━━━━━━━━━━━\u001b[0m\u001b[37m\u001b[0m \u001b[1m108s\u001b[0m 28ms/step - accuracy: 0.6984 - loss: 0.5547 - val_accuracy: 0.7166 - val_loss: 0.5189\n",
      "Epoch 3/100\n",
      "\u001b[1m3875/3875\u001b[0m \u001b[32m━━━━━━━━━━━━━━━━━━━━\u001b[0m\u001b[37m\u001b[0m \u001b[1m109s\u001b[0m 28ms/step - accuracy: 0.7102 - loss: 0.5342 - val_accuracy: 0.7207 - val_loss: 0.5105\n",
      "Epoch 4/100\n",
      "\u001b[1m3875/3875\u001b[0m \u001b[32m━━━━━━━━━━━━━━━━━━━━\u001b[0m\u001b[37m\u001b[0m \u001b[1m109s\u001b[0m 28ms/step - accuracy: 0.7148 - loss: 0.5256 - val_accuracy: 0.7184 - val_loss: 0.5119\n",
      "Epoch 5/100\n",
      "\u001b[1m3875/3875\u001b[0m \u001b[32m━━━━━━━━━━━━━━━━━━━━\u001b[0m\u001b[37m\u001b[0m \u001b[1m107s\u001b[0m 28ms/step - accuracy: 0.7154 - loss: 0.5195 - val_accuracy: 0.7214 - val_loss: 0.5074\n",
      "Epoch 6/100\n",
      "\u001b[1m3875/3875\u001b[0m \u001b[32m━━━━━━━━━━━━━━━━━━━━\u001b[0m\u001b[37m\u001b[0m \u001b[1m107s\u001b[0m 28ms/step - accuracy: 0.7194 - loss: 0.5153 - val_accuracy: 0.7224 - val_loss: 0.5044\n",
      "Epoch 7/100\n",
      "\u001b[1m3875/3875\u001b[0m \u001b[32m━━━━━━━━━━━━━━━━━━━━\u001b[0m\u001b[37m\u001b[0m \u001b[1m107s\u001b[0m 28ms/step - accuracy: 0.7151 - loss: 0.5205 - val_accuracy: 0.7255 - val_loss: 0.5035\n",
      "Epoch 8/100\n",
      "\u001b[1m3875/3875\u001b[0m \u001b[32m━━━━━━━━━━━━━━━━━━━━\u001b[0m\u001b[37m\u001b[0m \u001b[1m105s\u001b[0m 27ms/step - accuracy: 0.7191 - loss: 0.5149 - val_accuracy: 0.7246 - val_loss: 0.5022\n",
      "Epoch 9/100\n",
      "\u001b[1m3875/3875\u001b[0m \u001b[32m━━━━━━━━━━━━━━━━━━━━\u001b[0m\u001b[37m\u001b[0m \u001b[1m105s\u001b[0m 27ms/step - accuracy: 0.7224 - loss: 0.5112 - val_accuracy: 0.7232 - val_loss: 0.5020\n",
      "Epoch 10/100\n",
      "\u001b[1m3875/3875\u001b[0m \u001b[32m━━━━━━━━━━━━━━━━━━━━\u001b[0m\u001b[37m\u001b[0m \u001b[1m106s\u001b[0m 27ms/step - accuracy: 0.7224 - loss: 0.5124 - val_accuracy: 0.7253 - val_loss: 0.5041\n",
      "Epoch 11/100\n",
      "\u001b[1m3875/3875\u001b[0m \u001b[32m━━━━━━━━━━━━━━━━━━━━\u001b[0m\u001b[37m\u001b[0m \u001b[1m105s\u001b[0m 27ms/step - accuracy: 0.7195 - loss: 0.5139 - val_accuracy: 0.7244 - val_loss: 0.5026\n",
      "Epoch 12/100\n",
      "\u001b[1m3875/3875\u001b[0m \u001b[32m━━━━━━━━━━━━━━━━━━━━\u001b[0m\u001b[37m\u001b[0m \u001b[1m107s\u001b[0m 28ms/step - accuracy: 0.7197 - loss: 0.5133 - val_accuracy: 0.7265 - val_loss: 0.5004\n",
      "Epoch 13/100\n",
      "\u001b[1m3875/3875\u001b[0m \u001b[32m━━━━━━━━━━━━━━━━━━━━\u001b[0m\u001b[37m\u001b[0m \u001b[1m106s\u001b[0m 27ms/step - accuracy: 0.7221 - loss: 0.5105 - val_accuracy: 0.7259 - val_loss: 0.5013\n",
      "Epoch 14/100\n",
      "\u001b[1m3875/3875\u001b[0m \u001b[32m━━━━━━━━━━━━━━━━━━━━\u001b[0m\u001b[37m\u001b[0m \u001b[1m105s\u001b[0m 27ms/step - accuracy: 0.7250 - loss: 0.5090 - val_accuracy: 0.7242 - val_loss: 0.5010\n",
      "Epoch 15/100\n",
      "\u001b[1m3875/3875\u001b[0m \u001b[32m━━━━━━━━━━━━━━━━━━━━\u001b[0m\u001b[37m\u001b[0m \u001b[1m108s\u001b[0m 28ms/step - accuracy: 0.7239 - loss: 0.5075 - val_accuracy: 0.7267 - val_loss: 0.4991\n",
      "Epoch 16/100\n",
      "\u001b[1m3875/3875\u001b[0m \u001b[32m━━━━━━━━━━━━━━━━━━━━\u001b[0m\u001b[37m\u001b[0m \u001b[1m108s\u001b[0m 28ms/step - accuracy: 0.7228 - loss: 0.5104 - val_accuracy: 0.7257 - val_loss: 0.5001\n",
      "Epoch 17/100\n",
      "\u001b[1m3875/3875\u001b[0m \u001b[32m━━━━━━━━━━━━━━━━━━━━\u001b[0m\u001b[37m\u001b[0m \u001b[1m105s\u001b[0m 27ms/step - accuracy: 0.7221 - loss: 0.5097 - val_accuracy: 0.7270 - val_loss: 0.4991\n",
      "Epoch 18/100\n",
      "\u001b[1m3875/3875\u001b[0m \u001b[32m━━━━━━━━━━━━━━━━━━━━\u001b[0m\u001b[37m\u001b[0m \u001b[1m107s\u001b[0m 28ms/step - accuracy: 0.7236 - loss: 0.5097 - val_accuracy: 0.7263 - val_loss: 0.4992\n",
      "Epoch 19/100\n",
      "\u001b[1m3875/3875\u001b[0m \u001b[32m━━━━━━━━━━━━━━━━━━━━\u001b[0m\u001b[37m\u001b[0m \u001b[1m107s\u001b[0m 28ms/step - accuracy: 0.7232 - loss: 0.5073 - val_accuracy: 0.7264 - val_loss: 0.5012\n",
      "Epoch 20/100\n",
      "\u001b[1m3875/3875\u001b[0m \u001b[32m━━━━━━━━━━━━━━━━━━━━\u001b[0m\u001b[37m\u001b[0m \u001b[1m108s\u001b[0m 28ms/step - accuracy: 0.7220 - loss: 0.5087 - val_accuracy: 0.7233 - val_loss: 0.4994\n",
      "Epoch 21/100\n",
      "\u001b[1m3875/3875\u001b[0m \u001b[32m━━━━━━━━━━━━━━━━━━━━\u001b[0m\u001b[37m\u001b[0m \u001b[1m108s\u001b[0m 28ms/step - accuracy: 0.7273 - loss: 0.5046 - val_accuracy: 0.7265 - val_loss: 0.4990\n",
      "Epoch 22/100\n",
      "\u001b[1m3875/3875\u001b[0m \u001b[32m━━━━━━━━━━━━━━━━━━━━\u001b[0m\u001b[37m\u001b[0m \u001b[1m105s\u001b[0m 27ms/step - accuracy: 0.7279 - loss: 0.5041 - val_accuracy: 0.7268 - val_loss: 0.4995\n",
      "Epoch 23/100\n",
      "\u001b[1m3875/3875\u001b[0m \u001b[32m━━━━━━━━━━━━━━━━━━━━\u001b[0m\u001b[37m\u001b[0m \u001b[1m106s\u001b[0m 27ms/step - accuracy: 0.7244 - loss: 0.5086 - val_accuracy: 0.7279 - val_loss: 0.4988\n",
      "Epoch 24/100\n",
      "\u001b[1m3875/3875\u001b[0m \u001b[32m━━━━━━━━━━━━━━━━━━━━\u001b[0m\u001b[37m\u001b[0m \u001b[1m107s\u001b[0m 27ms/step - accuracy: 0.7258 - loss: 0.5056 - val_accuracy: 0.7269 - val_loss: 0.4992\n",
      "Epoch 25/100\n",
      "\u001b[1m3875/3875\u001b[0m \u001b[32m━━━━━━━━━━━━━━━━━━━━\u001b[0m\u001b[37m\u001b[0m \u001b[1m110s\u001b[0m 28ms/step - accuracy: 0.7255 - loss: 0.5066 - val_accuracy: 0.7269 - val_loss: 0.4981\n",
      "Epoch 26/100\n",
      "\u001b[1m3875/3875\u001b[0m \u001b[32m━━━━━━━━━━━━━━━━━━━━\u001b[0m\u001b[37m\u001b[0m \u001b[1m108s\u001b[0m 28ms/step - accuracy: 0.7265 - loss: 0.5056 - val_accuracy: 0.7256 - val_loss: 0.4990\n",
      "Epoch 27/100\n",
      "\u001b[1m3875/3875\u001b[0m \u001b[32m━━━━━━━━━━━━━━━━━━━━\u001b[0m\u001b[37m\u001b[0m \u001b[1m106s\u001b[0m 27ms/step - accuracy: 0.7250 - loss: 0.5069 - val_accuracy: 0.7232 - val_loss: 0.5003\n",
      "Epoch 28/100\n",
      "\u001b[1m3875/3875\u001b[0m \u001b[32m━━━━━━━━━━━━━━━━━━━━\u001b[0m\u001b[37m\u001b[0m \u001b[1m106s\u001b[0m 27ms/step - accuracy: 0.7248 - loss: 0.5067 - val_accuracy: 0.7246 - val_loss: 0.4982\n",
      "Epoch 29/100\n",
      "\u001b[1m3875/3875\u001b[0m \u001b[32m━━━━━━━━━━━━━━━━━━━━\u001b[0m\u001b[37m\u001b[0m \u001b[1m109s\u001b[0m 28ms/step - accuracy: 0.7258 - loss: 0.5068 - val_accuracy: 0.7273 - val_loss: 0.4983\n",
      "Epoch 30/100\n",
      "\u001b[1m3875/3875\u001b[0m \u001b[32m━━━━━━━━━━━━━━━━━━━━\u001b[0m\u001b[37m\u001b[0m \u001b[1m108s\u001b[0m 28ms/step - accuracy: 0.7254 - loss: 0.5042 - val_accuracy: 0.7279 - val_loss: 0.4993\n",
      "Epoch 31/100\n",
      "\u001b[1m3875/3875\u001b[0m \u001b[32m━━━━━━━━━━━━━━━━━━━━\u001b[0m\u001b[37m\u001b[0m \u001b[1m109s\u001b[0m 28ms/step - accuracy: 0.7237 - loss: 0.5059 - val_accuracy: 0.7279 - val_loss: 0.5001\n",
      "Epoch 32/100\n",
      "\u001b[1m3875/3875\u001b[0m \u001b[32m━━━━━━━━━━━━━━━━━━━━\u001b[0m\u001b[37m\u001b[0m \u001b[1m106s\u001b[0m 27ms/step - accuracy: 0.7264 - loss: 0.5051 - val_accuracy: 0.7287 - val_loss: 0.4988\n",
      "Epoch 33/100\n",
      "\u001b[1m3875/3875\u001b[0m \u001b[32m━━━━━━━━━━━━━━━━━━━━\u001b[0m\u001b[37m\u001b[0m \u001b[1m106s\u001b[0m 27ms/step - accuracy: 0.7249 - loss: 0.5073 - val_accuracy: 0.7271 - val_loss: 0.4973\n",
      "Epoch 34/100\n",
      "\u001b[1m3875/3875\u001b[0m \u001b[32m━━━━━━━━━━━━━━━━━━━━\u001b[0m\u001b[37m\u001b[0m \u001b[1m111s\u001b[0m 29ms/step - accuracy: 0.7310 - loss: 0.5008 - val_accuracy: 0.7269 - val_loss: 0.4975\n",
      "Epoch 35/100\n",
      "\u001b[1m3875/3875\u001b[0m \u001b[32m━━━━━━━━━━━━━━━━━━━━\u001b[0m\u001b[37m\u001b[0m \u001b[1m111s\u001b[0m 29ms/step - accuracy: 0.7248 - loss: 0.5064 - val_accuracy: 0.7262 - val_loss: 0.4985\n",
      "Epoch 36/100\n",
      "\u001b[1m3875/3875\u001b[0m \u001b[32m━━━━━━━━━━━━━━━━━━━━\u001b[0m\u001b[37m\u001b[0m \u001b[1m108s\u001b[0m 28ms/step - accuracy: 0.7264 - loss: 0.5054 - val_accuracy: 0.7288 - val_loss: 0.4965\n",
      "Epoch 37/100\n",
      "\u001b[1m3875/3875\u001b[0m \u001b[32m━━━━━━━━━━━━━━━━━━━━\u001b[0m\u001b[37m\u001b[0m \u001b[1m107s\u001b[0m 27ms/step - accuracy: 0.7265 - loss: 0.5031 - val_accuracy: 0.7267 - val_loss: 0.4980\n",
      "Epoch 38/100\n",
      "\u001b[1m3875/3875\u001b[0m \u001b[32m━━━━━━━━━━━━━━━━━━━━\u001b[0m\u001b[37m\u001b[0m \u001b[1m108s\u001b[0m 28ms/step - accuracy: 0.7274 - loss: 0.5047 - val_accuracy: 0.7266 - val_loss: 0.4974\n",
      "Epoch 39/100\n",
      "\u001b[1m3875/3875\u001b[0m \u001b[32m━━━━━━━━━━━━━━━━━━━━\u001b[0m\u001b[37m\u001b[0m \u001b[1m108s\u001b[0m 28ms/step - accuracy: 0.7259 - loss: 0.5056 - val_accuracy: 0.7281 - val_loss: 0.4982\n",
      "Epoch 40/100\n",
      "\u001b[1m3875/3875\u001b[0m \u001b[32m━━━━━━━━━━━━━━━━━━━━\u001b[0m\u001b[37m\u001b[0m \u001b[1m109s\u001b[0m 28ms/step - accuracy: 0.7265 - loss: 0.5029 - val_accuracy: 0.7276 - val_loss: 0.4980\n",
      "Epoch 41/100\n",
      "\u001b[1m3875/3875\u001b[0m \u001b[32m━━━━━━━━━━━━━━━━━━━━\u001b[0m\u001b[37m\u001b[0m \u001b[1m111s\u001b[0m 29ms/step - accuracy: 0.7263 - loss: 0.5058 - val_accuracy: 0.7259 - val_loss: 0.4979\n",
      "Epoch 42/100\n",
      "\u001b[1m3875/3875\u001b[0m \u001b[32m━━━━━━━━━━━━━━━━━━━━\u001b[0m\u001b[37m\u001b[0m \u001b[1m109s\u001b[0m 28ms/step - accuracy: 0.7253 - loss: 0.5050 - val_accuracy: 0.7276 - val_loss: 0.4970\n",
      "Epoch 43/100\n",
      "\u001b[1m3875/3875\u001b[0m \u001b[32m━━━━━━━━━━━━━━━━━━━━\u001b[0m\u001b[37m\u001b[0m \u001b[1m106s\u001b[0m 27ms/step - accuracy: 0.7279 - loss: 0.5036 - val_accuracy: 0.7281 - val_loss: 0.4974\n",
      "Epoch 44/100\n",
      "\u001b[1m3875/3875\u001b[0m \u001b[32m━━━━━━━━━━━━━━━━━━━━\u001b[0m\u001b[37m\u001b[0m \u001b[1m106s\u001b[0m 27ms/step - accuracy: 0.7271 - loss: 0.5042 - val_accuracy: 0.7277 - val_loss: 0.4976\n",
      "Epoch 45/100\n",
      "\u001b[1m3875/3875\u001b[0m \u001b[32m━━━━━━━━━━━━━━━━━━━━\u001b[0m\u001b[37m\u001b[0m \u001b[1m110s\u001b[0m 28ms/step - accuracy: 0.7252 - loss: 0.5057 - val_accuracy: 0.7281 - val_loss: 0.4973\n",
      "Epoch 46/100\n",
      "\u001b[1m3875/3875\u001b[0m \u001b[32m━━━━━━━━━━━━━━━━━━━━\u001b[0m\u001b[37m\u001b[0m \u001b[1m105s\u001b[0m 27ms/step - accuracy: 0.7280 - loss: 0.5045 - val_accuracy: 0.7282 - val_loss: 0.4966\n",
      "Epoch 47/100\n",
      "\u001b[1m3875/3875\u001b[0m \u001b[32m━━━━━━━━━━━━━━━━━━━━\u001b[0m\u001b[37m\u001b[0m \u001b[1m105s\u001b[0m 27ms/step - accuracy: 0.7282 - loss: 0.5043 - val_accuracy: 0.7269 - val_loss: 0.4976\n",
      "Epoch 48/100\n",
      "\u001b[1m3875/3875\u001b[0m \u001b[32m━━━━━━━━━━━━━━━━━━━━\u001b[0m\u001b[37m\u001b[0m \u001b[1m100s\u001b[0m 26ms/step - accuracy: 0.7276 - loss: 0.5053 - val_accuracy: 0.7266 - val_loss: 0.4981\n",
      "Epoch 49/100\n",
      "\u001b[1m3875/3875\u001b[0m \u001b[32m━━━━━━━━━━━━━━━━━━━━\u001b[0m\u001b[37m\u001b[0m \u001b[1m101s\u001b[0m 26ms/step - accuracy: 0.7301 - loss: 0.5030 - val_accuracy: 0.7268 - val_loss: 0.4971\n",
      "Epoch 50/100\n",
      "\u001b[1m3875/3875\u001b[0m \u001b[32m━━━━━━━━━━━━━━━━━━━━\u001b[0m\u001b[37m\u001b[0m \u001b[1m105s\u001b[0m 27ms/step - accuracy: 0.7280 - loss: 0.5020 - val_accuracy: 0.7271 - val_loss: 0.4984\n",
      "Epoch 51/100\n",
      "\u001b[1m3875/3875\u001b[0m \u001b[32m━━━━━━━━━━━━━━━━━━━━\u001b[0m\u001b[37m\u001b[0m \u001b[1m103s\u001b[0m 27ms/step - accuracy: 0.7279 - loss: 0.5041 - val_accuracy: 0.7262 - val_loss: 0.4975\n",
      "Epoch 52/100\n",
      "\u001b[1m3875/3875\u001b[0m \u001b[32m━━━━━━━━━━━━━━━━━━━━\u001b[0m\u001b[37m\u001b[0m \u001b[1m105s\u001b[0m 27ms/step - accuracy: 0.7267 - loss: 0.5049 - val_accuracy: 0.7280 - val_loss: 0.4971\n",
      "Epoch 53/100\n",
      "\u001b[1m3875/3875\u001b[0m \u001b[32m━━━━━━━━━━━━━━━━━━━━\u001b[0m\u001b[37m\u001b[0m \u001b[1m104s\u001b[0m 27ms/step - accuracy: 0.7291 - loss: 0.5020 - val_accuracy: 0.7270 - val_loss: 0.4973\n",
      "Epoch 54/100\n",
      "\u001b[1m3875/3875\u001b[0m \u001b[32m━━━━━━━━━━━━━━━━━━━━\u001b[0m\u001b[37m\u001b[0m \u001b[1m104s\u001b[0m 27ms/step - accuracy: 0.7272 - loss: 0.5054 - val_accuracy: 0.7274 - val_loss: 0.4971\n",
      "Epoch 55/100\n",
      "\u001b[1m3875/3875\u001b[0m \u001b[32m━━━━━━━━━━━━━━━━━━━━\u001b[0m\u001b[37m\u001b[0m \u001b[1m105s\u001b[0m 27ms/step - accuracy: 0.7256 - loss: 0.5054 - val_accuracy: 0.7273 - val_loss: 0.4966\n",
      "Epoch 56/100\n",
      "\u001b[1m3875/3875\u001b[0m \u001b[32m━━━━━━━━━━━━━━━━━━━━\u001b[0m\u001b[37m\u001b[0m \u001b[1m105s\u001b[0m 27ms/step - accuracy: 0.7281 - loss: 0.5030 - val_accuracy: 0.7282 - val_loss: 0.4966\n",
      "Epoch 56: early stopping\n",
      "Restoring model weights from the end of the best epoch: 36.\n"
     ]
    },
    {
     "data": {
      "text/plain": [
       "<keras.src.callbacks.history.History at 0x35da3ea90>"
      ]
     },
     "execution_count": 25,
     "metadata": {},
     "output_type": "execute_result"
    }
   ],
   "source": [
    "dl_model.fit(\n",
    "    X_train,\n",
    "    y_train,\n",
    "    epochs=100,\n",
    "    batch_size=32,\n",
    "    validation_data=(X_val, y_val),\n",
    "    callbacks=[early_stopping],\n",
    "    verbose=1\n",
    ")"
   ]
  },
  {
   "cell_type": "markdown",
   "metadata": {},
   "source": [
    "### Save model"
   ]
  },
  {
   "cell_type": "code",
   "execution_count": 26,
   "metadata": {},
   "outputs": [],
   "source": [
    "dl_model.save('outputs/v1/ivf_success_predictor_dl_model.keras')"
   ]
  },
  {
   "cell_type": "markdown",
   "metadata": {},
   "source": [
    "---"
   ]
  },
  {
   "cell_type": "markdown",
   "metadata": {},
   "source": [
    "## Model Performace"
   ]
  },
  {
   "cell_type": "markdown",
   "metadata": {},
   "source": [
    "### Model learning curve"
   ]
  },
  {
   "cell_type": "code",
   "execution_count": 27,
   "metadata": {},
   "outputs": [
    {
     "data": {
      "image/png": "[encoded data removed]",
      "text/plain": [
       "<Figure size 640x480 with 1 Axes>"
      ]
     },
     "metadata": {},
     "output_type": "display_data"
    },
    {
     "name": "stdout",
     "output_type": "stream",
     "text": [
      "\n",
      "\n"
     ]
    },
    {
     "data": {
      "image/png": "[encoded data removed]",
      "text/plain": [
       "<Figure size 640x480 with 1 Axes>"
      ]
     },
     "metadata": {},
     "output_type": "display_data"
    }
   ],
   "source": [
    "losses = pd.DataFrame(dl_model.history.history)\n",
    "\n",
    "sns.set_style(\"whitegrid\")\n",
    "losses[['loss','val_loss']].plot(style='.-')\n",
    "plt.title(\"Loss\")\n",
    "plt.savefig(f'{file_path}/dl_model_training_losses.png', bbox_inches='tight', dpi=150)\n",
    "plt.show()\n",
    "\n",
    "print(\"\\n\")\n",
    "losses[['accuracy','val_accuracy']].plot(style='.-')\n",
    "plt.title(\"Accuracy\")\n",
    "plt.savefig(f'{file_path}/dl_model_training_acc.png', bbox_inches='tight', dpi=150)\n",
    "plt.show()"
   ]
  },
  {
   "cell_type": "markdown",
   "metadata": {},
   "source": [
    " ### Model Evaluation"
   ]
  },
  {
   "cell_type": "markdown",
   "metadata": {},
   "source": [
    "Load saved model"
   ]
  },
  {
   "cell_type": "code",
   "execution_count": 28,
   "metadata": {},
   "outputs": [],
   "source": [
    "from keras.models import load_model\n",
    "\n",
    "dl_model = load_model('outputs/v1/ivf_success_predictor_dl_model.keras')"
   ]
  },
  {
   "cell_type": "markdown",
   "metadata": {},
   "source": [
    "Evaluate model on test set"
   ]
  },
  {
   "cell_type": "code",
   "execution_count": 29,
   "metadata": {},
   "outputs": [
    {
     "name": "stdout",
     "output_type": "stream",
     "text": [
      "\u001b[1m848/848\u001b[0m \u001b[32m━━━━━━━━━━━━━━━━━━━━\u001b[0m\u001b[37m\u001b[0m \u001b[1m974s\u001b[0m 1s/step - accuracy: 0.6534 - loss: 0.5855\n"
     ]
    }
   ],
   "source": [
    "evaluation = dl_model.evaluate(X_test,y_test)"
   ]
  },
  {
   "cell_type": "markdown",
   "metadata": {},
   "source": [
    "### Save evaluation pickle"
   ]
  },
  {
   "cell_type": "code",
   "execution_count": 30,
   "metadata": {},
   "outputs": [
    {
     "data": {
      "text/plain": [
       "['outputs/v1/evaluation.pkl']"
      ]
     },
     "execution_count": 30,
     "metadata": {},
     "output_type": "execute_result"
    }
   ],
   "source": [
    "import joblib\n",
    "\n",
    "joblib.dump(value=evaluation,\n",
    "            filename=f\"outputs/v1/evaluation.pkl\")"
   ]
  },
  {
   "cell_type": "markdown",
   "metadata": {},
   "source": [
    "### Confusion matrix"
   ]
  },
  {
   "cell_type": "code",
   "execution_count": 76,
   "metadata": {},
   "outputs": [],
   "source": [
    "from sklearn.metrics import classification_report, confusion_matrix\n",
    "\n",
    "def confusion_matrix_and_report(X, y, pipeline, label_map):\n",
    "    prediction = pipeline.predict(X).reshape(-1)\n",
    "    prediction = np.where(prediction < 0.4, 0, 1)\n",
    "\n",
    "    print(\"---  Confusion Matrix  ---\")\n",
    "    print(\n",
    "        pd.DataFrame(\n",
    "            confusion_matrix(y_true=prediction, y_pred=y),\n",
    "            columns=[[\"Actual \" + sub for sub in label_map]],\n",
    "            index=[[\"Prediction \" + sub for sub in label_map]],\n",
    "        )\n",
    "    )\n",
    "    print(\"\\n\")\n",
    "\n",
    "    print(\"---  Classification Report  ---\")\n",
    "    print(classification_report(y, prediction, target_names=label_map), \"\\n\")\n",
    "\n",
    "\n",
    "def clf_performance(\n",
    "    X_train, y_train, X_test, y_test, X_val, y_val, pipeline, label_map\n",
    "):\n",
    "\n",
    "    print(\"#### Train Set #### \\n\")\n",
    "    confusion_matrix_and_report(X_train, y_train, pipeline, label_map)\n",
    "\n",
    "    print(\"#### Validation Set #### \\n\")\n",
    "    confusion_matrix_and_report(X_val, y_val, pipeline, label_map)\n",
    "\n",
    "    print(\"#### Test Set ####\\n\")\n",
    "    confusion_matrix_and_report(X_test, y_test, pipeline, label_map)\n"
   ]
  },
  {
   "cell_type": "code",
   "execution_count": 77,
   "metadata": {},
   "outputs": [
    {
     "name": "stdout",
     "output_type": "stream",
     "text": [
      "#### Train Set #### \n",
      "\n",
      "\u001b[1m3875/3875\u001b[0m \u001b[32m━━━━━━━━━━━━━━━━━━━━\u001b[0m\u001b[37m\u001b[0m \u001b[1m3s\u001b[0m 824us/step\n",
      "---  Confusion Matrix  ---\n",
      "                      Actual No Success Actual Success\n",
      "Prediction No Success             34137           7356\n",
      "Prediction Success                27986          54497\n",
      "\n",
      "\n",
      "---  Classification Report  ---\n",
      "              precision    recall  f1-score   support\n",
      "\n",
      "  No Success       0.82      0.55      0.66     62123\n",
      "     Success       0.66      0.88      0.76     61853\n",
      "\n",
      "    accuracy                           0.71    123976\n",
      "   macro avg       0.74      0.72      0.71    123976\n",
      "weighted avg       0.74      0.71      0.71    123976\n",
      " \n",
      "\n",
      "#### Validation Set #### \n",
      "\n",
      "\u001b[1m969/969\u001b[0m \u001b[32m━━━━━━━━━━━━━━━━━━━━\u001b[0m\u001b[37m\u001b[0m \u001b[1m1s\u001b[0m 877us/step\n",
      "---  Confusion Matrix  ---\n",
      "                      Actual No Success Actual Success\n",
      "Prediction No Success              8273           1990\n",
      "Prediction Success                 7089          13642\n",
      "\n",
      "\n",
      "---  Classification Report  ---\n",
      "              precision    recall  f1-score   support\n",
      "\n",
      "  No Success       0.81      0.54      0.65     15362\n",
      "     Success       0.66      0.87      0.75     15632\n",
      "\n",
      "    accuracy                           0.71     30994\n",
      "   macro avg       0.73      0.71      0.70     30994\n",
      "weighted avg       0.73      0.71      0.70     30994\n",
      " \n",
      "\n",
      "#### Test Set ####\n",
      "\n",
      "\u001b[1m848/848\u001b[0m \u001b[32m━━━━━━━━━━━━━━━━━━━━\u001b[0m\u001b[37m\u001b[0m \u001b[1m1s\u001b[0m 958us/step\n",
      "---  Confusion Matrix  ---\n",
      "                      Actual No Success Actual Success\n",
      "Prediction No Success             10442           2100\n",
      "Prediction Success                 8966           5604\n",
      "\n",
      "\n",
      "---  Classification Report  ---\n",
      "              precision    recall  f1-score   support\n",
      "\n",
      "  No Success       0.83      0.54      0.65     19408\n",
      "     Success       0.38      0.73      0.50      7704\n",
      "\n",
      "    accuracy                           0.59     27112\n",
      "   macro avg       0.61      0.63      0.58     27112\n",
      "weighted avg       0.71      0.59      0.61     27112\n",
      " \n",
      "\n"
     ]
    }
   ],
   "source": [
    "clf_performance(X_train, y_train,\n",
    "                X_test,y_test,\n",
    "                X_val, y_val,\n",
    "                dl_model,\n",
    "                label_map= ['No Success', 'Success']\n",
    "                )"
   ]
  },
  {
   "cell_type": "markdown",
   "metadata": {},
   "source": [
    "---"
   ]
  },
  {
   "cell_type": "markdown",
   "metadata": {},
   "source": [
    "## Predict on new data"
   ]
  },
  {
   "cell_type": "markdown",
   "metadata": {},
   "source": [
    "Predict class probabilities"
   ]
  },
  {
   "cell_type": "markdown",
   "metadata": {},
   "source": [
    "Create a dataframe with rows that were not dropped during data cleaning steps to test the live prediction"
   ]
  },
  {
   "cell_type": "code",
   "execution_count": 78,
   "metadata": {},
   "outputs": [
    {
     "data": {
      "text/plain": [
       "3     0\n",
       "4     0\n",
       "5     0\n",
       "6     0\n",
       "7     0\n",
       "8     0\n",
       "9     0\n",
       "10    0\n",
       "12    1\n",
       "13    1\n",
       "14    1\n",
       "15    0\n",
       "16    0\n",
       "17    0\n",
       "18    0\n",
       "19    0\n",
       "20    1\n",
       "21    0\n",
       "22    0\n",
       "23    0\n",
       "24    0\n",
       "25    0\n",
       "26    0\n",
       "27    0\n",
       "28    0\n",
       "29    1\n",
       "30    0\n",
       "31    0\n",
       "32    0\n",
       "33    0\n",
       "34    1\n",
       "36    0\n",
       "37    0\n",
       "38    0\n",
       "39    0\n",
       "40    0\n",
       "41    0\n",
       "42    0\n",
       "43    0\n",
       "44    0\n",
       "51    0\n",
       "52    0\n",
       "53    1\n",
       "54    0\n",
       "55    0\n",
       "56    1\n",
       "59    0\n",
       "60    1\n",
       "61    1\n",
       "62    0\n",
       "Name: Live birth occurrence, dtype: int64"
      ]
     },
     "execution_count": 78,
     "metadata": {},
     "output_type": "execute_result"
    }
   ],
   "source": [
    "X_train_live_data_prediction = pipeline_data_cleaning_feat_eng.fit_transform(df)\n",
    "X_train_live_data_prediction[\"Live birth occurrence\"].head(50)"
   ]
  },
  {
   "cell_type": "markdown",
   "metadata": {},
   "source": [
    "Take a sample from the test set and use it as if it was live data."
   ]
  },
  {
   "cell_type": "markdown",
   "metadata": {},
   "source": [
    "Choose a index from the dataset that should result in \"No Sucess\", i. e. Live birth occurrence 0 to test"
   ]
  },
  {
   "cell_type": "code",
   "execution_count": 92,
   "metadata": {},
   "outputs": [
    {
     "data": {
      "text/plain": [
       "array([[-0.44693288, -0.39890402, -0.31253276, -0.34919113,  1.4165095 ,\n",
       "        -0.64802441, -0.22466625,  0.8376085 , -0.09861315, -0.11336222,\n",
       "         1.20264189,  0.68984193, -0.36518509, -0.54411477, -0.14421748,\n",
       "        -0.59180769,  1.30078005, -0.29336103, -0.17757943, -0.41579112,\n",
       "        -0.14988532, -0.39295567,  1.04562925, -0.15680106, -0.2980383 ,\n",
       "        -0.48129354, -0.13739555, -0.36370818,  1.35019472, -0.37946816,\n",
       "        -0.24889257, -0.07584024,  1.26538703, -0.69248331, -0.63225913,\n",
       "        -0.01631721, -0.04273479,  0.25513734,  0.31657416, -1.47472083,\n",
       "        -0.10764079,  3.04155118, -0.14177989, -1.44810215, -0.44426681,\n",
       "         3.16901641, -0.13586404, -0.14118673, -0.49198106, -0.39307876,\n",
       "        -0.24332589,  2.48887963, -0.25858078, -0.08455112, -0.15139739,\n",
       "        -0.04916897, -0.02769233,  1.8749953 , -0.45701368, -0.38227273,\n",
       "        -0.16054099, -0.13043645, -0.23064417, -0.0696781 , -0.0216345 ,\n",
       "        -0.03979264,  1.97745532, -0.63836247, -0.2129264 , -0.26132153,\n",
       "        -0.1202449 , -0.05039027, -0.01773911, -0.10492418, -0.30404594,\n",
       "        -0.61334825, -0.03560871, -0.20774101,  1.2523735 , -0.32427216,\n",
       "        -0.71361898, -0.06318586, -0.06838047, -0.01238059, -0.09211024,\n",
       "        -0.07605511, -0.04601943, -0.07791052, -0.013016  , -0.01238059,\n",
       "        -0.02572656, -0.01448316, -0.02665181, -0.00941991, -0.00491923,\n",
       "        -0.00568026, -0.00635075]])"
      ]
     },
     "execution_count": 92,
     "metadata": {},
     "output_type": "execute_result"
    }
   ],
   "source": [
    "# Set a specific row of data as the index value \n",
    "index = 9\n",
    "\n",
    "# Extract a specific row from the X_test dataset using the index with the slice method\n",
    "# The row extracted corresponds to the value of `index-1` to `index`.\n",
    "# That means if `index` is 1, the row extracted will be the first row of the dataset\n",
    "# (from index-1, which is 0, to index, which is 1 and 1 is not includded).\n",
    "# The comma after `index-1:index` keeps the row in a 2D array format (like a single row in a matrix).\n",
    "live_data = X_test[index-1:index,]\n",
    "\n",
    "# Display the extracted data.\n",
    "live_data"
   ]
  },
  {
   "cell_type": "markdown",
   "metadata": {},
   "source": [
    "Use model.predict and pass the data"
   ]
  },
  {
   "cell_type": "code",
   "execution_count": 93,
   "metadata": {},
   "outputs": [
    {
     "name": "stdout",
     "output_type": "stream",
     "text": [
      "\u001b[1m1/1\u001b[0m \u001b[32m━━━━━━━━━━━━━━━━━━━━\u001b[0m\u001b[37m\u001b[0m \u001b[1m0s\u001b[0m 59ms/step\n"
     ]
    },
    {
     "data": {
      "text/plain": [
       "array([[0.6818032]], dtype=float32)"
      ]
     },
     "execution_count": 93,
     "metadata": {},
     "output_type": "execute_result"
    }
   ],
   "source": [
    "prediction_proba = dl_model.predict(live_data)\n",
    "prediction_proba"
   ]
  },
  {
   "cell_type": "markdown",
   "metadata": {},
   "source": [
    "Set threshold using NumPy function np.where().\n",
    "\n",
    "Make a condition: (prediction_proba < 0.5), if that is true, it converts to 0; otherwise, it is 1."
   ]
  },
  {
   "cell_type": "code",
   "execution_count": 94,
   "metadata": {},
   "outputs": [
    {
     "data": {
      "text/plain": [
       "array([[1]])"
      ]
     },
     "execution_count": 94,
     "metadata": {},
     "output_type": "execute_result"
    }
   ],
   "source": [
    "prediction_class = np.where(prediction_proba<0.4,0,1)\n",
    "prediction_class\n",
    "\n"
   ]
  },
  {
   "cell_type": "markdown",
   "metadata": {},
   "source": [
    "In this case, 0 means \"No success\" and 1 means \"Success\"."
   ]
  },
  {
   "cell_type": "markdown",
   "metadata": {},
   "source": [
    "---"
   ]
  }
 ],
 "metadata": {
  "kernelspec": {
   "display_name": "venv",
   "language": "python",
   "name": "python3"
  },
  "language_info": {
   "codemirror_mode": {
    "name": "ipython",
    "version": 3
   },
   "file_extension": ".py",
   "mimetype": "text/x-python",
   "name": "python",
   "nbconvert_exporter": "python",
   "pygments_lexer": "ipython3",
   "version": "3.11.9"
  }
 },
 "nbformat": 4,
 "nbformat_minor": 2
}
