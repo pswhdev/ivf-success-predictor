{
 "cells": [
  {
   "cell_type": "markdown",
   "metadata": {},
   "source": [
    "# **Data Collection Notebook**"
   ]
  },
  {
   "cell_type": "markdown",
   "metadata": {},
   "source": [
    "## Objectives\n",
    "\n",
    "* Download the anonymized data available (2017-2018) from the Human Fertilization and Embryology Authority (HFEA) website: [HFEA Data & Research](https://www.hfea.gov.uk/about-us/data-research/).\n",
    "* Save it as raw data under outputs/datasets/collection.\n",
    "\n",
    "## Inputs\n",
    "\n",
    "* Data file .xslx\n",
    "\n",
    "## Outputs\n",
    "\n",
    "* Generate compressed Dataset:\n",
    "  \n",
    "   - outputs/datasets/collection/FertilityTreatmentData.csv.gz\n",
    "\n",
    "## Additional Comments\n",
    "\n",
    "* The HFEA website does not provide an API for data retrieval. Therefore, the files were fetched from the download url on the website."
   ]
  },
  {
   "cell_type": "markdown",
   "metadata": {},
   "source": [
    "---"
   ]
  },
  {
   "cell_type": "markdown",
   "metadata": {},
   "source": [
    "# Change working directory"
   ]
  },
  {
   "cell_type": "markdown",
   "metadata": {},
   "source": [
    "Change the working directory from its current folder to its parent folder\n",
    "* Access the current directory with os.getcwd()"
   ]
  },
  {
   "cell_type": "code",
   "execution_count": 1,
   "metadata": {},
   "outputs": [
    {
     "data": {
      "text/plain": [
       "'/Users/patriciahalley/Documents/Code_institute/git/ivf-success-predictor/jupyter_notebooks'"
      ]
     },
     "execution_count": 1,
     "metadata": {},
     "output_type": "execute_result"
    }
   ],
   "source": [
    "import os\n",
    "current_dir = os.getcwd()\n",
    "current_dir"
   ]
  },
  {
   "cell_type": "markdown",
   "metadata": {},
   "source": [
    "To make the parent of the current directory the new current directory:\n",
    "* os.path.dirname() gets the parent directory\n",
    "* os.chir() defines the new current directory"
   ]
  },
  {
   "cell_type": "code",
   "execution_count": 2,
   "metadata": {},
   "outputs": [
    {
     "name": "stdout",
     "output_type": "stream",
     "text": [
      "A new current directory has been set\n"
     ]
    }
   ],
   "source": [
    "os.chdir(os.path.dirname(current_dir))\n",
    "print(\"A new current directory has been set\")"
   ]
  },
  {
   "cell_type": "markdown",
   "metadata": {},
   "source": [
    "Confirm the new current directory"
   ]
  },
  {
   "cell_type": "code",
   "execution_count": 3,
   "metadata": {},
   "outputs": [
    {
     "data": {
      "text/plain": [
       "'/Users/patriciahalley/Documents/Code_institute/git/ivf-success-predictor'"
      ]
     },
     "execution_count": 3,
     "metadata": {},
     "output_type": "execute_result"
    }
   ],
   "source": [
    "current_dir = os.getcwd()\n",
    "current_dir"
   ]
  },
  {
   "cell_type": "markdown",
   "metadata": {},
   "source": [
    "---"
   ]
  },
  {
   "cell_type": "markdown",
   "metadata": {},
   "source": [
    "# Fetch data"
   ]
  },
  {
   "cell_type": "markdown",
   "metadata": {},
   "source": [
    "## Import Libraries\n",
    "\n",
    "Import `pandas` for data manipulation."
   ]
  },
  {
   "cell_type": "code",
   "execution_count": 4,
   "metadata": {},
   "outputs": [],
   "source": [
    "import pandas as pd"
   ]
  },
  {
   "cell_type": "markdown",
   "metadata": {},
   "source": [
    "---"
   ]
  },
  {
   "cell_type": "markdown",
   "metadata": {},
   "source": [
    "Read xlsx File"
   ]
  },
  {
   "cell_type": "code",
   "execution_count": 5,
   "metadata": {},
   "outputs": [],
   "source": [
    "df = pd.read_excel('https://www.hfea.gov.uk/media/3469/ar-2017-2018.xlsx', sheet_name='Anonymised register')"
   ]
  },
  {
   "cell_type": "code",
   "execution_count": 6,
   "metadata": {},
   "outputs": [
    {
     "name": "stdout",
     "output_type": "stream",
     "text": [
      "<class 'pandas.core.frame.DataFrame'>\n",
      "RangeIndex: 169616 entries, 0 to 169615\n",
      "Data columns (total 61 columns):\n",
      " #   Column                                             Non-Null Count   Dtype  \n",
      "---  ------                                             --------------   -----  \n",
      " 0   Patient age at treatment                           169616 non-null  object \n",
      " 1   Total number of previous IVF cycles                169616 non-null  object \n",
      " 2   Total number of previous DI cycles                 169616 non-null  object \n",
      " 3   Total number of previous pregnancies - IVF and DI  42688 non-null   float64\n",
      " 4   Total number of previous live births - IVF or DI   105087 non-null  object \n",
      " 5   Causes of infertility - tubal disease              169616 non-null  int64  \n",
      " 6   Causes of infertility - ovulatory disorder         169616 non-null  int64  \n",
      " 7   Causes of infertility - male factor                169616 non-null  int64  \n",
      " 8   Causes of infertility - patient unexplained        169616 non-null  int64  \n",
      " 9   Causes of infertility - endometriosis              169616 non-null  int64  \n",
      " 10  Main reason for producing embroys storing eggs     169616 non-null  object \n",
      " 11  Stimulation used                                   169616 non-null  int64  \n",
      " 12  Egg donor age at registration                      8641 non-null    object \n",
      " 13  Sperm donor age at registration                    24878 non-null   object \n",
      " 14  Donated embryo                                     158334 non-null  float64\n",
      " 15  Type of treatment - IVF or DI                      169616 non-null  object \n",
      " 16  Specific treatment type                            169616 non-null  object \n",
      " 17  PGT-M treatment                                    169616 non-null  int64  \n",
      " 18  PGT-A treatment                                    169616 non-null  int64  \n",
      " 19  Elective single embryo transfer                    158334 non-null  float64\n",
      " 20  Egg source                                         158334 non-null  object \n",
      " 21  Sperm source                                       169421 non-null  object \n",
      " 22  Fresh cycle                                        158334 non-null  float64\n",
      " 23  Frozen cycle                                       158334 non-null  float64\n",
      " 24  Eggs thawed (0/1)                                  169616 non-null  int64  \n",
      " 25  Fresh eggs collected                               158334 non-null  object \n",
      " 26  Fresh eggs stored (0/1)                            169616 non-null  int64  \n",
      " 27  Total eggs mixed                                   158334 non-null  object \n",
      " 28  Total embryos created                              158334 non-null  object \n",
      " 29  Embryos transferred                                158334 non-null  float64\n",
      " 30  Total embryos thawed                               169616 non-null  object \n",
      " 31  Embryos transferred from eggs micro-injected       84882 non-null   float64\n",
      " 32  Embryos stored for use by patient                  158334 non-null  object \n",
      " 33  Date of embryo transfer                            120834 non-null  float64\n",
      " 34  Year of treatment                                  169616 non-null  int64  \n",
      " 35  Live birth occurrence                              169616 non-null  int64  \n",
      " 36  Number of live births                              169616 non-null  int64  \n",
      " 37  Early outcome                                      61012 non-null   object \n",
      " 38  Number of foetal sacs with fetal pulsation         59845 non-null   object \n",
      " 39  Heart one weeks gestation                          40353 non-null   object \n",
      " 40  Heart one birth outcome                            46810 non-null   object \n",
      " 41  Heart one birth weight                             40259 non-null   object \n",
      " 42  Heart one sex                                      40493 non-null   object \n",
      " 43  Heart one delivery date                            40393 non-null   float64\n",
      " 44  Heart one birth congenital abnormalities           443 non-null     float64\n",
      " 45  Heart two weeks gestation                          4154 non-null    object \n",
      " 46  Heart two birth outcome                            4725 non-null    object \n",
      " 47  Heart two birth weight                             4101 non-null    object \n",
      " 48  Heart two sex                                      4150 non-null    object \n",
      " 49  Heart two delivery date                            4143 non-null    float64\n",
      " 50  Heart two birth congenital abnormalities           37 non-null      float64\n",
      " 51  Heart three weeks gestation                        79 non-null      object \n",
      " 52  Heart three birth outcome                          107 non-null     object \n",
      " 53  Heart three birth weight                           77 non-null      object \n",
      " 54  Heart three sex                                    80 non-null      object \n",
      " 55  Heart three birth congenital abnormalities         37 non-null      float64\n",
      " 56  Heart three delivery date                          80 non-null      float64\n",
      " 57  Patient ethnicity                                  169616 non-null  object \n",
      " 58  Partner ethnicity                                  169616 non-null  object \n",
      " 59  Partner Type                                       159440 non-null  object \n",
      " 60  Partner age                                        152683 non-null  object \n",
      "dtypes: float64(14), int64(13), object(34)\n",
      "memory usage: 78.9+ MB\n"
     ]
    }
   ],
   "source": [
    "df.info()"
   ]
  },
  {
   "cell_type": "markdown",
   "metadata": {},
   "source": [
    "---"
   ]
  },
  {
   "cell_type": "markdown",
   "metadata": {},
   "source": [
    "# Push file to Repo"
   ]
  },
  {
   "cell_type": "code",
   "execution_count": 7,
   "metadata": {},
   "outputs": [],
   "source": [
    "import os\n",
    "\n",
    "# Create output directory if it doesn't exist\n",
    "os.makedirs(name='outputs/datasets/collection', exist_ok=True)\n",
    "\n",
    "# Save the DataFrame as a compressed CSV file using gzip compression\n",
    "df.to_csv(\"outputs/datasets/collection/FertilityTreatmentData.csv.gz\", index=False, compression='gzip')"
   ]
  },
  {
   "cell_type": "markdown",
   "metadata": {},
   "source": []
  }
 ],
 "metadata": {
  "kernelspec": {
   "display_name": "Python 3",
   "language": "python",
   "name": "python3"
  },
  "language_info": {
   "codemirror_mode": {
    "name": "ipython",
    "version": 3
   },
   "file_extension": ".py",
   "mimetype": "text/x-python",
   "name": "python",
   "nbconvert_exporter": "python",
   "pygments_lexer": "ipython3",
   "version": "3.12.4"
  }
 },
 "nbformat": 4,
 "nbformat_minor": 2
}
