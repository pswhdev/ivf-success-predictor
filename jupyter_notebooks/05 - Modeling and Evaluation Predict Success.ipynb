{
 "cells": [
  {
   "cell_type": "markdown",
   "metadata": {},
   "source": [
    "# Classification"
   ]
  },
  {
   "cell_type": "markdown",
   "metadata": {},
   "source": [
    "## Objectives\n",
    "\n",
    "*   Fit and evaluate a classification model to predict if a treatment will be successful or not.\n",
    "\n",
    "\n",
    "## Inputs\n",
    "\n",
    "* outputs/datasets/collection/FertilityTreatmentData.csv.gz\n",
    "* Instructions from the notebooks 02 and 04 on which variables to use for data cleaning and feature engineering.\n",
    "\n",
    "## Outputs\n",
    "\n",
    "* Train set (features and target)\n",
    "* Test set (features and target)\n",
    "* Data cleaning and Feature Engineering pipeline\n",
    "* Modeling pipeline\n",
    "* Feature importance plot\n"
   ]
  },
  {
   "cell_type": "markdown",
   "metadata": {},
   "source": [
    "---"
   ]
  },
  {
   "cell_type": "markdown",
   "metadata": {},
   "source": [
    "## Change working directory"
   ]
  },
  {
   "cell_type": "markdown",
   "metadata": {},
   "source": [
    "Change the working directory from its current folder to its parent folder\n",
    "* Access the current directory with os.getcwd()"
   ]
  },
  {
   "cell_type": "code",
   "execution_count": null,
   "metadata": {},
   "outputs": [],
   "source": [
    "import os\n",
    "current_dir = os.getcwd()\n",
    "current_dir"
   ]
  },
  {
   "cell_type": "markdown",
   "metadata": {},
   "source": [
    "To make the parent of the current directory the new current directory:\n",
    "* os.path.dirname() gets the parent directory\n",
    "* os.chir() defines the new current directory"
   ]
  },
  {
   "cell_type": "code",
   "execution_count": null,
   "metadata": {},
   "outputs": [],
   "source": [
    "os.chdir(os.path.dirname(current_dir))\n",
    "print(\"A new current directory has been set\")"
   ]
  },
  {
   "cell_type": "markdown",
   "metadata": {},
   "source": [
    "Confirm the new current directory"
   ]
  },
  {
   "cell_type": "code",
   "execution_count": null,
   "metadata": {},
   "outputs": [],
   "source": [
    "current_dir = os.getcwd()\n",
    "current_dir"
   ]
  },
  {
   "cell_type": "markdown",
   "metadata": {},
   "source": [
    "---"
   ]
  },
  {
   "cell_type": "markdown",
   "metadata": {},
   "source": [
    "## Load Data"
   ]
  },
  {
   "cell_type": "code",
   "execution_count": null,
   "metadata": {},
   "outputs": [],
   "source": [
    "import numpy as np\n",
    "import pandas as pd\n",
    "\n",
    "# Open dataset\n",
    "df = pd.read_csv(\"outputs/datasets/collection/FertilityTreatmentData.csv.gz\")\n",
    "        \n",
    "print(df.shape)\n",
    "df.head(3)"
   ]
  },
  {
   "cell_type": "markdown",
   "metadata": {},
   "source": [
    "---"
   ]
  },
  {
   "cell_type": "markdown",
   "metadata": {},
   "source": [
    "## ML Pipeline with all data"
   ]
  },
  {
   "cell_type": "markdown",
   "metadata": {},
   "source": [
    "#### ML pipeline for Data Cleaning and Feature Engineering"
   ]
  },
  {
   "cell_type": "markdown",
   "metadata": {},
   "source": [
    "#### Pipeline"
   ]
  },
  {
   "cell_type": "code",
   "execution_count": null,
   "metadata": {},
   "outputs": [],
   "source": [
    "from sklearn.pipeline import Pipeline\n",
    "from feature_engine.selection import DropFeatures, SmartCorrelatedSelection\n",
    "from feature_engine.imputation import ArbitraryNumberImputer, DropMissingData\n",
    "from feature_engine.encoding import OneHotEncoder, OrdinalEncoder\n",
    "# Custom Transformers saved under src/custom_transformers.py\n",
    "from src.custom_transformers import (\n",
    "    FilterIVFTreatments,\n",
    "    DropErroneousEntries,\n",
    "    ConvertToNumeric,\n",
    "    ConvertToIntegers,\n",
    "    FillSpermSource,\n",
    "    ConvertToIntAndReplace999,\n",
    "    ReplaceMissingValues,\n",
    "    AppendCycleType,\n",
    "    MicroInjectedEmbryos,\n",
    "    DonorAgeImputer,\n",
    "    FloatToIntTransformer,\n",
    "    EFlaggingTransformer,\n",
    "    TypeOfCycleAppender,\n",
    "    DropRowsWith999\n",
    ")\n",
    "\n",
    "# Columns to drop\n",
    "columns_to_drop = [\n",
    "    \"Total number of previous DI cycles\",\n",
    "    \"Main reason for producing embroys storing eggs\",\n",
    "    \"Type of treatment - IVF or DI\",\n",
    "    \"Donated embryo\",\n",
    "    \"Eggs thawed (0/1)\",\n",
    "    \"Year of treatment\",\n",
    "    \"Number of live births\",\n",
    "    \"Embryos stored for use by patient\",\n",
    "    \"Fresh eggs stored (0/1)\",\n",
    "    \"Heart three birth congenital abnormalities\",\n",
    "    \"Heart two birth congenital abnormalities\",\n",
    "    \"Heart three delivery date\",\n",
    "    \"Heart three sex\",\n",
    "    \"Heart three birth weight\",\n",
    "    \"Heart three weeks gestation\",\n",
    "    \"Heart three birth outcome\",\n",
    "    \"Heart one birth congenital abnormalities\",\n",
    "    \"Heart two birth weight\",\n",
    "    \"Heart two delivery date\",\n",
    "    \"Heart two sex\",\n",
    "    \"Heart two weeks gestation\",\n",
    "    \"Heart two birth outcome\",\n",
    "    \"Heart one birth weight\",\n",
    "    \"Heart one weeks gestation\",\n",
    "    \"Heart one delivery date\",\n",
    "    \"Heart one sex\",\n",
    "    \"Heart one birth outcome\",\n",
    "    \"Number of foetal sacs with fetal pulsation\",\n",
    "    \"Early outcome\",\n",
    "    \"Partner Type\",\n",
    "]\n",
    "\n",
    "# Columns to be updated with the type of cycle\n",
    "columns_to_update = [\n",
    "    \"Fresh eggs collected\",\n",
    "    \"Total eggs mixed\",\n",
    "    \"Total embryos created\",\n",
    "]\n",
    "\n",
    "\n",
    "def PipelineDataCleaningAndFeatureEngineering():\n",
    "    pipeline_base = Pipeline(\n",
    "        [\n",
    "            # Data Cleaning Steps\n",
    "            (\"filter_ivf\", FilterIVFTreatments()),\n",
    "            (\"drop_erroneous\", DropErroneousEntries()),\n",
    "            (\"drop_columns\", DropFeatures(features_to_drop=columns_to_drop)),\n",
    "            (\n",
    "                \"convert_to_numeric\",\n",
    "                ConvertToNumeric(\n",
    "                    columns=[\n",
    "                        \"Total number of previous pregnancies - IVF and DI\",\n",
    "                        \"Total number of previous live births - IVF or DI\",\n",
    "                    ]\n",
    "                ),\n",
    "            ),\n",
    "            (\n",
    "                \"zeros_imputer\",\n",
    "                ArbitraryNumberImputer(\n",
    "                    arbitrary_number=0,\n",
    "                    variables=[\n",
    "                        \"Total number of previous pregnancies - IVF and DI\",\n",
    "                        \"Total number of previous live births - IVF or DI\",\n",
    "                    ],\n",
    "                ),\n",
    "            ),\n",
    "            (\n",
    "                \"convert_to_int\",\n",
    "                ConvertToIntegers(\n",
    "                    columns=[\n",
    "                        \"Total number of previous pregnancies - IVF and DI\",\n",
    "                        \"Total number of previous live births - IVF or DI\",\n",
    "                    ]\n",
    "                ),\n",
    "            ),\n",
    "            (\"fill_sperm_source\", FillSpermSource()),\n",
    "            (\"dot_to_int_999\", ConvertToIntAndReplace999()),\n",
    "            (\"replace_missing_values\", ReplaceMissingValues()),\n",
    "            (\"append_cycle_type\", AppendCycleType()),\n",
    "            (\"micro_injected\", MicroInjectedEmbryos()),\n",
    "            (\"donor_age\", DonorAgeImputer()),\n",
    "            (\"float_to_int\", FloatToIntTransformer()),\n",
    "            (\"e_flagging\", EFlaggingTransformer()),\n",
    "            (\"type_of_cycle\", TypeOfCycleAppender(columns_to_update=columns_to_update)),\n",
    "            (\"drop_999\", DropRowsWith999()),\n",
    "            (\"drop_missing_data\", DropMissingData()),\n",
    "\n",
    "            # Feature Engineering Steps\n",
    "            (\n",
    "                \"ordinal_encoding\",\n",
    "                OrdinalEncoder(\n",
    "                    encoding_method='arbitrary',\n",
    "                    variables=[\n",
    "                        \"Patient age at treatment\",\n",
    "                        \"Partner/Sperm provider age\",\n",
    "                        \"Patient/Egg provider age\",\n",
    "                        \"Total number of previous IVF cycles\",\n",
    "                        \"Fresh eggs collected\",\n",
    "                        \"Total eggs mixed\",\n",
    "                        \"Total embryos created\",\n",
    "                        \"Embryos transferred\",\n",
    "                        \"Total embryos thawed\",\n",
    "                        \"Date of embryo transfer\",\n",
    "                    ]\n",
    "                ),\n",
    "            ),\n",
    "            (\n",
    "                \"one_hot_encoding\",\n",
    "                OneHotEncoder(\n",
    "                    variables=[\n",
    "                        \"Specific treatment type\",\n",
    "                        \"Egg source\",\n",
    "                        \"Sperm source\",\n",
    "                        \"Patient ethnicity\",\n",
    "                        \"Partner ethnicity\",\n",
    "                    ]\n",
    "                ),\n",
    "            ),\n",
    "            \n",
    "            (\n",
    "                \"smart_correlation\",\n",
    "                SmartCorrelatedSelection(\n",
    "                    method=\"spearman\",\n",
    "                    threshold=0.9,\n",
    "                    selection_method=\"variance\"\n",
    "                ),\n",
    "            ),\n",
    "        ]\n",
    "    )\n",
    "\n",
    "    return pipeline_base\n",
    "\n",
    "\n",
    "PipelineDataCleaningAndFeatureEngineering()"
   ]
  },
  {
   "cell_type": "markdown",
   "metadata": {},
   "source": [
    "### ML Pipeline for Modelling and Hyperparameter Optimisation"
   ]
  },
  {
   "cell_type": "code",
   "execution_count": null,
   "metadata": {},
   "outputs": [],
   "source": [
    "# Feat Scaling\n",
    "from sklearn.preprocessing import StandardScaler\n",
    "\n",
    "# Feat Selection\n",
    "from sklearn.feature_selection import SelectFromModel\n",
    "\n",
    "# ML algorithms\n",
    "from sklearn.linear_model import LogisticRegression\n",
    "from sklearn.tree import DecisionTreeClassifier\n",
    "from sklearn.ensemble import (\n",
    "    RandomForestClassifier,\n",
    "    GradientBoostingClassifier,\n",
    "    ExtraTreesClassifier,\n",
    "    AdaBoostClassifier,\n",
    ")\n",
    "from xgboost import XGBClassifier\n",
    "\n",
    "\n",
    "def PipelineClf(model):\n",
    "    pipeline_base = Pipeline(\n",
    "        [\n",
    "            (\"scaler\", StandardScaler()),\n",
    "            (\"feat_selection\", SelectFromModel(model)),\n",
    "            (\"model\", model),\n",
    "        ]\n",
    "    )\n",
    "\n",
    "    return pipeline_base"
   ]
  },
  {
   "cell_type": "markdown",
   "metadata": {},
   "source": [
    "Custom Class for Hyperparameter Optimisation using GridSearchCV"
   ]
  },
  {
   "cell_type": "code",
   "execution_count": null,
   "metadata": {},
   "outputs": [],
   "source": [
    "from sklearn.model_selection import GridSearchCV\n",
    "\n",
    "\n",
    "class HyperparameterOptimizationSearch:\n",
    "    \n",
    "    def __init__(self, models, params):\n",
    "        # Initialize with dictionaries of models and their corresponding hyperparameters\n",
    "        self.models = models\n",
    "        self.params = params\n",
    "        # Store the keys (model names) for easy iteration\n",
    "        self.keys = models.keys()  \n",
    "        # Initialize an empty dictionary to store grid search results\n",
    "        self.grid_searches = {}    \n",
    "\n",
    "    def fit(self, X, y, cv, n_jobs=-1, verbose=1, scoring=None, refit=\"f1\"):\n",
    "        # Fit GridSearchCV for each model with provided data and parameters\n",
    "        \n",
    "        for key in self.keys:\n",
    "            # Inform about the model being processed and the number of parameter combinations\n",
    "            print(f\"\\nRunning GridSearchCV for {key} with {len(self.params[key])} parameter combinations.\\n\")\n",
    "\n",
    "            # Create a model pipeline (PipelineClf)\n",
    "            model = PipelineClf(self.models[key])\n",
    "            \n",
    "            # Retrieve the corresponding hyperparameters for the model\n",
    "            params = self.params[key]\n",
    "            \n",
    "            # Set up the GridSearchCV with the model, parameters, and specified settings\n",
    "            gs = GridSearchCV(\n",
    "                model,\n",
    "                params,\n",
    "                cv=cv,           # Cross-validation strategy\n",
    "                n_jobs=n_jobs,   # Number of parallel jobs (-1 means using all processors)\n",
    "                verbose=verbose, # Verbosity level\n",
    "                scoring=scoring, # Scoring metrics\n",
    "                refit=refit,     # Metric to refit the model on after grid search\n",
    "            )\n",
    "            \n",
    "            # Fit the model with the provided data (X and y)\n",
    "            gs.fit(X, y)\n",
    "            \n",
    "            # Store the result of the grid search in the dictionary under the model's name\n",
    "            self.grid_searches[key] = gs\n",
    "            \n",
    "    def score_summary(self, sort_by=\"f1\", scoring=None):\n",
    "        # Summarize and return the results of the grid search\n",
    "        \n",
    "        if scoring is None:\n",
    "            # Ensure a scoring dictionary is provided; otherwise, raise an error\n",
    "            raise ValueError(\"Scoring dictionary must be provided\")\n",
    "        \n",
    "        # List to store rows for the summary DataFrame\n",
    "        rows = []\n",
    "        \n",
    "        for k in self.grid_searches:\n",
    "            # For each model, retrieve the grid search results\n",
    "            \n",
    "            # Get the hyperparameter combinations tested\n",
    "            params = self.grid_searches[k].cv_results_[\"params\"]\n",
    "            \n",
    "            # Retrieve the mean test scores for each metric\n",
    "            mean_scores = {\n",
    "                metric: self.grid_searches[k].cv_results_[f\"mean_test_{metric}\"]\n",
    "                for metric in scoring.keys()\n",
    "            }\n",
    "            # For each parameter combination, create a dictionary of the results\n",
    "            for i in range(len(params)):\n",
    "                # Add model name and hyperparameters\n",
    "                row_data = {\"estimator\": k, **params[i]}\n",
    "                # Add mean scores for each metric (averaged across CV folds)\n",
    "                row_data.update({f\"mean_{metric}\": mean_scores[metric][i] for metric in mean_scores})\n",
    "                # Convert to a Pandas Series and add to the list\n",
    "                rows.append(pd.Series(row_data))\n",
    "        \n",
    "        # Convert the list of Series into a DataFrame and sort it by the specified metric\n",
    "        df = pd.DataFrame(rows).sort_values([f\"mean_{sort_by}\"], ascending=False)\n",
    "        \n",
    "        # Return the sorted DataFrame and the dictionary of grid search results\n",
    "        return df, self.grid_searches\n"
   ]
  },
  {
   "cell_type": "markdown",
   "metadata": {},
   "source": [
    "### Split Train and Test Set"
   ]
  },
  {
   "cell_type": "code",
   "execution_count": null,
   "metadata": {},
   "outputs": [],
   "source": [
    "from sklearn.model_selection import train_test_split\n",
    "\n",
    "X_train, X_test, y_train, y_test = train_test_split(\n",
    "    # Do not drop the target column here because it is needed for the pipeline\n",
    "    df,\n",
    "    df[\"Live birth occurrence\"],\n",
    "    test_size=0.2,\n",
    "    random_state=0,\n",
    ")\n",
    "\n",
    "print(X_train.shape, X_test.shape, y_train.shape, y_test.shape)"
   ]
  },
  {
   "cell_type": "markdown",
   "metadata": {},
   "source": [
    "Apply the data cleaning and feature engineering pipeline"
   ]
  },
  {
   "cell_type": "code",
   "execution_count": null,
   "metadata": {},
   "outputs": [],
   "source": [
    "X_train.head(3)"
   ]
  },
  {
   "cell_type": "code",
   "execution_count": null,
   "metadata": {},
   "outputs": [],
   "source": [
    "pipeline_data_cleaning_feat_eng = PipelineDataCleaningAndFeatureEngineering()\n",
    "X_train = pipeline_data_cleaning_feat_eng.fit_transform(X_train)"
   ]
  },
  {
   "cell_type": "code",
   "execution_count": null,
   "metadata": {},
   "outputs": [],
   "source": [
    "print(X_train.columns)"
   ]
  },
  {
   "cell_type": "code",
   "execution_count": null,
   "metadata": {},
   "outputs": [],
   "source": [
    "X_train.head(3)"
   ]
  },
  {
   "cell_type": "markdown",
   "metadata": {},
   "source": [
    "Realign y_train indices with the transformed X_train to keep only the rows present on the dataset after the cleaning step"
   ]
  },
  {
   "cell_type": "code",
   "execution_count": null,
   "metadata": {},
   "outputs": [],
   "source": [
    "y_train = y_train.loc[X_train.index]"
   ]
  },
  {
   "cell_type": "markdown",
   "metadata": {},
   "source": [
    "Apply the pipeline to the test set and realign indices on y_test"
   ]
  },
  {
   "cell_type": "code",
   "execution_count": null,
   "metadata": {},
   "outputs": [],
   "source": [
    "X_test = pipeline_data_cleaning_feat_eng.transform(X_test)\n",
    "y_test = y_test.loc[X_test.index]\n"
   ]
  },
  {
   "cell_type": "markdown",
   "metadata": {},
   "source": [
    "Drop the target column from the processed X_train and X_test"
   ]
  },
  {
   "cell_type": "code",
   "execution_count": null,
   "metadata": {},
   "outputs": [],
   "source": [
    "X_train = X_train.drop([\"Live birth occurrence\"], axis=1)\n",
    "X_test = X_test.drop([\"Live birth occurrence\"], axis=1)"
   ]
  },
  {
   "cell_type": "code",
   "execution_count": null,
   "metadata": {},
   "outputs": [],
   "source": [
    "print(X_train.shape, y_train.shape, X_test.shape, y_test.shape)"
   ]
  },
  {
   "cell_type": "markdown",
   "metadata": {},
   "source": [
    "Check Train Set Target distribution"
   ]
  },
  {
   "cell_type": "code",
   "execution_count": null,
   "metadata": {},
   "outputs": [],
   "source": [
    "import matplotlib.pyplot as plt\n",
    "import seaborn as sns\n",
    "\n",
    "print(y_train.value_counts())\n",
    "\n",
    "sns.set_style(\"whitegrid\")\n",
    "y_train.value_counts().plot(kind=\"bar\", title=\"Train Set Target Distribution\")\n",
    "plt.show()"
   ]
  },
  {
   "cell_type": "markdown",
   "metadata": {},
   "source": [
    "## Handle Target Imbalance"
   ]
  },
  {
   "cell_type": "markdown",
   "metadata": {},
   "source": [
    "### Use SMOTE (Synthetic Minority Oversampling TEchnique) to balance Train Set target"
   ]
  },
  {
   "cell_type": "code",
   "execution_count": null,
   "metadata": {},
   "outputs": [],
   "source": [
    "from imblearn.over_sampling import SMOTE\n",
    "\n",
    "oversample = SMOTE(sampling_strategy='minority', random_state=0)\n",
    "X_train, y_train = oversample.fit_resample(X_train, y_train)\n",
    "print(X_train.shape, y_train.shape, X_test.shape, y_test.shape)"
   ]
  },
  {
   "cell_type": "markdown",
   "metadata": {},
   "source": [
    "Check Train Set Target distribution after resampling"
   ]
  },
  {
   "cell_type": "code",
   "execution_count": null,
   "metadata": {},
   "outputs": [],
   "source": [
    "import matplotlib.pyplot as plt\n",
    "\n",
    "print(y_train.value_counts())\n",
    "\n",
    "y_train.value_counts().plot(kind='bar', title='Train Set Target Distribution')\n",
    "plt.show()"
   ]
  },
  {
   "cell_type": "markdown",
   "metadata": {},
   "source": [
    "## Grid Search CV - Sklearn"
   ]
  },
  {
   "cell_type": "markdown",
   "metadata": {},
   "source": [
    "### Use standard hyperparameters to find most suitable algorithm "
   ]
  },
  {
   "cell_type": "markdown",
   "metadata": {},
   "source": [
    "Set Up the Models and Parameters"
   ]
  },
  {
   "cell_type": "code",
   "execution_count": null,
   "metadata": {},
   "outputs": [],
   "source": [
    "models_quick_search = {\n",
    "    \"LogisticRegression\": LogisticRegression(random_state=0),\n",
    "    \"XGBClassifier\": XGBClassifier(random_state=0),\n",
    "    \"DecisionTreeClassifier\": DecisionTreeClassifier(random_state=0),\n",
    "    \"RandomForestClassifier\": RandomForestClassifier(random_state=0),\n",
    "    \"GradientBoostingClassifier\": GradientBoostingClassifier(random_state=0),\n",
    "    \"ExtraTreesClassifier\": ExtraTreesClassifier(random_state=0),\n",
    "    \"AdaBoostClassifier\": AdaBoostClassifier(random_state=0),\n",
    "    \"XGBLogitBoost\": XGBClassifier(objective=\"binary:logistic\", random_state=0)\n",
    "}\n",
    "\n",
    "params_quick_search = {\n",
    "    \"LogisticRegression\": {},\n",
    "    \"XGBClassifier\": {},\n",
    "    \"DecisionTreeClassifier\": {},\n",
    "    \"RandomForestClassifier\": {},\n",
    "    \"GradientBoostingClassifier\": {},\n",
    "    \"ExtraTreesClassifier\": {},\n",
    "    \"AdaBoostClassifier\": {},\n",
    "    \"XGBLogitBoost\": {}\n",
    "}"
   ]
  },
  {
   "cell_type": "markdown",
   "metadata": {},
   "source": [
    "Define the custom scoring metrics"
   ]
  },
  {
   "cell_type": "code",
   "execution_count": null,
   "metadata": {},
   "outputs": [],
   "source": [
    "from sklearn.metrics import make_scorer, accuracy_score, recall_score, precision_score, f1_score, matthews_corrcoef, confusion_matrix\n",
    "\n",
    "def specificity_score(y_true, y_pred):\n",
    "    tn, fp, fn, tp = confusion_matrix(y_true, y_pred).ravel()\n",
    "    return tn / (tn + fp)\n",
    "\n",
    "def npv_score(y_true, y_pred):\n",
    "    tn, fp, fn, tp = confusion_matrix(y_true, y_pred).ravel()\n",
    "    return tn / (tn + fn)\n",
    "\n",
    "# Dictionary of all the metrics\n",
    "scoring = {\n",
    "    'accuracy': make_scorer(accuracy_score),\n",
    "    'recall': make_scorer(recall_score, pos_label=0),\n",
    "    'specificity': make_scorer(specificity_score),\n",
    "    'precision': make_scorer(precision_score, pos_label=1),\n",
    "    'npv': make_scorer(npv_score),\n",
    "    'mcc': make_scorer(matthews_corrcoef),\n",
    "    'f1': make_scorer(f1_score, pos_label=1)\n",
    "}"
   ]
  },
  {
   "cell_type": "markdown",
   "metadata": {},
   "source": [
    "Quick GridSearch CV - Binary Classifier"
   ]
  },
  {
   "cell_type": "code",
   "execution_count": null,
   "metadata": {},
   "outputs": [],
   "source": [
    "search = HyperparameterOptimizationSearch(models=models_quick_search, params=params_quick_search)\n",
    "\n",
    "search.fit(X_train, y_train, cv=5, n_jobs=-1, scoring=scoring, refit='f1')"
   ]
  },
  {
   "cell_type": "markdown",
   "metadata": {},
   "source": [
    "Check results"
   ]
  },
  {
   "cell_type": "code",
   "execution_count": null,
   "metadata": {},
   "outputs": [],
   "source": [
    "# Get the results and sort by the F1 score\n",
    "grid_search_summary, grid_search_pipelines = search.score_summary(sort_by='f1', scoring=scoring)\n",
    "grid_search_summary\n"
   ]
  },
  {
   "cell_type": "markdown",
   "metadata": {},
   "source": [
    "### Perform extensive and comprehensive search on the most suitable algorithm to find the best hyperparameter configuration using GridSearchCV"
   ]
  },
  {
   "cell_type": "markdown",
   "metadata": {},
   "source": [
    "Define model and parameters, for Extensive Search"
   ]
  },
  {
   "cell_type": "code",
   "execution_count": null,
   "metadata": {},
   "outputs": [],
   "source": [
    "models_search = {\n",
    "    'RandomForestClassifier': RandomForestClassifier (),\n",
    "}\n",
    "\n",
    "params_search = {\n",
    "    'RandomForestClassifier': {\n",
    "        'model__n_estimators': [100, 200, 300],\n",
    "        'model__max_depth': [10, 20, 30],\n",
    "        'model__min_samples_leaf': [2, 5, 10],\n",
    "        'model__min_samples_split': [10, 15, 20],\n",
    "        'model__max_features': ['sqrt', 'log2', 0.75],\n",
    "        'model__class_weight': [{0: 1, 1: 2}, \"balanced\", None], \n",
    "    }\n",
    "}"
   ]
  },
  {
   "cell_type": "markdown",
   "metadata": {},
   "source": [
    "Extensive GridSearch CV - Binary Classifier"
   ]
  },
  {
   "cell_type": "code",
   "execution_count": null,
   "metadata": {},
   "outputs": [],
   "source": [
    "print(y_train.value_counts())\n",
    "\n",
    "search = HyperparameterOptimizationSearch(models=models_search, params=params_search)\n",
    "search.fit(X_train, y_train, cv=5, n_jobs=-1, scoring=scoring, refit='f1')"
   ]
  },
  {
   "cell_type": "markdown",
   "metadata": {},
   "source": [
    "Check results"
   ]
  },
  {
   "cell_type": "code",
   "execution_count": null,
   "metadata": {},
   "outputs": [],
   "source": [
    "grid_search_summary, grid_search_pipelines = search.score_summary(sort_by='f1', scoring=scoring)\n",
    "grid_search_summary "
   ]
  },
  {
   "cell_type": "markdown",
   "metadata": {},
   "source": [
    "Get best model name programmatically"
   ]
  },
  {
   "cell_type": "code",
   "execution_count": null,
   "metadata": {},
   "outputs": [],
   "source": [
    "best_model = grid_search_summary.iloc[0,0]\n",
    "best_model"
   ]
  },
  {
   "cell_type": "markdown",
   "metadata": {},
   "source": [
    "Parameters for best model"
   ]
  },
  {
   "cell_type": "code",
   "execution_count": null,
   "metadata": {},
   "outputs": [],
   "source": [
    "best_parameters = grid_search_pipelines[best_model].best_params_\n",
    "best_parameters"
   ]
  },
  {
   "cell_type": "markdown",
   "metadata": {},
   "source": [
    "Define the best clf pipeline"
   ]
  },
  {
   "cell_type": "code",
   "execution_count": null,
   "metadata": {},
   "outputs": [],
   "source": [
    "pipeline_clf = grid_search_pipelines[best_model].best_estimator_\n",
    "pipeline_clf"
   ]
  },
  {
   "cell_type": "markdown",
   "metadata": {},
   "source": [
    "## Assess feature importance"
   ]
  },
  {
   "cell_type": "code",
   "execution_count": null,
   "metadata": {},
   "outputs": [],
   "source": [
    "X_train.head(3)"
   ]
  },
  {
   "cell_type": "markdown",
   "metadata": {},
   "source": [
    "Assess feature importance on the current model with `.features_importances_`"
   ]
  },
  {
   "cell_type": "code",
   "execution_count": null,
   "metadata": {},
   "outputs": [],
   "source": [
    "# create DataFrame to display feature importance\n",
    "df_feature_importance = pd.DataFrame(\n",
    "    data={\n",
    "        \"Feature\": X_train.columns[pipeline_clf[\"feat_selection\"].get_support()],\n",
    "        \"Importance\": pipeline_clf[\"model\"].feature_importances_,\n",
    "    }\n",
    ").sort_values(by=\"Importance\", ascending=False)\n",
    "\n",
    "# re-assign best_features order\n",
    "best_features = df_feature_importance[\"Feature\"].to_list()\n",
    "\n",
    "# Most important features statement and plot\n",
    "print(\n",
    "    f\"* These are the {len(best_features)} most important features in descending order. \"\n",
    "    f\"The model was trained on them: \\n{df_feature_importance['Feature'].to_list()}\"\n",
    ")\n",
    "\n",
    "df_feature_importance.plot(kind=\"bar\", x=\"Feature\", y=\"Importance\")\n",
    "plt.show()"
   ]
  },
  {
   "cell_type": "markdown",
   "metadata": {},
   "source": [
    "## Evaluate Pipeline on Train and Test Sets"
   ]
  },
  {
   "cell_type": "code",
   "execution_count": null,
   "metadata": {},
   "outputs": [],
   "source": [
    "from sklearn.metrics import classification_report, confusion_matrix\n",
    "\n",
    "\n",
    "def confusion_matrix_and_report(X, y, pipeline, label_map):\n",
    "\n",
    "    prediction = pipeline.predict(X)\n",
    "\n",
    "    print(\"---  Confusion Matrix  ---\")\n",
    "    print(\n",
    "        pd.DataFrame(\n",
    "            confusion_matrix(y_true=prediction, y_pred=y),\n",
    "            columns=[[\"Actual \" + sub for sub in label_map]],\n",
    "            index=[[\"Prediction \" + sub for sub in label_map]],\n",
    "        )\n",
    "    )\n",
    "    print(\"\\n\")\n",
    "\n",
    "    print(\"---  Classification Report  ---\")\n",
    "    print(classification_report(y, prediction, target_names=label_map), \"\\n\")\n",
    "\n",
    "\n",
    "def clf_performance(X_train, y_train, X_test, y_test, pipeline, label_map):\n",
    "    print(\"#### Train Set #### \\n\")\n",
    "    confusion_matrix_and_report(X_train, y_train, pipeline, label_map)\n",
    "\n",
    "    print(\"#### Test Set ####\\n\")\n",
    "    confusion_matrix_and_report(X_test, y_test, pipeline, label_map)"
   ]
  },
  {
   "cell_type": "markdown",
   "metadata": {},
   "source": [
    "Evaluation:"
   ]
  },
  {
   "cell_type": "code",
   "execution_count": null,
   "metadata": {},
   "outputs": [],
   "source": [
    "clf_performance(X_train=X_train, y_train=y_train,\n",
    "                X_test=X_test, y_test=y_test,\n",
    "                pipeline=pipeline_clf,\n",
    "                label_map= ['No Success', 'Success'] \n",
    "                )"
   ]
  },
  {
   "cell_type": "markdown",
   "metadata": {},
   "source": [
    "---"
   ]
  },
  {
   "cell_type": "markdown",
   "metadata": {},
   "source": [
    "## Refit pipeline with best features"
   ]
  },
  {
   "cell_type": "markdown",
   "metadata": {},
   "source": [
    "### Refit ML Pipeline and Resampling"
   ]
  },
  {
   "cell_type": "markdown",
   "metadata": {},
   "source": [
    "### Rewrite ML pipeline for Data Cleaning and Feature Engineering"
   ]
  },
  {
   "cell_type": "code",
   "execution_count": null,
   "metadata": {},
   "outputs": [],
   "source": [
    "best_features = [\n",
    "    'Embryos transferred',\n",
    "    'Date of embryo transfer',\n",
    "    'Partner/Sperm provider age',\n",
    "    'Total number of previous IVF cycles',\n",
    "    'Patient/Egg provider age',\n",
    "    'Fresh eggs collected',\n",
    "    'Total number of previous pregnancies - IVF and DI',\n",
    "    'Patient age at treatment',\n",
    "    'Causes of infertility - male factor',\n",
    "    'Total eggs mixed',\n",
    "    'Total embryos created'\n",
    "    ]"
   ]
  },
  {
   "cell_type": "markdown",
   "metadata": {},
   "source": [
    "New Pipeline for DataCleaning And FeatureEngineering considering only the best features and without Smart Correlation.\n",
    "\n",
    "Best features: `['Embryos transferred',\n",
    " 'Date of embryo transfer',\n",
    " 'Partner/Sperm provider age',\n",
    " 'Total number of previous IVF cycles',\n",
    " 'Patient/Egg provider age',\n",
    " 'Fresh eggs collected',\n",
    " 'Total number of previous pregnancies - IVF and DI',\n",
    " 'Patient age at treatment',\n",
    " 'Causes of infertility - male factor',\n",
    " 'Total eggs mixed',\n",
    " 'Total embryos created']`"
   ]
  },
  {
   "cell_type": "code",
   "execution_count": null,
   "metadata": {},
   "outputs": [],
   "source": [
    "import pandas as pd\n",
    "from sklearn.pipeline import Pipeline\n",
    "from feature_engine.selection import DropFeatures\n",
    "from feature_engine.imputation import ArbitraryNumberImputer, DropMissingData\n",
    "from feature_engine.encoding import OneHotEncoder, OrdinalEncoder\n",
    "# Custom Transformers saved under src/custom_transformers.py\n",
    "from src.custom_transformers import (\n",
    "    FilterIVFTreatments,\n",
    "    DropErroneousEntries,\n",
    "    ConvertToNumeric,\n",
    "    ConvertToIntegers,\n",
    "    FillSpermSource,\n",
    "    ConvertToIntAndReplace999,\n",
    "    ReplaceMissingValues,\n",
    "    AppendCycleType,\n",
    "    MicroInjectedEmbryos,\n",
    "    DonorAgeImputer,\n",
    "    FloatToIntTransformer,\n",
    "    EFlaggingTransformer,\n",
    "    TypeOfCycleAppender,\n",
    "    DropRowsWith999\n",
    ")\n",
    "\n",
    "\n",
    "\n",
    "# Columns to update with the type of cycle\n",
    "columns_to_update = [\n",
    "    \"Fresh eggs collected\",\n",
    "    \"Total eggs mixed\",\n",
    "    \"Total embryos created\",\n",
    "]\n",
    "\n",
    "# Relevant columns for cleaning steps\n",
    "relevant_columns = [\n",
    "    \"Embryos transferred\",\n",
    "    \"Date of embryo transfer\",\n",
    "    \"Partner/Sperm provider age\",\n",
    "    \"Total number of previous IVF cycles\",\n",
    "    \"Patient/Egg provider age\",\n",
    "    \"Fresh eggs collected\",\n",
    "    \"Total number of previous pregnancies - IVF and DI\",\n",
    "    \"Patient age at treatment\",\n",
    "    \"Causes of infertility - male factor\",\n",
    "    \"Total eggs mixed\",\n",
    "    \"Total embryos created\",\n",
    "]\n",
    "\n",
    "required_columns = [\n",
    "    # Columns used in transformers and pipeline\n",
    "    \"Main reason for producing embroys storing eggs\",  # Used in FilterIVFTreatments\n",
    "    \"Live birth occurrence\",  # Used in DropErroneousEntries\n",
    "    \"Sperm source\",  # Used in FillSpermSource\n",
    "    \"Sperm donor age at registration\",  # Used in FillSpermSource and DonorAgeImputer\n",
    "    \"Date of embryo transfer\",  # Used in multiple transformers\n",
    "    \"Fresh cycle\",  # Used in AppendCycleType\n",
    "    \"Frozen cycle\",  # Used in AppendCycleType and TypeOfCycleAppender\n",
    "    \"Specific treatment type\",  # Used in MicroInjectedEmbryos\n",
    "    \"Egg donor age at registration\",  # Used in DonorAgeImputer\n",
    "    \"Egg source\",  # Used in DonorAgeImputer\n",
    "    \"Patient age at treatment\",  # Used in DonorAgeImputer and OrdinalEncoder\n",
    "    \"Partner age\",  # Used in DonorAgeImputer\n",
    "    \"Elective single embryo transfer\",  # Used in EFlaggingTransformer\n",
    "    \"Embryos transferred from eggs micro-injected\",  # Used in MicroInjectedEmbryos\n",
    "    \"Total embryos thawed\",  # Used in TypeOfCycleAppender\n",
    "]\n",
    "\n",
    "\n",
    "def PipelineDataCleaningAndFeatureEngineeringBestFeatures():\n",
    "    pipeline_base = Pipeline(\n",
    "        [\n",
    "            # Data Cleaning Steps\n",
    "            (\"filter_ivf\", FilterIVFTreatments()),\n",
    "            (\"drop_erroneous\", DropErroneousEntries()),\n",
    "            (\n",
    "                \"drop_features\",\n",
    "                DropFeatures(\n",
    "                    features_to_drop=[\n",
    "                        \"Main reason for producing embroys storing eggs\",\n",
    "                    ]\n",
    "                ),\n",
    "            ),\n",
    "            (\n",
    "                \"convert_to_numeric\",\n",
    "                ConvertToNumeric(\n",
    "                    columns=[\n",
    "                        \"Total number of previous pregnancies - IVF and DI\",\n",
    "                    ]\n",
    "                ),\n",
    "            ),\n",
    "            (\n",
    "                \"zeros_imputer\",\n",
    "                ArbitraryNumberImputer(\n",
    "                    arbitrary_number=0,\n",
    "                    variables=[\n",
    "                        \"Total number of previous pregnancies - IVF and DI\",\n",
    "                    ],\n",
    "                ),\n",
    "            ),\n",
    "            (\n",
    "                \"convert_to_int\",\n",
    "                ConvertToIntegers(\n",
    "                    columns=[\n",
    "                        \"Total number of previous pregnancies - IVF and DI\",\n",
    "                    ]\n",
    "                ),\n",
    "            ),\n",
    "            (\"fill_sperm_source\", FillSpermSource()),\n",
    "            # Process 'Date of embryo transfer'\n",
    "            (\"dot_to_int_999\", ConvertToIntAndReplace999()),\n",
    "            (\"replace_missing_values\", ReplaceMissingValues()),\n",
    "            (\"append_cycle_type\", AppendCycleType()),\n",
    "            # Specific treatment and donor age handling\n",
    "            (\"micro_injected\", MicroInjectedEmbryos()),\n",
    "            (\"donor_age\", DonorAgeImputer()),\n",
    "            # Convert float to int in relevant columns\n",
    "            (\"float_to_int\", FloatToIntTransformer()),\n",
    "            # Handle 'Embryos transferred'\n",
    "            (\"e_flagging\", EFlaggingTransformer()),\n",
    "            # Annotate relevant columns based on cycle type\n",
    "            (\"type_of_cycle\", TypeOfCycleAppender(columns_to_update=columns_to_update)),\n",
    "            # Drop rows with placeholder values and missing data\n",
    "            (\"drop_999\", DropRowsWith999()),\n",
    "            (\"drop_missing_data\", DropMissingData()),\n",
    "            # Feature Engineering Steps\n",
    "            (\n",
    "                \"ordinal_encoding\",\n",
    "                OrdinalEncoder(\n",
    "                    encoding_method=\"arbitrary\",\n",
    "                    variables=[\n",
    "                        \"Patient age at treatment\",\n",
    "                        \"Partner/Sperm provider age\",\n",
    "                        \"Patient/Egg provider age\",\n",
    "                        \"Total number of previous IVF cycles\",\n",
    "                        \"Fresh eggs collected\",\n",
    "                        \"Total eggs mixed\",\n",
    "                        \"Total embryos created\",\n",
    "                        \"Embryos transferred\",\n",
    "                        \"Date of embryo transfer\",\n",
    "                        \"Total embryos thawed\",\n",
    "                    ],\n",
    "                ),\n",
    "            ),\n",
    "            (\n",
    "                \"one_hot_encoding\",\n",
    "                OneHotEncoder(\n",
    "                    variables=[\n",
    "                        \"Specific treatment type\",\n",
    "                        \"Egg source\",\n",
    "                        \"Sperm source\",\n",
    "                    ]\n",
    "                ),\n",
    "            ),\n",
    "        ]\n",
    "    )\n",
    "\n",
    "    return pipeline_base\n",
    "\n",
    "\n",
    "PipelineDataCleaningAndFeatureEngineeringBestFeatures()"
   ]
  },
  {
   "cell_type": "markdown",
   "metadata": {},
   "source": [
    "### Rewrite ML Pipeline for Modelling"
   ]
  },
  {
   "cell_type": "markdown",
   "metadata": {},
   "source": [
    "Function for Pipeline optmisation"
   ]
  },
  {
   "cell_type": "code",
   "execution_count": null,
   "metadata": {},
   "outputs": [],
   "source": [
    "# Pipeline Optmization: Model\n",
    "def PipelineClf(model):\n",
    "    pipeline_base = Pipeline([\n",
    "        (\"scaler\", StandardScaler()),\n",
    "        # no feature selection needed anymore since it is already known which features to use\n",
    "        (\"model\", model),\n",
    "    ])\n",
    "\n",
    "    return pipeline_base\n"
   ]
  },
  {
   "cell_type": "markdown",
   "metadata": {},
   "source": [
    "### Split Train Test Set, considering only with best features"
   ]
  },
  {
   "cell_type": "code",
   "execution_count": null,
   "metadata": {},
   "outputs": [],
   "source": [
    "from sklearn.model_selection import train_test_split\n",
    "\n",
    "X_train, X_test, y_train, y_test = train_test_split(\n",
    "    # Do not drop the target column here because it is needed for the pipeline\n",
    "    df,\n",
    "    df[\"Live birth occurrence\"],\n",
    "    test_size=0.2,\n",
    "    random_state=0,\n",
    ")\n",
    "\n",
    "\n",
    "print(X_train.shape, y_train.shape, X_test.shape, y_test.shape)\n"
   ]
  },
  {
   "cell_type": "markdown",
   "metadata": {},
   "source": [
    "Filter only the most important variables"
   ]
  },
  {
   "cell_type": "code",
   "execution_count": null,
   "metadata": {},
   "outputs": [],
   "source": [
    "best_features = list(best_features)  # Ensures best_features is a list\n",
    "required_columns = list(required_columns)  # Ensures required_columns is a list\n",
    "\n",
    "# Combine the two lists\n",
    "all_needed_columns = list(set(best_features + required_columns))\n",
    "\n",
    "# Filter X_train and X_test to include both best features and necessary columns\n",
    "X_train = X_train.filter(all_needed_columns)\n",
    "X_test = X_test.filter(all_needed_columns)\n",
    "\n",
    "print(X_train.shape, y_train.shape, X_test.shape, y_test.shape)\n",
    "X_train.head(3)"
   ]
  },
  {
   "cell_type": "markdown",
   "metadata": {},
   "source": [
    "### Handle Target Imbalance"
   ]
  },
  {
   "cell_type": "markdown",
   "metadata": {},
   "source": [
    "Apply the data cleaning and feature engineering pipeline"
   ]
  },
  {
   "cell_type": "code",
   "execution_count": null,
   "metadata": {},
   "outputs": [],
   "source": [
    "pipeline_data_cleaning_feat_eng = PipelineDataCleaningAndFeatureEngineeringBestFeatures()\n",
    "X_train = pipeline_data_cleaning_feat_eng.fit_transform(X_train)"
   ]
  },
  {
   "cell_type": "markdown",
   "metadata": {},
   "source": [
    "Realign y_train indices with the transformed X_train to keep only the rows present on the dataset after the cleaning step"
   ]
  },
  {
   "cell_type": "code",
   "execution_count": null,
   "metadata": {},
   "outputs": [],
   "source": [
    "y_train = y_train.loc[X_train.index]"
   ]
  },
  {
   "cell_type": "markdown",
   "metadata": {},
   "source": [
    "Apply the pipeline to the test set and realign indices on y_test"
   ]
  },
  {
   "cell_type": "code",
   "execution_count": null,
   "metadata": {},
   "outputs": [],
   "source": [
    "X_test = pipeline_data_cleaning_feat_eng.transform(X_test)\n",
    "y_test = y_test.loc[X_test.index]\n"
   ]
  },
  {
   "cell_type": "markdown",
   "metadata": {},
   "source": [
    "Drop the target column from the processed X_train and X_test"
   ]
  },
  {
   "cell_type": "code",
   "execution_count": null,
   "metadata": {},
   "outputs": [],
   "source": [
    "X_train = X_train.drop([\"Live birth occurrence\"], axis=1)\n",
    "X_test = X_test.drop([\"Live birth occurrence\"], axis=1)"
   ]
  },
  {
   "cell_type": "code",
   "execution_count": null,
   "metadata": {},
   "outputs": [],
   "source": [
    "print(X_train.shape, y_train.shape, X_test.shape, y_test.shape)"
   ]
  },
  {
   "cell_type": "markdown",
   "metadata": {},
   "source": [
    "Check Train Set Target distribution"
   ]
  },
  {
   "cell_type": "code",
   "execution_count": null,
   "metadata": {},
   "outputs": [],
   "source": [
    "import matplotlib.pyplot as plt\n",
    "import seaborn as sns\n",
    "\n",
    "print(y_train.value_counts())\n",
    "\n",
    "sns.set_style(\"whitegrid\")\n",
    "y_train.value_counts().plot(kind=\"bar\", title=\"Train Set Target Distribution\")\n",
    "plt.show()"
   ]
  },
  {
   "cell_type": "markdown",
   "metadata": {},
   "source": [
    "Use SMOTE to balance Train Set target"
   ]
  },
  {
   "cell_type": "code",
   "execution_count": null,
   "metadata": {},
   "outputs": [],
   "source": [
    "from imblearn.over_sampling import SMOTE\n",
    "\n",
    "oversample = SMOTE(sampling_strategy='minority', random_state=0)\n",
    "X_train, y_train = oversample.fit_resample(X_train, y_train)\n",
    "print(X_train.shape, y_train.shape, X_test.shape, y_test.shape)"
   ]
  },
  {
   "cell_type": "markdown",
   "metadata": {},
   "source": [
    "Check Train Set Target distribution after SMOTE"
   ]
  },
  {
   "cell_type": "code",
   "execution_count": null,
   "metadata": {},
   "outputs": [],
   "source": [
    "y_train.value_counts().plot(kind='bar',title='Train Set Target Distribution')\n",
    "plt.show()"
   ]
  },
  {
   "cell_type": "markdown",
   "metadata": {},
   "source": [
    "### Grid Search CV: Sklearn"
   ]
  },
  {
   "cell_type": "markdown",
   "metadata": {},
   "source": [
    "Using the most suitable model from the last section and its best hyperparameter configuration."
   ]
  },
  {
   "cell_type": "markdown",
   "metadata": {},
   "source": [
    "We are using the same model from  the last GridCV search"
   ]
  },
  {
   "cell_type": "code",
   "execution_count": null,
   "metadata": {},
   "outputs": [],
   "source": [
    "models_search "
   ]
  },
  {
   "cell_type": "markdown",
   "metadata": {},
   "source": [
    "And the best parameters from the last GridCV search "
   ]
  },
  {
   "cell_type": "code",
   "execution_count": null,
   "metadata": {},
   "outputs": [],
   "source": [
    "best_parameters"
   ]
  },
  {
   "cell_type": "markdown",
   "metadata": {},
   "source": [
    "You will need to type in manually since the hyperparameter values have to be a list. The previous dictionary is not in this format."
   ]
  },
  {
   "cell_type": "code",
   "execution_count": null,
   "metadata": {},
   "outputs": [],
   "source": [
    "params_search = {\n",
    "    \"RandomForestClassifier\": {\n",
    "        \"model__class_weight\": [{0: 1, 1: 2}],\n",
    "        \"model__max_depth\": [30],\n",
    "        \"model__max_features\": [0.75],\n",
    "        \"model__min_samples_leaf\": [2],\n",
    "        \"model__min_samples_split\": [10],\n",
    "        \"model__n_estimators\": [100],\n",
    "    }\n",
    "}\n",
    "params_search"
   ]
  },
  {
   "cell_type": "markdown",
   "metadata": {},
   "source": [
    "GridSearch CV"
   ]
  },
  {
   "cell_type": "code",
   "execution_count": null,
   "metadata": {},
   "outputs": [],
   "source": [
    "search = HyperparameterOptimizationSearch(models=models_search, params=params_search)\n",
    "search.fit(X_train, y_train, cv=5, n_jobs=-1, scoring=scoring, refit=\"f1\")"
   ]
  },
  {
   "cell_type": "markdown",
   "metadata": {},
   "source": [
    "Check results"
   ]
  },
  {
   "cell_type": "code",
   "execution_count": null,
   "metadata": {},
   "outputs": [],
   "source": [
    "grid_search_summary, grid_search_pipelines = search.score_summary(sort_by='f1', scoring=scoring)\n",
    "grid_search_summary"
   ]
  },
  {
   "cell_type": "markdown",
   "metadata": {},
   "source": [
    "Define the best clf pipeline"
   ]
  },
  {
   "cell_type": "code",
   "execution_count": null,
   "metadata": {},
   "outputs": [],
   "source": [
    "best_model = grid_search_summary.iloc[0, 0]\n",
    "pipeline_clf = grid_search_pipelines[best_model].best_estimator_\n",
    "pipeline_clf"
   ]
  },
  {
   "cell_type": "markdown",
   "metadata": {},
   "source": [
    "### Assess feature importance"
   ]
  },
  {
   "cell_type": "code",
   "execution_count": null,
   "metadata": {},
   "outputs": [],
   "source": [
    "best_features = X_train.columns\n",
    "\n",
    "# create DataFrame to display feature importance\n",
    "df_feature_importance = (pd.DataFrame(data={\n",
    "    'Feature': best_features,\n",
    "    'Importance': pipeline_clf['model'].feature_importances_})\n",
    "    .sort_values(by='Importance', ascending=False)\n",
    ")\n",
    "\n",
    "\n",
    "# Most important features statement and plot\n",
    "print(f\"* These are the {len(best_features)} most important features in descending order. \"\n",
    "      f\"The model was trained on them: \\n{df_feature_importance['Feature'].to_list()}\")\n",
    "\n",
    "df_feature_importance.plot(kind='bar', x='Feature', y='Importance')\n",
    "plt.show()\n"
   ]
  },
  {
   "cell_type": "markdown",
   "metadata": {},
   "source": [
    "### Evaluate Pipeline on Train and Test Sets"
   ]
  },
  {
   "cell_type": "markdown",
   "metadata": {},
   "source": [
    "Evaluation: We cross-check with metrics defined in the ML business case.\n",
    "* 70% Recall for No Success, on train and test set.\n",
    "* 70% Precision for Success on train and test set. "
   ]
  },
  {
   "cell_type": "code",
   "execution_count": null,
   "metadata": {},
   "outputs": [],
   "source": [
    "clf_performance(X_train=X_train, y_train=y_train,\n",
    "                X_test=X_test, y_test=y_test,\n",
    "                pipeline=pipeline_clf,\n",
    "                label_map= ['No Success', 'Success'] \n",
    "                )"
   ]
  },
  {
   "cell_type": "markdown",
   "metadata": {},
   "source": [
    "## Push files to Repo"
   ]
  },
  {
   "cell_type": "markdown",
   "metadata": {},
   "source": [
    "Generate the following files\n",
    "* Train set\n",
    "* Test set\n",
    "* Data cleaning and Feature Engineering pipeline\n",
    "* Modeling pipeline\n",
    "* features importance plot"
   ]
  },
  {
   "cell_type": "code",
   "execution_count": null,
   "metadata": {},
   "outputs": [],
   "source": [
    "import joblib\n",
    "import os\n",
    "\n",
    "version = 'v1'\n",
    "file_path = f'outputs/ml_pipeline/ivf_success_predictor/{version}'\n",
    "\n",
    "try:\n",
    "    # Check if the directories exist\n",
    "    if os.path.exists(file_path):\n",
    "        print('Old version is already available. Please create a new version.')\n",
    "    else:\n",
    "        # Create the directory if it does not exist\n",
    "        os.makedirs(name=file_path)\n",
    "        print(f\"Directory {file_path} created successfully.\")\n",
    "except Exception as e:\n",
    "    print(f\"An error occurred: {e}\")"
   ]
  },
  {
   "cell_type": "markdown",
   "metadata": {},
   "source": [
    "### Train Set"
   ]
  },
  {
   "cell_type": "markdown",
   "metadata": {},
   "source": [
    "* note that the variables **are transformed already** in X_train after SMOTE was applied."
   ]
  },
  {
   "cell_type": "code",
   "execution_count": null,
   "metadata": {},
   "outputs": [],
   "source": [
    "print(X_train.shape)\n",
    "X_train.head()"
   ]
  },
  {
   "cell_type": "code",
   "execution_count": null,
   "metadata": {},
   "outputs": [],
   "source": [
    "X_train.to_csv(f\"{file_path}/X_train.csv\", index=False)"
   ]
  },
  {
   "cell_type": "code",
   "execution_count": null,
   "metadata": {},
   "outputs": [],
   "source": [
    "y_train"
   ]
  },
  {
   "cell_type": "code",
   "execution_count": null,
   "metadata": {},
   "outputs": [],
   "source": [
    "y_train.to_csv(f\"{file_path}/y_train.csv\", index=False)"
   ]
  },
  {
   "cell_type": "markdown",
   "metadata": {},
   "source": [
    "### Test Set"
   ]
  },
  {
   "cell_type": "markdown",
   "metadata": {},
   "source": [
    "* note that the variables are transformed already in X_test"
   ]
  },
  {
   "cell_type": "code",
   "execution_count": null,
   "metadata": {},
   "outputs": [],
   "source": [
    "print(X_test.shape)\n",
    "X_test.head()"
   ]
  },
  {
   "cell_type": "code",
   "execution_count": null,
   "metadata": {},
   "outputs": [],
   "source": [
    "X_test.to_csv(f\"{file_path}/X_test.csv\", index=False)"
   ]
  },
  {
   "cell_type": "code",
   "execution_count": null,
   "metadata": {},
   "outputs": [],
   "source": [
    "y_test"
   ]
  },
  {
   "cell_type": "code",
   "execution_count": null,
   "metadata": {},
   "outputs": [],
   "source": [
    "y_test.to_csv(f\"{file_path}/y_test.csv\", index=False)"
   ]
  },
  {
   "cell_type": "markdown",
   "metadata": {},
   "source": [
    "### ML Pipelines: Data Cleaning and Feat Eng pipeline and Modelling Pipeline"
   ]
  },
  {
   "cell_type": "markdown",
   "metadata": {},
   "source": [
    "Both pipelines should be used in conjunction to predict Live Data.\n",
    "\n",
    "* To predict on Train Set, Test Set we use only pipeline_clf, since the data is already processed."
   ]
  },
  {
   "cell_type": "markdown",
   "metadata": {},
   "source": [
    "Pipeline responsible for Data Cleaning and Feature Engineering."
   ]
  },
  {
   "cell_type": "code",
   "execution_count": null,
   "metadata": {},
   "outputs": [],
   "source": [
    "pipeline_data_cleaning_feat_eng"
   ]
  },
  {
   "cell_type": "code",
   "execution_count": null,
   "metadata": {},
   "outputs": [],
   "source": [
    "joblib.dump(value=pipeline_data_cleaning_feat_eng ,\n",
    "            filename=f\"{file_path}/clf_pipeline_data_cleaning_feat_eng.pkl\")"
   ]
  },
  {
   "cell_type": "markdown",
   "metadata": {},
   "source": [
    "  Pipeline responsible for Feature Scaling, and Model"
   ]
  },
  {
   "cell_type": "code",
   "execution_count": null,
   "metadata": {},
   "outputs": [],
   "source": [
    "pipeline_clf"
   ]
  },
  {
   "cell_type": "markdown",
   "metadata": {},
   "source": [
    "### Save the model as pkl compressed"
   ]
  },
  {
   "cell_type": "code",
   "execution_count": null,
   "metadata": {},
   "outputs": [],
   "source": [
    "import joblib\n",
    "import gzip\n",
    "\n",
    "# Save the model directly into a compressed gzip file\n",
    "with gzip.open(f\"{file_path}/clf_pipeline_model.pkl.gz\", 'wb') as f_out:\n",
    "    joblib.dump(pipeline_clf, f_out)\n",
    "\n",
    "print(f\"Model compressed and saved at: {file_path}/clf_pipeline_model.pkl.gz\")"
   ]
  },
  {
   "cell_type": "markdown",
   "metadata": {},
   "source": [
    "### Feature Importance plot"
   ]
  },
  {
   "cell_type": "code",
   "execution_count": null,
   "metadata": {},
   "outputs": [],
   "source": [
    "df_feature_importance.plot(kind='bar',x='Feature',y='Importance')\n",
    "plt.show()"
   ]
  },
  {
   "cell_type": "code",
   "execution_count": null,
   "metadata": {},
   "outputs": [],
   "source": [
    "df_feature_importance.plot(kind='bar', x='Feature', y='Importance')\n",
    "plt.savefig(f'{file_path}/features_importance.png', bbox_inches='tight')"
   ]
  },
  {
   "cell_type": "markdown",
   "metadata": {},
   "source": [
    "---"
   ]
  }
 ],
 "metadata": {
  "kernelspec": {
   "display_name": "venv",
   "language": "python",
   "name": "python3"
  },
  "language_info": {
   "codemirror_mode": {
    "name": "ipython",
    "version": 3
   },
   "file_extension": ".py",
   "mimetype": "text/x-python",
   "name": "python",
   "nbconvert_exporter": "python",
   "pygments_lexer": "ipython3",
   "version": "3.11.9"
  }
 },
 "nbformat": 4,
 "nbformat_minor": 2
}
