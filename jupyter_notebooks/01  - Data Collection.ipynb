{
 "cells": [
  {
   "cell_type": "markdown",
   "metadata": {},
   "source": [
    "# **Data Collection Notebook**"
   ]
  },
  {
   "cell_type": "markdown",
   "metadata": {},
   "source": [
    "## Objectives\n",
    "\n",
    "* Download the anonymized data available (2017-2018) from the Human Fertilization and Embryology Authority (HFEA) website: [HFEA Data & Research](https://www.hfea.gov.uk/about-us/data-research/).\n",
    "* Save it as raw data under outputs/datasets/collection.\n",
    "\n",
    "## Inputs\n",
    "\n",
    "* Data file .xslx\n",
    "\n",
    "## Outputs\n",
    "\n",
    "* Generate compressed Dataset:\n",
    "  \n",
    "   - outputs/datasets/collection/FertilityTreatmentData.csv.gz\n",
    "\n",
    "## Additional Comments\n",
    "\n",
    "* The HFEA website does not provide an API for data retrieval. Therefore, the files were fetched from the download url on the website."
   ]
  },
  {
   "cell_type": "markdown",
   "metadata": {},
   "source": [
    "---"
   ]
  },
  {
   "cell_type": "markdown",
   "metadata": {},
   "source": [
    "# Change working directory"
   ]
  },
  {
   "cell_type": "markdown",
   "metadata": {},
   "source": [
    "Change the working directory from its current folder to its parent folder\n",
    "* Access the current directory with os.getcwd()"
   ]
  },
  {
   "cell_type": "code",
   "execution_count": null,
   "metadata": {},
   "outputs": [],
   "source": [
    "import os\n",
    "current_dir = os.getcwd()\n",
    "current_dir"
   ]
  },
  {
   "cell_type": "markdown",
   "metadata": {},
   "source": [
    "To make the parent of the current directory the new current directory:\n",
    "* os.path.dirname() gets the parent directory\n",
    "* os.chir() defines the new current directory"
   ]
  },
  {
   "cell_type": "code",
   "execution_count": null,
   "metadata": {},
   "outputs": [],
   "source": [
    "os.chdir(os.path.dirname(current_dir))\n",
    "print(\"A new current directory has been set\")"
   ]
  },
  {
   "cell_type": "markdown",
   "metadata": {},
   "source": [
    "Confirm the new current directory"
   ]
  },
  {
   "cell_type": "code",
   "execution_count": null,
   "metadata": {},
   "outputs": [],
   "source": [
    "current_dir = os.getcwd()\n",
    "current_dir"
   ]
  },
  {
   "cell_type": "markdown",
   "metadata": {},
   "source": [
    "---"
   ]
  },
  {
   "cell_type": "markdown",
   "metadata": {},
   "source": [
    "# Fetch data"
   ]
  },
  {
   "cell_type": "markdown",
   "metadata": {},
   "source": [
    "## Import Libraries\n",
    "\n",
    "Import `pandas` for data manipulation."
   ]
  },
  {
   "cell_type": "code",
   "execution_count": null,
   "metadata": {},
   "outputs": [],
   "source": [
    "import pandas as pd"
   ]
  },
  {
   "cell_type": "markdown",
   "metadata": {},
   "source": [
    "---"
   ]
  },
  {
   "cell_type": "markdown",
   "metadata": {},
   "source": [
    "Read xlsx File"
   ]
  },
  {
   "cell_type": "code",
   "execution_count": null,
   "metadata": {},
   "outputs": [],
   "source": [
    "def read_fertility_data():\n",
    "    try:\n",
    "        # Attempt to read from the website\n",
    "        df = pd.read_excel('https://www.hfea.gov.uk/media/3469/ar-2017-2018.xlsx', sheet_name='Anonymised register')\n",
    "        print(\"Data successfully read from the website.\")\n",
    "    except Exception as e:\n",
    "        # If there is an error, read from the local file\n",
    "        print(f\"Failed to read from the website. Error: {e}\")\n",
    "        df = pd.read_csv('outputs/datasets/collection/FertilityTreatmentData.csv.gz', compression='gzip')\n",
    "        print(\"Data successfully read from the local file.\")\n",
    "    \n",
    "    return df\n",
    "\n",
    "\n",
    "df = read_fertility_data()"
   ]
  },
  {
   "cell_type": "code",
   "execution_count": null,
   "metadata": {},
   "outputs": [],
   "source": [
    "df.info()"
   ]
  },
  {
   "cell_type": "markdown",
   "metadata": {},
   "source": [
    "---"
   ]
  },
  {
   "cell_type": "markdown",
   "metadata": {},
   "source": [
    "# Push file to Repo"
   ]
  },
  {
   "cell_type": "code",
   "execution_count": null,
   "metadata": {},
   "outputs": [],
   "source": [
    "import os\n",
    "\n",
    "# Create output directory if it doesn't exist\n",
    "os.makedirs(name='outputs/datasets/collection', exist_ok=True)\n",
    "\n",
    "# Save the DataFrame as a compressed CSV file using gzip compression\n",
    "df.to_csv(\"outputs/datasets/collection/FertilityTreatmentData.csv.gz\", index=False, compression='gzip')"
   ]
  }
 ],
 "metadata": {
  "kernelspec": {
   "display_name": "Python 3",
   "language": "python",
   "name": "python3"
  },
  "language_info": {
   "codemirror_mode": {
    "name": "ipython",
    "version": 3
   },
   "file_extension": ".py",
   "mimetype": "text/x-python",
   "name": "python",
   "nbconvert_exporter": "python",
   "pygments_lexer": "ipython3",
   "version": "3.11.9"
  }
 },
 "nbformat": 4,
 "nbformat_minor": 2
}
