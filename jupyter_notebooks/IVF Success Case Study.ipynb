{
 "cells": [
  {
   "cell_type": "markdown",
   "metadata": {},
   "source": [
    "# **IVF Case Study Notebook**"
   ]
  },
  {
   "cell_type": "markdown",
   "metadata": {},
   "source": [
    "## Objectives\n",
    "\n",
    "* \n",
    "\n",
    "## Input\n",
    "\n",
    "* outputs/datasets/collection/FertilityTreatmentData.csv.gz\n",
    "\n",
    "## Outputs\n",
    "\n",
    "* \n",
    "\n",
    "## Additional Comments\n",
    "\n",
    "* "
   ]
  },
  {
   "cell_type": "markdown",
   "metadata": {},
   "source": [
    "---"
   ]
  },
  {
   "cell_type": "markdown",
   "metadata": {},
   "source": [
    "# Change working directory"
   ]
  },
  {
   "cell_type": "markdown",
   "metadata": {},
   "source": [
    "Change the working directory from its current folder to its parent folder\n",
    "* Access the current directory with os.getcwd()"
   ]
  },
  {
   "cell_type": "code",
   "execution_count": 1,
   "metadata": {},
   "outputs": [
    {
     "data": {
      "text/plain": [
       "'/Users/patriciahalley/Documents/Code_institute/git/ivf-success-predictor/jupyter_notebooks'"
      ]
     },
     "execution_count": 1,
     "metadata": {},
     "output_type": "execute_result"
    }
   ],
   "source": [
    "import os\n",
    "current_dir = os.getcwd()\n",
    "current_dir"
   ]
  },
  {
   "cell_type": "markdown",
   "metadata": {},
   "source": [
    "To make the parent of the current directory the new current directory:\n",
    "* os.path.dirname() gets the parent directory\n",
    "* os.chir() defines the new current directory"
   ]
  },
  {
   "cell_type": "code",
   "execution_count": 2,
   "metadata": {},
   "outputs": [
    {
     "name": "stdout",
     "output_type": "stream",
     "text": [
      "A new current directory has been set\n"
     ]
    }
   ],
   "source": [
    "os.chdir(os.path.dirname(current_dir))\n",
    "print(\"A new current directory has been set\")"
   ]
  },
  {
   "cell_type": "markdown",
   "metadata": {},
   "source": [
    "Confirm the new current directory"
   ]
  },
  {
   "cell_type": "code",
   "execution_count": 3,
   "metadata": {},
   "outputs": [
    {
     "data": {
      "text/plain": [
       "'/Users/patriciahalley/Documents/Code_institute/git/ivf-success-predictor'"
      ]
     },
     "execution_count": 3,
     "metadata": {},
     "output_type": "execute_result"
    }
   ],
   "source": [
    "current_dir = os.getcwd()\n",
    "current_dir"
   ]
  },
  {
   "cell_type": "markdown",
   "metadata": {},
   "source": [
    "---"
   ]
  },
  {
   "cell_type": "markdown",
   "metadata": {},
   "source": [
    "# Load data"
   ]
  },
  {
   "cell_type": "code",
   "execution_count": 4,
   "metadata": {},
   "outputs": [
    {
     "name": "stderr",
     "output_type": "stream",
     "text": [
      "/var/folders/ps/q2jlnsf17tx866fp04k_jkg00000gn/T/ipykernel_99939/248738251.py:3: DtypeWarning: Columns (4,38,51) have mixed types. Specify dtype option on import or set low_memory=False.\n",
      "  df = pd.read_csv('outputs/datasets/collection/FertilityTreatmentData.csv.gz')\n"
     ]
    },
    {
     "data": {
      "text/html": [
       "<div>\n",
       "<style scoped>\n",
       "    .dataframe tbody tr th:only-of-type {\n",
       "        vertical-align: middle;\n",
       "    }\n",
       "\n",
       "    .dataframe tbody tr th {\n",
       "        vertical-align: top;\n",
       "    }\n",
       "\n",
       "    .dataframe thead th {\n",
       "        text-align: right;\n",
       "    }\n",
       "</style>\n",
       "<table border=\"1\" class=\"dataframe\">\n",
       "  <thead>\n",
       "    <tr style=\"text-align: right;\">\n",
       "      <th></th>\n",
       "      <th>Patient age at treatment</th>\n",
       "      <th>Total number of previous IVF cycles</th>\n",
       "      <th>Total number of previous DI cycles</th>\n",
       "      <th>Total number of previous pregnancies - IVF and DI</th>\n",
       "      <th>Total number of previous live births - IVF or DI</th>\n",
       "      <th>Causes of infertility - tubal disease</th>\n",
       "      <th>Causes of infertility - ovulatory disorder</th>\n",
       "      <th>Causes of infertility - male factor</th>\n",
       "      <th>Causes of infertility - patient unexplained</th>\n",
       "      <th>Causes of infertility - endometriosis</th>\n",
       "      <th>...</th>\n",
       "      <th>Heart three weeks gestation</th>\n",
       "      <th>Heart three birth outcome</th>\n",
       "      <th>Heart three birth weight</th>\n",
       "      <th>Heart three sex</th>\n",
       "      <th>Heart three birth congenital abnormalities</th>\n",
       "      <th>Heart three delivery date</th>\n",
       "      <th>Patient ethnicity</th>\n",
       "      <th>Partner ethnicity</th>\n",
       "      <th>Partner Type</th>\n",
       "      <th>Partner age</th>\n",
       "    </tr>\n",
       "  </thead>\n",
       "  <tbody>\n",
       "    <tr>\n",
       "      <th>0</th>\n",
       "      <td>45-50</td>\n",
       "      <td>3</td>\n",
       "      <td>0</td>\n",
       "      <td>0.0</td>\n",
       "      <td>0</td>\n",
       "      <td>0</td>\n",
       "      <td>0</td>\n",
       "      <td>0</td>\n",
       "      <td>0</td>\n",
       "      <td>0</td>\n",
       "      <td>...</td>\n",
       "      <td>NaN</td>\n",
       "      <td>NaN</td>\n",
       "      <td>NaN</td>\n",
       "      <td>NaN</td>\n",
       "      <td>NaN</td>\n",
       "      <td>NaN</td>\n",
       "      <td>Black</td>\n",
       "      <td>Other</td>\n",
       "      <td>Male</td>\n",
       "      <td>NaN</td>\n",
       "    </tr>\n",
       "    <tr>\n",
       "      <th>1</th>\n",
       "      <td>18-34</td>\n",
       "      <td>0</td>\n",
       "      <td>0</td>\n",
       "      <td>NaN</td>\n",
       "      <td>NaN</td>\n",
       "      <td>0</td>\n",
       "      <td>0</td>\n",
       "      <td>0</td>\n",
       "      <td>0</td>\n",
       "      <td>0</td>\n",
       "      <td>...</td>\n",
       "      <td>NaN</td>\n",
       "      <td>NaN</td>\n",
       "      <td>NaN</td>\n",
       "      <td>NaN</td>\n",
       "      <td>NaN</td>\n",
       "      <td>NaN</td>\n",
       "      <td>White</td>\n",
       "      <td>Other</td>\n",
       "      <td>NaN</td>\n",
       "      <td>NaN</td>\n",
       "    </tr>\n",
       "    <tr>\n",
       "      <th>2</th>\n",
       "      <td>999</td>\n",
       "      <td>0</td>\n",
       "      <td>0</td>\n",
       "      <td>NaN</td>\n",
       "      <td>NaN</td>\n",
       "      <td>0</td>\n",
       "      <td>0</td>\n",
       "      <td>0</td>\n",
       "      <td>0</td>\n",
       "      <td>0</td>\n",
       "      <td>...</td>\n",
       "      <td>NaN</td>\n",
       "      <td>NaN</td>\n",
       "      <td>NaN</td>\n",
       "      <td>NaN</td>\n",
       "      <td>NaN</td>\n",
       "      <td>NaN</td>\n",
       "      <td>Other</td>\n",
       "      <td>Other</td>\n",
       "      <td>NaN</td>\n",
       "      <td>NaN</td>\n",
       "    </tr>\n",
       "  </tbody>\n",
       "</table>\n",
       "<p>3 rows × 61 columns</p>\n",
       "</div>"
      ],
      "text/plain": [
       "  Patient age at treatment Total number of previous IVF cycles  \\\n",
       "0                    45-50                                   3   \n",
       "1                    18-34                                   0   \n",
       "2                      999                                   0   \n",
       "\n",
       "  Total number of previous DI cycles  \\\n",
       "0                                  0   \n",
       "1                                  0   \n",
       "2                                  0   \n",
       "\n",
       "   Total number of previous pregnancies - IVF and DI  \\\n",
       "0                                                0.0   \n",
       "1                                                NaN   \n",
       "2                                                NaN   \n",
       "\n",
       "  Total number of previous live births - IVF or DI  \\\n",
       "0                                                0   \n",
       "1                                              NaN   \n",
       "2                                              NaN   \n",
       "\n",
       "   Causes of infertility - tubal disease  \\\n",
       "0                                      0   \n",
       "1                                      0   \n",
       "2                                      0   \n",
       "\n",
       "   Causes of infertility - ovulatory disorder  \\\n",
       "0                                           0   \n",
       "1                                           0   \n",
       "2                                           0   \n",
       "\n",
       "   Causes of infertility - male factor  \\\n",
       "0                                    0   \n",
       "1                                    0   \n",
       "2                                    0   \n",
       "\n",
       "   Causes of infertility - patient unexplained  \\\n",
       "0                                            0   \n",
       "1                                            0   \n",
       "2                                            0   \n",
       "\n",
       "   Causes of infertility - endometriosis  ... Heart three weeks gestation  \\\n",
       "0                                      0  ...                         NaN   \n",
       "1                                      0  ...                         NaN   \n",
       "2                                      0  ...                         NaN   \n",
       "\n",
       "   Heart three birth outcome Heart three birth weight Heart three sex  \\\n",
       "0                        NaN                      NaN             NaN   \n",
       "1                        NaN                      NaN             NaN   \n",
       "2                        NaN                      NaN             NaN   \n",
       "\n",
       "   Heart three birth congenital abnormalities Heart three delivery date  \\\n",
       "0                                         NaN                       NaN   \n",
       "1                                         NaN                       NaN   \n",
       "2                                         NaN                       NaN   \n",
       "\n",
       "  Patient ethnicity  Partner ethnicity  Partner Type  Partner age  \n",
       "0             Black              Other          Male          NaN  \n",
       "1             White              Other           NaN          NaN  \n",
       "2             Other              Other           NaN          NaN  \n",
       "\n",
       "[3 rows x 61 columns]"
      ]
     },
     "execution_count": 4,
     "metadata": {},
     "output_type": "execute_result"
    }
   ],
   "source": [
    "import pandas as pd\n",
    "# Read the DataFrame from the compressed CSV file\n",
    "df = pd.read_csv('outputs/datasets/collection/FertilityTreatmentData.csv.gz')\n",
    "df.head(3)"
   ]
  },
  {
   "cell_type": "markdown",
   "metadata": {},
   "source": [
    "---"
   ]
  }
 ],
 "metadata": {
  "kernelspec": {
   "display_name": "Python 3",
   "language": "python",
   "name": "python3"
  },
  "language_info": {
   "codemirror_mode": {
    "name": "ipython",
    "version": 3
   },
   "file_extension": ".py",
   "mimetype": "text/x-python",
   "name": "python",
   "nbconvert_exporter": "python",
   "pygments_lexer": "ipython3",
   "version": "3.12.4"
  }
 },
 "nbformat": 4,
 "nbformat_minor": 2
}
